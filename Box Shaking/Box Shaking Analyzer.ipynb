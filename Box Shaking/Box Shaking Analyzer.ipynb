{
 "cells": [
  {
   "cell_type": "markdown",
   "metadata": {},
   "source": [
    "### Initialize"
   ]
  },
  {
   "cell_type": "code",
   "execution_count": 1,
   "metadata": {
    "code_folding": [
     0
    ],
    "collapsed": true
   },
   "outputs": [],
   "source": [
    "# Define Program Version \n",
    "__ver__ = '01'"
   ]
  },
  {
   "cell_type": "code",
   "execution_count": 2,
   "metadata": {
    "code_folding": [
     0
    ]
   },
   "outputs": [
    {
     "name": "stdout",
     "output_type": "stream",
     "text": [
      "Updating the local database...\n",
      "Done\n"
     ]
    }
   ],
   "source": [
    "# Bunch of imports \n",
    "import therpy as tp\n",
    "import numpy as np\n",
    "import matplotlib.pyplot as plt\n",
    "import matplotlib.animation as animation\n",
    "from IPython.display import HTML\n",
    "%matplotlib inline\n",
    "import pandas as pd\n",
    "import bec1db as bec1db_package\n",
    "import warnings\n",
    "from tqdm import tqdm_notebook as tqdm\n",
    "warnings.filterwarnings(\"ignore\")\n",
    "import scipy.special\n",
    "import os.path\n",
    "import pickle\n",
    "import ipywidgets as widgets\n",
    "from IPython.display import display\n",
    "\n",
    "cst = tp.cst(sigmaf=0.5)\n",
    "kHz = cst.h * 1e3\n",
    "twopi = np.pi * 2\n",
    "bec1db = bec1db_package.Tullia(delta=20)"
   ]
  },
  {
   "cell_type": "code",
   "execution_count": 3,
   "metadata": {
    "code_folding": [
     0
    ],
    "collapsed": true
   },
   "outputs": [],
   "source": [
    "# Bunch of functions \n",
    "\n",
    "def lorentzian_fitfun(f, f0, gamma, amp=1, offset=0):\n",
    "    return amp * (gamma/2)**2 / ((f-f0)**2 + (gamma/2)**2) + offset\n",
    "\n",
    "def gaussian(x, x0, sigma, amp, offset=0): return offset + amp*np.exp(- (x-x0)**2 / (2*sigma**2))\n",
    "\n",
    "def bin_data(xi, yi):\n",
    "    x = np.unique(xi)\n",
    "    y = [None] * x.size\n",
    "    for i in range(x.size): y[i] = yi[xi == x[i]]\n",
    "    # Return \n",
    "    y_mean = np.array([a.mean() for a in y])\n",
    "    y_err = np.array([np.std(a) / (a.size**0.5) for a in y])\n",
    "    return (x, y_mean, y_err, y, xi, yi)\n",
    "\n",
    "# returns rabi in kHz\n",
    "@np.vectorize\n",
    "def volt2rabi(volt):\n",
    "    if volt < 0.1 or volt > 5:\n",
    "        return 0\n",
    "    volt = np.log10(volt)\n",
    "    dbm = 1.5863 +0.2211*volt -0.1022*volt**2 -0.1301*volt**3 -0.0862*volt**4 +0.2323*volt**5 +0.1624*volt**6 -0.1552*volt**7 -0.1206*volt**8\n",
    "    dbm = 10**dbm\n",
    "    sqrtpwr = (10**((dbm-30)/10))**(1/2)\n",
    "    return -0.0332 +0.5832*sqrtpwr -0.0167*sqrtpwr**2\n",
    "\n",
    "from scipy.optimize import brentq\n",
    "# Provide rabi in kHz\n",
    "@np.vectorize\n",
    "def rabi2volt(rabi):\n",
    "    if rabi <= volt2rabi(0.1) or rabi >= volt2rabi(5):\n",
    "        print('outside valid range')\n",
    "        return 0\n",
    "    def funSolve(v):\n",
    "        return rabi - volt2rabi(v)\n",
    "    return brentq(funSolve, 0.1, 5)\n",
    "def meshgrid(xLen=10, yLen=10, data=None):\n",
    "    if data is not None: yLen, xLen = data.shape\n",
    "    return np.meshgrid(np.arange(xLen, dtype=np.float), np.arange(yLen, dtype=np.float))\n",
    "def gaussian_2d(x, y, cx=1, cy=1, sx=1, sy=1, amp=1, offset=0, angle=0):\n",
    "    x, y = x - cx, y - cy\n",
    "    sx, sy = 2*sx**2, 2*sy**2\n",
    "    a = angle * np.pi / 180\n",
    "    xp, yp = x*np.cos(a) + y*np.sin(a), - x*np.sin(a) + y*np.cos(a)\n",
    "    return offset + amp * np.exp(-xp**2/sx - yp**2/sy)\n",
    "    \n",
    "def gaussian_2d_guess(data, x=None, y=None):\n",
    "    if x is None: x, y = np.meshgrid(np.arange(data.shape[1]), np.arange(data.shape[0]))\n",
    "    t = np.sum(data)\n",
    "    cx, cy = np.sum(data * x) / t, np.sum(data * y) / t\n",
    "    sx, sy = (np.sum(data * (x-cx)**2) / t)**(1/2), (np.sum(data * (y-cy)**2) / t)**(1/2)\n",
    "    return (cx, cy, sx, sy, data[int(cy), int(cx)], np.mean(data)/5, 0.0)\n",
    "    \n",
    "def fit_gaussian_2d(data, guess=None, plot=False):\n",
    "    if guess is None: guess = gaussian_2d_guess(data)\n",
    "    fr = tp.optimize.surface_fit(data, fun=gaussian_2d, guess=guess, show=plot)\n",
    "    return fr\n",
    "def gaussian_2d_integral(data, nsigma, fr=None, ideal=False, plot=False, guess=None, return_mask=False):\n",
    "    if fr is None: fr = fit_gaussian_2d(data, guess=guess)\n",
    "    # Generate the fitted data\n",
    "    x, y = meshgrid(data=data)\n",
    "    fit_data = gaussian_2d(x, y, *fr)\n",
    "    amp = 1 if len(fr) <= 4 else fr[4]\n",
    "    offset = 0 if len(fr) <= 5 else fr[5]\n",
    "    # Ideal case\n",
    "    if ideal:\n",
    "        return np.sum(fit_data - offset)\n",
    "    # Data case\n",
    "    threshhold = np.exp(- nsigma**2/2) * amp + offset\n",
    "    mask = fit_data >= threshhold\n",
    "    # Plot\n",
    "    if plot:\n",
    "        plt.figure()\n",
    "        plt.imshow(data)\n",
    "        fit_data[~mask] = 0\n",
    "        plt.imshow(mask, alpha=0.2, cmap='gray')\n",
    "    \n",
    "    # Mask return\n",
    "    if return_mask:\n",
    "        return mask\n",
    "    \n",
    "    return np.sum(data[mask])\n",
    "\n",
    "''' \n",
    "Copy image names from clipboard and get parameters \n",
    "df : if you want to add on to the older df\n",
    "init : initialize and return empty df\n",
    "var : list of strings (variable names) that you want to retrive from database\n",
    "x_var : a string (variable name), available as df.x\n",
    "image_func : either tp.Image or tp.Hybrid_Image\n",
    "using : 0=TopA only, 1=TopB only, 2=All Images\n",
    "'''\n",
    "def get_from_clipboard(df=None, init=False, var=None, x_var=None, image_func=tp.Image, using=2, display=False):\n",
    "    # If initializing, then return empty dataframe\n",
    "    if init: return pd.DataFrame(columns=['name','image'])\n",
    "    \n",
    "    # If df is None, make an empty one\n",
    "    if df is None: \n",
    "        df = pd.DataFrame(columns=['name','image'])\n",
    "    \n",
    "    # Get the copied image names\n",
    "    pasted = pd.read_clipboard(header=None, names=['name'])['name'].tolist()\n",
    "    \n",
    "    # Filter for using 0:TopA only, 1:TopB only, 2:all\n",
    "    if using==0:\n",
    "        pasted_filtered = [p for p in pasted if p[-1]=='A']\n",
    "    elif using==1:\n",
    "        pasted_filtered = [p for p in pasted if p[-1]=='B']\n",
    "    else:\n",
    "        pasted_filtered = [p for p in pasted]\n",
    "    \n",
    "    # Add it to df if not already in there\n",
    "    names = df.name.tolist()\n",
    "    for n in tqdm(pasted_filtered, desc='Loading'):\n",
    "        if n not in names:\n",
    "            df.loc[df.shape[0]] = n\n",
    "            df.image[df.shape[0]-1] = image_func(name=n)\n",
    "    \n",
    "    # sort in time\n",
    "    df.sort_values('name', inplace=True)\n",
    "    df.reset_index(drop=True, inplace=True)\n",
    "    \n",
    "    # Get Parameters\n",
    "    try: bec1db.refresh()\n",
    "    except: pass\n",
    "    df['shot'] = np.linspace(0,df.shape[0]/2-0.5,df.shape[0])\n",
    "    if x_var is not None:\n",
    "        df['x'] = bec1db.image_query(df.name.tolist(), [x_var])[x_var]\n",
    "    if type(var) is str:\n",
    "        df[var] = bec1db.image_query(df.name.tolist(), [var])[var]\n",
    "    elif type(var) is list:\n",
    "        _ = bec1db.image_query(df.name.tolist(), var)\n",
    "        for n in var:\n",
    "            df[n] = _[n]\n",
    "    \n",
    "    # Print Information\n",
    "    if display:\n",
    "        print('Pasted Sample : ', pasted[0:2])  \n",
    "        print('Newly added images       : {}'.format(df.shape[0]- len(names)))\n",
    "        print('Total number of images   : {}'.format(df.shape[0]))\n",
    "    \n",
    "    # return\n",
    "    return df\n",
    "\n",
    "\n",
    "def get_roi(data, center=[0,0], width=100, height=100):\n",
    "    center = (data.shape[1]//2 + center[0], data.shape[0]//2 + center[1])\n",
    "    return tp.imagedata.get_cropi(data, center=center, width=width, height=height)\n",
    "\n",
    "def atom_num_filter(df_, keep = 0.15, offset = 0.0, plot=True):\n",
    "    # Prepare\n",
    "    if plot: fig, ax = plt.subplots(ncols=2, nrows=1, figsize=(12,4))\n",
    "    if plot: ax[0].plot(df_['shot'], df_['total_atoms']/1e6,'.-', label='All')\n",
    "    shapes = [df_.shape]\n",
    "    \n",
    "    # Filter\n",
    "    median_numbers = np.median(df_.total_atoms)\n",
    "    offset += 1\n",
    "    using = (df_.total_atoms.values > median_numbers*(offset-keep)) & (df_.total_atoms.values <= median_numbers*(offset+keep))\n",
    "    bad = df_[~using] \n",
    "    df_ = df_[using]\n",
    "    df_.reset_index(inplace=True, drop=True)\n",
    "    shapes.append(df_.shape)\n",
    "    if plot: ax[0].plot(bad['shot'], bad['total_atoms']/1e6, 'rx', label='Atom Num Filter')\n",
    "    if plot: ax[0].axhline(median_numbers/1e6, linestyle='--', color='k', alpha=0.5)\n",
    "\n",
    "    if plot: \n",
    "        # Plot\n",
    "        median_numbers = np.median(df_.total_atoms)\n",
    "        ax[1].plot(df_['shot'], df_['total_atoms']/median_numbers,'o-')\n",
    "        ax[1].axhline(1, linestyle='--', color='k', alpha=0.5)\n",
    "\n",
    "        ax[0].legend()\n",
    "        ax[0].set(title = 'Atom number stability', xlabel= 'Shot Number ~ Time', ylabel='Atom Numbers [M]')\n",
    "        ax[1].set(title = 'Median Atom Num {:.2f} M'.format(median_numbers/1e6), xlabel= 'Shot Number ~ Time', ylabel='Atom Numbers [median]')\n",
    "        plt.tight_layout()\n",
    "\n",
    "        # Relevant Information\n",
    "        print('''\n",
    "        Total Loaded Images {}\n",
    "        Atom Num Filter     {}\n",
    "        Removed Images      {}\n",
    "        '''.format(shapes[0][0], shapes[1][0], shapes[0][0]-shapes[1][0]))\n",
    "    \n",
    "    return using\n",
    "\n",
    "def erf(x, x0, sigma, amp=1):\n",
    "    return amp * scipy.special.erf((x-x0)/(2**0.5 * sigma))\n",
    "\n",
    "def mesh_for_2d_plot(x, y, z):\n",
    "    x1 = np.concatenate([ [2*x[0] - x[1]], x])\n",
    "    x2 = np.concatenate([x, [2*x[-1] - x[-2]]])\n",
    "    x = np.mean([x1, x2], axis=0)\n",
    "\n",
    "    y1 = np.concatenate([ [2*y[0] - y[1]], y])\n",
    "    y2 = np.concatenate([y, [2*y[-1] - y[-2]]])\n",
    "    y = np.mean([y1, y2], axis=0)\n",
    "    \n",
    "    return (x, y, z)"
   ]
  },
  {
   "cell_type": "code",
   "execution_count": 4,
   "metadata": {
    "code_folding": [
     0
    ],
    "collapsed": true
   },
   "outputs": [],
   "source": [
    "# Useful snippets \n",
    "\n",
    "default_settings = dict(\n",
    "   # Image Preparation and Background \n",
    "   center_x=1110, center_y=1314, width=800, height=1000, \n",
    "   subsample=3, rotate=0, bg_width=20, bg_order=1, bad_light=0,\n",
    "\n",
    "   # Physical Parameters\n",
    "   Isat=77, time=10, pixel=0.7e-6, sigmaf=0.5, trap_f=23.9,\n",
    "   od_method='table', fudge=1, ellipticity=1,\n",
    "   \n",
    "   # Hybrid Preparation\n",
    "   xsec_extension='default', xsec_slice_width=4, \n",
    "   xsec_fit_range=1.75, radial_selection=0.5,\n",
    "   \n",
    "   # Hybrid Thermometry\n",
    "   kind='unitary', Tfit_lim=0.06, Tfit_guess_kT=3, Tfit_guess_mu0=0, \n",
    "   \n",
    "   # Other\n",
    "   memory_saver=True, )\n",
    "\n"
   ]
  },
  {
   "cell_type": "code",
   "execution_count": 5,
   "metadata": {
    "code_folding": [
     0
    ],
    "collapsed": true
   },
   "outputs": [],
   "source": [
    "# Fermi Gas Classes \n",
    "\n",
    "# Import statements and useful functions \n",
    "import numpy as np\n",
    "import pandas as pd\n",
    "import therpy as tp\n",
    "import scipy.optimize\n",
    "import scipy.interpolate\n",
    "import os.path\n",
    "import os\n",
    "import urllib.request\n",
    "\n",
    "###### Parameters\n",
    "cst_FG = tp.cst()\n",
    "cst_FG.c1 = ((cst_FG.twopi * cst_FG.hbar**2)/(cst_FG.mass))**(1/2)\n",
    "cst_FG.c2 = 1.0/(6*cst_FG.pi**2) * (2*cst_FG.mass/cst_FG.hbar**2)**(3/2)\n",
    "cst_FG.virial_coef = [1.0, 3.0*2**(1/2)/8, -0.29095295, 0.065]\n",
    "cst_FG.Critical_Temperature_TF = 0.17\n",
    "cst_FG.xi = 0.37\n",
    "cst_FG.xi_n = 0.45\n",
    "def thermal_wavelength(kT):\n",
    "    return cst_FG.c1 / (kT)**(1/2)\n",
    "###### Ideal Gas\n",
    "@np.vectorize\n",
    "def density_ideal(kT, mu):\n",
    "    if kT == 0:\n",
    "        if mu <= 0:\n",
    "            print('Density is undefined for negative mu and zero temperature')\n",
    "            return 0.0\n",
    "        return cst_FG.c2 * (mu)**(3/2)\n",
    "    return thermal_wavelength(kT)**(-3) * tp.FermiFunction(m=3/2, logz=mu/kT)\n",
    "@np.vectorize\n",
    "def pressure_ideal(kT, mu):\n",
    "    if kT == 0:\n",
    "        return 2/5*density_ideal(0, mu)*mu\n",
    "    return kT/thermal_wavelength(kT)**3 * tp.FermiFunction(m=5/2, logz=mu/kT)\n",
    "@np.vectorize\n",
    "def TTF_to_betamu_ideal(TTF, a=-10000, b=100):\n",
    "    if TTF <= 0.01: return 1/TTF # Zero T approximation\n",
    "    def minimizer(mu): return TTF - (cst_FG.h / cst_FG.n2EF(density_ideal(cst_FG.h, mu*cst_FG.h))) # Fix kT to 1 Hz and find mu in Hz (=betamu)\n",
    "    return scipy.optimize.brentq(minimizer, a, b)   \n",
    "@np.vectorize\n",
    "def entropy_NkB_ideal(kT, mu):\n",
    "    if kT == 0: return 0.0\n",
    "    return (5/2 * tp.FermiFunction(m=5/2, logz=mu/kT) / tp.FermiFunction(m=3/2, logz=mu/kT)) - mu/kT\n",
    "@np.vectorize\n",
    "def entropy_NkB_TTF_ideal(TTF):\n",
    "    if TTF == 0: return 0.0\n",
    "    return entropy_NkB_ideal(cst_FG.h, TTF_to_betamu_ideal(TTF) * cst_FG.h)\n",
    "###### Virial Gas\n",
    "@np.vectorize\n",
    "def density_virial(kT, mu):\n",
    "    if kT == 0:\n",
    "        return 0.0\n",
    "    return kT / thermal_wavelength(kT)**3 * (cst_FG.virial_coef[0]*1/kT*np.exp(1*mu/kT) + cst_FG.virial_coef[1]*2/kT*np.exp(2*mu/kT) + cst_FG.virial_coef[2]*3/kT*np.exp(3*mu/kT) + cst_FG.virial_coef[3]*4/kT*np.exp(4*mu/kT) )\n",
    "@np.vectorize\n",
    "def pressure_virial(kT, mu):\n",
    "    if kT == 0:\n",
    "        return 0.0\n",
    "    return kT / thermal_wavelength(kT)**3 * (cst_FG.virial_coef[0]*np.exp(1*mu/kT) + cst_FG.virial_coef[1]*np.exp(2*mu/kT) + cst_FG.virial_coef[2]*np.exp(3*mu/kT) + cst_FG.virial_coef[3]*np.exp(4*mu/kT) )\n",
    "\n",
    "# Ideal Fermi Gas definition \n",
    "'''\n",
    "Ideal Fermi Gas\n",
    "    - functions to relate various Thermodynamic quantities\n",
    "\n",
    "Methods\n",
    "    - thermal_wavelength\n",
    "    - density\n",
    "    - pressure\n",
    "    - TTF_to_betamu\n",
    "    - entropy_NkB\n",
    "    - entropy_NkB_TTF\n",
    "\n",
    "Dataframe contains links between. Note that E = 3/2 PV\n",
    "    - T/T_F\n",
    "    - mu/E_F\n",
    "    - P/P0 = E/E0\n",
    "    - k/k0\n",
    "    - Cv/Nk\n",
    "    - S/Nk\n",
    "'''\n",
    "class Ideal_Fermi_Gas:\n",
    "    def __init__(self, pts=1000, TTF_max = 200, TTF_min=0.05):\n",
    "        # Define dataframe for fast computation\n",
    "        kT = 1 * cst_FG.h\n",
    "        mu = np.concatenate([np.linspace(self.TTF_to_betamu(TTF_max), 5, pts//10*9)[:-1], np.linspace(5, self.TTF_to_betamu(TTF_min), pts//10)]) * cst_FG.h\n",
    "        n = self.density(kT, mu)\n",
    "        P = self.pressure(kT, mu)\n",
    "        EF = cst_FG.n2EF(n)\n",
    "        P0 = self.pressure(0, EF)\n",
    "        c1 = tp.Curve(x=mu, y=EF)\n",
    "        df_ideal = pd.DataFrame(data=dict(betamu=mu/kT))\n",
    "        df_ideal['T/T_F'] = kT / EF\n",
    "        df_ideal['mu/E_F'] = mu / EF\n",
    "        df_ideal['P/P0'] = P / P0\n",
    "        df_ideal['k/k0'] = c1.diff(method='central2').y\n",
    "        df_ideal['Cv/Nk'] = 3/2 * 1/df_ideal['T/T_F'] * (df_ideal['P/P0'] - 1/df_ideal['k/k0'])\n",
    "        df_ideal['S/Nk'] = 1/df_ideal['T/T_F'] * (df_ideal['P/P0'] - df_ideal['mu/E_F'])\n",
    "        self.df = df_ideal\n",
    "    \n",
    "    # Various functions\n",
    "    def thermal_wavelength(self, kT): return thermal_wavelength(kT)\n",
    "    def density(self, kT, mu): return density_ideal(kT, mu)\n",
    "    def pressure(self, kT, mu): return pressure_ideal(kT, mu)\n",
    "    def TTF_to_betamu(self, TTF, a=-10000, b=100): return TTF_to_betamu_ideal(TTF, a, b)\n",
    "    def entropy_NkB(self, kT, mu): return entropy_NkB_ideal(kT, mu)\n",
    "    def entropy_NkB_TTF(self, TTF): return entropy_NkB_TTF_ideal(TTF)\n",
    "\n",
    "# Virial Fermi Gas Definition \n",
    "'''\n",
    "Fermi Gas, Virial Expansion\n",
    "'''\n",
    "class Virial_Fermi_Gas:\n",
    "    def __init__(self, TTF_max = 200, TTF_min=0.5):\n",
    "        # Generate dataframe\n",
    "        kT = 1 * cst_FG.h\n",
    "        mu = np.linspace(TTF_to_betamu_ideal(TTF_max), TTF_to_betamu_ideal(TTF_min), 10000) * cst_FG.h\n",
    "        n = self.density(kT, mu)\n",
    "        P = self.pressure(kT, mu)\n",
    "        EF = cst_FG.n2EF(n)\n",
    "        P0 = pressure_ideal(0, EF)\n",
    "        c1 = tp.Curve(x=mu, y=EF)\n",
    "        df_virial = pd.DataFrame(data=dict(betamu=mu/kT))\n",
    "        df_virial['T/T_F'] = kT / EF\n",
    "        df_virial['mu/E_F'] = mu / EF\n",
    "        df_virial['P/P0'] = P / P0\n",
    "        df_virial['k/k0'] = c1.diff(method='central2').y\n",
    "        df_virial['Cv/Nk'] = 3/2 * 1/df_virial['T/T_F'] * (df_virial['P/P0'] - 1/df_virial['k/k0'])\n",
    "        self.df = df_virial\n",
    "        \n",
    "    # Various functions\n",
    "    def thermal_wavelength(self, kT): return thermal_wavelength(kT)\n",
    "    def density(self, kT, mu): return density_virial(kT, mu)\n",
    "    def pressure(self, kT, mu): return pressure_virial(kT, mu)\n",
    "    \n",
    "\n",
    "# Unitary Fermi Gas using Mark's EoS \n",
    "'''\n",
    "Mark's equation of state\n",
    "'''\n",
    "class Unitary_Fermi_Gas: \n",
    "    def __init__(self,):\n",
    "        # Download the data if not already\n",
    "        p_ = tp.getpath('Projects','Data','EoS','UnitaryFermiGasExperiment_kPEoS.csv')\n",
    "        if not os.path.isfile(p_):\n",
    "            print(\"Downloading Database -- Might take some time!\")\n",
    "            url = 'https://www.dropbox.com/s/8irmfrn2zdvfgba/UnitaryFermiGasExperiment_kPEoS.csv?dl=1'\n",
    "            u = urllib.request.urlopen(url)\n",
    "            data = u.read()\n",
    "            u.close()\n",
    "            # Create folder\n",
    "            os.makedirs(os.path.split(p_)[0], exist_ok=True)\n",
    "            with open(p_, \"wb\") as f :\n",
    "                f.write(data)\n",
    "        \n",
    "        # Load Data\n",
    "        self.df = pd.read_csv(p_)\n",
    "        \n",
    "        # Interpolated Density Data\n",
    "        x = np.array(self.df['T/T_F'])\n",
    "        y = np.array(self.df['mu/E_F'])\n",
    "        VFG = Virial_Fermi_Gas()\n",
    "        c = tp.Curve(x = np.array(VFG.df['T/T_F']), y = np.array(VFG.df['mu/E_F'])).sortbyx().trim(xlim=[np.max(x),np.max(x)+0.1])\n",
    "        muEF_curve = tp.Curve(x = np.concatenate([[0], x, c.x]), y = np.concatenate([[cst_FG.xi], y, c.y]))\n",
    "        TTF = np.linspace(0, muEF_curve.maxx, 10000)\n",
    "        muEF = muEF_curve(TTF)\n",
    "        c_muEF_extension = tp.Curve(TTF, muEF)\n",
    "        density_c_low = scipy.interpolate.interp1d(x = TTF / muEF, y = muEF)\n",
    "        density_c_high = scipy.interpolate.interp1d(x = muEF[1:] / TTF[1:], y = muEF[1:])\n",
    "        self.density_c_low = density_c_low\n",
    "        self.density_c_high = density_c_high\n",
    "        self.density = np.vectorize(self.density_single)\n",
    "        \n",
    "        # Interpolated Energy Data\n",
    "        IFG = Ideal_Fermi_Gas()\n",
    "        c1 = tp.Curve(np.array(self.df['T/T_F']), np.array(self.df['E/E0'])) # Mark EoS E/E0 vs T/T_F\n",
    "        c2 = tp.Curve(np.array(IFG.df['T/T_F']), np.array(IFG.df['P/P0'])).trim(xlim=[c1.maxx + 0.2, np.inf]) # Ideal Fermi Gas E/E0 = P/P0 vs T/T_F, from end of Mark EoS to end with some padding for smooth transition\n",
    "        energy_c = scipy.interpolate.interp1d(x = np.concatenate([[0], c1.x, c2.x]), y = np.concatenate([[cst_FG.xi], c1.y, c2.y+(cst_FG.xi_n-1)]))\n",
    "        self.energy_c = energy_c\n",
    "        self.IFG = IFG\n",
    "        self.E_E0 = np.vectorize(self.E_E0_single)\n",
    "        \n",
    "    # Various functions\n",
    "    def density_single(self, kT, mu):\n",
    "        # Zero T\n",
    "        if kT == 0:\n",
    "            return cst_FG.EF2n(mu/cst_FG.xi, neg=True)\n",
    "        if mu/kT > 4:\n",
    "            return cst_FG.EF2n(mu / self.density_c_low(kT/mu), neg=True)\n",
    "        if mu/kT > -0.5:\n",
    "            return cst_FG.EF2n(mu / self.density_c_high(mu/kT), neg=True)\n",
    "        return density_virial(kT, mu)\n",
    "    \n",
    "    def density_hybrid(self, z, kT, mu, trapf=23.9):\n",
    "        return self.density(kT, mu - 1/2 * cst_FG.mass * (2*np.pi*trapf)**2 * z**2)\n",
    "    \n",
    "    def E_E0_single(self, TTF):\n",
    "        if TTF < self.energy_c.x.max():\n",
    "            return self.energy_c(TTF)\n",
    "        else:\n",
    "            # Compute using IFG\n",
    "            # betamu = self.IFG.TTF_to_betamu(TTF)\n",
    "            # return (self.IFG.pressure(cst_FG.h, betamu * cst_FG.h) / self.IFG.pressure(0, betamu * cst_FG.h)) + (cst_FG.xi_n-1)\n",
    "            return self.energy_c.y[-1]\n",
    "\n",
    "# Make objects\n",
    "IFG = Ideal_Fermi_Gas()\n",
    "VFG = Virial_Fermi_Gas()\n",
    "UFG = Unitary_Fermi_Gas()\n",
    "\n",
    "# Special Functions\n",
    "def hybrid_E_N(kT, mu, trapf=23.9, simple=True, nz = None):\n",
    "    u_ = 1/2 * cst_FG.mass * (2*np.pi*trapf)**2\n",
    "    if nz is None:\n",
    "        n_0 = UFG.density(kT, mu)\n",
    "        z_max = 0\n",
    "        while True:\n",
    "            z_max += 50e-6\n",
    "            if UFG.density(kT, mu - u_*z_max**2) <= n_0 / 1e6: break\n",
    "        z = np.linspace(-z_max, z_max, z_max*1e6 * 4)\n",
    "        n = UFG.density(kT, mu - u_* z**2)\n",
    "    else:\n",
    "        z = nz.x\n",
    "        n = nz.y\n",
    "        \n",
    "    if simple: # If simple, then simply return 4 * <U>\n",
    "        return 4 * np.trapz(u_*z**2 * n, z) / np.trapz(n, z)\n",
    "    \n",
    "    # Compute total E_int + U energy\n",
    "    EF = cst_FG.n2EF(n)\n",
    "    TTF = kT / EF\n",
    "    E_N_z = UFG.E_E0(TTF) * 3/5 * EF\n",
    "    E_N = (np.trapz(E_N_z * n, z) + np.trapz(u_*z**2 * n, z)) / np.trapz(n, z)\n",
    "    return E_N\n",
    "\n"
   ]
  },
  {
   "cell_type": "markdown",
   "metadata": {},
   "source": [
    "# In Situ Density Modulation"
   ]
  },
  {
   "cell_type": "code",
   "execution_count": 422,
   "metadata": {
    "code_folding": [
     0
    ],
    "collapsed": true
   },
   "outputs": [],
   "source": [
    "# Some Fitting functions \n",
    "import scipy.special\n",
    "def erf(x, x0, sigma, amp=1):\n",
    "    return amp * scipy.special.erf((x-x0)/(2**0.5 * sigma))\n",
    "def fitfun_erf(x, x1, x2, s1, s2, amp=1, offset=0, slope=0):\n",
    "    y = erf(x, x1, s1) + erf(-x, -x2, s2)\n",
    "    return y*amp/2 + offset + slope*x"
   ]
  },
  {
   "cell_type": "code",
   "execution_count": 423,
   "metadata": {
    "code_folding": [
     0
    ],
    "collapsed": true
   },
   "outputs": [],
   "source": [
    "# Desplay widgets to select various parameters \n",
    "\n",
    "# All the variables to load \n",
    "var = ['ExpansionTime','SideGreenEvap','WaitBox',\n",
    "       'IREvap','HeatTime','ShakeTime','ShakeWait', 'HeatCycles',\n",
    "       'ShakingCycles', 'BoxShakeFreq','BoxShakeAmp','BoxShakeTime']\n",
    "\n",
    "fontsize = 15\n",
    "\n",
    "# Saving and Loading widgets \n",
    "WID_SaveAnalyzedDataBtn = widgets.Button( description='Save Data', button_style='success', )\n",
    "WID_Folder = widgets.Text( value='AnalyzedData', placeholder='Type Folder to store data', description='Save Folder :')\n",
    "WID_DatasetType = widgets.Text( value='InsituShakingVsFreq', placeholder='Type Dataset Type/Information', description='Dataset Type :',)\n",
    "WID_DatasetDate = widgets.Text( value='06_22_2017', placeholder='Type Dataset Date, E.x. 06_15_2017', description='Dataset Date :',)\n",
    "WID_DatasetName = widgets.Text( value='DS3', placeholder='Type Dataset Name, E.x. DS1', description='Dataset Name :',)\n",
    "\n",
    "# Select a Particular x_variable\n",
    "WID_x_var = widgets.ToggleButtons(description='x variable = = > ', \n",
    "            options=['ShakeWait', 'ShakingCycles', 'BoxShakeFreq', 'BoxShakeAmp', 'HeatCycles'])\n",
    "display(WID_x_var)\n",
    "\n",
    "# Select a Particular x_variable\n",
    "WID_using_image = widgets.ToggleButtons(description='Image Selection = = > ', \n",
    "            options=['A', 'B', 'Both'])\n",
    "display(WID_using_image)\n",
    "\n",
    "# Select a Particular X_Label for the plots \n",
    "WID_xlabel = widgets.ToggleButtons(description='xlabel for plots = > ', \n",
    "            options=['Waittime (ms)', 'Shaking Cycles', 'Shaking Frequency (Hz)', 'Shaking Amplitude (Cicero Volts)', 'Heating Cycles'])\n",
    "display(WID_xlabel)\n",
    "\n",
    "# Reduced Plots and Info for Faster Processing \n",
    "WID_info = widgets.Checkbox( value=True, description='Show all info plots',)\n",
    "display(WID_info)\n",
    "\n",
    "# Additional WID used later \n",
    "WID_atoms_keep = widgets.FloatSlider(value=0.1, min=0.01, max=0.4, step=0.01,\n",
    "                description='Atom Num Selection:', readout=True, readout_format='.2f',\n",
    "                layout=widgets.Layout(width='50%'), )\n",
    "\n",
    "WID_height = widgets.IntSlider(value=181, min=105, max=219, step=2,\n",
    "             description='Height:', readout=True, layout=widgets.Layout(width='50%'), )\n",
    "\n",
    "WID_width = widgets.IntSlider(value=75, min=15, max=177, step=2,\n",
    "             description='Width:', readout=True, layout=widgets.Layout(width='50%'), )\n",
    "\n",
    "WID_center_x = widgets.IntSlider(value=0, min=-30, max=30, step=1,\n",
    "             description='Center X:', readout=True, layout=widgets.Layout(width='50%'), )\n",
    "\n",
    "WID_center_y = widgets.IntSlider(value=0, min=-30, max=30, step=1,\n",
    "             description='Center Y:', readout=True, layout=widgets.Layout(width='50%'), )\n",
    "\n",
    "WID_clim_dN = widgets.FloatSlider(value=0.15, min=0.01, max=0.50, step=0.001,\n",
    "                description='clim for dN:', readout=True, readout_format='.3f',\n",
    "                layout=widgets.Layout(width='50%'), )\n",
    "\n",
    "WID_clim_dN_N = widgets.FloatSlider(value=0.15, min=0.01, max=0.5, step=0.001,\n",
    "                description='clim for dN/N:', readout=True, readout_format='.3f',\n",
    "                layout=widgets.Layout(width='50%'), )"
   ]
  },
  {
   "cell_type": "code",
   "execution_count": 1746,
   "metadata": {
    "code_folding": [
     0
    ],
    "collapsed": true
   },
   "outputs": [],
   "source": [
    "# ONLY ONCE -- Initialize empty dataframe and select options \n",
    "df_all = get_from_clipboard(init=True)"
   ]
  },
  {
   "cell_type": "markdown",
   "metadata": {},
   "source": [
    "## Load Data from Images"
   ]
  },
  {
   "cell_type": "code",
   "execution_count": 1747,
   "metadata": {
    "code_folding": [
     0
    ],
    "scrolled": false
   },
   "outputs": [
    {
     "name": "stdout",
     "output_type": "stream",
     "text": [
      "\n",
      "Updating the local database...\n",
      "Done\n",
      "Pasted Sample :  ['07-19-2017_04_38_43_TopA', '07-19-2017_04_38_43_TopB']\n",
      "Newly added images       : 10\n",
      "Total number of images   : 10\n"
     ]
    }
   ],
   "source": [
    "# Import from Clipboard \n",
    "x_var = WID_x_var.value\n",
    "using = 0 if WID_using_image.value == 'A' else 1 if WID_using_image.value == 'B' else 2\n",
    "info = WID_info.value\n",
    "df_all = get_from_clipboard(df=df_all, init=False, var=var, x_var=x_var, image_func=tp.Image, using=using, display=info)\n",
    "if WID_info.value:\n",
    "    df_all.head(5)"
   ]
  },
  {
   "cell_type": "code",
   "execution_count": 1748,
   "metadata": {
    "code_folding": [
     0
    ]
   },
   "outputs": [
    {
     "name": "stdout",
     "output_type": "stream",
     "text": [
      "07-19-2017_04_30_39_TopA\n",
      "0.0\n"
     ]
    },
    {
     "data": {
      "image/png": "[encoded data removed]",
      "text/plain": [
       "<matplotlib.figure.Figure at 0x13532588>"
      ]
     },
     "metadata": {},
     "output_type": "display_data"
    }
   ],
   "source": [
    "# Define Settings \n",
    "# settings = {**default_settings, \n",
    "#             **dict(center_x = 1150, center_y = 1307, width=1000, height=1000, fudge=1.73)}\n",
    "\n",
    "settings = {**default_settings, \n",
    "            **dict(center_x = 1180, center_y = 1372, width=1000, height=1000, fudge=1.73, subsample=2)}\n",
    "\n",
    "# Apply settings\n",
    "for i, r in df_all.iterrows():\n",
    "    r.image.set(**settings)\n",
    "    \n",
    "# Tests\n",
    "if WID_info.value: \n",
    "    test = 0\n",
    "    print(df_all.image.iloc[test].name)\n",
    "    df_all.image.iloc[test].plot_crop()\n",
    "    print(df_all.x.iloc[test])"
   ]
  },
  {
   "cell_type": "code",
   "execution_count": 1749,
   "metadata": {
    "code_folding": [
     0
    ]
   },
   "outputs": [
    {
     "name": "stdout",
     "output_type": "stream",
     "text": [
      "\n",
      "All Images 10; Data 5; BG 5\n",
      "Fudge   1.73\n",
      "Volume  1000289 um^3\n",
      "Atom #  0.349 +- 0.010 \n",
      "Density 0.349 +- 0.010 um^-3\n",
      "E_F     6.33 +- 0.12 kHz\n",
      "v_F     28.97 um/ms\n"
     ]
    },
    {
     "data": {
      "image/png": "[encoded data removed]",
      "text/plain": [
       "<matplotlib.figure.Figure at 0xfb8b780>"
      ]
     },
     "metadata": {},
     "output_type": "display_data"
    }
   ],
   "source": [
    "# Atom numbers filter, sort data and bg, print information \n",
    "\n",
    "# Parameters \n",
    "display(WID_atoms_keep)\n",
    "\n",
    "df_all['total_atoms'] = [im.total_atoms for im in tqdm(df_all.image, desc='Atoms')]\n",
    "using = atom_num_filter(df_all, keep=WID_atoms_keep.value, offset=0.0, plot=False)\n",
    "\n",
    "# Extract data and background \n",
    "bg_select = ['ShakingCycles', 0]\n",
    "df_data = df_all[(df_all[bg_select[0]] != 0) & using]\n",
    "df_bg = df_all[(df_all[bg_select[0]] == 0) & using]\n",
    "df_bad = df_all[~using]\n",
    "\n",
    "# Extract relavant information \n",
    "info = {}\n",
    "info['Images Data'] = df_data.shape[0]\n",
    "info['Images BG'] = df_bg.shape[0]\n",
    "info['Fudge'] = df_data.image.iloc[0].fudge\n",
    "info['Atoms'] = np.mean(df_all[using].total_atoms)\n",
    "info['Atoms Error'] = np.std(df_all[using].total_atoms)\n",
    "info['Volume'] = 98e-6 * np.pi * (57e-6)**2\n",
    "info['Density'] = info['Atoms'] / info['Volume']\n",
    "info['Density Error'] = info['Atoms Error'] / info['Volume']\n",
    "info['EF'] = np.mean(cst.n2EF(df_all[using].total_atoms / info['Volume']))\n",
    "info['EF Error'] = np.std(cst.n2EF(df_all[using].total_atoms / info['Volume']))\n",
    "info['vF'] = ((2 * info['EF']) / (cst.mass))**(1/2)\n",
    "\n",
    "print('All Images {}; Data {}; BG {}'.format(df_all.shape[0], df_data.shape[0], df_bg.shape[0]))\n",
    "print('Fudge  ', info['Fudge'])\n",
    "print('Volume  {:.0f} um^3'.format(info['Volume']*1e18))\n",
    "print('Atom #  {:.3f} +- {:.3f} '.format(info['Atoms']/1e6, info['Atoms Error']/1e6))\n",
    "print('Density {:.3f} +- {:.3f} um^-3'.format(info['Density']/1e18, info['Density Error']/1e18))\n",
    "print('E_F     {:.2f} +- {:.2f} kHz'.format(info['EF']/kHz, info['EF Error']/kHz))\n",
    "print('v_F     {:.2f} um/ms'.format(info['vF'] * 1e3))\n",
    "\n",
    "if WID_info.value: \n",
    "    fig, ax = plt.subplots(ncols=2, figsize=[10, 4])\n",
    "    ax[0].plot(df_all.shot, df_all.total_atoms/1e6, '-', \n",
    "               df_bad.shot, df_bad.total_atoms/1e6, 'rx',\n",
    "               df_bg.shot, df_bg.total_atoms/1e6, 'r.')\n",
    "    ax[0].axhline(info['Atoms'] / 1e6, linestyle='-', c='k', alpha=0.5)\n",
    "    ax[0].axhline(info['Atoms'] / 1e6 * (1 + WID_atoms_keep.value), linestyle='--', c='k', alpha=0.5)\n",
    "    ax[0].axhline(info['Atoms'] / 1e6 * (1 - WID_atoms_keep.value), linestyle='--', c='k', alpha=0.5)\n",
    "    ax[0].set(xlabel='Shot Number ~ Time', ylabel='Atom Number [Million]', \n",
    "              title='Fudge {}; Atom Num $\\pm$ {:.0f}%;'.format(info['Fudge'], WID_atoms_keep.value*100))\n",
    "    ax[1].hist(df_data.total_atoms/1e6)\n",
    "    ax[1].hist(df_bg.total_atoms/1e6)\n",
    "    ax[1].axvline(info['Atoms'] / 1e6, linestyle='-', c='k', alpha=0.5)\n",
    "    ax[1].axvline(info['Atoms'] / 1e6 + info['Atoms Error']/1e6, linestyle='--', c='k', alpha=0.5)\n",
    "    ax[1].axvline(info['Atoms'] / 1e6 - info['Atoms Error']/1e6, linestyle='--', c='k', alpha=0.5)\n",
    "    ax[1].set(xlabel='Atom Number [Million]', ylabel='Histogram', title='Atom # {:.2f} $\\pm$ {:.2f}'.format(info['Atoms']/1e6, info['Atoms Error']/1e6))\n",
    "    plt.tight_layout()\n",
    "    plt.show()\n"
   ]
  },
  {
   "cell_type": "code",
   "execution_count": 1750,
   "metadata": {
    "code_folding": [
     0
    ]
   },
   "outputs": [
    {
     "name": "stdout",
     "output_type": "stream",
     "text": [
      "Box Length from Fit : 87.89 um\n"
     ]
    },
    {
     "data": {
      "image/png": "[encoded data removed]",
      "text/plain": [
       "<matplotlib.figure.Figure at 0x1b5f0860>"
      ]
     },
     "metadata": {},
     "output_type": "display_data"
    }
   ],
   "source": [
    "# roi settings and trap center \n",
    "display(WID_height)\n",
    "display(WID_width)\n",
    "display(WID_center_x)\n",
    "display(WID_center_y)\n",
    "\n",
    "width = WID_width.value // settings['subsample']\n",
    "height = WID_height.value // settings['subsample']\n",
    "center = [WID_center_x.value // settings['subsample'],WID_center_y.value // settings['subsample']]\n",
    "plot_buffer = [10, 7]\n",
    "roi = get_roi(data=df_bg.image.iloc[0].app, center=center, width=width, height=height)\n",
    "\n",
    "# Average all BG images\n",
    "bg_app = np.nanmean([im.app for im in df_bg.image], axis=0)\n",
    "bg_curve = tp.Curve(y = np.mean(bg_app[:,roi[1]], axis=1))\n",
    "\n",
    "# Trap Center and Box Length Fits \n",
    "guess_width = 100e-6 / df_bg.iloc[0].image.pixel_binned \n",
    "guess_sigma = 10e-6 / df_bg.iloc[0].image.pixel_binned \n",
    "guess = [bg_curve.maxx//2 - guess_width, bg_curve.maxx//2 + guess_width, \n",
    "         guess_sigma, guess_sigma, bg_curve.maxy, bg_curve.y[0], bg_curve.y[0]/bg_curve.maxx]\n",
    "fr, fe = bg_curve.fit(fitfun_erf, guess, plot=False)\n",
    "box_center = np.mean([fr[1], fr[0]])\n",
    "box_length = abs(fr[1] - fr[0])\n",
    "info['Box Length Fit'] = box_length * df_bg.iloc[0].image.pixel_binned \n",
    "print('Box Length from Fit : {:.2f} um'.format(info['Box Length Fit'] * 1e6))\n",
    "\n",
    "\n",
    "# Plot\n",
    "fig, ax = plt.subplots(ncols=3, figsize=[13, 5])\n",
    "ax[0].imshow(bg_app, origin=0)\n",
    "ax[0].axhline(roi[0].start, c='w', linestyle='--', alpha=0.5)\n",
    "ax[0].axhline(roi[0].stop-1, c='w', linestyle='--', alpha=0.5)\n",
    "ax[0].axvline(roi[1].start, c='w', linestyle='--', alpha=0.5)\n",
    "ax[0].axvline(roi[1].stop-1, c='w', linestyle='--', alpha=0.5)\n",
    "ax[0].set(xlim=[roi[1].start - plot_buffer[0], roi[1].stop + plot_buffer[0]], \n",
    "          ylim=[roi[0].start - plot_buffer[1], roi[0].stop + plot_buffer[1]])\n",
    "ax[1].plot(bg_curve.y, bg_curve.x)\n",
    "ax[1].plot(bg_curve.xyfitplot[1], bg_curve.xyfitplot[0])\n",
    "ax[1].axhline(roi[0].start, c='k', linestyle='-', alpha=0.5)\n",
    "ax[1].axhline(roi[0].stop-1, c='k', linestyle='-', alpha=0.5)\n",
    "ax[1].axhline(fr[0], c='k', linestyle='--', alpha=0.5)\n",
    "ax[1].axhline(fr[1], c='k', linestyle='--', alpha=0.5)\n",
    "ax[1].set(ylim=[roi[0].start - plot_buffer[1], roi[0].stop + plot_buffer[1]], xlim=[0, None])\n",
    "ax[2].imshow(bg_app[roi], origin=0)\n",
    "plt.tight_layout()"
   ]
  },
  {
   "cell_type": "code",
   "execution_count": 1751,
   "metadata": {
    "code_folding": [
     0
    ],
    "scrolled": false
   },
   "outputs": [
    {
     "data": {
      "image/png": "[encoded data removed]",
      "text/plain": [
       "<matplotlib.figure.Figure at 0xf8915c0>"
      ]
     },
     "metadata": {},
     "output_type": "display_data"
    }
   ],
   "source": [
    "# Generate 1D density for all, and normalize mean of values so the peak is around 1 \n",
    "\n",
    "# Controllers for clim\n",
    "display(WID_clim_dN)\n",
    "display(WID_clim_dN_N)\n",
    "\n",
    "# Function to calculate 1d density from cropped app \n",
    "def calc_1d_profile(app):\n",
    "    y = np.nanmean(app, axis=1)\n",
    "    return y / np.mean(y)\n",
    "\n",
    "# Calculate 1D profile for all images \n",
    "df_data['profile'] = [calc_1d_profile(im.app[roi]) for im in df_data.image]\n",
    "df_bg['profile'] = [calc_1d_profile(im.app[roi]) for im in df_bg.image]\n",
    "bg_profile = np.mean(df_bg.profile, axis=0)\n",
    "\n",
    "# Create 2D movie \n",
    "x = np.unique(df_data.x)\n",
    "y = (np.arange(df_data.iloc[0].image.app.shape[0])[roi[0]] - box_center) * df_data.image.iloc[0].pixel_binned * 1e6\n",
    "z_difference = np.array([np.mean([p for p in df_data.profile[df_data.x == xi]], axis=0) - bg_profile for xi in x]).T\n",
    "z_percent = np.array([(np.mean([p for p in df_data.profile[df_data.x == xi]], axis=0) - bg_profile)/bg_profile for xi in x]).T\n",
    "movie_dN = [x, y, z_difference]\n",
    "movie_dN_N = [x, y, z_percent]\n",
    "\n",
    "# Plot \n",
    "clim = 0.20\n",
    "cmap = 'bwr' # viridis, bwr\n",
    "\n",
    "if len(x) > 1:\n",
    "    fig = plt.figure(figsize=[20, 10])\n",
    "    plt.subplot(211)\n",
    "    plt.pcolormesh(*mesh_for_2d_plot(*movie_dN), vmin=- WID_clim_dN.value , vmax=WID_clim_dN.value, cmap=cmap)\n",
    "    plt.axhline(info['Box Length Fit']*1e6/2, c='k', linestyle='--', )\n",
    "    plt.axhline(-info['Box Length Fit']*1e6/2, c='k', linestyle='--', )\n",
    "    plt.colorbar()\n",
    "    plt.title(r'N - N$_{bg}$', fontsize=fontsize)\n",
    "    plt.ylabel('Position [um]', fontsize=fontsize)\n",
    "    plt.xlabel(WID_xlabel.value, fontsize=fontsize)\n",
    "    plt.subplot(212)\n",
    "    plt.pcolormesh(*mesh_for_2d_plot(*movie_dN_N), vmin=- WID_clim_dN_N.value, vmax=WID_clim_dN_N.value, cmap=cmap)\n",
    "    plt.axhline(info['Box Length Fit']*1e6/2, c='k', linestyle='--', )\n",
    "    plt.axhline(-info['Box Length Fit']*1e6/2, c='k', linestyle='--', )\n",
    "    plt.colorbar()\n",
    "    plt.xlabel(WID_xlabel.value, fontsize=fontsize)\n",
    "    plt.ylabel('Position [um]', fontsize=fontsize)\n",
    "    plt.title(r'(N - N$_{bg}$) / N$_{bg}$', fontsize=fontsize)\n",
    "    plt.tight_layout()\n",
    "\n",
    "# plot single \n",
    "if len(x) == 1:\n",
    "    x, y, z = movie_dN\n",
    "    plt.plot(y, z)\n",
    "    plt.axvline(info['Box Length Fit']*1e6/2, c='k', linestyle='--', )\n",
    "    plt.axvline(-info['Box Length Fit']*1e6/2, c='k', linestyle='--', )\n",
    "    plt.axhline(0, c='k', linestyle='-', alpha=0.5)\n",
    "    \n",
    "    "
   ]
  },
  {
   "cell_type": "code",
   "execution_count": 1752,
   "metadata": {
    "code_folding": [
     0
    ]
   },
   "outputs": [
    {
     "data": {
      "image/png": "[encoded data removed]",
      "text/plain": [
       "<matplotlib.figure.Figure at 0x196ef278>"
      ]
     },
     "metadata": {},
     "output_type": "display_data"
    }
   ],
   "source": [
    "# Collection of 1D profiles \n",
    "\n",
    "fig, ax = plt.subplots(ncols=2, figsize=[12, 5], sharey=True, sharex=True)\n",
    "z = movie_dN[1]\n",
    "\n",
    "for p in df_bg.profile:\n",
    "    ax[0].plot(z, p, 'C1', alpha=0.5)\n",
    "ax[0].plot(z, np.mean(df_bg.profile, axis=0), linewidth=2)\n",
    "\n",
    "for p in df_data.profile:\n",
    "    ax[1].plot(z, p, 'C1', alpha=0.5)\n",
    "ax[1].plot(z, np.mean(df_bg.profile, axis=0), 'C2')\n",
    "ax[1].plot(z, np.mean(df_data.profile, axis=0), linewidth=2)\n",
    "ax[1].set(ylim=[1, None], xlim=[-48, 48])\n",
    "plt.tight_layout()"
   ]
  },
  {
   "cell_type": "code",
   "execution_count": 1753,
   "metadata": {},
   "outputs": [
    {
     "data": {
      "image/png": "[encoded data removed]",
      "text/plain": [
       "<matplotlib.figure.Figure at 0x19bf70f0>"
      ]
     },
     "metadata": {},
     "output_type": "display_data"
    }
   ],
   "source": [
    "plt.hist(np.concatenate([df_data.x, df_bg.x]));\n",
    "# plt.figure(figsize=[3,5])\n",
    "# plt.pcolor(movie_dN[2],)\n",
    "# plt.pcolor(np.mean([im.app[roi] for im in df_data.image], axis=0) - np.mean([im.app[roi] for im in df_bg.image], axis=0), )\n",
    "\n",
    "# for i in range(movie_dN[2].shape[1]):\n",
    "#     plt.plot(movie_dN[1], movie_dN[2][:,i]) "
   ]
  },
  {
   "cell_type": "markdown",
   "metadata": {},
   "source": [
    "## Special Plots "
   ]
  },
  {
   "cell_type": "code",
   "execution_count": 1694,
   "metadata": {
    "code_folding": [
     0
    ],
    "collapsed": true
   },
   "outputs": [],
   "source": [
    "# # Special Waterfall plot  \n",
    "\n",
    "# plt.figure(figsize=[10, 4])\n",
    "# plt.subplot(122)\n",
    "# diff = 0.1\n",
    "# plt.plot(movie_dN[1], movie_dN[2][:,1] + diff * 0)\n",
    "# plt.axhline(diff * 0, c='C0', linestyle='--')\n",
    "# plt.plot(movie_dN[1], movie_dN[2][:,3] + diff * 1)\n",
    "# plt.axhline(diff * 1, c='C1', linestyle='--')\n",
    "# plt.plot(movie_dN[1], movie_dN[2][:,5] + diff * 2)\n",
    "# plt.axhline(diff * 2, c='C2', linestyle='--')\n",
    "# plt.plot(movie_dN[1], movie_dN[2][:,7] + diff * 3)\n",
    "# plt.axhline(diff * 3, c='C2', linestyle='--')\n",
    "# plt.title('# Cycles = 1, 2, 3, 4')\n",
    "\n",
    "# plt.subplot(121)\n",
    "# diff = 0.1\n",
    "# plt.plot(movie_dN[1], movie_dN[2][:,0] + diff * 0)\n",
    "# plt.axhline(diff * 0, c='C0', linestyle='--')\n",
    "# plt.plot(movie_dN[1], movie_dN[2][:,2] + diff * 1)\n",
    "# plt.axhline(diff * 1, c='C1', linestyle='--')\n",
    "# plt.plot(movie_dN[1], movie_dN[2][:,4] + diff * 2)\n",
    "# plt.axhline(diff * 2, c='C2', linestyle='--')\n",
    "# plt.plot(movie_dN[1], movie_dN[2][:,6] + diff * 3)\n",
    "# plt.axhline(diff * 3, c='C2', linestyle='--')\n",
    "# plt.title('# Cycles = 0.5, 1.5, 2.5, 3.5')\n",
    "\n",
    "# plt.tight_layout()"
   ]
  },
  {
   "cell_type": "code",
   "execution_count": null,
   "metadata": {},
   "outputs": [],
   "source": []
  },
  {
   "cell_type": "code",
   "execution_count": null,
   "metadata": {
    "collapsed": true
   },
   "outputs": [],
   "source": []
  },
  {
   "cell_type": "markdown",
   "metadata": {
    "heading_collapsed": true
   },
   "source": [
    "## Save/Load"
   ]
  },
  {
   "cell_type": "code",
   "execution_count": null,
   "metadata": {
    "code_folding": [
     0
    ],
    "collapsed": true,
    "hidden": true
   },
   "outputs": [],
   "source": [
    "# Save Data \n",
    "\n",
    "try: WID_SaveAnalyzedDataBtn.on_click(clicked, remove=True)\n",
    "except: pass\n",
    "\n",
    "def clicked(btn):\n",
    "    fname = WID_DatasetType.value + '_' + WID_DatasetDate.value + '_' + WID_DatasetName.value + '_Ver' + __ver__ + '.p'\n",
    "    p = os.path.join(WID_Folder.value, fname)\n",
    "    print(\"Storing File == '{}'\".format(p))\n",
    "    pickle.dump([info, movie_dN, movie_dN_N], open( p, \"wb\" ) )\n",
    "    print('Done')\n",
    "WID_SaveAnalyzedDataBtn.on_click(clicked, remove=False)\n",
    "\n",
    "display(WID_Folder)\n",
    "display(WID_DatasetType)\n",
    "display(WID_DatasetDate)\n",
    "display(WID_DatasetName)\n",
    "display(WID_SaveAnalyzedDataBtn)\n",
    "\n",
    "# Pickle Load\n",
    "# info, movie_dN, movie_dN_N = pickle.load( open( \"20170622_DS3.p\", \"rb\" ) )"
   ]
  },
  {
   "cell_type": "code",
   "execution_count": null,
   "metadata": {
    "code_folding": [],
    "collapsed": true,
    "hidden": true
   },
   "outputs": [],
   "source": [
    "# Load Data -- Single \n",
    "data_filename = os.path.join('AnalyzedData','InsituShakingVsFreq_06_22_2017_DS3_Ver01.p') # 71.2\n",
    "data_filename = os.path.join('AnalyzedData','InsituShakingVsFreq_07_10_2017_DS1_Ver01.p') # 96\n",
    "# data_filename = os.path.join('AnalyzedData','InsituShakingVsFreq_07_11_2017_DS1_Ver01.p') # 76\n",
    "# data_filename = os.path.join('AnalyzedData','InsituShakingVsFreq_07_11_2017_DS2_Ver01.p') # 85.9\n",
    "info, movie_dN, movie_dN_N = pickle.load( open( data_filename, \"rb\" ) )\n",
    "\n",
    "# Find approximate 1st mode freq or provide it manually \n",
    "res_freq_guess = 85.9"
   ]
  },
  {
   "cell_type": "code",
   "execution_count": null,
   "metadata": {
    "code_folding": [
     0
    ],
    "collapsed": true,
    "hidden": true
   },
   "outputs": [],
   "source": [
    "# Copy to Excel -- Commented Out \n",
    "\n",
    "# x_, y_, z_ = movie_dN\n",
    "# pd.DataFrame(z_, columns=x_, index=y_).to_clipboard(excel=True,)\n",
    "\n",
    "# x_, y_, z_ = movie_dN_N\n",
    "# pd.DataFrame(z_, columns=x_, index=y_).to_clipboard(excel=True,)\n",
    "\n",
    "# pd.DataFrame.from_items([(k,[v]) for k,v in info.items()]).to_clipboard(excel=True)"
   ]
  },
  {
   "cell_type": "code",
   "execution_count": null,
   "metadata": {
    "code_folding": [
     0
    ],
    "collapsed": true,
    "hidden": true
   },
   "outputs": [],
   "source": [
    "# Controllers for clim \n",
    "display(WID_clim_dN)\n",
    "display(WID_clim_dN_N)"
   ]
  },
  {
   "cell_type": "markdown",
   "metadata": {
    "heading_collapsed": true
   },
   "source": [
    "## Fourier Transforms"
   ]
  },
  {
   "cell_type": "code",
   "execution_count": 597,
   "metadata": {
    "collapsed": true,
    "hidden": true
   },
   "outputs": [],
   "source": [
    "# Only need info, movie_dN, movie_dN_N for futher process "
   ]
  },
  {
   "cell_type": "code",
   "execution_count": 598,
   "metadata": {
    "code_folding": [
     0
    ],
    "hidden": true
   },
   "outputs": [
    {
     "ename": "IndexError",
     "evalue": "index 1 is out of bounds for axis 0 with size 1",
     "output_type": "error",
     "traceback": [
      "\u001b[0;31m---------------------------------------------------------------------------\u001b[0m",
      "\u001b[0;31mIndexError\u001b[0m                                Traceback (most recent call last)",
      "\u001b[0;32m<ipython-input-598-367ad1915e4c>\u001b[0m in \u001b[0;36m<module>\u001b[0;34m()\u001b[0m\n\u001b[1;32m     26\u001b[0m \u001b[1;31m# Plot\u001b[0m\u001b[1;33m\u001b[0m\u001b[1;33m\u001b[0m\u001b[0m\n\u001b[1;32m     27\u001b[0m \u001b[0mfig\u001b[0m\u001b[1;33m,\u001b[0m \u001b[0max\u001b[0m \u001b[1;33m=\u001b[0m \u001b[0mplt\u001b[0m\u001b[1;33m.\u001b[0m\u001b[0msubplots\u001b[0m\u001b[1;33m(\u001b[0m\u001b[0mfigsize\u001b[0m\u001b[1;33m=\u001b[0m\u001b[1;33m[\u001b[0m\u001b[1;36m15\u001b[0m\u001b[1;33m,\u001b[0m \u001b[1;36m8\u001b[0m\u001b[1;33m]\u001b[0m\u001b[1;33m,\u001b[0m \u001b[0mnrows\u001b[0m\u001b[1;33m=\u001b[0m\u001b[1;36m2\u001b[0m\u001b[1;33m,\u001b[0m \u001b[0msharex\u001b[0m\u001b[1;33m=\u001b[0m\u001b[1;32mTrue\u001b[0m\u001b[1;33m)\u001b[0m\u001b[1;33m\u001b[0m\u001b[0m\n\u001b[0;32m---> 28\u001b[0;31m \u001b[0max\u001b[0m\u001b[1;33m[\u001b[0m\u001b[1;36m0\u001b[0m\u001b[1;33m]\u001b[0m\u001b[1;33m.\u001b[0m\u001b[0mpcolormesh\u001b[0m\u001b[1;33m(\u001b[0m\u001b[1;33m*\u001b[0m\u001b[0mmesh_for_2d_plot\u001b[0m\u001b[1;33m(\u001b[0m\u001b[0mx\u001b[0m\u001b[1;33m,\u001b[0m \u001b[0my\u001b[0m\u001b[1;33m,\u001b[0m \u001b[0mz\u001b[0m\u001b[1;33m)\u001b[0m\u001b[1;33m,\u001b[0m \u001b[0medgecolor\u001b[0m\u001b[1;33m=\u001b[0m\u001b[1;34m'face'\u001b[0m\u001b[1;33m,\u001b[0m \u001b[0mcmap\u001b[0m\u001b[1;33m=\u001b[0m\u001b[0mcmap\u001b[0m\u001b[1;33m,\u001b[0m \u001b[0mvmin\u001b[0m\u001b[1;33m=\u001b[0m\u001b[1;33m-\u001b[0m \u001b[0mWID_clim_dN\u001b[0m\u001b[1;33m.\u001b[0m\u001b[0mvalue\u001b[0m \u001b[1;33m,\u001b[0m \u001b[0mvmax\u001b[0m\u001b[1;33m=\u001b[0m\u001b[0mWID_clim_dN\u001b[0m\u001b[1;33m.\u001b[0m\u001b[0mvalue\u001b[0m\u001b[1;33m)\u001b[0m\u001b[1;33m\u001b[0m\u001b[0m\n\u001b[0m\u001b[1;32m     29\u001b[0m \u001b[0max\u001b[0m\u001b[1;33m[\u001b[0m\u001b[1;36m0\u001b[0m\u001b[1;33m]\u001b[0m\u001b[1;33m.\u001b[0m\u001b[0mset_ylabel\u001b[0m\u001b[1;33m(\u001b[0m\u001b[1;34m'Position (um)'\u001b[0m\u001b[1;33m,\u001b[0m \u001b[0mfontsize\u001b[0m\u001b[1;33m=\u001b[0m\u001b[0mfontsize\u001b[0m\u001b[1;33m)\u001b[0m\u001b[1;33m\u001b[0m\u001b[0m\n\u001b[1;32m     30\u001b[0m \u001b[0max\u001b[0m\u001b[1;33m[\u001b[0m\u001b[1;36m1\u001b[0m\u001b[1;33m]\u001b[0m\u001b[1;33m.\u001b[0m\u001b[0mpcolormesh\u001b[0m\u001b[1;33m(\u001b[0m\u001b[1;33m*\u001b[0m\u001b[0mmesh_for_2d_plot\u001b[0m\u001b[1;33m(\u001b[0m\u001b[1;33m*\u001b[0m\u001b[0mmovie_1DFFT\u001b[0m\u001b[1;33m)\u001b[0m\u001b[1;33m,\u001b[0m \u001b[0medgecolor\u001b[0m\u001b[1;33m=\u001b[0m\u001b[1;34m'face'\u001b[0m\u001b[1;33m,\u001b[0m \u001b[0mcmap\u001b[0m\u001b[1;33m=\u001b[0m\u001b[0mcmap\u001b[0m\u001b[1;33m)\u001b[0m\u001b[1;33m\u001b[0m\u001b[0m\n",
      "\u001b[0;32m<ipython-input-3-3e2ac67ce75c>\u001b[0m in \u001b[0;36mmesh_for_2d_plot\u001b[0;34m(x, y, z)\u001b[0m\n\u001b[1;32m    190\u001b[0m \u001b[1;33m\u001b[0m\u001b[0m\n\u001b[1;32m    191\u001b[0m \u001b[1;32mdef\u001b[0m \u001b[0mmesh_for_2d_plot\u001b[0m\u001b[1;33m(\u001b[0m\u001b[0mx\u001b[0m\u001b[1;33m,\u001b[0m \u001b[0my\u001b[0m\u001b[1;33m,\u001b[0m \u001b[0mz\u001b[0m\u001b[1;33m)\u001b[0m\u001b[1;33m:\u001b[0m\u001b[1;33m\u001b[0m\u001b[0m\n\u001b[0;32m--> 192\u001b[0;31m     \u001b[0mx1\u001b[0m \u001b[1;33m=\u001b[0m \u001b[0mnp\u001b[0m\u001b[1;33m.\u001b[0m\u001b[0mconcatenate\u001b[0m\u001b[1;33m(\u001b[0m\u001b[1;33m[\u001b[0m \u001b[1;33m[\u001b[0m\u001b[1;36m2\u001b[0m\u001b[1;33m*\u001b[0m\u001b[0mx\u001b[0m\u001b[1;33m[\u001b[0m\u001b[1;36m0\u001b[0m\u001b[1;33m]\u001b[0m \u001b[1;33m-\u001b[0m \u001b[0mx\u001b[0m\u001b[1;33m[\u001b[0m\u001b[1;36m1\u001b[0m\u001b[1;33m]\u001b[0m\u001b[1;33m]\u001b[0m\u001b[1;33m,\u001b[0m \u001b[0mx\u001b[0m\u001b[1;33m]\u001b[0m\u001b[1;33m)\u001b[0m\u001b[1;33m\u001b[0m\u001b[0m\n\u001b[0m\u001b[1;32m    193\u001b[0m     \u001b[0mx2\u001b[0m \u001b[1;33m=\u001b[0m \u001b[0mnp\u001b[0m\u001b[1;33m.\u001b[0m\u001b[0mconcatenate\u001b[0m\u001b[1;33m(\u001b[0m\u001b[1;33m[\u001b[0m\u001b[0mx\u001b[0m\u001b[1;33m,\u001b[0m \u001b[1;33m[\u001b[0m\u001b[1;36m2\u001b[0m\u001b[1;33m*\u001b[0m\u001b[0mx\u001b[0m\u001b[1;33m[\u001b[0m\u001b[1;33m-\u001b[0m\u001b[1;36m1\u001b[0m\u001b[1;33m]\u001b[0m \u001b[1;33m-\u001b[0m \u001b[0mx\u001b[0m\u001b[1;33m[\u001b[0m\u001b[1;33m-\u001b[0m\u001b[1;36m2\u001b[0m\u001b[1;33m]\u001b[0m\u001b[1;33m]\u001b[0m\u001b[1;33m]\u001b[0m\u001b[1;33m)\u001b[0m\u001b[1;33m\u001b[0m\u001b[0m\n\u001b[1;32m    194\u001b[0m     \u001b[0mx\u001b[0m \u001b[1;33m=\u001b[0m \u001b[0mnp\u001b[0m\u001b[1;33m.\u001b[0m\u001b[0mmean\u001b[0m\u001b[1;33m(\u001b[0m\u001b[1;33m[\u001b[0m\u001b[0mx1\u001b[0m\u001b[1;33m,\u001b[0m \u001b[0mx2\u001b[0m\u001b[1;33m]\u001b[0m\u001b[1;33m,\u001b[0m \u001b[0maxis\u001b[0m\u001b[1;33m=\u001b[0m\u001b[1;36m0\u001b[0m\u001b[1;33m)\u001b[0m\u001b[1;33m\u001b[0m\u001b[0m\n",
      "\u001b[0;31mIndexError\u001b[0m: index 1 is out of bounds for axis 0 with size 1"
     ]
    },
    {
     "data": {
      "image/png": "[encoded data removed]",
      "text/plain": [
       "<matplotlib.figure.Figure at 0xf7b03c8>"
      ]
     },
     "metadata": {},
     "output_type": "display_data"
    }
   ],
   "source": [
    "# Spatial FFT Only \n",
    "\n",
    "# Data to use \n",
    "x, y, z = movie_dN_N\n",
    "cmap = 'bwr'\n",
    "xlabel = WID_xlabel.value\n",
    "\n",
    "# Crop data to end boundaries at the box\n",
    "L = info['Box Length Fit']\n",
    "cut = slice(np.argwhere(y<-L/2*1e6)[-1,0]+1, np.argwhere(y>L/2*1e6)[0,0])\n",
    "y = y[cut]\n",
    "z = z[cut, :]\n",
    "\n",
    "# functions \n",
    "def compute_k(data, pos):\n",
    "    return 2*np.pi*np.fft.rfftfreq(data.size, pos[1] - pos[0])\n",
    "def compute_single_column(data):\n",
    "    return np.abs(np.fft.rfft(data.flatten()))\n",
    "\n",
    "# Compute FFT\n",
    "k = compute_k(z[:,0], y*1e-6)\n",
    "k_converter = L / np.pi \n",
    "z_fft = np.array([compute_single_column(z[:, i]) for i in range(x.size)]).T\n",
    "movie_1DFFT = (x, k * k_converter, z_fft)\n",
    "\n",
    "# Plot \n",
    "fig, ax = plt.subplots(figsize=[15, 8], nrows=2, sharex=True)\n",
    "ax[0].pcolormesh(*mesh_for_2d_plot(x, y, z), edgecolor='face', cmap=cmap, vmin=- WID_clim_dN.value , vmax=WID_clim_dN.value)\n",
    "ax[0].set_ylabel('Position (um)', fontsize=fontsize)\n",
    "ax[1].pcolormesh(*mesh_for_2d_plot(*movie_1DFFT), edgecolor='face', cmap=cmap)\n",
    "ax[1].set_xlabel(xlabel, fontsize=fontsize)\n",
    "ax[1].set_ylabel(r\"Wavevector ($\\pi$/L)\", fontsize=fontsize)\n",
    "ax[1].set_ylim([0, 17])\n",
    "ax[1].set_xlim([0,None])\n",
    "\n",
    "plt.subplots_adjust(hspace=0.03)\n",
    "plt.tight_layout()\n",
    "plt.show()"
   ]
  },
  {
   "cell_type": "code",
   "execution_count": null,
   "metadata": {
    "code_folding": [
     0
    ],
    "collapsed": true,
    "hidden": true
   },
   "outputs": [],
   "source": [
    "# Spatial FT Only \n",
    "\n",
    "# Data to use \n",
    "x, y, z = movie_dN_N\n",
    "cmap = 'bwr'\n",
    "xlabel = WID_xlabel.value\n",
    "\n",
    "# Crop data to end boundaries at the box\n",
    "L = info['Box Length Fit']\n",
    "using = 1\n",
    "cut = slice(np.argwhere(y<-L*using/2*1e6)[-1,0]+1, np.argwhere(y>L*using/2*1e6)[0,0])\n",
    "y = y[cut]\n",
    "z = z[cut, :]\n",
    "\n",
    "# functions \n",
    "k = np.arange(0, 20 * np.pi/L , 0.1 * np.pi / L)\n",
    "k_converter = L / np.pi \n",
    "def compute_single_column(data, pos):\n",
    "    data = data.flatten()\n",
    "    pos = pos.flatten()\n",
    "    return np.abs(np.array([np.trapz(data * np.exp(-1j * ki * pos) , pos) for ki in k]))\n",
    "\n",
    "# Compute FFT\n",
    "z_fft = np.array([compute_single_column(z[:, i], y*1e-6) for i in range(x.size)]).T\n",
    "movie_1DFFT = (x, k * k_converter, z_fft)\n",
    "\n",
    "# Plot \n",
    "fig, ax = plt.subplots(figsize=[15, 10], nrows=2, sharex=True)\n",
    "ax[0].pcolormesh(*mesh_for_2d_plot(x, y, z), edgecolor='face', cmap=cmap, vmin=- WID_clim_dN.value , vmax=WID_clim_dN.value)\n",
    "ax[0].set_ylabel('Position (um)', fontsize=fontsize)\n",
    "ax[0].set_title('Fixed Length from erf fit : {:.1f} um'.format(L*1e6) , fontsize=fontsize)\n",
    "ax[1].pcolormesh(*mesh_for_2d_plot(*movie_1DFFT), edgecolor='face', cmap=cmap)\n",
    "ax[1].set_xlabel(xlabel, fontsize=fontsize)\n",
    "ax[1].set_ylabel(r\"Wavevector ($\\pi$/L)\", fontsize=fontsize)\n",
    "ax[1].set_ylim([0, 17])\n",
    "ax[1].set_xlim([0,None])\n",
    "for ymaj in ax[1].yaxis.get_majorticklocs():\n",
    "    ax[1].axhline(y=ymaj,ls='--', c='w', alpha=0.9)\n",
    "\n",
    "plt.subplots_adjust(hspace=0.03)\n",
    "plt.tight_layout()\n",
    "plt.show()"
   ]
  },
  {
   "cell_type": "code",
   "execution_count": null,
   "metadata": {
    "code_folding": [
     0
    ],
    "collapsed": true,
    "hidden": true
   },
   "outputs": [],
   "source": [
    "# Fits for shaking vs frequency at N or N+1/4 cycles \n",
    "\n",
    "# Functions \n",
    "def sho_phase(f, f0, gamma):\n",
    "    f = f * twopi\n",
    "    f0 = f0 * twopi\n",
    "    gamma = gamma * twopi\n",
    "    return np.mod(np.arctan((gamma * f) / (f0**2 - f**2)), np.pi)\n",
    "\n",
    "def sho_amp(f, f0, gamma, X0=1):\n",
    "    f = f * twopi\n",
    "    f0 = f0 * twopi\n",
    "    gamma = gamma * twopi\n",
    "    return (f0**2 * X0) / ((f0**2 - f**2)**2 + (gamma*f)**2)**(1/2)\n",
    "\n",
    "def sho_response(f, f0, gamma, X0, N):\n",
    "    return sho_amp(f, f0, gamma, X0) * np.sin(twopi * N - sho_phase(f, f0, gamma))\n",
    "\n",
    "def fitfun_single_abs(f, f0, gamma, X0):\n",
    "    return sho_response(f, f0, gamma, X0, N=0)\n",
    "\n",
    "def fitfun_single_dis(f, f0, gamma, X0):\n",
    "    return sho_response(f, f0, gamma, X0, N=0.25)\n",
    "\n",
    "def fitfun_all_even_sep_abs(f, a0 = 0, f2=100, g2=10, x2=0, f4=200, g4=10, x4=0, f6=300, g6=10, x6=0, f8=400, g8=10, x8=0, f10=500, g10=10, x10=0, f12=600, g12=10, x12=0):\n",
    "    y = fitfun_single_abs(f, f2, g2, x2) + fitfun_single_abs(f, f4, g4, x4) + fitfun_single_abs(f, f6, g6, x6) + fitfun_single_abs(f, f8, g8, x8) + fitfun_single_abs(f, f10, g10, x10) + fitfun_single_abs(f, f12, g12, x12)\n",
    "    return y + a0\n",
    "\n",
    "def fitfun_all_even_sep_dis(f, a0 = 0, f2=100, g2=10, x2=0, f4=200, g4=10, x4=0, f6=300, g6=10, x6=0, f8=400, g8=10, x8=0, f10=500, g10=10, x10=0, f12=600, g12=10, x12=0):\n",
    "    y = fitfun_single_dis(f, f2, g2, x2) + fitfun_single_dis(f, f4, g4, x4) + fitfun_single_dis(f, f6, g6, x6) + fitfun_single_dis(f, f8, g8, x8) + fitfun_single_dis(f, f10, g10, x10) + fitfun_single_dis(f, f12, g12, x12)\n",
    "    return y + a0\n",
    "\n",
    "def fitfun_all_even_sep_select(*args, **kwargs):\n",
    "    return fitfun_all_even_sep_abs(*args, **kwargs)\n",
    "#     return fitfun_all_even_sep_dis(*args, **kwargs)"
   ]
  },
  {
   "cell_type": "code",
   "execution_count": null,
   "metadata": {
    "code_folding": [],
    "collapsed": true,
    "hidden": true
   },
   "outputs": [],
   "source": [
    "# Fit \n",
    "xlabel = WID_xlabel.value\n",
    "clim = WID_clim_dN_N.value\n",
    "ylabel = 'Response (%)'\n",
    "fontsize = 15\n",
    "\n",
    "# Extract data \n",
    "x, y, z = movie_dN_N\n",
    "\n",
    "# central cut \n",
    "center = np.argwhere(np.abs(y) == np.min(np.abs(y)))[0,0]\n",
    "slicer = slice(center - 2, center + 1)\n",
    "central_cut = tp.Curve(x = x, y = 100 * np.mean(z[slicer, :], 0))\n",
    "central_cut.removenan()\n",
    "\n",
    "# Fit central data \n",
    "guess = [2, \n",
    "         res_freq_guess * 2 , 15 , +2, \n",
    "         res_freq_guess * 4 , 50 , -2, \n",
    "         res_freq_guess * 6 , 50 , +1.5, \n",
    "#          res_freq_guess * 8 , 100 , -1.0, \n",
    "#          res_freq_guess * 10, 150 , +0.2, \n",
    "#          res_freq_guess * 12, 250, -0.1, \n",
    "        ]\n",
    "fr, fe = central_cut.fit(fitfun_all_even_sep_select, guess, plot=False, xlim=[res_freq_guess*1.25*0, np.inf])\n",
    "a0 = fr[0]\n",
    "fr = fr[1:]\n",
    "fe = fe[1:]\n",
    "guess = guess[1:]\n",
    "mode_num = np.arange(0, 2*len(guess)//3, 2) + 2 \n",
    "fit_sho_all_freq = [mode_num, np.array(fr[0::3]), np.array(fe[0::3])]\n",
    "fit_sho_all_gamma = [mode_num, np.array(fr[1::3]), np.array(fe[1::3])]\n",
    "fit_sho_all_amp = [mode_num, np.abs(np.array(fr[2::3])), np.array(fe[2::3])]\n",
    "fit_sho_all_freq_0 = [mode_num, fit_sho_all_freq[1] / fit_sho_all_freq[0], fit_sho_all_freq[2] / fit_sho_all_freq[0], ]\n",
    "\n",
    "# Plot \n",
    "fig = plt.figure(figsize=[15, 10])\n",
    "ax1 = plt.subplot(211)\n",
    "plt.pcolormesh(*mesh_for_2d_plot(x, y, z), vmin=-clim, vmax=clim, cmap='bwr')\n",
    "plt.axhline(y[slicer.start], c='w', linestyle='--')\n",
    "plt.axhline(y[slicer.stop-1], c='w', linestyle='--')\n",
    "plt.ylabel('Position (um)', fontsize=fontsize)\n",
    "ax2 = plt.subplot(212, sharex=ax1)\n",
    "plt.axhline(0, c='k', linestyle='-')\n",
    "plt.axhline(a0, c='k', linestyle='--')\n",
    "plt.plot(*central_cut.data, '.-')\n",
    "plt.plot(*central_cut.xyfitplot)\n",
    "plt.xlabel(xlabel, fontsize=fontsize)\n",
    "plt.ylabel(ylabel, fontsize=fontsize)\n",
    "plt.xlim([x.min(), x.max()])\n",
    "plt.tight_layout()\n",
    "\n",
    "# Plot Fit results\n",
    "fig = plt.figure(figsize=[15,4])\n",
    "plt.subplot(131)\n",
    "plt.errorbar(*fit_sho_all_freq_0, fmt='o')\n",
    "plt.xlim([0,None])\n",
    "plt.ylabel('Fundamental Frequency (Hz)', fontsize=fontsize)\n",
    "plt.subplot(132)\n",
    "plt.errorbar(*fit_sho_all_gamma, fmt='o')\n",
    "plt.xlim([0,None])\n",
    "plt.ylim([0, None])\n",
    "plt.ylabel('Gamma (Hz)', fontsize=fontsize)\n",
    "plt.subplot(133)\n",
    "plt.errorbar(*fit_sho_all_amp, fmt='o')\n",
    "plt.xlim([0,None])\n",
    "plt.ylim([0, None])\n",
    "plt.ylabel('Driving Amplitude (Arb)', fontsize=fontsize)\n",
    "plt.tight_layout()"
   ]
  },
  {
   "cell_type": "markdown",
   "metadata": {
    "collapsed": true,
    "heading_collapsed": true
   },
   "source": [
    "## Tests"
   ]
  },
  {
   "cell_type": "code",
   "execution_count": null,
   "metadata": {
    "code_folding": [
     0
    ],
    "collapsed": true,
    "hidden": true
   },
   "outputs": [],
   "source": [
    "# Sum(dN^2)\n",
    "\n",
    "# Extract data \n",
    "x, y, z = movie_dN\n",
    "\n",
    "# Crop data to end boundaries at the box\n",
    "L = info['Box Length Fit'] * 0.8\n",
    "cut = slice(np.argwhere(y<-L/2*1e6)[-1,0]+1, np.argwhere(y>L/2*1e6)[0,0])\n",
    "y = y[cut]\n",
    "z = z[cut, :]\n",
    "\n",
    "# Direct sum of dN\n",
    "_ = - np.mean(z, axis=0)\n",
    "direct_sum = tp.Curve(x.flatten(), _.flatten())\n",
    "\n",
    "# Squared sum of dN\n",
    "_ = (np.mean(z**2, axis=0))**(1/2)\n",
    "squared_sum = tp.Curve(x.flatten(), _.flatten())\n",
    "\n",
    "# Fit sum of lorentzians \n",
    "def fitfun_lorentzian_sum(f, offset=0, f1=100, g1=1, a1=0, f2=100, g2=1, a2=0, f3=100, g3=1, a3=0, f4=100, g4=1, a4=0, f5=100, g5=1, a5=0, f6=100, g6=1, a6=0):\n",
    "    return offset + lorentzian_fitfun(f, f1, g1, a1) + lorentzian_fitfun(f, f2, g2, a2) + lorentzian_fitfun(f, f3, g3, a3) + lorentzian_fitfun(f, f4, g4, a4) + lorentzian_fitfun(f, f5, g5, a5) + lorentzian_fitfun(f, f6, g6, a6)\n",
    "\n",
    "c = squared_sum\n",
    "res_freq = res_freq_guess\n",
    "guess = [c.y.mean(),\n",
    "         res_freq*2, 10, c.y.max()/1,\n",
    "         res_freq*4, 30, c.y.max()/2,\n",
    "         res_freq*6, 50, c.y.max()/4,\n",
    "#          res_freq*8, 80, c.y.max()/6,\n",
    "#          res_freq*10, 80, c.y.max()/8,\n",
    "#          res_freq*12, 100, c.y.max()/10,\n",
    "        ]\n",
    "fr, fe = c.fit(fitfun_lorentzian_sum, guess, plot=True, xlim=[100, np.inf])\n",
    "\n",
    "# Extract Results \n",
    "mode_num = (np.arange((len(fr)-1)//3) + 1) * 2\n",
    "freq = [mode_num, fr[1:][0::3], fe[1:][0::3]]\n",
    "freq0 = [freq[0], freq[1]/mode_num, freq[2]/mode_num]\n",
    "gamma = [mode_num, fr[1:][1::3], fe[1:][1::3]]\n",
    "amp = [mode_num, fr[1:][2::3], fe[1:][2::3]]\n",
    "offset = [fr[0], fr[0]-fe[0], fr[0]+fe[0]]\n",
    "offset_plot = [x, x*0 + offset[1], x*0 + offset[2]]\n",
    "\n",
    "# Plot Results \n",
    "fig = plt.figure(figsize=[15, 10])\n",
    "ax1 = plt.subplot(211)\n",
    "plt.pcolormesh(*mesh_for_2d_plot(x, y, z), vmin=-clim, vmax=clim, cmap='bwr')\n",
    "plt.ylabel('Position (um)', fontsize=fontsize)\n",
    "ax2 = plt.subplot(212, sharex=ax1)\n",
    "plt.axhline(offset[0], c='k', linestyle='-')\n",
    "plt.fill_between(*offset_plot, color='k', alpha=0.1)\n",
    "plt.plot(*c.data, '.-')\n",
    "plt.plot(*c.xyfitplot)\n",
    "plt.xlabel(xlabel, fontsize=fontsize)\n",
    "plt.ylabel(ylabel, fontsize=fontsize)\n",
    "plt.xlim([x.min(), x.max()])\n",
    "plt.tight_layout()\n",
    "\n",
    "# Plot results \n",
    "fig = plt.figure(figsize=[15,4])\n",
    "plt.subplot(131)\n",
    "plt.errorbar(*freq0, fmt='o')\n",
    "plt.xlim([0,mode_num[-1]+2])\n",
    "plt.ylabel('Fundamental Frequency (Hz)', fontsize=fontsize)\n",
    "plt.subplot(132)\n",
    "plt.errorbar(*gamma, fmt='o')\n",
    "plt.xlim([0,mode_num[-1]+2])\n",
    "plt.ylim([0, None])\n",
    "plt.ylabel('Gamma (Hz)', fontsize=fontsize)\n",
    "plt.subplot(133)\n",
    "plt.errorbar(*amp, fmt='o')\n",
    "plt.xlim([0,mode_num[-1]+2])\n",
    "plt.ylim([0, None])\n",
    "plt.ylabel('Amplitude (Arb)', fontsize=fontsize)\n",
    "plt.tight_layout()"
   ]
  },
  {
   "cell_type": "code",
   "execution_count": null,
   "metadata": {
    "collapsed": true,
    "hidden": true
   },
   "outputs": [],
   "source": [
    "# Plot Results \n",
    "fig = plt.figure(figsize=[6, 8])\n",
    "ax1 = plt.subplot(311)\n",
    "plt.pcolormesh(*mesh_for_2d_plot(x, y, z), vmin=-clim, vmax=clim, cmap='bwr')\n",
    "ax2 = plt.subplot(312, sharex=ax1)\n",
    "plt.plot(*c.data, '.-')\n",
    "ax3 = plt.subplot(313, sharex=ax1)\n",
    "plt.pcolormesh(*mesh_for_2d_plot(*movie_1DFFT), edgecolor='face', cmap=cmap)\n",
    "width = 20\n",
    "center = res_freq_guess\n",
    "plt.xlim([center-width, center+width])\n",
    "plt.ylim([0, 5])\n",
    "plt.tight_layout() "
   ]
  },
  {
   "cell_type": "code",
   "execution_count": 609,
   "metadata": {
    "hidden": true
   },
   "outputs": [
    {
     "data": {
      "image/png": "[encoded data removed]",
      "text/plain": [
       "<matplotlib.figure.Figure at 0x1976d780>"
      ]
     },
     "metadata": {},
     "output_type": "display_data"
    }
   ],
   "source": [
    "# Spatial FT Only \n",
    "\n",
    "# Data to use \n",
    "x, y, z = movie_dN\n",
    "cmap = 'bwr'\n",
    "xlabel = WID_xlabel.value\n",
    "\n",
    "# Crop data to end boundaries at the box\n",
    "L = info['Box Length Fit'] * 1e6\n",
    "\n",
    "# Plot \n",
    "fig, ax = plt.subplots(figsize=[10, 5], nrows=1, sharex=True)\n",
    "ax.pcolormesh(*mesh_for_2d_plot(x, y, z), edgecolor='face', cmap=cmap, vmin=- WID_clim_dN.value , vmax=WID_clim_dN.value)\n",
    "ax.set_ylabel('Position (um)', fontsize=fontsize)\n",
    "ax.set_title(r'$\\Delta$N' , fontsize=fontsize)\n",
    "ax.axhline(L/2, c='k', linestyle='-', alpha=0.8)\n",
    "ax.axhline(-L/2, c='k', linestyle='-', alpha=0.8)\n",
    "plt.tight_layout()\n",
    "plt.show()"
   ]
  },
  {
   "cell_type": "code",
   "execution_count": null,
   "metadata": {
    "collapsed": true,
    "hidden": true
   },
   "outputs": [],
   "source": []
  },
  {
   "cell_type": "code",
   "execution_count": null,
   "metadata": {
    "collapsed": true,
    "hidden": true
   },
   "outputs": [],
   "source": []
  },
  {
   "cell_type": "code",
   "execution_count": null,
   "metadata": {
    "collapsed": true,
    "hidden": true
   },
   "outputs": [],
   "source": []
  },
  {
   "cell_type": "code",
   "execution_count": null,
   "metadata": {
    "collapsed": true,
    "hidden": true
   },
   "outputs": [],
   "source": []
  },
  {
   "cell_type": "markdown",
   "metadata": {
    "heading_collapsed": true
   },
   "source": [
    "# Energy Spectroscopy"
   ]
  },
  {
   "cell_type": "code",
   "execution_count": null,
   "metadata": {
    "collapsed": true,
    "hidden": true
   },
   "outputs": [],
   "source": []
  },
  {
   "cell_type": "markdown",
   "metadata": {},
   "source": [
    "# Additional"
   ]
  },
  {
   "cell_type": "markdown",
   "metadata": {
    "collapsed": true
   },
   "source": [
    "## Temporary Data Collection "
   ]
  },
  {
   "cell_type": "code",
   "execution_count": 1435,
   "metadata": {
    "collapsed": true
   },
   "outputs": [],
   "source": [
    "# collector = dict()"
   ]
  },
  {
   "cell_type": "code",
   "execution_count": 1755,
   "metadata": {
    "collapsed": true
   },
   "outputs": [],
   "source": [
    "datasets = ['A','B','C','D','E','F','G','H','I','J','K','L','M','N','O','P','Q', 'R']\n",
    "heatcycles = np.array([0,10,20,30,40,50,60,70,80,90,5,15,25,35,45, 55,65, 75])"
   ]
  },
  {
   "cell_type": "code",
   "execution_count": 1754,
   "metadata": {
    "collapsed": true
   },
   "outputs": [],
   "source": [
    "# collector['R'] = movie_dN"
   ]
  },
  {
   "cell_type": "code",
   "execution_count": 1756,
   "metadata": {},
   "outputs": [
    {
     "data": {
      "image/png": "[encoded data removed]",
      "text/plain": [
       "<matplotlib.figure.Figure at 0x1a522e48>"
      ]
     },
     "metadata": {},
     "output_type": "display_data"
    }
   ],
   "source": [
    "plt.figure(figsize=[10, 7])\n",
    "for ds in datasets:\n",
    "    x, y, z = collector[ds]\n",
    "    plt.plot(y, z, label=ds)\n",
    "plt.legend()\n",
    "plt.ylabel(r'$\\Delta$ N')\n",
    "plt.xlabel(r'Position ($\\mu$m)')\n",
    "plt.tight_layout()"
   ]
  },
  {
   "cell_type": "code",
   "execution_count": 1757,
   "metadata": {
    "collapsed": true
   },
   "outputs": [],
   "source": [
    "def fitfun_sin_decay(x, l, wavelength, amp=1, phase = 0, offset=0, slope=0):\n",
    "    return np.exp(-x/l) * amp * np.sin(2*np.pi/wavelength * x - phase) + offset + slope*x"
   ]
  },
  {
   "cell_type": "code",
   "execution_count": 1758,
   "metadata": {},
   "outputs": [
    {
     "name": "stdout",
     "output_type": "stream",
     "text": [
      "##______Fit Value______Error______\n",
      " 0 ==>     32.39 (+-)     4.006\n",
      " 1 ==>      18.0 (+-)    0.2018\n",
      " 2 ==>   0.02784 (+-)  0.003982\n",
      " 3 ==>    -5.104 (+-)     0.143\n"
     ]
    },
    {
     "data": {
      "image/png": "[encoded data removed]",
      "text/plain": [
       "<matplotlib.figure.Figure at 0x1a483ac8>"
      ]
     },
     "metadata": {},
     "output_type": "display_data"
    }
   ],
   "source": [
    "test = 'L'\n",
    "guess = [40, 20, 0.03, 0,]\n",
    "xlim = [-50, 50]\n",
    "c = tp.Curve(collector[test][1].flatten(), collector[test][2].flatten())#.trim(xlim=[-70, 70])\n",
    "fr, fe = c.fit(fitfun_sin_decay, guess, xlim=xlim, plot=True)"
   ]
  },
  {
   "cell_type": "code",
   "execution_count": 1759,
   "metadata": {},
   "outputs": [],
   "source": [
    "frs = []\n",
    "fes = []\n",
    "for ds in datasets:\n",
    "    c = tp.Curve(collector[ds][1].flatten(), collector[ds][2].flatten())#.trim(xlim=[-45, 45])\n",
    "    fr, fe = c.fit(fitfun_sin_decay, guess, xlim=xlim, plot=False)\n",
    "    frs.append(fr)\n",
    "    fes.append(fe)\n",
    "frs = np.array(frs)\n",
    "fes = np.array(fes)\n",
    "shaking_freq = np.unique(df_data.BoxShakeFreq)[0]\n",
    "\n",
    "\n",
    "# Modify some of the values \n",
    "sign = np.sign(frs[:, 2])   # Get the sign of the amplitude\n",
    "frs[:, 2] = np.abs(frs[:, 2])  # Make the amplitube positive\n",
    "frs[:, 3] = np.mod(frs[:, 3] - (sign-1) * np.pi/2, twopi) # make the phase between 0 and 2Pi, add pi if amp was negative"
   ]
  },
  {
   "cell_type": "code",
   "execution_count": 1760,
   "metadata": {},
   "outputs": [
    {
     "data": {
      "image/png": "[encoded data removed]",
      "text/plain": [
       "<matplotlib.figure.Figure at 0x1a0b4550>"
      ]
     },
     "metadata": {},
     "output_type": "display_data"
    }
   ],
   "source": [
    "# Plot all fitres \n",
    "fig, ax = plt.subplots(ncols = frs.shape[1], figsize=[4*frs.shape[1], 4])\n",
    "for i in range(frs.shape[1]):\n",
    "    ax[i].errorbar(heatcycles, frs[:,i], fes[:,i], fmt='o')\n",
    "plt.tight_layout()"
   ]
  },
  {
   "cell_type": "code",
   "execution_count": 1761,
   "metadata": {},
   "outputs": [
    {
     "data": {
      "image/png": "[encoded data removed]",
      "text/plain": [
       "<matplotlib.figure.Figure at 0x1a63d940>"
      ]
     },
     "metadata": {},
     "output_type": "display_data"
    }
   ],
   "source": [
    "xlabel='Heat Cycles, Tc ~ 50-55'\n",
    "\n",
    "decay_length = [heatcycles, frs[:, 0]*1e-6, fes[:, 0]*1e-6]\n",
    "speed_sound = [heatcycles, shaking_freq * frs[:, 1] * 1e-6, shaking_freq * fes[:, 1] * 1e-6]\n",
    "decay_rate = [heatcycles, speed_sound[1] / decay_length[1], ((speed_sound[2]/decay_length[1])**2 + (speed_sound[1]/decay_length[1]**2*decay_length[2])**2)**(1/2)]\n",
    "\n",
    "fig, ax = plt.subplots(ncols=3, figsize=[16, 5])\n",
    "ax[0].errorbar(decay_length[0], decay_length[1] * 1e6, decay_length[2] * 1e6, fmt = 'o')\n",
    "ax[0].set(ylabel=r'Decay Length ~ 1/decay constant ($\\mu$m)', xlabel=xlabel)\n",
    "ax[1].errorbar(speed_sound[0], speed_sound[1] * 1e3, speed_sound[2] * 1e3, fmt = 'o')\n",
    "ax[1].set(ylabel=r'Speed of Sound ($\\mu$m/ms)', xlabel=xlabel)\n",
    "ax[2].errorbar(decay_rate[0], decay_rate[1] / twopi, decay_rate[2] / twopi, fmt='o')\n",
    "ax[2].set(ylabel=r'Decay Rate $\\Gamma$ (Hz)', xlabel=xlabel)\n",
    "plt.tight_layout()"
   ]
  },
  {
   "cell_type": "code",
   "execution_count": null,
   "metadata": {},
   "outputs": [],
   "source": []
  },
  {
   "cell_type": "code",
   "execution_count": 1671,
   "metadata": {},
   "outputs": [
    {
     "data": {
      "image/png": "[encoded data removed]",
      "text/plain": [
       "<matplotlib.figure.Figure at 0x1a94c748>"
      ]
     },
     "metadata": {},
     "output_type": "display_data"
    }
   ],
   "source": [
    "test = 'J'\n",
    "c = tp.Curve(collector[test][1].flatten(), collector[test][2].flatten()).trim(xlim=[-50, 50])\n",
    "# fr, fe = c.fit(fitfun_sin_decay, [15, 20, 0.005, 0.5], xlim=[-45, 45], plot=True)\n",
    "\n",
    "# FFT \n",
    "y = np.fft.fft(c.y)\n",
    "x = np.fft.fftfreq(c.y.size, c.x[1] - c.x[0]) * twopi\n",
    "c_fft = tp.Curve(x, y)\n",
    "\n",
    "# cutoff wavelength \n",
    "cutoff_k = twopi / 7\n",
    "y = c_fft.y.copy()\n",
    "y[np.abs(c_fft.x) >= cutoff_k] = 0\n",
    "y[c_fft.x == 0] = 0\n",
    "c_fft_filter = tp.Curve(c_fft.x, y)\n",
    "\n",
    "# iFFT\n",
    "y = np.fft.ifft(c_fft_filter.y)\n",
    "c_filter = tp.Curve(c.x, np.real(y))\n",
    "\n",
    "# Plot \n",
    "fig, ax = plt.subplots(ncols=2, figsize=[10, 4])\n",
    "ax[0].plot(*c_fft.data, 'o')\n",
    "ax[0].plot(*c_fft_filter.data)\n",
    "ax[1].plot(*c.data)\n",
    "ax[1].plot(*c_filter.data)\n",
    "plt.tight_layout()"
   ]
  },
  {
   "cell_type": "code",
   "execution_count": 239,
   "metadata": {},
   "outputs": [
    {
     "name": "stdout",
     "output_type": "stream",
     "text": [
      "##______Fit Value______Error______\n",
      " 0 ==>     87.96 (+-)     16.12\n",
      " 1 ==>     29.48 (+-)    0.2861\n",
      " 2 ==>   0.05216 (+-)  0.002223\n",
      " 3 ==>     7.287 (+-)   0.04199\n"
     ]
    },
    {
     "data": {
      "image/png": "[encoded data removed]",
      "text/plain": [
       "<matplotlib.figure.Figure at 0xf430d30>"
      ]
     },
     "metadata": {},
     "output_type": "display_data"
    }
   ],
   "source": [
    "c = tp.Curve(movie_dN[1].flatten(), movie_dN[2].flatten()).trim(xlim=[-60, 60])\n",
    "fr, fe = c.fit(fitfun_sin_decay, [80, 30, 0.05, 0,], xlim=[-30,45], plot=True)"
   ]
  },
  {
   "cell_type": "code",
   "execution_count": null,
   "metadata": {
    "collapsed": true
   },
   "outputs": [],
   "source": []
  }
 ],
 "metadata": {
  "kernelspec": {
   "display_name": "Python [default]",
   "language": "python",
   "name": "python3"
  },
  "language_info": {
   "codemirror_mode": {
    "name": "ipython",
    "version": 3
   },
   "file_extension": ".py",
   "mimetype": "text/x-python",
   "name": "python",
   "nbconvert_exporter": "python",
   "pygments_lexer": "ipython3",
   "version": "3.5.2"
  },
  "toc": {
   "colors": {
    "hover_highlight": "#DAA520",
    "running_highlight": "#FF0000",
    "selected_highlight": "#FFD700"
   },
   "moveMenuLeft": true,
   "nav_menu": {
    "height": "84px",
    "width": "252px"
   },
   "navigate_menu": true,
   "number_sections": true,
   "sideBar": true,
   "threshold": 4,
   "toc_cell": false,
   "toc_section_display": "block",
   "toc_window_display": true
  },
  "widgets": {
   "state": {
    "00d514973cee4fc58e7b76c1eefbf4b0": {
     "views": [
      {
       "cell_index": 13
      }
     ]
    },
    "029a1b4e683f413aad5b8874783c2a54": {
     "views": [
      {
       "cell_index": 13
      }
     ]
    },
    "0857be2176ee4c9a89cec46781c1736f": {
     "views": [
      {
       "cell_index": 13
      }
     ]
    },
    "0939803eee684c7c98224816961d6326": {
     "views": [
      {
       "cell_index": 13
      }
     ]
    },
    "099d3224c6f1483790da7512d50db7c8": {
     "views": [
      {
       "cell_index": 13
      }
     ]
    },
    "0a0a246642b740cd966b9200efc86959": {
     "views": [
      {
       "cell_index": 13
      }
     ]
    },
    "0a6f834fb4844b15a1aed84dc0e1d080": {
     "views": [
      {
       "cell_index": 13
      }
     ]
    },
    "0c543f4ca4714cf481a44eb8a6f20445": {
     "views": [
      {
       "cell_index": 13
      }
     ]
    },
    "0caa072dad4b4be0a3bd0d393814f6a2": {
     "views": [
      {
       "cell_index": 13
      }
     ]
    },
    "0dfd7c9ffdb1469f952e3b70730e858e": {
     "views": [
      {
       "cell_index": 13
      }
     ]
    },
    "0e8805889d2f4d7795173fd01ff2822b": {
     "views": [
      {
       "cell_index": 13
      }
     ]
    },
    "0ef5b639eb234d789776ac48d983d9a1": {
     "views": [
      {
       "cell_index": 13
      }
     ]
    },
    "0ff7de8ef5df43eeaa61b43bd1cf374e": {
     "views": [
      {
       "cell_index": 13
      }
     ]
    },
    "10dc011c8c5241f892c2a658db6bb0f4": {
     "views": [
      {
       "cell_index": 13
      }
     ]
    },
    "11704f41ffd84f9494f1546e6f75a311": {
     "views": [
      {
       "cell_index": 8
      }
     ]
    },
    "132ffcbe58474464b824043df18d742c": {
     "views": [
      {
       "cell_index": 13
      }
     ]
    },
    "150c3df0af554383bb51461dfab1ed99": {
     "views": [
      {
       "cell_index": 13
      }
     ]
    },
    "1771a006511d4a4eb360477950706a99": {
     "views": [
      {
       "cell_index": 13
      }
     ]
    },
    "198a5b3e73434d7dbf345d404b5da36d": {
     "views": [
      {
       "cell_index": 14
      },
      {
       "cell_index": 14
      },
      {
       "cell_index": 14
      },
      {
       "cell_index": 14
      },
      {
       "cell_index": 14
      },
      {
       "cell_index": 14
      },
      {
       "cell_index": 14
      },
      {
       "cell_index": 14
      },
      {
       "cell_index": 14
      },
      {
       "cell_index": 14
      },
      {
       "cell_index": 14
      },
      {
       "cell_index": 14
      },
      {
       "cell_index": 14
      },
      {
       "cell_index": 14
      },
      {
       "cell_index": 14
      },
      {
       "cell_index": 14
      },
      {
       "cell_index": 14
      },
      {
       "cell_index": 14
      },
      {
       "cell_index": 14
      },
      {
       "cell_index": 14
      },
      {
       "cell_index": 14
      },
      {
       "cell_index": 14
      },
      {
       "cell_index": 14
      },
      {
       "cell_index": 14
      },
      {
       "cell_index": 14
      },
      {
       "cell_index": 14
      },
      {
       "cell_index": 14
      },
      {
       "cell_index": 14
      },
      {
       "cell_index": 14
      },
      {
       "cell_index": 14
      },
      {
       "cell_index": 14
      },
      {
       "cell_index": 14
      },
      {
       "cell_index": 14
      },
      {
       "cell_index": 14
      },
      {
       "cell_index": 14
      },
      {
       "cell_index": 14
      },
      {
       "cell_index": 14
      },
      {
       "cell_index": 14
      },
      {
       "cell_index": 14
      },
      {
       "cell_index": 14
      },
      {
       "cell_index": 14
      },
      {
       "cell_index": 14
      },
      {
       "cell_index": 14
      },
      {
       "cell_index": 14
      },
      {
       "cell_index": 14
      },
      {
       "cell_index": 14
      },
      {
       "cell_index": 14
      },
      {
       "cell_index": 14
      },
      {
       "cell_index": 14
      },
      {
       "cell_index": 14
      },
      {
       "cell_index": 14
      },
      {
       "cell_index": 14
      },
      {
       "cell_index": 14
      },
      {
       "cell_index": 14
      },
      {
       "cell_index": 14
      },
      {
       "cell_index": 14
      },
      {
       "cell_index": 14
      },
      {
       "cell_index": 14
      },
      {
       "cell_index": 14
      },
      {
       "cell_index": 14
      },
      {
       "cell_index": 14
      },
      {
       "cell_index": 14
      },
      {
       "cell_index": 14
      },
      {
       "cell_index": 14
      },
      {
       "cell_index": 14
      },
      {
       "cell_index": 14
      },
      {
       "cell_index": 14
      },
      {
       "cell_index": 14
      },
      {
       "cell_index": 14
      },
      {
       "cell_index": 14
      },
      {
       "cell_index": 14
      },
      {
       "cell_index": 14
      },
      {
       "cell_index": 14
      },
      {
       "cell_index": 14
      },
      {
       "cell_index": 14
      },
      {
       "cell_index": 14
      },
      {
       "cell_index": 14
      },
      {
       "cell_index": 14
      },
      {
       "cell_index": 14
      },
      {
       "cell_index": 14
      },
      {
       "cell_index": 14
      },
      {
       "cell_index": 14
      },
      {
       "cell_index": 14
      },
      {
       "cell_index": 14
      },
      {
       "cell_index": 14
      },
      {
       "cell_index": 14
      },
      {
       "cell_index": 14
      },
      {
       "cell_index": 14
      },
      {
       "cell_index": 14
      },
      {
       "cell_index": 14
      },
      {
       "cell_index": 14
      },
      {
       "cell_index": 14
      },
      {
       "cell_index": 14
      },
      {
       "cell_index": 14
      },
      {
       "cell_index": 14
      },
      {
       "cell_index": 14
      },
      {
       "cell_index": 14
      },
      {
       "cell_index": 14
      },
      {
       "cell_index": 14
      },
      {
       "cell_index": 14
      },
      {
       "cell_index": 14
      },
      {
       "cell_index": 14
      },
      {
       "cell_index": 14
      },
      {
       "cell_index": 14
      },
      {
       "cell_index": 14
      },
      {
       "cell_index": 14
      },
      {
       "cell_index": 14
      },
      {
       "cell_index": 14
      },
      {
       "cell_index": 14
      },
      {
       "cell_index": 14
      },
      {
       "cell_index": 14
      },
      {
       "cell_index": 14
      },
      {
       "cell_index": 14
      },
      {
       "cell_index": 14
      },
      {
       "cell_index": 14
      },
      {
       "cell_index": 14
      },
      {
       "cell_index": 14
      },
      {
       "cell_index": 14
      },
      {
       "cell_index": 14
      },
      {
       "cell_index": 14
      },
      {
       "cell_index": 14
      },
      {
       "cell_index": 14
      },
      {
       "cell_index": 14
      },
      {
       "cell_index": 14
      },
      {
       "cell_index": 14
      },
      {
       "cell_index": 14
      },
      {
       "cell_index": 14
      },
      {
       "cell_index": 14
      },
      {
       "cell_index": 14
      },
      {
       "cell_index": 14
      },
      {
       "cell_index": 14
      },
      {
       "cell_index": 14
      },
      {
       "cell_index": 14
      },
      {
       "cell_index": 14
      },
      {
       "cell_index": 14
      },
      {
       "cell_index": 14
      },
      {
       "cell_index": 14
      },
      {
       "cell_index": 14
      },
      {
       "cell_index": 14
      },
      {
       "cell_index": 14
      },
      {
       "cell_index": 14
      },
      {
       "cell_index": 14
      },
      {
       "cell_index": 14
      },
      {
       "cell_index": 14
      },
      {
       "cell_index": 14
      },
      {
       "cell_index": 14
      },
      {
       "cell_index": 14
      },
      {
       "cell_index": 14
      }
     ]
    },
    "19de7e1e3a194f6da0555514ff94db0a": {
     "views": [
      {
       "cell_index": 13
      }
     ]
    },
    "1a2e107af2244b81ba103b2d485c003b": {
     "views": [
      {
       "cell_index": 13
      }
     ]
    },
    "1b10fff49be647d6878c90ede8ec70ce": {
     "views": [
      {
       "cell_index": 13
      }
     ]
    },
    "1b9b4138b44f42ebab979a02b3fdac4c": {
     "views": [
      {
       "cell_index": 13
      }
     ]
    },
    "1bcd5208fe1347988cc91a5baabcdae4": {
     "views": [
      {
       "cell_index": 13
      }
     ]
    },
    "1d84668468ae422ca4a13789d05e2c9c": {
     "views": [
      {
       "cell_index": 13
      }
     ]
    },
    "1da2bfe18b4b4bcb99dcdfeae0c1fb39": {
     "views": [
      {
       "cell_index": 13
      }
     ]
    },
    "1e99599aa2fb4744b6d56d6258169577": {
     "views": [
      {
       "cell_index": 13
      }
     ]
    },
    "1f95074d8b2940ada3f16b8368dcc97e": {
     "views": [
      {
       "cell_index": 13
      }
     ]
    },
    "20f21c966fba407790e4748bc55bcc31": {
     "views": [
      {
       "cell_index": 15
      },
      {
       "cell_index": 15
      },
      {
       "cell_index": 15
      },
      {
       "cell_index": 15
      },
      {
       "cell_index": 15
      },
      {
       "cell_index": 15
      },
      {
       "cell_index": 15
      },
      {
       "cell_index": 15
      },
      {
       "cell_index": 15
      },
      {
       "cell_index": 15
      },
      {
       "cell_index": 15
      },
      {
       "cell_index": 15
      },
      {
       "cell_index": 15
      },
      {
       "cell_index": 15
      },
      {
       "cell_index": 15
      },
      {
       "cell_index": 15
      },
      {
       "cell_index": 15
      },
      {
       "cell_index": 15
      },
      {
       "cell_index": 15
      },
      {
       "cell_index": 15
      },
      {
       "cell_index": 15
      },
      {
       "cell_index": 15
      },
      {
       "cell_index": 15
      },
      {
       "cell_index": 15
      },
      {
       "cell_index": 15
      },
      {
       "cell_index": 15
      },
      {
       "cell_index": 15
      },
      {
       "cell_index": 15
      },
      {
       "cell_index": 15
      },
      {
       "cell_index": 15
      },
      {
       "cell_index": 15
      },
      {
       "cell_index": 15
      },
      {
       "cell_index": 15
      },
      {
       "cell_index": 15
      },
      {
       "cell_index": 15
      },
      {
       "cell_index": 15
      },
      {
       "cell_index": 15
      },
      {
       "cell_index": 15
      },
      {
       "cell_index": 15
      }
     ]
    },
    "20fc81bd4ce64ba3bab98be08df84f06": {
     "views": [
      {
       "cell_index": 13
      }
     ]
    },
    "22112ef45ee541f29b8c2793ae74eb8d": {
     "views": [
      {
       "cell_index": 13
      }
     ]
    },
    "228dcbd62a10441bb3d80892f12516c0": {
     "views": [
      {
       "cell_index": 13
      }
     ]
    },
    "23cb6413c19c46bc9d22359ae7a7cc7f": {
     "views": [
      {
       "cell_index": 13
      }
     ]
    },
    "2526e2f4dd0045b0a0ea96b58b0d6a60": {
     "views": [
      {
       "cell_index": 13
      }
     ]
    },
    "253a4ab8dc8d46a584cd6bc4158e1913": {
     "views": [
      {
       "cell_index": 13
      }
     ]
    },
    "26ec9a7e59bf4392b75c87b3d678f8b9": {
     "views": [
      {
       "cell_index": 13
      }
     ]
    },
    "2739342573a24b9381aec53474754d28": {
     "views": [
      {
       "cell_index": 13
      }
     ]
    },
    "27c4f6caf4fd40ccbc89862eb26f96a8": {
     "views": [
      {
       "cell_index": 13
      }
     ]
    },
    "2946134e5f9c43349fc522eba6f7ddd9": {
     "views": [
      {
       "cell_index": 13
      }
     ]
    },
    "298c2e91eb9d49a5805edf4187e887d4": {
     "views": [
      {
       "cell_index": 13
      }
     ]
    },
    "29fd0ed2b9824689b1deda8e66195e28": {
     "views": [
      {
       "cell_index": 13
      }
     ]
    },
    "2f08113bab394cf2bcef305dd09de307": {
     "views": [
      {
       "cell_index": 13
      }
     ]
    },
    "310408d92d65442e9b886ae8905a3906": {
     "views": [
      {
       "cell_index": 13
      }
     ]
    },
    "314f7a9f4f09455d9cceca88fd2068ed": {
     "views": [
      {
       "cell_index": 13
      }
     ]
    },
    "352ef2962e2b4ea099a4cc530ea97612": {
     "views": [
      {
       "cell_index": 13
      }
     ]
    },
    "358cc3d5bb714957b863743697b988ca": {
     "views": [
      {
       "cell_index": 13
      }
     ]
    },
    "3655f693ee7d44c1a88d86744233a6b5": {
     "views": [
      {
       "cell_index": 13
      }
     ]
    },
    "36e9232e56464d94beccf27fa3d38a59": {
     "views": [
      {
       "cell_index": 13
      }
     ]
    },
    "37d08b60ae84470783044edb4e1458a0": {
     "views": [
      {
       "cell_index": 13
      }
     ]
    },
    "387ff769eb234a2ba97b14f150670d03": {
     "views": [
      {
       "cell_index": 13
      }
     ]
    },
    "3966b99b948d4fa0bfde47797f8337d7": {
     "views": [
      {
       "cell_index": 13
      }
     ]
    },
    "397444f0b39144bdb4b43728d9a88626": {
     "views": [
      {
       "cell_index": 13
      }
     ]
    },
    "39fe175905dc46e2888bda996f19478d": {
     "views": [
      {
       "cell_index": 8
      }
     ]
    },
    "3bdf455d673e48aaaf405f8c13b59515": {
     "views": [
      {
       "cell_index": 13
      }
     ]
    },
    "3c4dcdc457d34586a665b97613bb2af0": {
     "views": [
      {
       "cell_index": 13
      }
     ]
    },
    "3cc62465bd124aae81682e3aeb31deea": {
     "views": [
      {
       "cell_index": 13
      }
     ]
    },
    "3e053fd5980844f18a9508f55dba8dfe": {
     "views": [
      {
       "cell_index": 13
      }
     ]
    },
    "41c03ece1da54aa887337b310c8f54b4": {
     "views": [
      {
       "cell_index": 13
      }
     ]
    },
    "424b1ded37834c51979bec4950b17d3b": {
     "views": [
      {
       "cell_index": 13
      }
     ]
    },
    "45b5702b821e49c181bf93788d660a8e": {
     "views": [
      {
       "cell_index": 14
      },
      {
       "cell_index": 14
      },
      {
       "cell_index": 14
      },
      {
       "cell_index": 14
      },
      {
       "cell_index": 14
      },
      {
       "cell_index": 14
      },
      {
       "cell_index": 14
      },
      {
       "cell_index": 14
      },
      {
       "cell_index": 14
      },
      {
       "cell_index": 14
      },
      {
       "cell_index": 14
      },
      {
       "cell_index": 14
      },
      {
       "cell_index": 14
      },
      {
       "cell_index": 14
      },
      {
       "cell_index": 14
      },
      {
       "cell_index": 14
      },
      {
       "cell_index": 14
      },
      {
       "cell_index": 14
      },
      {
       "cell_index": 14
      },
      {
       "cell_index": 14
      },
      {
       "cell_index": 14
      },
      {
       "cell_index": 14
      },
      {
       "cell_index": 14
      },
      {
       "cell_index": 14
      },
      {
       "cell_index": 14
      },
      {
       "cell_index": 14
      },
      {
       "cell_index": 14
      },
      {
       "cell_index": 14
      },
      {
       "cell_index": 14
      },
      {
       "cell_index": 14
      },
      {
       "cell_index": 14
      },
      {
       "cell_index": 14
      },
      {
       "cell_index": 14
      },
      {
       "cell_index": 14
      },
      {
       "cell_index": 14
      },
      {
       "cell_index": 14
      },
      {
       "cell_index": 14
      },
      {
       "cell_index": 14
      },
      {
       "cell_index": 14
      },
      {
       "cell_index": 14
      },
      {
       "cell_index": 14
      },
      {
       "cell_index": 14
      },
      {
       "cell_index": 14
      },
      {
       "cell_index": 14
      },
      {
       "cell_index": 14
      },
      {
       "cell_index": 14
      },
      {
       "cell_index": 14
      },
      {
       "cell_index": 14
      },
      {
       "cell_index": 14
      },
      {
       "cell_index": 14
      },
      {
       "cell_index": 14
      },
      {
       "cell_index": 14
      },
      {
       "cell_index": 14
      },
      {
       "cell_index": 14
      },
      {
       "cell_index": 14
      },
      {
       "cell_index": 14
      },
      {
       "cell_index": 14
      },
      {
       "cell_index": 14
      },
      {
       "cell_index": 14
      },
      {
       "cell_index": 14
      },
      {
       "cell_index": 14
      },
      {
       "cell_index": 14
      },
      {
       "cell_index": 14
      },
      {
       "cell_index": 14
      },
      {
       "cell_index": 14
      },
      {
       "cell_index": 14
      },
      {
       "cell_index": 14
      },
      {
       "cell_index": 14
      },
      {
       "cell_index": 14
      },
      {
       "cell_index": 14
      },
      {
       "cell_index": 14
      },
      {
       "cell_index": 14
      },
      {
       "cell_index": 14
      },
      {
       "cell_index": 14
      },
      {
       "cell_index": 14
      },
      {
       "cell_index": 14
      },
      {
       "cell_index": 14
      },
      {
       "cell_index": 14
      },
      {
       "cell_index": 14
      },
      {
       "cell_index": 14
      },
      {
       "cell_index": 14
      },
      {
       "cell_index": 14
      },
      {
       "cell_index": 14
      },
      {
       "cell_index": 14
      },
      {
       "cell_index": 14
      },
      {
       "cell_index": 14
      },
      {
       "cell_index": 14
      },
      {
       "cell_index": 14
      },
      {
       "cell_index": 14
      },
      {
       "cell_index": 14
      },
      {
       "cell_index": 14
      },
      {
       "cell_index": 14
      },
      {
       "cell_index": 14
      },
      {
       "cell_index": 14
      },
      {
       "cell_index": 14
      },
      {
       "cell_index": 14
      },
      {
       "cell_index": 14
      },
      {
       "cell_index": 14
      },
      {
       "cell_index": 14
      },
      {
       "cell_index": 14
      },
      {
       "cell_index": 14
      },
      {
       "cell_index": 14
      },
      {
       "cell_index": 14
      },
      {
       "cell_index": 14
      },
      {
       "cell_index": 14
      },
      {
       "cell_index": 14
      },
      {
       "cell_index": 14
      },
      {
       "cell_index": 14
      },
      {
       "cell_index": 14
      },
      {
       "cell_index": 14
      },
      {
       "cell_index": 14
      },
      {
       "cell_index": 14
      },
      {
       "cell_index": 14
      },
      {
       "cell_index": 14
      },
      {
       "cell_index": 14
      },
      {
       "cell_index": 14
      },
      {
       "cell_index": 14
      },
      {
       "cell_index": 14
      },
      {
       "cell_index": 14
      },
      {
       "cell_index": 14
      },
      {
       "cell_index": 14
      },
      {
       "cell_index": 14
      },
      {
       "cell_index": 14
      },
      {
       "cell_index": 14
      },
      {
       "cell_index": 14
      },
      {
       "cell_index": 14
      },
      {
       "cell_index": 14
      },
      {
       "cell_index": 14
      },
      {
       "cell_index": 14
      },
      {
       "cell_index": 14
      },
      {
       "cell_index": 14
      },
      {
       "cell_index": 14
      },
      {
       "cell_index": 14
      },
      {
       "cell_index": 14
      },
      {
       "cell_index": 14
      },
      {
       "cell_index": 14
      },
      {
       "cell_index": 14
      },
      {
       "cell_index": 14
      },
      {
       "cell_index": 14
      },
      {
       "cell_index": 14
      },
      {
       "cell_index": 14
      },
      {
       "cell_index": 14
      },
      {
       "cell_index": 14
      },
      {
       "cell_index": 14
      },
      {
       "cell_index": 14
      },
      {
       "cell_index": 14
      },
      {
       "cell_index": 14
      },
      {
       "cell_index": 14
      }
     ]
    },
    "46bbfe77c97245aca4a5e16f9e4ea233": {
     "views": [
      {
       "cell_index": 14
      },
      {
       "cell_index": 14
      },
      {
       "cell_index": 14
      },
      {
       "cell_index": 14
      },
      {
       "cell_index": 14
      },
      {
       "cell_index": 14
      },
      {
       "cell_index": 14
      },
      {
       "cell_index": 14
      },
      {
       "cell_index": 14
      },
      {
       "cell_index": 14
      },
      {
       "cell_index": 14
      },
      {
       "cell_index": 14
      },
      {
       "cell_index": 14
      },
      {
       "cell_index": 14
      },
      {
       "cell_index": 14
      },
      {
       "cell_index": 14
      },
      {
       "cell_index": 14
      },
      {
       "cell_index": 14
      },
      {
       "cell_index": 14
      },
      {
       "cell_index": 14
      },
      {
       "cell_index": 14
      },
      {
       "cell_index": 14
      },
      {
       "cell_index": 14
      },
      {
       "cell_index": 14
      },
      {
       "cell_index": 14
      },
      {
       "cell_index": 14
      },
      {
       "cell_index": 14
      },
      {
       "cell_index": 14
      },
      {
       "cell_index": 14
      },
      {
       "cell_index": 14
      },
      {
       "cell_index": 14
      },
      {
       "cell_index": 14
      },
      {
       "cell_index": 14
      },
      {
       "cell_index": 14
      },
      {
       "cell_index": 14
      },
      {
       "cell_index": 14
      },
      {
       "cell_index": 14
      },
      {
       "cell_index": 14
      },
      {
       "cell_index": 14
      }
     ]
    },
    "493b241872ed44be921e4088b8fa2b46": {
     "views": [
      {
       "cell_index": 13
      }
     ]
    },
    "4949714191be49ddbe69e6de72a07994": {
     "views": [
      {
       "cell_index": 15
      },
      {
       "cell_index": 15
      },
      {
       "cell_index": 15
      },
      {
       "cell_index": 15
      },
      {
       "cell_index": 15
      },
      {
       "cell_index": 15
      },
      {
       "cell_index": 15
      },
      {
       "cell_index": 15
      },
      {
       "cell_index": 15
      },
      {
       "cell_index": 15
      },
      {
       "cell_index": 15
      },
      {
       "cell_index": 15
      }
     ]
    },
    "49e6dccf6b6e4b1ab52c44f026eab5f1": {
     "views": [
      {
       "cell_index": 13
      }
     ]
    },
    "4a42b047f907418b89b4cf8b59844611": {
     "views": [
      {
       "cell_index": 13
      }
     ]
    },
    "4aef958e8cd048b4803ed1e2d453612f": {
     "views": [
      {
       "cell_index": 13
      }
     ]
    },
    "4b046364a175499696604a42167e6dd8": {
     "views": [
      {
       "cell_index": 13
      }
     ]
    },
    "4c79c322a4884df78a267e784cba5e3f": {
     "views": [
      {
       "cell_index": 13
      }
     ]
    },
    "4ee8c7af7cbd4388a5e89ace0988c06c": {
     "views": [
      {
       "cell_index": 13
      }
     ]
    },
    "4f461e80173a4ea6a4cefb6f841d8256": {
     "views": [
      {
       "cell_index": 13
      }
     ]
    },
    "50714239e80242feaaad7fe9568c0781": {
     "views": [
      {
       "cell_index": 13
      }
     ]
    },
    "52062334de6b442994f53b7dc8feac20": {
     "views": [
      {
       "cell_index": 13
      }
     ]
    },
    "544277f5cdff4fa592499dbd4fb1a93d": {
     "views": [
      {
       "cell_index": 13
      }
     ]
    },
    "58721a598d9148b9879cc17f36edb4f5": {
     "views": [
      {
       "cell_index": 13
      }
     ]
    },
    "58ef6a1d19f24bc8ab877008f129908f": {
     "views": [
      {
       "cell_index": 13
      }
     ]
    },
    "59853707980a4920b1e7e29252fc8fa6": {
     "views": [
      {
       "cell_index": 13
      }
     ]
    },
    "5a8acbf4373747998dd76db2301b58e9": {
     "views": [
      {
       "cell_index": 13
      }
     ]
    },
    "5a974042452c48e6ab104f2b2e8c2ae3": {
     "views": [
      {
       "cell_index": 13
      }
     ]
    },
    "5d688825be65416bb2b791310175a3ae": {
     "views": [
      {
       "cell_index": 13
      }
     ]
    },
    "5e2710d1e0b147f0af856aa643082f84": {
     "views": [
      {
       "cell_index": 13
      }
     ]
    },
    "5e7b9175969a4433a12871288b49f472": {
     "views": [
      {
       "cell_index": 13
      }
     ]
    },
    "60dee4ea1409444cac3bca52b3f9d9e7": {
     "views": [
      {
       "cell_index": 13
      }
     ]
    },
    "60df113fc1dd4d99beb2d3d3a157d11a": {
     "views": [
      {
       "cell_index": 13
      }
     ]
    },
    "63819003e59a4de5a4511de9eeb48777": {
     "views": [
      {
       "cell_index": 13
      }
     ]
    },
    "6517fda59a964130933435e63ab0f1ac": {
     "views": [
      {
       "cell_index": 13
      }
     ]
    },
    "65f6df9907a044438a4af100fec4ed46": {
     "views": [
      {
       "cell_index": 13
      }
     ]
    },
    "66f551f5ada84a78b88c1172d3cd3a5d": {
     "views": [
      {
       "cell_index": 13
      }
     ]
    },
    "674b593082f2411ba4d709eb5e3b9879": {
     "views": [
      {
       "cell_index": 13
      }
     ]
    },
    "67fd5a7f155d4e548e58a25364982a40": {
     "views": [
      {
       "cell_index": 13
      }
     ]
    },
    "683ea5f9e4e84ec8b3ea61dee64dcccc": {
     "views": [
      {
       "cell_index": 13
      }
     ]
    },
    "685380c3588e4144a6891b67aa914d23": {
     "views": [
      {
       "cell_index": 14
      },
      {
       "cell_index": 14
      },
      {
       "cell_index": 14
      },
      {
       "cell_index": 14
      }
     ]
    },
    "6945eff39c7e45fca3c92641af531dde": {
     "views": [
      {
       "cell_index": 13
      }
     ]
    },
    "697f12967feb48868afc23ffc62acdff": {
     "views": [
      {
       "cell_index": 13
      }
     ]
    },
    "698886fa67524386a738f5f8a5db6e72": {
     "views": [
      {
       "cell_index": 13
      }
     ]
    },
    "6dc1aeb6933a45e2bc0cb364e0698d06": {
     "views": [
      {
       "cell_index": 13
      }
     ]
    },
    "6e8dbfc045e4435d93b881bd06d3803d": {
     "views": [
      {
       "cell_index": 13
      }
     ]
    },
    "708436a729ad42f99137b8383399a280": {
     "views": [
      {
       "cell_index": 13
      }
     ]
    },
    "719e3ad8a17442078be1cfa40a689f28": {
     "views": [
      {
       "cell_index": 13
      }
     ]
    },
    "73820dd0f05d4ddcb69e1a2a2b708693": {
     "views": [
      {
       "cell_index": 13
      }
     ]
    },
    "73e9127436654c26bfe1c5761212ba94": {
     "views": [
      {
       "cell_index": 13
      }
     ]
    },
    "7655c4b89660429984e26ec90ebab4e0": {
     "views": [
      {
       "cell_index": 13
      }
     ]
    },
    "76765018e1044a66b4454ff748b2c7e8": {
     "views": [
      {
       "cell_index": 13
      }
     ]
    },
    "78b643f2907945ada76df0c8fa777efc": {
     "views": [
      {
       "cell_index": 13
      }
     ]
    },
    "79cdf03e03204b5e80f69bdf27e8de1c": {
     "views": [
      {
       "cell_index": 13
      }
     ]
    },
    "7aeea8b9c2f44eabb4ae8f331156dfcc": {
     "views": [
      {
       "cell_index": 13
      }
     ]
    },
    "7b6260f3f6a24dba9b2d6fe148fe1767": {
     "views": [
      {
       "cell_index": 13
      }
     ]
    },
    "7bbc17d09233469fa9393fe11c8a76dd": {
     "views": [
      {
       "cell_index": 13
      }
     ]
    },
    "7ca2811b57f341f3b074ed9f83b8cea9": {
     "views": [
      {
       "cell_index": 13
      }
     ]
    },
    "7da60ed8b3864a3682493bdef3759927": {
     "views": [
      {
       "cell_index": 14
      }
     ]
    },
    "7db211988aff4bdba0b0f39aa673bb89": {
     "views": [
      {
       "cell_index": 13
      }
     ]
    },
    "7f8f88f0db6549bb8a2c7d1f8e1e0c54": {
     "views": [
      {
       "cell_index": 13
      }
     ]
    },
    "803fa3f0f6024299ad895c8c96710066": {
     "views": [
      {
       "cell_index": 13
      }
     ]
    },
    "81611afb798845dfbcf9f9480a14f532": {
     "views": [
      {
       "cell_index": 13
      }
     ]
    },
    "81ca94ad71a843adbf70dbedc32ffb1f": {
     "views": [
      {
       "cell_index": 13
      }
     ]
    },
    "8257a1530ae8426fa356b68f2767a96c": {
     "views": [
      {
       "cell_index": 13
      }
     ]
    },
    "8311bf72f56a4a768b3af3347314b0a4": {
     "views": [
      {
       "cell_index": 13
      }
     ]
    },
    "8338e2a167a041e1b5eeee6572221ffd": {
     "views": [
      {
       "cell_index": 14
      },
      {
       "cell_index": 14
      },
      {
       "cell_index": 14
      },
      {
       "cell_index": 14
      },
      {
       "cell_index": 14
      },
      {
       "cell_index": 14
      },
      {
       "cell_index": 14
      },
      {
       "cell_index": 14
      },
      {
       "cell_index": 14
      },
      {
       "cell_index": 14
      },
      {
       "cell_index": 14
      },
      {
       "cell_index": 14
      },
      {
       "cell_index": 14
      },
      {
       "cell_index": 14
      },
      {
       "cell_index": 14
      },
      {
       "cell_index": 14
      },
      {
       "cell_index": 14
      },
      {
       "cell_index": 14
      },
      {
       "cell_index": 14
      },
      {
       "cell_index": 14
      },
      {
       "cell_index": 14
      },
      {
       "cell_index": 14
      },
      {
       "cell_index": 14
      },
      {
       "cell_index": 14
      },
      {
       "cell_index": 14
      },
      {
       "cell_index": 14
      },
      {
       "cell_index": 14
      },
      {
       "cell_index": 14
      },
      {
       "cell_index": 14
      },
      {
       "cell_index": 14
      },
      {
       "cell_index": 14
      },
      {
       "cell_index": 14
      },
      {
       "cell_index": 14
      },
      {
       "cell_index": 14
      },
      {
       "cell_index": 14
      },
      {
       "cell_index": 14
      },
      {
       "cell_index": 14
      },
      {
       "cell_index": 14
      },
      {
       "cell_index": 14
      }
     ]
    },
    "83889317d1a7481c98d73f06f433ced5": {
     "views": [
      {
       "cell_index": 8
      }
     ]
    },
    "83aadc3334494912b6f880599b8d94ba": {
     "views": [
      {
       "cell_index": 13
      }
     ]
    },
    "858bf6015f5f4983895a4b879127ed52": {
     "views": [
      {
       "cell_index": 13
      }
     ]
    },
    "85bab18ee24a4b41aa123db4e7b631e7": {
     "views": [
      {
       "cell_index": 13
      }
     ]
    },
    "85ee7bc43a2c48b1b8d04f7443c1ce57": {
     "views": [
      {
       "cell_index": 13
      }
     ]
    },
    "861c6b8befd349a0a6ee80e5f58de2e0": {
     "views": [
      {
       "cell_index": 13
      }
     ]
    },
    "889561574fac442d8fcaa35ad75fdcd0": {
     "views": [
      {
       "cell_index": 13
      }
     ]
    },
    "88f79503ac524805bfd656c9c3409fbe": {
     "views": [
      {
       "cell_index": 8
      }
     ]
    },
    "8ada78074d3f4b34832e6b9429fda1dc": {
     "views": [
      {
       "cell_index": 13
      }
     ]
    },
    "8bb52f35a7ec4dc3807c5adf21cb8530": {
     "views": [
      {
       "cell_index": 13
      }
     ]
    },
    "8c7a7b795e214c21a04c8f5b57abb262": {
     "views": [
      {
       "cell_index": 13
      }
     ]
    },
    "8d362a7cf8ac446898fa8ab0d93e5fe4": {
     "views": [
      {
       "cell_index": 13
      }
     ]
    },
    "90cc1b00380a41ba817523c1eb1e5b2b": {
     "views": [
      {
       "cell_index": 13
      }
     ]
    },
    "90d6ab15a5e249c78f06bad794970a20": {
     "views": [
      {
       "cell_index": 8
      }
     ]
    },
    "9163d46612aa4f93a0299968d35991f2": {
     "views": [
      {
       "cell_index": 13
      }
     ]
    },
    "9244a74f32eb4392b6af904c6bbbba8f": {
     "views": [
      {
       "cell_index": 13
      }
     ]
    },
    "941ae730aa934d72b633390ac28fc88f": {
     "views": [
      {
       "cell_index": 13
      }
     ]
    },
    "94e8dc4b092148449180fcc5b01d3c94": {
     "views": [
      {
       "cell_index": 13
      }
     ]
    },
    "95129b19cea84406b22042d13302d28d": {
     "views": [
      {
       "cell_index": 13
      }
     ]
    },
    "951563ae8e3b4bedbedde41579dfacb2": {
     "views": [
      {
       "cell_index": 13
      }
     ]
    },
    "952a961030774f4487482d5445606c8e": {
     "views": [
      {
       "cell_index": 13
      }
     ]
    },
    "95b6747a982f4525b7b84af68bac3b95": {
     "views": [
      {
       "cell_index": 14
      },
      {
       "cell_index": 14
      },
      {
       "cell_index": 14
      },
      {
       "cell_index": 14
      },
      {
       "cell_index": 14
      },
      {
       "cell_index": 14
      },
      {
       "cell_index": 14
      },
      {
       "cell_index": 14
      },
      {
       "cell_index": 14
      },
      {
       "cell_index": 14
      },
      {
       "cell_index": 14
      },
      {
       "cell_index": 14
      },
      {
       "cell_index": 14
      },
      {
       "cell_index": 14
      },
      {
       "cell_index": 14
      },
      {
       "cell_index": 14
      },
      {
       "cell_index": 14
      },
      {
       "cell_index": 14
      }
     ]
    },
    "9601c966306f4f259b31785a87ad3d4a": {
     "views": [
      {
       "cell_index": 13
      }
     ]
    },
    "967ad4ca506f481e94876e0487c596c1": {
     "views": [
      {
       "cell_index": 8
      }
     ]
    },
    "972858e2c6cf417493b9239b9e5eb162": {
     "views": [
      {
       "cell_index": 13
      }
     ]
    },
    "9782734e45a94226baf33fb83e77f379": {
     "views": [
      {
       "cell_index": 13
      }
     ]
    },
    "97c17593c20647c1a87287236cee9c51": {
     "views": [
      {
       "cell_index": 13
      }
     ]
    },
    "9ed7beb3a4b2466ba483fdf15f7b488b": {
     "views": [
      {
       "cell_index": 13
      }
     ]
    },
    "a257889050d74f0f851026b508223ae7": {
     "views": [
      {
       "cell_index": 13
      }
     ]
    },
    "a2e0b78c50d846ba856e1ee14b87d68e": {
     "views": [
      {
       "cell_index": 13
      }
     ]
    },
    "a4f9fb7aa2604d4db4d77bf06fb4ea14": {
     "views": [
      {
       "cell_index": 13
      }
     ]
    },
    "a57d99e4eeee4200ab39b6dc1ad9227f": {
     "views": [
      {
       "cell_index": 13
      }
     ]
    },
    "a6fd3678e34b499e929703773b30d692": {
     "views": [
      {
       "cell_index": 13
      }
     ]
    },
    "aade064dab2e4f329ff3c6a5f5a864ae": {
     "views": [
      {
       "cell_index": 13
      }
     ]
    },
    "acbbbce63f404b70aac3bad5d847800e": {
     "views": [
      {
       "cell_index": 13
      }
     ]
    },
    "aeb02044da3b494d9262abeda983ebb3": {
     "views": [
      {
       "cell_index": 13
      }
     ]
    },
    "b02496dbe4084c52acf3e9e048eceabb": {
     "views": [
      {
       "cell_index": 15
      }
     ]
    },
    "b2980d0d711e4564bc6dcfb97f60ee40": {
     "views": [
      {
       "cell_index": 13
      }
     ]
    },
    "b32ce5b86c964967a7a87a05c7ab12cf": {
     "views": [
      {
       "cell_index": 13
      }
     ]
    },
    "b4cc686ce2cc4dbaa3cef04fba28ff1d": {
     "views": [
      {
       "cell_index": 13
      }
     ]
    },
    "b52cd79886174d2f82fc009d01343890": {
     "views": [
      {
       "cell_index": 13
      }
     ]
    },
    "b6aefdab52fc4632bf3c322a2032948e": {
     "views": [
      {
       "cell_index": 13
      }
     ]
    },
    "bae813e3d7524f17b71805a68bc53e87": {
     "views": [
      {
       "cell_index": 13
      }
     ]
    },
    "bb11a200c4ed406bacf6e1e4bc0f8d8c": {
     "views": [
      {
       "cell_index": 13
      }
     ]
    },
    "bb9e6ac5967b43dcb5a9f6ef684f6d29": {
     "views": [
      {
       "cell_index": 13
      }
     ]
    },
    "bbf08fdb64ea4416b07ea79c7a687c2e": {
     "views": [
      {
       "cell_index": 13
      }
     ]
    },
    "bc1baa923cfd4955bd26065db9e10a26": {
     "views": [
      {
       "cell_index": 13
      }
     ]
    },
    "bc9230852f6b484d8f306cf2bd30578e": {
     "views": [
      {
       "cell_index": 13
      }
     ]
    },
    "bef35746fc574bdbbb3e29a6821e6ac8": {
     "views": [
      {
       "cell_index": 13
      }
     ]
    },
    "c07db487714844deaef65f82e74a8f2e": {
     "views": [
      {
       "cell_index": 13
      }
     ]
    },
    "c0b7f440a8a0412fb15549654cbf925b": {
     "views": [
      {
       "cell_index": 13
      }
     ]
    },
    "c161bbf8c480492dbf1ab363370e22cf": {
     "views": [
      {
       "cell_index": 13
      }
     ]
    },
    "c1cf0525e9d944b1a5e876301297ff47": {
     "views": [
      {
       "cell_index": 13
      }
     ]
    },
    "c2f141a5e5964a17a5292843f063de0d": {
     "views": [
      {
       "cell_index": 13
      }
     ]
    },
    "c675cbc9066146d8bca39c7690b44005": {
     "views": [
      {
       "cell_index": 15
      },
      {
       "cell_index": 15
      },
      {
       "cell_index": 15
      },
      {
       "cell_index": 15
      },
      {
       "cell_index": 15
      },
      {
       "cell_index": 15
      },
      {
       "cell_index": 15
      },
      {
       "cell_index": 15
      },
      {
       "cell_index": 15
      },
      {
       "cell_index": 15
      },
      {
       "cell_index": 15
      },
      {
       "cell_index": 15
      },
      {
       "cell_index": 15
      },
      {
       "cell_index": 15
      },
      {
       "cell_index": 15
      },
      {
       "cell_index": 15
      },
      {
       "cell_index": 15
      },
      {
       "cell_index": 15
      },
      {
       "cell_index": 15
      },
      {
       "cell_index": 15
      },
      {
       "cell_index": 15
      },
      {
       "cell_index": 15
      },
      {
       "cell_index": 15
      },
      {
       "cell_index": 15
      },
      {
       "cell_index": 15
      },
      {
       "cell_index": 15
      },
      {
       "cell_index": 15
      },
      {
       "cell_index": 15
      },
      {
       "cell_index": 15
      },
      {
       "cell_index": 15
      },
      {
       "cell_index": 15
      },
      {
       "cell_index": 15
      },
      {
       "cell_index": 15
      },
      {
       "cell_index": 15
      },
      {
       "cell_index": 15
      },
      {
       "cell_index": 15
      },
      {
       "cell_index": 15
      },
      {
       "cell_index": 15
      },
      {
       "cell_index": 15
      },
      {
       "cell_index": 15
      },
      {
       "cell_index": 15
      },
      {
       "cell_index": 15
      },
      {
       "cell_index": 15
      },
      {
       "cell_index": 15
      },
      {
       "cell_index": 15
      },
      {
       "cell_index": 15
      },
      {
       "cell_index": 15
      },
      {
       "cell_index": 15
      },
      {
       "cell_index": 15
      },
      {
       "cell_index": 15
      },
      {
       "cell_index": 15
      },
      {
       "cell_index": 15
      },
      {
       "cell_index": 15
      },
      {
       "cell_index": 15
      },
      {
       "cell_index": 15
      },
      {
       "cell_index": 15
      },
      {
       "cell_index": 15
      },
      {
       "cell_index": 15
      },
      {
       "cell_index": 15
      },
      {
       "cell_index": 15
      },
      {
       "cell_index": 15
      },
      {
       "cell_index": 15
      },
      {
       "cell_index": 15
      },
      {
       "cell_index": 15
      },
      {
       "cell_index": 15
      },
      {
       "cell_index": 15
      },
      {
       "cell_index": 15
      },
      {
       "cell_index": 15
      },
      {
       "cell_index": 15
      },
      {
       "cell_index": 15
      },
      {
       "cell_index": 15
      },
      {
       "cell_index": 15
      },
      {
       "cell_index": 15
      },
      {
       "cell_index": 15
      },
      {
       "cell_index": 15
      },
      {
       "cell_index": 15
      },
      {
       "cell_index": 15
      },
      {
       "cell_index": 15
      },
      {
       "cell_index": 15
      },
      {
       "cell_index": 15
      },
      {
       "cell_index": 15
      },
      {
       "cell_index": 15
      },
      {
       "cell_index": 15
      },
      {
       "cell_index": 15
      },
      {
       "cell_index": 15
      },
      {
       "cell_index": 15
      },
      {
       "cell_index": 15
      },
      {
       "cell_index": 15
      },
      {
       "cell_index": 15
      },
      {
       "cell_index": 15
      },
      {
       "cell_index": 15
      },
      {
       "cell_index": 15
      },
      {
       "cell_index": 15
      },
      {
       "cell_index": 15
      },
      {
       "cell_index": 15
      },
      {
       "cell_index": 15
      },
      {
       "cell_index": 15
      },
      {
       "cell_index": 15
      },
      {
       "cell_index": 15
      },
      {
       "cell_index": 15
      },
      {
       "cell_index": 15
      },
      {
       "cell_index": 15
      },
      {
       "cell_index": 15
      },
      {
       "cell_index": 15
      },
      {
       "cell_index": 15
      },
      {
       "cell_index": 15
      },
      {
       "cell_index": 15
      },
      {
       "cell_index": 15
      },
      {
       "cell_index": 15
      },
      {
       "cell_index": 15
      },
      {
       "cell_index": 15
      },
      {
       "cell_index": 15
      },
      {
       "cell_index": 15
      },
      {
       "cell_index": 15
      },
      {
       "cell_index": 15
      },
      {
       "cell_index": 15
      },
      {
       "cell_index": 15
      },
      {
       "cell_index": 15
      },
      {
       "cell_index": 15
      },
      {
       "cell_index": 15
      },
      {
       "cell_index": 15
      },
      {
       "cell_index": 15
      },
      {
       "cell_index": 15
      },
      {
       "cell_index": 15
      },
      {
       "cell_index": 15
      },
      {
       "cell_index": 15
      },
      {
       "cell_index": 15
      },
      {
       "cell_index": 15
      },
      {
       "cell_index": 15
      },
      {
       "cell_index": 15
      },
      {
       "cell_index": 15
      },
      {
       "cell_index": 15
      },
      {
       "cell_index": 15
      },
      {
       "cell_index": 15
      },
      {
       "cell_index": 15
      },
      {
       "cell_index": 15
      },
      {
       "cell_index": 15
      },
      {
       "cell_index": 15
      },
      {
       "cell_index": 15
      },
      {
       "cell_index": 15
      },
      {
       "cell_index": 15
      },
      {
       "cell_index": 15
      },
      {
       "cell_index": 15
      },
      {
       "cell_index": 15
      },
      {
       "cell_index": 15
      },
      {
       "cell_index": 15
      },
      {
       "cell_index": 15
      }
     ]
    },
    "c79af55f75c04affa4973d435cb626f9": {
     "views": [
      {
       "cell_index": 13
      }
     ]
    },
    "c91812c0fa2f42228a249e9bc5a4f277": {
     "views": [
      {
       "cell_index": 13
      }
     ]
    },
    "c9703fa1afb64fa5bd1afc7c18266438": {
     "views": [
      {
       "cell_index": 13
      }
     ]
    },
    "ca7a6e38f9434b1b84153d5a36cca132": {
     "views": [
      {
       "cell_index": 13
      }
     ]
    },
    "cc177adb4c29406b814700fdcfd0e4d0": {
     "views": [
      {
       "cell_index": 13
      }
     ]
    },
    "cc44555fe5d74a76815165ef8af5a956": {
     "views": [
      {
       "cell_index": 13
      }
     ]
    },
    "cd8184232087460fb3032dab768c4d10": {
     "views": [
      {
       "cell_index": 13
      }
     ]
    },
    "cd827c9d00ac43a788e0785b4a4d397c": {
     "views": [
      {
       "cell_index": 13
      }
     ]
    },
    "cf865f293b374a1085d1443b74682b1c": {
     "views": [
      {
       "cell_index": 13
      }
     ]
    },
    "d0b342211e394b9bb78df1aa9d6a11a1": {
     "views": [
      {
       "cell_index": 13
      }
     ]
    },
    "d2dc04c09fab4436a0be886149549570": {
     "views": [
      {
       "cell_index": 8
      }
     ]
    },
    "d2f369ebba9a4c08b6c746131939d417": {
     "views": [
      {
       "cell_index": 13
      }
     ]
    },
    "d30131eed20945e7a13aa5cb7d0977ed": {
     "views": [
      {
       "cell_index": 13
      }
     ]
    },
    "d5e0be993637431592e1b115486c4dbf": {
     "views": [
      {
       "cell_index": 13
      }
     ]
    },
    "d5ee9d98ad194547ac666083260bef12": {
     "views": [
      {
       "cell_index": 13
      }
     ]
    },
    "d7c7e7ef950448c8b7aa3e46a67807a5": {
     "views": [
      {
       "cell_index": 13
      }
     ]
    },
    "db6e5ec82a014768944858a9efb802ad": {
     "views": [
      {
       "cell_index": 13
      }
     ]
    },
    "dba071ac7e9e4fb985d4a505b72ea26e": {
     "views": [
      {
       "cell_index": 13
      }
     ]
    },
    "dba43341ae354135827ebb2ff077ac06": {
     "views": [
      {
       "cell_index": 14
      },
      {
       "cell_index": 14
      },
      {
       "cell_index": 14
      },
      {
       "cell_index": 14
      }
     ]
    },
    "dd618195bc3a4a07926d992124d0d375": {
     "views": [
      {
       "cell_index": 13
      }
     ]
    },
    "e04ebc1c16ae4070b6eefd628532421f": {
     "views": [
      {
       "cell_index": 13
      }
     ]
    },
    "e175ba6ffafa4794a2eb2f0f5c13f30f": {
     "views": [
      {
       "cell_index": 14
      }
     ]
    },
    "e1f4c1c5031a40b19decebd11c7d03e6": {
     "views": [
      {
       "cell_index": 13
      }
     ]
    },
    "e243c82299e144169dc6928ec510f87f": {
     "views": [
      {
       "cell_index": 13
      }
     ]
    },
    "e65aa1cf3dce4ed88debf52c86b4e6f8": {
     "views": [
      {
       "cell_index": 13
      }
     ]
    },
    "e6a75e99e3ae417da30937c9803a30de": {
     "views": [
      {
       "cell_index": 8
      }
     ]
    },
    "e768c052cdc84031b59d81ef438ef681": {
     "views": [
      {
       "cell_index": 13
      }
     ]
    },
    "e993b34aac774e398288aff58afc24f8": {
     "views": [
      {
       "cell_index": 13
      }
     ]
    },
    "ed0e3d775acc467c9d56768d656812b0": {
     "views": [
      {
       "cell_index": 13
      }
     ]
    },
    "ed41716b93a5478c90ca52a273f8b985": {
     "views": [
      {
       "cell_index": 13
      }
     ]
    },
    "ed6fce6120fd4b978fa7c790a37abe38": {
     "views": [
      {
       "cell_index": 13
      }
     ]
    },
    "edc4e75de11a4efaa082faaf9f42b42f": {
     "views": [
      {
       "cell_index": 13
      }
     ]
    },
    "ede754fa36d3489ca292b0eaba1ce6b2": {
     "views": [
      {
       "cell_index": 8
      }
     ]
    },
    "f06c02aff032415ba06c86ba50aca145": {
     "views": [
      {
       "cell_index": 8
      }
     ]
    },
    "f213fb3980d74ae7bb8f243a1ac30dd4": {
     "views": [
      {
       "cell_index": 13
      }
     ]
    },
    "f288d476320d4d5cbea988caf49a3676": {
     "views": [
      {
       "cell_index": 13
      }
     ]
    },
    "f29f9768fc71460eb3af544748cdecad": {
     "views": [
      {
       "cell_index": 13
      }
     ]
    },
    "f2e03473b3f64b4da4410c3ba66c705f": {
     "views": [
      {
       "cell_index": 13
      }
     ]
    },
    "f396774377994280a19f25bfc017c460": {
     "views": [
      {
       "cell_index": 13
      }
     ]
    },
    "f39fb05b2fa6435bac9ea49084e91d8a": {
     "views": [
      {
       "cell_index": 11
      }
     ]
    },
    "f576e841582f4108a3bbd5a5d23ed2a7": {
     "views": [
      {
       "cell_index": 13
      }
     ]
    },
    "f5a3f559a4494bbc9a67301b93e4ae29": {
     "views": [
      {
       "cell_index": 13
      }
     ]
    },
    "f75db89c24264c728eccfb6ebf057fe3": {
     "views": [
      {
       "cell_index": 15
      }
     ]
    },
    "f91e68ce2c43491682f9c5fd9642057c": {
     "views": [
      {
       "cell_index": 13
      }
     ]
    },
    "f967829f7be542bcbd1effca722eb1af": {
     "views": [
      {
       "cell_index": 13
      }
     ]
    },
    "f99a2db16ba44860a10eb64e9637ce5b": {
     "views": [
      {
       "cell_index": 13
      }
     ]
    },
    "faada7f86ad941d48250f89850f5a4a1": {
     "views": [
      {
       "cell_index": 13
      }
     ]
    },
    "fab93b2b7c964ef39ac9dd3b4f96e1c4": {
     "views": [
      {
       "cell_index": 13
      }
     ]
    },
    "fb4daa0ff70547ebbc9666b1079ef54c": {
     "views": [
      {
       "cell_index": 14
      },
      {
       "cell_index": 14
      },
      {
       "cell_index": 14
      },
      {
       "cell_index": 14
      },
      {
       "cell_index": 14
      },
      {
       "cell_index": 14
      },
      {
       "cell_index": 14
      },
      {
       "cell_index": 14
      },
      {
       "cell_index": 14
      },
      {
       "cell_index": 14
      },
      {
       "cell_index": 14
      },
      {
       "cell_index": 14
      },
      {
       "cell_index": 14
      },
      {
       "cell_index": 14
      },
      {
       "cell_index": 14
      },
      {
       "cell_index": 14
      },
      {
       "cell_index": 14
      },
      {
       "cell_index": 14
      }
     ]
    },
    "fb5336eb80c845c2a541ee4dba26ea91": {
     "views": [
      {
       "cell_index": 13
      }
     ]
    },
    "fb72d2a7c4c74b8c9fad2ac677be5800": {
     "views": [
      {
       "cell_index": 13
      }
     ]
    },
    "fbae25326bfb48c182a919762127c724": {
     "views": [
      {
       "cell_index": 13
      }
     ]
    },
    "ff303ad7e1094b3292578ac1ff337359": {
     "views": [
      {
       "cell_index": 13
      }
     ]
    },
    "ff432a003ba5472883b5d588a4168026": {
     "views": [
      {
       "cell_index": 13
      }
     ]
    }
   },
   "version": "1.2.0"
  }
 },
 "nbformat": 4,
 "nbformat_minor": 2
}

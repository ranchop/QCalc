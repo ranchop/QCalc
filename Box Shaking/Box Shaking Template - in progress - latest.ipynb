{
 "cells": [
  {
   "cell_type": "markdown",
   "metadata": {},
   "source": [
    "NOTES : \n",
    "\n",
    "- Single dataset doens't work at \n",
    "    - movie plot\n",
    "    - spatial decay fit\n",
    "\n",
    "- If there is a single BG image, 2D-1D plot sample doesn't work\n",
    "\n",
    "- Add errorbars for delta_rho / rho by using error in rho"
   ]
  },
  {
   "cell_type": "code",
   "execution_count": 1,
   "metadata": {
    "code_folding": [
     0
    ]
   },
   "outputs": [
    {
     "name": "stdout",
     "output_type": "stream",
     "text": [
      "The servers are not connected!\n",
      "Using the local database copy. Could be outdated!\n"
     ]
    }
   ],
   "source": [
    "# Imports \n",
    "import numpy as np\n",
    "import pandas as pd\n",
    "import therpy as tp\n",
    "import matplotlib.pyplot as plt\n",
    "%matplotlib inline\n",
    "from tqdm import tqdm_notebook as tqdm\n",
    "import ipywidgets\n",
    "import warnings\n",
    "warnings.filterwarnings(\"ignore\")\n",
    "import scipy.interpolate\n",
    "from IPython.display import display, Javascript\n",
    "import os\n",
    "import shutil\n",
    "import mpmath\n",
    "\n",
    "\n",
    "def getNotebookName():\n",
    "    display(Javascript('IPython.notebook.kernel.execute(\"theNotebook = \" + \"\\'\"+IPython.notebook.notebook_name+\"\\'\");'))\n",
    "    return theNotebook\n",
    "\n",
    "cst = tp.cst()\n",
    "twopi = 2 * np.pi\n",
    "kHz = 1e3 * cst.h"
   ]
  },
  {
   "cell_type": "code",
   "execution_count": 2,
   "metadata": {
    "code_folding": [
     0
    ],
    "collapsed": true
   },
   "outputs": [],
   "source": [
    "# Constants \n",
    "import_params = ['ExpansionTime','SideGreenEvap','WaitBox',\n",
    "               'IREvap','HeatTime','ShakeWait', 'HeatCycles',\n",
    "               'ShakingCycles', 'BoxShakeFreq','BoxShakeAmp','BoxShakeTime',\n",
    "               'ShakingCycles2', 'BoxShakeFreq2', 'BoxShakeTime2', 'BoxShakeAmp2',\n",
    "               'SeqMode']\n",
    "\n",
    "default_settings = dict(\n",
    "   # Image Preparation and Background \n",
    "   center_x=1110, center_y=1314, width=800, height=800, \n",
    "   subsample=3, rotate=0, bg_width=20, bg_order=1, bad_light=0,\n",
    "\n",
    "   # Physical Parameters\n",
    "   Isat=77, time=10, pixel=0.7e-6, sigmaf=0.5, trap_f=23.9,\n",
    "   od_method='table', fudge=1, ellipticity=1,\n",
    "   \n",
    "   # Hybrid Preparation\n",
    "   xsec_extension='default', xsec_slice_width=4, \n",
    "   xsec_fit_range=1.75, radial_selection=0.5,\n",
    "   \n",
    "   # Hybrid Thermometry\n",
    "   kind='unitary', Tfit_lim=0.06, Tfit_guess_kT=3, Tfit_guess_mu0=0, \n",
    "   \n",
    "   # Other\n",
    "   memory_saver=True, )\n",
    "\n",
    "fontsize = 15"
   ]
  },
  {
   "cell_type": "code",
   "execution_count": 3,
   "metadata": {
    "code_folding": [
     0
    ],
    "collapsed": true
   },
   "outputs": [],
   "source": [
    "# Function \n",
    "def movie_pad(data, xpad=True, ypad=True, xshift=False, yshift=False):\n",
    "    x, y, z = data\n",
    "    if xpad: x = np.concatenate([x, [x[-1] + np.diff(x)[-1]]])\n",
    "    if ypad: y = np.concatenate([y, [y[-1] + np.diff(y)[-1]]])\n",
    "    return (x, y, z)\n",
    "@np.vectorize\n",
    "def fix_amp_phase(amp, phase):\n",
    "    if amp < 0: \n",
    "        amp = -amp\n",
    "        phase = phase + np.pi\n",
    "    phase = phase % (2*np.pi)\n",
    "    return amp, phase"
   ]
  },
  {
   "cell_type": "code",
   "execution_count": 4,
   "metadata": {
    "code_folding": [
     0
    ],
    "collapsed": true
   },
   "outputs": [],
   "source": [
    "# Fermi Gas Classes \n",
    "\n",
    "# Import statements and useful functions \n",
    "import numpy as np\n",
    "import pandas as pd\n",
    "import therpy as tp\n",
    "import scipy.optimize\n",
    "import scipy.interpolate\n",
    "import os.path\n",
    "import os\n",
    "import urllib.request\n",
    "\n",
    "###### Parameters\n",
    "cst_FG = tp.cst()\n",
    "cst_FG.c1 = ((cst_FG.twopi * cst_FG.hbar**2)/(cst_FG.mass))**(1/2)\n",
    "cst_FG.c2 = 1.0/(6*cst_FG.pi**2) * (2*cst_FG.mass/cst_FG.hbar**2)**(3/2)\n",
    "cst_FG.virial_coef = [1.0, 3.0*2**(1/2)/8, -0.29095295, 0.065]\n",
    "cst_FG.Critical_Temperature_TF = 0.17\n",
    "cst_FG.xi = 0.37\n",
    "cst_FG.xi_n = 0.45\n",
    "def thermal_wavelength(kT):\n",
    "    return cst_FG.c1 / (kT)**(1/2)\n",
    "###### Ideal Gas\n",
    "@np.vectorize\n",
    "def density_ideal(kT, mu):\n",
    "    if kT == 0:\n",
    "        if mu <= 0:\n",
    "            print('Density is undefined for negative mu and zero temperature')\n",
    "            return 0.0\n",
    "        return cst_FG.c2 * (mu)**(3/2)\n",
    "    return thermal_wavelength(kT)**(-3) * tp.FermiFunction(m=3/2, logz=mu/kT)\n",
    "@np.vectorize\n",
    "def pressure_ideal(kT, mu):\n",
    "    if kT == 0:\n",
    "        return 2/5*density_ideal(0, mu)*mu\n",
    "    return kT/thermal_wavelength(kT)**3 * tp.FermiFunction(m=5/2, logz=mu/kT)\n",
    "@np.vectorize\n",
    "def TTF_to_betamu_ideal(TTF, a=-10000, b=100):\n",
    "    if TTF <= 0.01: return 1/TTF # Zero T approximation\n",
    "    def minimizer(mu): return TTF - (cst_FG.h / cst_FG.n2EF(density_ideal(cst_FG.h, mu*cst_FG.h))) # Fix kT to 1 Hz and find mu in Hz (=betamu)\n",
    "    return scipy.optimize.brentq(minimizer, a, b)   \n",
    "@np.vectorize\n",
    "def entropy_NkB_ideal(kT, mu):\n",
    "    if kT == 0: return 0.0\n",
    "    return (5/2 * tp.FermiFunction(m=5/2, logz=mu/kT) / tp.FermiFunction(m=3/2, logz=mu/kT)) - mu/kT\n",
    "@np.vectorize\n",
    "def entropy_NkB_TTF_ideal(TTF):\n",
    "    if TTF == 0: return 0.0\n",
    "    return entropy_NkB_ideal(cst_FG.h, TTF_to_betamu_ideal(TTF) * cst_FG.h)\n",
    "###### Virial Gas\n",
    "@np.vectorize\n",
    "def density_virial(kT, mu):\n",
    "    if kT == 0:\n",
    "        return 0.0\n",
    "    return kT / thermal_wavelength(kT)**3 * (cst_FG.virial_coef[0]*1/kT*np.exp(1*mu/kT) + cst_FG.virial_coef[1]*2/kT*np.exp(2*mu/kT) + cst_FG.virial_coef[2]*3/kT*np.exp(3*mu/kT) + cst_FG.virial_coef[3]*4/kT*np.exp(4*mu/kT) )\n",
    "@np.vectorize\n",
    "def pressure_virial(kT, mu):\n",
    "    if kT == 0:\n",
    "        return 0.0\n",
    "    return kT / thermal_wavelength(kT)**3 * (cst_FG.virial_coef[0]*np.exp(1*mu/kT) + cst_FG.virial_coef[1]*np.exp(2*mu/kT) + cst_FG.virial_coef[2]*np.exp(3*mu/kT) + cst_FG.virial_coef[3]*np.exp(4*mu/kT) )\n",
    "\n",
    "# Ideal Fermi Gas definition \n",
    "'''\n",
    "Ideal Fermi Gas\n",
    "    - functions to relate various Thermodynamic quantities\n",
    "\n",
    "Methods\n",
    "    - thermal_wavelength\n",
    "    - density\n",
    "    - pressure\n",
    "    - TTF_to_betamu\n",
    "    - entropy_NkB\n",
    "    - entropy_NkB_TTF\n",
    "\n",
    "Dataframe contains links between. Note that E = 3/2 PV\n",
    "    - T/T_F\n",
    "    - mu/E_F\n",
    "    - P/P0 = E/E0\n",
    "    - k/k0\n",
    "    - Cv/Nk\n",
    "    - S/Nk\n",
    "'''\n",
    "class Ideal_Fermi_Gas:\n",
    "    def __init__(self, pts=1000, TTF_max = 200, TTF_min=0.05):\n",
    "        # Define dataframe for fast computation\n",
    "        kT = 1 * cst_FG.h\n",
    "        mu = np.concatenate([np.linspace(self.TTF_to_betamu(TTF_max), 5, pts//10*9)[:-1], np.linspace(5, self.TTF_to_betamu(TTF_min), pts//10)]) * cst_FG.h\n",
    "        n = self.density(kT, mu)\n",
    "        P = self.pressure(kT, mu)\n",
    "        EF = cst_FG.n2EF(n)\n",
    "        P0 = self.pressure(0, EF)\n",
    "        c1 = tp.Curve(x=mu, y=EF)\n",
    "        df_ideal = pd.DataFrame(data=dict(betamu=mu/kT))\n",
    "        df_ideal['T/T_F'] = kT / EF\n",
    "        df_ideal['mu/E_F'] = mu / EF\n",
    "        df_ideal['P/P0'] = P / P0\n",
    "        df_ideal['k/k0'] = c1.diff(method='central2').y\n",
    "        df_ideal['Cv/Nk'] = 3/2 * 1/df_ideal['T/T_F'] * (df_ideal['P/P0'] - 1/df_ideal['k/k0'])\n",
    "        df_ideal['S/Nk'] = 1/df_ideal['T/T_F'] * (df_ideal['P/P0'] - df_ideal['mu/E_F'])\n",
    "        self.df = df_ideal\n",
    "    \n",
    "    # Various functions\n",
    "    def thermal_wavelength(self, kT): return thermal_wavelength(kT)\n",
    "    def density(self, kT, mu): return density_ideal(kT, mu)\n",
    "    def pressure(self, kT, mu): return pressure_ideal(kT, mu)\n",
    "    def TTF_to_betamu(self, TTF, a=-10000, b=100): return TTF_to_betamu_ideal(TTF, a, b)\n",
    "    def entropy_NkB(self, kT, mu): return entropy_NkB_ideal(kT, mu)\n",
    "    def entropy_NkB_TTF(self, TTF): return entropy_NkB_TTF_ideal(TTF)\n",
    "\n",
    "# Virial Fermi Gas Definition \n",
    "'''\n",
    "Fermi Gas, Virial Expansion\n",
    "'''\n",
    "class Virial_Fermi_Gas:\n",
    "    def __init__(self, TTF_max = 200, TTF_min=0.5):\n",
    "        # Generate dataframe\n",
    "        kT = 1 * cst_FG.h\n",
    "        mu = np.linspace(TTF_to_betamu_ideal(TTF_max), TTF_to_betamu_ideal(TTF_min), 10000) * cst_FG.h\n",
    "        n = self.density(kT, mu)\n",
    "        P = self.pressure(kT, mu)\n",
    "        EF = cst_FG.n2EF(n)\n",
    "        P0 = pressure_ideal(0, EF)\n",
    "        c1 = tp.Curve(x=mu, y=EF)\n",
    "        df_virial = pd.DataFrame(data=dict(betamu=mu/kT))\n",
    "        df_virial['T/T_F'] = kT / EF\n",
    "        df_virial['mu/E_F'] = mu / EF\n",
    "        df_virial['P/P0'] = P / P0\n",
    "        df_virial['k/k0'] = c1.diff(method='central2').y\n",
    "        df_virial['Cv/Nk'] = 3/2 * 1/df_virial['T/T_F'] * (df_virial['P/P0'] - 1/df_virial['k/k0'])\n",
    "        self.df = df_virial\n",
    "        \n",
    "    # Various functions\n",
    "    def thermal_wavelength(self, kT): return thermal_wavelength(kT)\n",
    "    def density(self, kT, mu): return density_virial(kT, mu)\n",
    "    def pressure(self, kT, mu): return pressure_virial(kT, mu)\n",
    "    \n",
    "\n",
    "# Unitary Fermi Gas using Mark's EoS \n",
    "'''\n",
    "Mark's equation of state\n",
    "'''\n",
    "class Unitary_Fermi_Gas: \n",
    "    def __init__(self,):\n",
    "        # Download the data if not already\n",
    "        p_ = tp.getpath('Projects','Data','EoS','UnitaryFermiGasExperiment_kPEoS.csv')\n",
    "        if not os.path.isfile(p_):\n",
    "            print(\"Downloading Database -- Might take some time!\")\n",
    "            url = 'https://www.dropbox.com/s/8irmfrn2zdvfgba/UnitaryFermiGasExperiment_kPEoS.csv?dl=1'\n",
    "            u = urllib.request.urlopen(url)\n",
    "            data = u.read()\n",
    "            u.close()\n",
    "            # Create folder\n",
    "            os.makedirs(os.path.split(p_)[0], exist_ok=True)\n",
    "            with open(p_, \"wb\") as f :\n",
    "                f.write(data)\n",
    "        \n",
    "        # Load Data\n",
    "        self.df = pd.read_csv(p_)\n",
    "        \n",
    "        # Interpolated Density Data\n",
    "        x = np.array(self.df['T/T_F'])\n",
    "        y = np.array(self.df['mu/E_F'])\n",
    "        VFG = Virial_Fermi_Gas()\n",
    "        c = tp.Curve(x = np.array(VFG.df['T/T_F']), y = np.array(VFG.df['mu/E_F'])).sortbyx().trim(xlim=[np.max(x),np.max(x)+0.1])\n",
    "        muEF_curve = tp.Curve(x = np.concatenate([[0], x, c.x]), y = np.concatenate([[cst_FG.xi], y, c.y]))\n",
    "        TTF = np.linspace(0, muEF_curve.maxx, 10000)\n",
    "        muEF = muEF_curve(TTF)\n",
    "        c_muEF_extension = tp.Curve(TTF, muEF)\n",
    "        density_c_low = scipy.interpolate.interp1d(x = TTF / muEF, y = muEF)\n",
    "        density_c_high = scipy.interpolate.interp1d(x = muEF[1:] / TTF[1:], y = muEF[1:])\n",
    "        self.density_c_low = density_c_low\n",
    "        self.density_c_high = density_c_high\n",
    "        self.density = np.vectorize(self.density_single)\n",
    "        \n",
    "        # Interpolated Energy Data\n",
    "        IFG = Ideal_Fermi_Gas()\n",
    "        c1 = tp.Curve(np.array(self.df['T/T_F']), np.array(self.df['E/E0'])) # Mark EoS E/E0 vs T/T_F\n",
    "        c2 = tp.Curve(np.array(IFG.df['T/T_F']), np.array(IFG.df['P/P0'])).trim(xlim=[c1.maxx + 0.2, np.inf]) # Ideal Fermi Gas E/E0 = P/P0 vs T/T_F, from end of Mark EoS to end with some padding for smooth transition\n",
    "        energy_c = scipy.interpolate.interp1d(x = np.concatenate([[0], c1.x, c2.x]), y = np.concatenate([[cst_FG.xi], c1.y, c2.y+(cst_FG.xi_n-1)]))\n",
    "        self.energy_c = energy_c\n",
    "        self.IFG = IFG\n",
    "        self.E_E0 = np.vectorize(self.E_E0_single)\n",
    "        \n",
    "    # Various functions\n",
    "    def density_single(self, kT, mu):\n",
    "        # Zero T\n",
    "        if kT == 0:\n",
    "            return cst_FG.EF2n(mu/cst_FG.xi, neg=True)\n",
    "        if mu/kT > 4:\n",
    "            return cst_FG.EF2n(mu / self.density_c_low(kT/mu), neg=True)\n",
    "        if mu/kT > -0.5:\n",
    "            return cst_FG.EF2n(mu / self.density_c_high(mu/kT), neg=True)\n",
    "        return density_virial(kT, mu)\n",
    "    \n",
    "    def density_hybrid(self, z, kT, mu, trapf=23.35):\n",
    "        return self.density(kT, mu - 1/2 * cst_FG.mass * (2*np.pi*trapf)**2 * z**2)\n",
    "    \n",
    "    def E_E0_single(self, TTF):\n",
    "        if TTF < self.energy_c.x.max():\n",
    "            return self.energy_c(TTF)\n",
    "        else:\n",
    "            # Compute using IFG\n",
    "            # betamu = self.IFG.TTF_to_betamu(TTF)\n",
    "            # return (self.IFG.pressure(cst_FG.h, betamu * cst_FG.h) / self.IFG.pressure(0, betamu * cst_FG.h)) + (cst_FG.xi_n-1)\n",
    "            return self.energy_c.y[-1]\n",
    "\n",
    "# Make objects\n",
    "IFG = Ideal_Fermi_Gas()\n",
    "VFG = Virial_Fermi_Gas()\n",
    "UFG = Unitary_Fermi_Gas()\n",
    "\n",
    "# Special Functions\n",
    "def hybrid_E_N(kT, mu, trapf=23.35, simple=True, nz = None):\n",
    "    u_ = 1/2 * cst_FG.mass * (2*np.pi*trapf)**2\n",
    "    if nz is None:\n",
    "        n_0 = UFG.density(kT, mu)\n",
    "        z_max = 0\n",
    "        while True:\n",
    "            z_max += 50e-6\n",
    "            if UFG.density(kT, mu - u_*z_max**2) <= n_0 / 1e6: break\n",
    "        z = np.linspace(-z_max, z_max, z_max*1e6 * 4)\n",
    "        n = UFG.density(kT, mu - u_* z**2)\n",
    "    else:\n",
    "        z = nz.x\n",
    "        n = nz.y\n",
    "        \n",
    "    if simple: # If simple, then simply return 4 * <U>\n",
    "        return 4 * np.trapz(u_*z**2 * n, z) / np.trapz(n, z)\n",
    "    \n",
    "    # Compute total E_int + U energy\n",
    "    EF = cst_FG.n2EF(n)\n",
    "    TTF = kT / EF\n",
    "    E_N_z = UFG.E_E0(TTF) * 3/5 * EF\n",
    "    E_N = (np.trapz(E_N_z * n, z) + np.trapz(u_*z**2 * n, z)) / np.trapz(n, z)\n",
    "    return E_N\n",
    "\n",
    "# Special Functions\n",
    "def hybrid_total_atoms(kT, mu, trapf=23.35, cross_section=np.pi*(58e-6)**2):\n",
    "    u_ = 1/2 * cst_FG.mass * (2*np.pi*trapf)**2\n",
    "    n_0 = UFG.density(kT, mu)\n",
    "    z_max = 0\n",
    "    while True:\n",
    "        z_max += 50e-6\n",
    "        if UFG.density(kT, mu - u_*z_max**2) <= n_0 / 1e6: break\n",
    "    z = np.linspace(-z_max, z_max, z_max*1e6 * 4)\n",
    "    n = UFG.density(kT, mu - u_* z**2)\n",
    "    N = np.trapz(n, z) * cross_section\n",
    "    return N"
   ]
  },
  {
   "cell_type": "markdown",
   "metadata": {},
   "source": [
    "# Load Data from Images"
   ]
  },
  {
   "cell_type": "code",
   "execution_count": 12,
   "metadata": {
    "collapsed": true
   },
   "outputs": [],
   "source": [
    "df_all = pd.DataFrame()"
   ]
  },
  {
   "cell_type": "code",
   "execution_count": 13,
   "metadata": {
    "code_folding": [],
    "collapsed": true
   },
   "outputs": [],
   "source": [
    "# Relevant Parameters \n",
    "x_var_name = ['BoxShakeFreq', 'BoxShakeAmp', 'ShakingCycles', \n",
    "              'HeatCycles', 'BoxShakeTime2', 'ShakeWait']\n",
    "x_var_label = [r'$\\nu$ (Hz)', 'Amplitude (V)', 'Cycles (#)',\n",
    "               'Heat Cycles (#)', 'Time (ms)', 'Time (ms)']\n",
    "usei = 4\n",
    "x_var_name, x_var_label = x_var_name[usei], x_var_label[usei]\n",
    "image_use = 'A'"
   ]
  },
  {
   "cell_type": "code",
   "execution_count": 14,
   "metadata": {
    "code_folding": [
     0
    ],
    "scrolled": false
   },
   "outputs": [
    {
     "data": {
      "application/vnd.jupyter.widget-view+json": {
       "model_id": "22b004b4335f4f2789f66627d6cf5133",
       "version_major": 2,
       "version_minor": 0
      },
      "text/html": [
       "<p>Failed to display Jupyter Widget of type <code>HBox</code>.</p>\n",
       "<p>\n",
       "  If you're reading this message in Jupyter Notebook or JupyterLab, it may mean\n",
       "  that the widgets JavaScript is still loading. If this message persists, it\n",
       "  likely means that the widgets JavaScript library is either not installed or\n",
       "  not enabled. See the <a href=\"https://ipywidgets.readthedocs.io/en/stable/user_install.html\">Jupyter\n",
       "  Widgets Documentation</a> for setup instructions.\n",
       "</p>\n",
       "<p>\n",
       "  If you're reading this message in another notebook frontend (for example, a static\n",
       "  rendering on GitHub or <a href=\"https://nbviewer.jupyter.org/\">NBViewer</a>),\n",
       "  it may mean that your frontend doesn't currently support widgets.\n",
       "</p>\n"
      ],
      "text/plain": [
       "HBox(children=(IntProgress(value=0, max=149), HTML(value='')))"
      ]
     },
     "metadata": {},
     "output_type": "display_data"
    },
    {
     "name": "stdout",
     "output_type": "stream",
     "text": [
      "\n",
      "Total Number of Shots 78, Images 78\n"
     ]
    },
    {
     "data": {
      "text/html": [
       "<div>\n",
       "<style>\n",
       "    .dataframe thead tr:only-child th {\n",
       "        text-align: right;\n",
       "    }\n",
       "\n",
       "    .dataframe thead th {\n",
       "        text-align: left;\n",
       "    }\n",
       "\n",
       "    .dataframe tbody tr th {\n",
       "        vertical-align: top;\n",
       "    }\n",
       "</style>\n",
       "<table border=\"1\" class=\"dataframe\">\n",
       "  <thead>\n",
       "    <tr style=\"text-align: right;\">\n",
       "      <th></th>\n",
       "      <th>time</th>\n",
       "      <th>image</th>\n",
       "      <th>A</th>\n",
       "      <th>B</th>\n",
       "      <th>S</th>\n",
       "      <th>download</th>\n",
       "      <th>ExpansionTime</th>\n",
       "      <th>SideGreenEvap</th>\n",
       "      <th>WaitBox</th>\n",
       "      <th>IREvap</th>\n",
       "      <th>...</th>\n",
       "      <th>ShakingCycles</th>\n",
       "      <th>BoxShakeFreq</th>\n",
       "      <th>BoxShakeAmp</th>\n",
       "      <th>BoxShakeTime</th>\n",
       "      <th>ShakingCycles2</th>\n",
       "      <th>BoxShakeFreq2</th>\n",
       "      <th>BoxShakeTime2</th>\n",
       "      <th>BoxShakeAmp2</th>\n",
       "      <th>SeqMode</th>\n",
       "      <th>x</th>\n",
       "    </tr>\n",
       "    <tr>\n",
       "      <th>name</th>\n",
       "      <th></th>\n",
       "      <th></th>\n",
       "      <th></th>\n",
       "      <th></th>\n",
       "      <th></th>\n",
       "      <th></th>\n",
       "      <th></th>\n",
       "      <th></th>\n",
       "      <th></th>\n",
       "      <th></th>\n",
       "      <th></th>\n",
       "      <th></th>\n",
       "      <th></th>\n",
       "      <th></th>\n",
       "      <th></th>\n",
       "      <th></th>\n",
       "      <th></th>\n",
       "      <th></th>\n",
       "      <th></th>\n",
       "      <th></th>\n",
       "      <th></th>\n",
       "    </tr>\n",
       "  </thead>\n",
       "  <tbody>\n",
       "    <tr>\n",
       "      <th>08-25-2017_21_35_48_TopA</th>\n",
       "      <td>0</td>\n",
       "      <td>Image object</td>\n",
       "      <td>True</td>\n",
       "      <td>False</td>\n",
       "      <td>False</td>\n",
       "      <td>True</td>\n",
       "      <td>2000.0</td>\n",
       "      <td>0.35</td>\n",
       "      <td>0.5</td>\n",
       "      <td>0.5</td>\n",
       "      <td>...</td>\n",
       "      <td>0.0</td>\n",
       "      <td>150.0</td>\n",
       "      <td>0.0</td>\n",
       "      <td>0.0</td>\n",
       "      <td>0.0</td>\n",
       "      <td>300.0</td>\n",
       "      <td>0.0</td>\n",
       "      <td>0.4</td>\n",
       "      <td>None</td>\n",
       "      <td>0.0</td>\n",
       "    </tr>\n",
       "    <tr>\n",
       "      <th>08-25-2017_21_36_42_TopA</th>\n",
       "      <td>0.9</td>\n",
       "      <td>Image object</td>\n",
       "      <td>True</td>\n",
       "      <td>False</td>\n",
       "      <td>False</td>\n",
       "      <td>True</td>\n",
       "      <td>2000.0</td>\n",
       "      <td>0.35</td>\n",
       "      <td>0.5</td>\n",
       "      <td>0.5</td>\n",
       "      <td>...</td>\n",
       "      <td>0.0</td>\n",
       "      <td>150.0</td>\n",
       "      <td>0.0</td>\n",
       "      <td>0.0</td>\n",
       "      <td>0.0</td>\n",
       "      <td>300.0</td>\n",
       "      <td>0.0</td>\n",
       "      <td>0.4</td>\n",
       "      <td>None</td>\n",
       "      <td>0.0</td>\n",
       "    </tr>\n",
       "    <tr>\n",
       "      <th>08-25-2017_21_37_36_TopA</th>\n",
       "      <td>1.8</td>\n",
       "      <td>Image object</td>\n",
       "      <td>True</td>\n",
       "      <td>False</td>\n",
       "      <td>False</td>\n",
       "      <td>True</td>\n",
       "      <td>2000.0</td>\n",
       "      <td>0.35</td>\n",
       "      <td>0.5</td>\n",
       "      <td>0.5</td>\n",
       "      <td>...</td>\n",
       "      <td>0.0</td>\n",
       "      <td>150.0</td>\n",
       "      <td>0.0</td>\n",
       "      <td>0.0</td>\n",
       "      <td>0.0</td>\n",
       "      <td>300.0</td>\n",
       "      <td>0.0</td>\n",
       "      <td>0.4</td>\n",
       "      <td>None</td>\n",
       "      <td>0.0</td>\n",
       "    </tr>\n",
       "  </tbody>\n",
       "</table>\n",
       "<p>3 rows × 23 columns</p>\n",
       "</div>"
      ],
      "text/plain": [
       "                         time         image     A      B      S  download  \\\n",
       "name                                                                        \n",
       "08-25-2017_21_35_48_TopA    0  Image object  True  False  False      True   \n",
       "08-25-2017_21_36_42_TopA  0.9  Image object  True  False  False      True   \n",
       "08-25-2017_21_37_36_TopA  1.8  Image object  True  False  False      True   \n",
       "\n",
       "                          ExpansionTime  SideGreenEvap  WaitBox  IREvap ...   \\\n",
       "name                                                                    ...    \n",
       "08-25-2017_21_35_48_TopA         2000.0           0.35      0.5     0.5 ...    \n",
       "08-25-2017_21_36_42_TopA         2000.0           0.35      0.5     0.5 ...    \n",
       "08-25-2017_21_37_36_TopA         2000.0           0.35      0.5     0.5 ...    \n",
       "\n",
       "                          ShakingCycles  BoxShakeFreq  BoxShakeAmp  \\\n",
       "name                                                                 \n",
       "08-25-2017_21_35_48_TopA            0.0         150.0          0.0   \n",
       "08-25-2017_21_36_42_TopA            0.0         150.0          0.0   \n",
       "08-25-2017_21_37_36_TopA            0.0         150.0          0.0   \n",
       "\n",
       "                          BoxShakeTime  ShakingCycles2  BoxShakeFreq2  \\\n",
       "name                                                                    \n",
       "08-25-2017_21_35_48_TopA           0.0             0.0          300.0   \n",
       "08-25-2017_21_36_42_TopA           0.0             0.0          300.0   \n",
       "08-25-2017_21_37_36_TopA           0.0             0.0          300.0   \n",
       "\n",
       "                          BoxShakeTime2  BoxShakeAmp2  SeqMode    x  \n",
       "name                                                                 \n",
       "08-25-2017_21_35_48_TopA            0.0           0.4     None  0.0  \n",
       "08-25-2017_21_36_42_TopA            0.0           0.4     None  0.0  \n",
       "08-25-2017_21_37_36_TopA            0.0           0.4     None  0.0  \n",
       "\n",
       "[3 rows x 23 columns]"
      ]
     },
     "metadata": {},
     "output_type": "display_data"
    }
   ],
   "source": [
    "# Import from Clipboard \n",
    "df_all = tp.images_from_clipboard(df=df_all, x=x_var_name, params=import_params, \n",
    "                                  image_func=tp.Hybrid_Image, download=image_use, display=True)"
   ]
  },
  {
   "cell_type": "code",
   "execution_count": null,
   "metadata": {
    "collapsed": true
   },
   "outputs": [],
   "source": []
  },
  {
   "cell_type": "markdown",
   "metadata": {},
   "source": [
    "## Bunch of calculations"
   ]
  },
  {
   "cell_type": "code",
   "execution_count": 11,
   "metadata": {
    "code_folding": [],
    "collapsed": true
   },
   "outputs": [],
   "source": [
    "# Define Settings \n",
    "settings = {**default_settings, \n",
    "            **dict(center_x = 1120, center_y = 1280, fudge=1.75, width=800, height=800, subsample=3, \n",
    "                  xsec_extension='linear', xsec_slice_width=3, xsec_fit_range=1.1, radial_selection=0.9,)}\n",
    "\n",
    "# settings = {**default_settings, \n",
    "#             **dict(center_x = 1160, center_y = 1380, fudge=1.75, width=800, height=800, subsample=3, \n",
    "#                   xsec_extension='linear', xsec_slice_width=3, xsec_fit_range=1.1, radial_selection=0.9,)}\n",
    "\n",
    "# settings = {**default_settings, \n",
    "#             **dict(center_x = 1183, center_y = 1373, fudge=1.75, width=800, height=800, subsample=3, \n",
    "#                   xsec_extension='linear', xsec_slice_width=3, xsec_fit_range=1.1, radial_selection=0.9,)}"
   ]
  },
  {
   "cell_type": "code",
   "execution_count": 12,
   "metadata": {
    "code_folding": [],
    "scrolled": false
   },
   "outputs": [
    {
     "data": {
      "application/vnd.jupyter.widget-view+json": {
       "model_id": "f887e1d732994d07aa2262b43569a6d1",
       "version_major": 2,
       "version_minor": 0
      },
      "text/html": [
       "<p>Failed to display Jupyter Widget of type <code>interactive</code>.</p>\n",
       "<p>\n",
       "  If you're reading this message in Jupyter Notebook or JupyterLab, it may mean\n",
       "  that the widgets JavaScript is still loading. If this message persists, it\n",
       "  likely means that the widgets JavaScript library is either not installed or\n",
       "  not enabled. See the <a href=\"https://ipywidgets.readthedocs.io/en/stable/user_install.html\">Jupyter\n",
       "  Widgets Documentation</a> for setup instructions.\n",
       "</p>\n",
       "<p>\n",
       "  If you're reading this message in another notebook frontend (for example, a static\n",
       "  rendering on GitHub or <a href=\"https://nbviewer.jupyter.org/\">NBViewer</a>),\n",
       "  it may mean that your frontend doesn't currently support widgets.\n",
       "</p>\n"
      ],
      "text/plain": [
       "interactive(children=(IntSlider(value=27, description='test', max=91), Output()), _dom_classes=('widget-interact',))"
      ]
     },
     "metadata": {},
     "output_type": "display_data"
    }
   ],
   "source": [
    "# Verify Settings \n",
    "\n",
    "# Apply to all Images \n",
    "for n,r in df_all.iterrows(): r.image.set(**settings)\n",
    "    \n",
    "# Function to plot the restults \n",
    "def temp(test=np.random.randint(0, df_all.shape[0])):\n",
    "    r = df_all.iloc[test]\n",
    "    ax = plt.subplots(nrows=2, ncols=2, figsize=[10,8])[1].flatten()\n",
    "    r.image.plot_crop(ax=ax[0:2])\n",
    "    r.image.xsec.infoplot(axs=ax[2:4])\n",
    "    plt.tight_layout()\n",
    "    plt.show()\n",
    "\n",
    "if df_all.shape[0] == 1: temp(0)\n",
    "else: ipywidgets.interact(temp, test=(0, df_all.shape[0]-1))"
   ]
  },
  {
   "cell_type": "code",
   "execution_count": 13,
   "metadata": {
    "code_folding": [
     0
    ]
   },
   "outputs": [
    {
     "data": {
      "application/vnd.jupyter.widget-view+json": {
       "model_id": "69c10d81b32b4df98ccf4580b177b651",
       "version_major": 2,
       "version_minor": 0
      },
      "text/html": [
       "<p>Failed to display Jupyter Widget of type <code>Checkbox</code>.</p>\n",
       "<p>\n",
       "  If you're reading this message in Jupyter Notebook or JupyterLab, it may mean\n",
       "  that the widgets JavaScript is still loading. If this message persists, it\n",
       "  likely means that the widgets JavaScript library is either not installed or\n",
       "  not enabled. See the <a href=\"https://ipywidgets.readthedocs.io/en/stable/user_install.html\">Jupyter\n",
       "  Widgets Documentation</a> for setup instructions.\n",
       "</p>\n",
       "<p>\n",
       "  If you're reading this message in another notebook frontend (for example, a static\n",
       "  rendering on GitHub or <a href=\"https://nbviewer.jupyter.org/\">NBViewer</a>),\n",
       "  it may mean that your frontend doesn't currently support widgets.\n",
       "</p>\n"
      ],
      "text/plain": [
       "Checkbox(value=True, description='Save Figs')"
      ]
     },
     "metadata": {},
     "output_type": "display_data"
    },
    {
     "data": {
      "text/plain": [
       "'05-17-2017_18_10_BoxShaking/'"
      ]
     },
     "execution_count": 13,
     "metadata": {},
     "output_type": "execute_result"
    }
   ],
   "source": [
    "# Start Saving Folder \n",
    "savefig = ipywidgets.Checkbox(value=True, description='Save Figs')\n",
    "display(savefig)\n",
    "folder_name = df_all.iloc[0].name[0:17] + 'BoxShaking'\n",
    "suffix = os.path.join(folder_name, '')\n",
    "os.makedirs(folder_name, exist_ok=True)\n",
    "suffix_samples = os.path.join(folder_name, 'Samples','')\n",
    "os.makedirs(os.path.join(folder_name, 'Samples'), exist_ok=True)\n",
    "suffix"
   ]
  },
  {
   "cell_type": "code",
   "execution_count": 14,
   "metadata": {
    "code_folding": [
     0
    ],
    "collapsed": true
   },
   "outputs": [],
   "source": [
    "# Define backgrounds \n",
    "background_parameter = 'ShakingCycles'\n",
    "background_value = 0\n",
    "df_all['bg'] = df_all[background_parameter] == background_value"
   ]
  },
  {
   "cell_type": "code",
   "execution_count": 60,
   "metadata": {
    "code_folding": []
   },
   "outputs": [
    {
     "data": {
      "application/vnd.jupyter.widget-view+json": {
       "model_id": "947ecdf044f444c9b70804d0c9ef8c89",
       "version_major": 2,
       "version_minor": 0
      },
      "text/html": [
       "<p>Failed to display Jupyter Widget of type <code>HBox</code>.</p>\n",
       "<p>\n",
       "  If you're reading this message in Jupyter Notebook or JupyterLab, it may mean\n",
       "  that the widgets JavaScript is still loading. If this message persists, it\n",
       "  likely means that the widgets JavaScript library is either not installed or\n",
       "  not enabled. See the <a href=\"https://ipywidgets.readthedocs.io/en/stable/user_install.html\">Jupyter\n",
       "  Widgets Documentation</a> for setup instructions.\n",
       "</p>\n",
       "<p>\n",
       "  If you're reading this message in another notebook frontend (for example, a static\n",
       "  rendering on GitHub or <a href=\"https://nbviewer.jupyter.org/\">NBViewer</a>),\n",
       "  it may mean that your frontend doesn't currently support widgets.\n",
       "</p>\n"
      ],
      "text/plain": [
       "HBox(children=(IntProgress(value=0, max=92), HTML(value='')))"
      ]
     },
     "metadata": {},
     "output_type": "display_data"
    },
    {
     "name": "stdout",
     "output_type": "stream",
     "text": [
      "\n",
      "Total Images 92 ==> Good 53, Bad 39\n"
     ]
    },
    {
     "data": {
      "image/png": "[encoded data removed]",
      "text/plain": [
       "<matplotlib.figure.Figure at 0x1a230bdcf8>"
      ]
     },
     "metadata": {},
     "output_type": "display_data"
    }
   ],
   "source": [
    "# Atom Number Filter \n",
    "df_all['total_atoms'] = [im.total_atoms for im in tqdm(df_all.image)]\n",
    "ax = tp.atom_num_filter(df=df_all, keep=0.07, offset=0.0, display=True, plot=True)\n",
    "# ax[0].set(ylim=[0.3,None])\n",
    "ax[0].plot(df_all.loc[df_all['bg'], 'time'], df_all.loc[df_all['bg'], 'total_atoms']/1e6, 'r.')\n",
    "if savefig.value: plt.savefig(suffix + 'AtomNumbersScatter.pdf')\n",
    "df = df_all[df_all.use]"
   ]
  },
  {
   "cell_type": "code",
   "execution_count": 61,
   "metadata": {
    "code_folding": [
     0
    ]
   },
   "outputs": [
    {
     "name": "stdout",
     "output_type": "stream",
     "text": [
      "[  0.00000000e+00   1.00000000e-03   7.50000000e-01   1.50000000e+00\n",
      "   3.75000000e+00   6.00000000e+00   7.50000000e+00   8.25000000e+00\n",
      "   9.00000000e+00   9.75000000e+00   1.05000000e+01   1.12500000e+01\n",
      "   1.20000000e+01   1.35000000e+01   1.42500000e+01   1.50000000e+01\n",
      "   1.57500000e+01   1.65000000e+01   1.80000000e+01   1.87500000e+01\n",
      "   2.02500000e+01   2.10000000e+01   2.25000000e+01   2.32500000e+01\n",
      "   2.47500000e+01   2.55000000e+01   2.62500000e+01   2.70000000e+01\n",
      "   2.77500000e+01   2.85000000e+01   3.22500000e+01   3.30000000e+01\n",
      "   3.60000000e+01   3.67500000e+01   3.75000000e+01   3.82500000e+01\n",
      "   3.90000000e+01   3.97500000e+01]\n"
     ]
    },
    {
     "data": {
      "image/png": "[encoded data removed]",
      "text/plain": [
       "<matplotlib.figure.Figure at 0x1a22521080>"
      ]
     },
     "metadata": {},
     "output_type": "display_data"
    },
    {
     "data": {
      "image/png": "[encoded data removed]",
      "text/plain": [
       "<matplotlib.figure.Figure at 0x1a222e2e48>"
      ]
     },
     "metadata": {},
     "output_type": "display_data"
    }
   ],
   "source": [
    "# Dataset Explorer \n",
    "def dataset_counter(df, bg_param='bg', bg_value=True, x='x', plot=False, ax=None, xlabel='x'):\n",
    "    '''\n",
    "    count the occurances of various x data points and bg points \n",
    "    '''\n",
    "    # Count number of images \n",
    "    unique_x = np.unique(df[x])\n",
    "    data_counts = np.array([np.sum(df[x][df[bg_param] != bg_value] == xi) for xi in unique_x])\n",
    "    bg_counts = np.array([np.sum(df[x][df[bg_param] == bg_value] == xi) for xi in unique_x])\n",
    "    dataset_counter = [unique_x, data_counts, bg_counts]\n",
    "    \n",
    "    # Plot\n",
    "    if plot: \n",
    "        ax = plt.subplots(figsize=[15,4])[1] if (ax is None) else ax\n",
    "        width = np.min(np.diff(dataset_counter[0]))*0.75 if (len(dataset_counter[0]) > 1) else 1\n",
    "        ax.bar(dataset_counter[0], dataset_counter[1], width, label='Data')\n",
    "        ax.bar(dataset_counter[0], dataset_counter[2], width, bottom=dataset_counter[1], label='BG')\n",
    "        ax.legend()\n",
    "        ax.set(xlabel = xlabel, ylabel='Shots')\n",
    "        plt.tight_layout()\n",
    "    \n",
    "    return dataset_counter, ax\n",
    "\n",
    "ds_counter, ax = dataset_counter(df=df, plot=True, xlabel=x_var_label)\n",
    "if savefig.value: ax.figure.savefig(suffix + 'DatasetCounter_vsX.pdf')\n",
    "print(np.unique(df.x.values))\n",
    "plt.figure(figsize = [7, 3])\n",
    "plt.plot(df.time, df.x, '.')\n",
    "bgi = df[background_parameter] == background_value\n",
    "plt.plot(df.time[bgi], df.x[bgi], '.')\n",
    "plt.xlabel('time (min)')\n",
    "plt.ylabel(x_var_label)\n",
    "plt.tight_layout()\n",
    "if savefig.value: plt.savefig(suffix + 'DatasetCounter_vsTime.pdf')"
   ]
  },
  {
   "cell_type": "code",
   "execution_count": 62,
   "metadata": {
    "code_folding": [
     0
    ],
    "scrolled": false
   },
   "outputs": [
    {
     "data": {
      "application/vnd.jupyter.widget-view+json": {
       "model_id": "d81bc381dbb74c39b5c5e43f9dec4628",
       "version_major": 2,
       "version_minor": 0
      },
      "text/html": [
       "<p>Failed to display Jupyter Widget of type <code>HBox</code>.</p>\n",
       "<p>\n",
       "  If you're reading this message in Jupyter Notebook or JupyterLab, it may mean\n",
       "  that the widgets JavaScript is still loading. If this message persists, it\n",
       "  likely means that the widgets JavaScript library is either not installed or\n",
       "  not enabled. See the <a href=\"https://ipywidgets.readthedocs.io/en/stable/user_install.html\">Jupyter\n",
       "  Widgets Documentation</a> for setup instructions.\n",
       "</p>\n",
       "<p>\n",
       "  If you're reading this message in another notebook frontend (for example, a static\n",
       "  rendering on GitHub or <a href=\"https://nbviewer.jupyter.org/\">NBViewer</a>),\n",
       "  it may mean that your frontend doesn't currently support widgets.\n",
       "</p>\n"
      ],
      "text/plain": [
       "HBox(children=(IntProgress(value=0, max=53), HTML(value='')))"
      ]
     },
     "metadata": {},
     "output_type": "display_data"
    },
    {
     "name": "stdout",
     "output_type": "stream",
     "text": [
      "\n"
     ]
    },
    {
     "data": {
      "image/png": "[encoded data removed]",
      "text/plain": [
       "<matplotlib.figure.Figure at 0x1a22208978>"
      ]
     },
     "metadata": {},
     "output_type": "display_data"
    }
   ],
   "source": [
    "# Box Length and Center \n",
    "df['nz_raw'] = [im.nz for im in tqdm(df.image)]\n",
    "df['pz_raw'] = [tp.Curve(x = nz.x, y = np.arange(len(nz.x))) for nz in df['nz_raw']]\n",
    "df['xsec_raw'] = [im.xsec for im in df.image]\n",
    "guess_ = [-45e-6, 45e-6, 5e-6, 5e-6]\n",
    "df['box_fit'] = [tp.curve_fit(tp.erf_box, guess_ + [nz.maxy, nz.maxy/1e3], *nz.data, ) for nz in df['nz_raw']]\n",
    "df['length'] = [f[1] - f[0] for f in df['box_fit']]\n",
    "df['top_ypixel'] = [r['pz_raw'](r['box_fit'].fv[1]) for n,r in df.iterrows()]\n",
    "df['top_xpixel'] = [r['xsec_raw'].get_center(r['top_ypixel']) for n,r in df.iterrows()]\n",
    "df['bottom_ypixel'] = [r['pz_raw'](r['box_fit'].fv[0]) for n,r in df.iterrows()]\n",
    "df['bottom_xpixel'] = [r['xsec_raw'].get_center(r['bottom_ypixel']) for n,r in df.iterrows()]\n",
    "df['center_ypixel'] = [r['pz_raw']((r['box_fit'].fv[0] + r['box_fit'].fv[1])/2) for n,r in df.iterrows()]\n",
    "df['center_xpixel'] = [r['xsec_raw'].get_center(r['center_ypixel']) for n,r in df.iterrows()]\n",
    "df['center_radius'] = [r['xsec_raw'].get_radius(r['center_ypixel']) for n,r in df.iterrows()]\n",
    "df['nz_fixed'] = [tp.Curve(x = r.nz_raw.x, y = r.nz_raw.y - r.box_fit(amp=0), xscale=1e-6, yscale=1e18) for n,r in df.iterrows()]\n",
    "# df['nz_integral'] = [np.trapz(c.y, c.x) for c in df['nz_fixed']] # Integrate over all\n",
    "df['nz_integral'] = [np.trapz(c.trim(xlim=[-60e-6, 60e-6]).y, c.trim(xlim=[-60e-6, 60e-6]).x) for c in df['nz_fixed']] # Integrate over [-60, 60]\n",
    "\n",
    "# Plot test \n",
    "ax = plt.subplots(ncols=5, nrows=2, figsize=[15, 6])[1].flatten()\n",
    "bgi = df[background_parameter] == background_value\n",
    "\n",
    "ax[0].plot(df['time'], df['total_atoms']/1e6)\n",
    "ax[1].plot(df['time'], df['length']*1e6)\n",
    "ax[2].plot(df['time'], df['top_ypixel'])\n",
    "ax[3].plot(df['time'], df['top_xpixel'])\n",
    "ax[4].plot(df['time'], df['center_radius'])\n",
    "\n",
    "ax[0].plot(df.loc[bgi, 'time'], df.loc[bgi, 'total_atoms']/1e6, 'r.')\n",
    "ax[1].plot(df.loc[bgi, 'time'], df.loc[bgi, 'length']*1e6, 'r.')\n",
    "ax[2].plot(df.loc[bgi, 'time'], df.loc[bgi, 'top_ypixel'], 'r.')\n",
    "ax[3].plot(df.loc[bgi, 'time'], df.loc[bgi, 'top_xpixel'], 'r.')\n",
    "ax[4].plot(df.loc[bgi, 'time'], df.loc[bgi, 'center_radius'], 'r.')\n",
    "\n",
    "ax[5].plot(df['x'], df['total_atoms']/1e6, '.')\n",
    "ax[6].plot(df['x'], df['length']*1e6, '.')\n",
    "ax[7].plot(df['x'], df['top_ypixel'], '.')\n",
    "ax[8].plot(df['x'], df['top_xpixel'], '.')\n",
    "ax[9].plot(df['x'], df['center_radius'], '.')\n",
    "\n",
    "ax[5].plot(df.loc[bgi, 'x'], df.loc[bgi, 'total_atoms']/1e6, 'r.')\n",
    "ax[6].plot(df.loc[bgi, 'x'], df.loc[bgi, 'length']*1e6, 'r.')\n",
    "ax[7].plot(df.loc[bgi, 'x'], df.loc[bgi, 'top_ypixel'], 'r.')\n",
    "ax[8].plot(df.loc[bgi, 'x'], df.loc[bgi, 'top_xpixel'], 'r.')\n",
    "ax[9].plot(df.loc[bgi, 'x'], df.loc[bgi, 'center_radius'], 'r.')\n",
    "\n",
    "ax[0].set_title('Atom Numbers', fontsize=15)\n",
    "ax[1].set_title('Length', fontsize=15)\n",
    "ax[2].set_title('Top edge y pixel', fontsize=15)\n",
    "ax[3].set_title('Top edge x pixel', fontsize=15)\n",
    "ax[4].set_title('Radius at Center', fontsize=15)\n",
    "ax[0].set_ylabel(r'x == time', fontsize=15)\n",
    "ax[5].set_ylabel(r'x == {}'.format(x_var_label), fontsize=15)\n",
    "\n",
    "plt.tight_layout()\n",
    "\n",
    "if savefig.value: plt.savefig(suffix + 'DatasetQuality.pdf')"
   ]
  },
  {
   "cell_type": "code",
   "execution_count": 63,
   "metadata": {
    "code_folding": [
     0
    ],
    "scrolled": false
   },
   "outputs": [
    {
     "data": {
      "application/vnd.jupyter.widget-view+json": {
       "model_id": "067839055b654d88870f9eb171d1b773",
       "version_major": 2,
       "version_minor": 0
      },
      "text/html": [
       "<p>Failed to display Jupyter Widget of type <code>interactive</code>.</p>\n",
       "<p>\n",
       "  If you're reading this message in Jupyter Notebook or JupyterLab, it may mean\n",
       "  that the widgets JavaScript is still loading. If this message persists, it\n",
       "  likely means that the widgets JavaScript library is either not installed or\n",
       "  not enabled. See the <a href=\"https://ipywidgets.readthedocs.io/en/stable/user_install.html\">Jupyter\n",
       "  Widgets Documentation</a> for setup instructions.\n",
       "</p>\n",
       "<p>\n",
       "  If you're reading this message in another notebook frontend (for example, a static\n",
       "  rendering on GitHub or <a href=\"https://nbviewer.jupyter.org/\">NBViewer</a>),\n",
       "  it may mean that your frontend doesn't currently support widgets.\n",
       "</p>\n"
      ],
      "text/plain": [
       "interactive(children=(IntSlider(value=34, description='test', max=52), Output()), _dom_classes=('widget-interact',))"
      ]
     },
     "metadata": {},
     "output_type": "display_data"
    }
   ],
   "source": [
    "# Test box fit \n",
    "size = 80\n",
    "test = 0\n",
    "def temp(test=np.random.randint(df.shape[0])):\n",
    "    r = df.iloc[test]\n",
    "    roi = tp.get_roi(r.image.app, width=size, height=size)\n",
    "    fig, ax = plt.subplots(ncols=2, figsize=[15, 5])\n",
    "    plt.sca(ax[0])\n",
    "    plt.imshow(r.image.app)\n",
    "    plt.colorbar()\n",
    "    plt.title('Atoms per binned Pixel', fontsize=15)\n",
    "    plt.plot(r.xsec_raw.get_center(r.xsec_raw.z), r.xsec_raw.z, 'w-', alpha=0.5)\n",
    "    plt.plot(r.xsec_raw.get_left(r.xsec_raw.z), r.xsec_raw.z, 'w-', alpha=0.5)\n",
    "    plt.plot(r.xsec_raw.get_right(r.xsec_raw.z), r.xsec_raw.z, 'w-', alpha=0.5)\n",
    "    plt.axhline(r.top_ypixel, c='w', alpha=0.5, linestyle='--')\n",
    "    plt.axhline(r.bottom_ypixel, c='w', alpha=0.5, linestyle='--')\n",
    "    plt.plot([r.top_xpixel, r.bottom_xpixel, r.center_xpixel], [r.top_ypixel, r.bottom_ypixel, r.center_ypixel], 'ow')\n",
    "    ax[0].set(xlim=[roi[1].start, roi[1].stop], ylim=[roi[0].start, roi[0].stop])\n",
    "    ax[1].plot(*r.nz_raw.plotdata)\n",
    "    ax[1].plot(r.box_fit.xp * 1e6, r.box_fit(r.box_fit.xp) / 1e18, alpha=0.8)\n",
    "    ax[1].axvline(r.box_fit[0]*1e6, c='k', linestyle='--',)\n",
    "    ax[1].axvline(r.box_fit[1]*1e6, c='k', linestyle='--',)\n",
    "    ax[1].set(xlim=[-150, 150])\n",
    "    image_kind = 'BG' if r[background_parameter] == background_value else 'Image'\n",
    "    ax[1].set_title('{} : {}; {} = {}'.format(image_kind, r.name, x_var_label, r.x), fontsize=15)\n",
    "    ax[1].set_ylabel(r'$n$ $(\\mu m^{-3})$', fontsize=15)\n",
    "    plt.tight_layout()\n",
    "    if savefig.value: plt.savefig(suffix_samples + 'BoxFitsSamples_{}_{}.pdf'.format(r.x, r.name))\n",
    "    plt.show()\n",
    "if df.shape[0] == 1: temp(0)\n",
    "else: ipywidgets.interact(temp, test=(0, df.shape[0]-1))"
   ]
  },
  {
   "cell_type": "code",
   "execution_count": 64,
   "metadata": {
    "code_folding": [],
    "collapsed": true
   },
   "outputs": [],
   "source": [
    "# IMPORTANT SETTINGS \n",
    "shared_background = True \n",
    "proper_center = 'center' # top or center or bottom or none \n",
    "zero_z = 'center' # where to put the zero for z top, bottom, center "
   ]
  },
  {
   "cell_type": "code",
   "execution_count": 65,
   "metadata": {
    "code_folding": [
     0
    ],
    "collapsed": true
   },
   "outputs": [],
   "source": [
    "# Begin df_data and allocate images \n",
    "threshold_image_num = 1\n",
    "\n",
    "# use dataset with enough images only\n",
    "if shared_background == False:\n",
    "    xlist = [x for i, x in enumerate(ds_counter[0]) \n",
    "             if (ds_counter[1][i] >= threshold_image_num) and (ds_counter[2][i] >= threshold_image_num)]\n",
    "elif shared_background == True:\n",
    "    xlist = [x for i, x in enumerate(ds_counter[0]) \n",
    "             if (ds_counter[1][i] >= threshold_image_num) and ds_counter[2].sum() >= threshold_image_num]\n",
    "df_data = pd.DataFrame(index = xlist)\n",
    "\n",
    "# Compute things \n",
    "df_data['data_ind'] = [(df.x == x) & (~ df['bg']) for x in df_data.index.values]\n",
    "df_data['# data'] = [np.sum(t) for t in df_data['data_ind']]\n",
    "if shared_background:\n",
    "    df_data['bg_ind'] = [df['bg'] for x in df_data.index.values]\n",
    "else:\n",
    "    df_data['bg_ind'] = [df['bg'] & (df.x == x) for x in df_data.index.values]\n",
    "df_data['# bg'] = [np.sum(t) for t in df_data['bg_ind']]\n",
    "df_data['length'] = [np.mean(df.loc[ind,'length']) for ind in df_data['bg_ind']]\n",
    "df_data['freq'] = [df.loc[ind,'BoxShakeFreq'].iloc[0] for ind in df_data['data_ind']]\n",
    "df_data['cycles'] = [df.loc[ind,'ShakingCycles'].iloc[0] for ind in df_data['data_ind']]\n",
    "\n",
    "# Start dict_data \n",
    "dict_data = {}"
   ]
  },
  {
   "cell_type": "code",
   "execution_count": 66,
   "metadata": {
    "code_folding": [
     0
    ],
    "collapsed": true
   },
   "outputs": [],
   "source": [
    "# Calculate proper n(z) for each item in df \n",
    "\n",
    "# calculate proper length and density rescaling factor \n",
    "df['proper_length'] = [np.mean(df.loc[df_data.loc[r.x, 'bg_ind'], 'length']) \n",
    "                       if (r.x in xlist) else np.mean(df.loc[df.bg, 'length']) \n",
    "                       for n,r in df.iterrows()]\n",
    "df['proper_nrescale'] = [np.mean(df.loc[df_data.loc[r.x, 'bg_ind'], 'nz_integral']) / r['nz_integral']\n",
    "                       if (r.x in xlist) else np.mean(df.loc[df.bg, 'nz_integral']) / r['nz_integral']\n",
    "                       for n,r in df.iterrows()]\n",
    "        \n",
    "# where to put zero of z \n",
    "if zero_z == 'bottom': df['subtract_z'] = - df['proper_length'] / 2\n",
    "elif zero_z == 'top': df['subtract_z'] = df['proper_length'] / 2 \n",
    "else: df['subtract_z'] = 0\n",
    "\n",
    "# calculate nz using proper center and zero of z and proper density rescaling \n",
    "default_z = (np.arange(df.iloc[0].nz_raw.x.size) - np.mean(df.loc[df.bg, 'center_ypixel'])) * df.iloc[0].image.pixel_binned\n",
    "if proper_center == 'top':\n",
    "    df['nz'] = [tp.Curve(r.nz_fixed.x - (r.box_fit[1] - r.proper_length/2) - r.subtract_z, \n",
    "                         r.nz_fixed.y * r.proper_nrescale) for n,r in df.iterrows()]\n",
    "elif proper_center == 'bottom':\n",
    "    df['nz'] = [tp.Curve(r.nz_fixed.x - (r.box_fit[0] + r.proper_length/2) - r.subtract_z, \n",
    "                         r.nz_fixed.y * r.proper_nrescale) for n,r in df.iterrows()]\n",
    "elif proper_center == 'center':\n",
    "    df['nz'] = [tp.Curve(r.nz_fixed.x - (r.box_fit[0] + r.box_fit[1])/2 - r.subtract_z, \n",
    "                         r.nz_fixed.y * r.proper_nrescale) for n,r in df.iterrows()]\n",
    "else:\n",
    "    df['nz'] = [tp.Curve(default_z - r.subtract_z, \n",
    "                         r.nz_fixed.y * r.proper_nrescale) for n,r in df.iterrows()]\n",
    "\n"
   ]
  },
  {
   "cell_type": "code",
   "execution_count": 67,
   "metadata": {
    "code_folding": [
     0
    ],
    "collapsed": true
   },
   "outputs": [],
   "source": [
    "# Calculate dn and dn/n \n",
    "def concat_curves(cs):\n",
    "    xs = np.concatenate([c.x for c in cs])\n",
    "    ys = np.concatenate([c.y for c in cs])\n",
    "    c_concat = tp.Curve(xs, ys).sortbyx()\n",
    "    c = c_concat.binbyx(step = np.diff(cs[0].x)[0])\n",
    "    return (c_concat, c)\n",
    "\n",
    "df_data['nz data all'] = [list(df.loc[r.data_ind, 'nz']) for x,r in df_data.iterrows()]\n",
    "df_data['nz bg all'] = [list(df.loc[r.bg_ind, 'nz']) for x,r in df_data.iterrows()]\n",
    "df_data['nz data'] = [concat_curves(cs)[1] for cs in df_data['nz data all']]\n",
    "df_data['nz bg'] = [concat_curves(cs)[1] for cs in df_data['nz bg all']]\n",
    "df_data['box fit bg'] = [tp.curve_fit(tp.erf_box, [-45e-6, 45e-6, 5e-6, 5e-6, c.maxy, c.maxy/1e3], *c.data) for c in df_data['nz bg']]\n",
    "\n",
    "df_data['dn']   = [tp.Curve(y = r['nz data'](r['nz bg'].x) - r['nz bg'].y, \n",
    "                   x = r['nz bg'].x, xscale = 1e-6, yscale=r['box fit bg']['amp']*1e-2)\n",
    "                   for x,r in df_data.iterrows()]\n",
    "df_data['dn/n'] = [tp.Curve(y = (r['nz data'](r['nz bg'].x) - r['nz bg'].y) / r['nz bg'].y, \n",
    "                   x = r['nz bg'].x, xscale = 1e-6, yscale=1e-2)\n",
    "                   for x,r in df_data.iterrows()]"
   ]
  },
  {
   "cell_type": "code",
   "execution_count": 68,
   "metadata": {
    "code_folding": [
     0
    ],
    "collapsed": true
   },
   "outputs": [],
   "source": [
    "# Calculate 2d dn == centered at the center of the image \n",
    "width = 180e-6 \n",
    "pixel = df.iloc[0].image.pixel_binned \n",
    "size_pixels = int(width / pixel / 2)\n",
    "x = np.arange(-size_pixels, size_pixels, 1)\n",
    "y = x.copy()\n",
    "\n",
    "# Compute shifted app \n",
    "def temp(r):\n",
    "    y_ = (r['nz'].x + r['subtract_z']) / pixel\n",
    "    x_ = np.arange(r.image.app.shape[1]) - r['center_xpixel']\n",
    "    interp = scipy.interpolate.interp2d(x_, y_, r.image.app * r.proper_nrescale, kind='linear')\n",
    "    return interp(x, y)\n",
    "df['app_shifted'] = [temp(r) for n, r in df.iterrows()]\n",
    "\n",
    "# Compute 2d dn\n",
    "df_data['2d dn'] = [np.mean(df.loc[r.data_ind, 'app_shifted']) - np.mean(df.loc[r.bg_ind, 'app_shifted']) \n",
    "                    for x,r in df_data.iterrows()]\n"
   ]
  },
  {
   "cell_type": "code",
   "execution_count": 69,
   "metadata": {
    "code_folding": [
     0
    ],
    "scrolled": false
   },
   "outputs": [
    {
     "data": {
      "text/html": [
       "<div>\n",
       "<style>\n",
       "    .dataframe thead tr:only-child th {\n",
       "        text-align: right;\n",
       "    }\n",
       "\n",
       "    .dataframe thead th {\n",
       "        text-align: left;\n",
       "    }\n",
       "\n",
       "    .dataframe tbody tr th {\n",
       "        vertical-align: top;\n",
       "    }\n",
       "</style>\n",
       "<table border=\"1\" class=\"dataframe\">\n",
       "  <thead>\n",
       "    <tr style=\"text-align: right;\">\n",
       "      <th></th>\n",
       "      <th>fudge</th>\n",
       "      <th>length (um)</th>\n",
       "      <th>length (um) error</th>\n",
       "      <th>radius (um)</th>\n",
       "      <th>radius (um) error</th>\n",
       "      <th>atom num (million)</th>\n",
       "      <th>atom num (million) error</th>\n",
       "      <th>n (um^-3)</th>\n",
       "      <th>n (um^-3) error</th>\n",
       "      <th>EF (kHz)</th>\n",
       "      <th>EF (kHz) error</th>\n",
       "    </tr>\n",
       "  </thead>\n",
       "  <tbody>\n",
       "    <tr>\n",
       "      <th>0</th>\n",
       "      <td>1.75</td>\n",
       "      <td>94.86744</td>\n",
       "      <td>0.246804</td>\n",
       "      <td>58.282054</td>\n",
       "      <td>0.167284</td>\n",
       "      <td>0.701151</td>\n",
       "      <td>0.029324</td>\n",
       "      <td>0.692588</td>\n",
       "      <td>0.028965</td>\n",
       "      <td>9.992099</td>\n",
       "      <td>0.278593</td>\n",
       "    </tr>\n",
       "  </tbody>\n",
       "</table>\n",
       "</div>"
      ],
      "text/plain": [
       "   fudge  length (um)  length (um) error  radius (um)  radius (um) error  \\\n",
       "0   1.75     94.86744           0.246804    58.282054           0.167284   \n",
       "\n",
       "   atom num (million)  atom num (million) error  n (um^-3)  n (um^-3) error  \\\n",
       "0            0.701151                  0.029324   0.692588         0.028965   \n",
       "\n",
       "   EF (kHz)  EF (kHz) error  \n",
       "0  9.992099        0.278593  "
      ]
     },
     "execution_count": 69,
     "metadata": {},
     "output_type": "execute_result"
    }
   ],
   "source": [
    "# Calculate Box Characteristics \n",
    "box_char = pd.DataFrame()\n",
    "box_char['fudge'] = [df.image.iloc[0].fudge]\n",
    "box_char['length (um)'] = np.mean(df.loc[df.bg, 'length']) * 1e6\n",
    "box_char['length (um) error'] = np.std(df.loc[df.bg, 'length']) * 1e6\n",
    "box_char['radius (um)'] = np.mean(df.loc[df.bg, 'center_radius']) * df.image.iloc[0].pixel_binned * 1e6\n",
    "box_char['radius (um) error'] = np.std(df.loc[df.bg, 'center_radius']) * df.image.iloc[0].pixel_binned * 1e6\n",
    "box_char['atom num (million)'] = np.mean(df.loc[df.bg, 'total_atoms']) / 1e6\n",
    "box_char['atom num (million) error'] = np.std(df.loc[df.bg, 'total_atoms']) / 1e6\n",
    "box_char['n (um^-3)'] = box_char['atom num (million)'] * 1e6 / (np.pi * box_char['radius (um)']**2 * box_char['length (um)'])\n",
    "box_char['n (um^-3) error'] = box_char['atom num (million) error'] * 1e6 / (np.pi * box_char['radius (um)']**2 * box_char['length (um)'])\n",
    "box_char['EF (kHz)'] = cst.n2EFHz(box_char['n (um^-3)'] * 1e18) / 1e3\n",
    "box_char['EF (kHz) error'] = 2/3 * cst.n2EFHz(box_char['n (um^-3)'] * 1e18) / 1e3 * box_char['n (um^-3) error'] / box_char['n (um^-3)']\n",
    "if savefig.value: box_char.to_excel(suffix + 'box_characteristics.xlsx')\n",
    "box_char"
   ]
  },
  {
   "cell_type": "markdown",
   "metadata": {},
   "source": [
    "## Movie"
   ]
  },
  {
   "cell_type": "code",
   "execution_count": 70,
   "metadata": {
    "code_folding": [
     0
    ],
    "scrolled": false
   },
   "outputs": [
    {
     "data": {
      "application/vnd.jupyter.widget-view+json": {
       "model_id": "7f10df15aa4b451886edf6ab9c9ae300",
       "version_major": 2,
       "version_minor": 0
      },
      "text/html": [
       "<p>Failed to display Jupyter Widget of type <code>interactive</code>.</p>\n",
       "<p>\n",
       "  If you're reading this message in Jupyter Notebook or JupyterLab, it may mean\n",
       "  that the widgets JavaScript is still loading. If this message persists, it\n",
       "  likely means that the widgets JavaScript library is either not installed or\n",
       "  not enabled. See the <a href=\"https://ipywidgets.readthedocs.io/en/stable/user_install.html\">Jupyter\n",
       "  Widgets Documentation</a> for setup instructions.\n",
       "</p>\n",
       "<p>\n",
       "  If you're reading this message in another notebook frontend (for example, a static\n",
       "  rendering on GitHub or <a href=\"https://nbviewer.jupyter.org/\">NBViewer</a>),\n",
       "  it may mean that your frontend doesn't currently support widgets.\n",
       "</p>\n"
      ],
      "text/plain": [
       "interactive(children=(IntSlider(value=18, description='test', max=36), Output()), _dom_classes=('widget-interact',))"
      ]
     },
     "metadata": {},
     "output_type": "display_data"
    }
   ],
   "source": [
    "# Plot Samples \n",
    "Lum = np.mean(df.loc[df.bg, 'length']) * 1e6\n",
    "plot_zlim = np.array([0 - 20, Lum + 20])\n",
    "if zero_z == 'center': plot_zlim -= Lum/2 \n",
    "elif zero_z == 'top': plot_zlim -= Lum\n",
    "def temp(test=np.random.randint(0, df_data.shape[0])): \n",
    "    r = df_data.iloc[test]\n",
    "    fig = plt.figure(figsize=[15, 5])\n",
    "    # Plot Image\n",
    "    plt.subplot2grid((1,5),(0,0), colspan = 2)\n",
    "    app = np.nan_to_num(r['2d dn'])\n",
    "    plt.imshow(app, origin=0, clim=[-np.max(np.abs(app)), np.max(np.abs(app))], cmap='bwr')\n",
    "    plt.title(\"{} = {}\".format(x_var_label, r.name), fontsize=15)\n",
    "    plt.colorbar()\n",
    "    # Plot n(z) \n",
    "    ax = plt.subplot2grid((1,5),(0,2), colspan = 3)\n",
    "    for n in r['nz bg all']:\n",
    "        plt.plot(n.x*1e6, n.y/r['box fit bg']['amp'], 'C1-', alpha=2/len(r['nz bg all']))\n",
    "    plt.plot(r['nz bg'].x*1e6, r['nz bg'].y / r['box fit bg']['amp'], 'C1-')\n",
    "    for n in r['nz data all']:\n",
    "        plt.plot(n.x*1e6, n.y/r['box fit bg']['amp'], 'C0-', alpha=0.2)\n",
    "    plt.plot(r['nz data'].x*1e6, r['nz data'].y / r['box fit bg']['amp'], 'C0-')\n",
    "    plt.xlim(plot_zlim)\n",
    "    plt.title('Centering using {}, Zero defined at {}'.format(proper_center, zero_z), fontsize=15)\n",
    "    ax = plt.twinx(ax)\n",
    "    ax.plot(*r['dn'].plotdata, 'C3')\n",
    "    ax.plot(*r['dn/n'].plotdata, 'C4', alpha=0.5)\n",
    "    ax.axhline(0, c='k', alpha=0.5)\n",
    "    lim = np.nanmax(np.abs(r['dn'].plotdata[1]))* 1.1\n",
    "    ax.set(ylim = [-lim, lim], xlim=plot_zlim)\n",
    "    plt.tight_layout()\n",
    "    if savefig.value: plt.savefig(suffix_samples + 'InsituSoundWaves_{}.pdf'.format(r.name))\n",
    "    plt.show()\n",
    "if df_data.shape[0] == 1: temp(0)\n",
    "else: ipywidgets.interact(temp, test=(0, df_data.shape[0]-1))"
   ]
  },
  {
   "cell_type": "code",
   "execution_count": 71,
   "metadata": {
    "code_folding": [
     0
    ]
   },
   "outputs": [
    {
     "data": {
      "image/png": "[encoded data removed]",
      "text/plain": [
       "<matplotlib.figure.Figure at 0x10e5a5278>"
      ]
     },
     "metadata": {},
     "output_type": "display_data"
    }
   ],
   "source": [
    "# Movies \n",
    "movie = np.array([(r.dn.trim(plot_zlim * 1e-6).y) / r['box fit bg']['amp'] * 100 for x,r in df_data.iterrows()]).T\n",
    "movie = [df_data.index.values, df_data.iloc[0]['dn'].trim(plot_zlim * 1e-6).x * 1e6, movie]\n",
    "if savefig.value: pd.DataFrame(movie[2], index=movie[1], columns=movie[0]).to_excel(suffix + '2d_movie.xlsx')\n",
    "\n",
    "# Plots \n",
    "clim_movie = np.max(np.abs(movie[2])) * 0.9\n",
    "fig = plt.figure(figsize=[15, 5])\n",
    "plt.pcolor(*movie_pad(movie), cmap='bwr', vmin=-clim_movie, vmax=clim_movie, linewidth=0)\n",
    "plt.ylabel(r'$z$ ($\\mu$m)', fontsize=15)\n",
    "plt.xlabel(x_var_label, fontsize=15)\n",
    "plt.title(r'L = {:.2f} $\\mu m$'.format(Lum), fontsize=15)\n",
    "plt.xticks(fontsize=12)\n",
    "plt.yticks(fontsize=12)\n",
    "cbr = plt.colorbar()\n",
    "cbr.set_label(label=r'$\\Delta \\rho / \\rho$ (%)', fontsize=15)\n",
    "plt.tight_layout()\n",
    "if savefig.value: plt.savefig(suffix + 'SonogramMovie_bwr.pdf')"
   ]
  },
  {
   "cell_type": "code",
   "execution_count": 72,
   "metadata": {
    "code_folding": [
     0
    ],
    "collapsed": true
   },
   "outputs": [],
   "source": [
    "# Specialized Plots == 3 column - 2d rho_0, rho, delta_rho ; 2 column - 1d rho_0, rho, delta_rho  \n",
    "# r = df_data.loc[450]\n",
    "# a1 = df[r['bg_ind']].iloc[0].image.app\n",
    "# a2 = df[r['data_ind']].iloc[0].image.app\n",
    "# a3 = r['2d dn']\n",
    "# roi = tp.get_roi(a1, width=a3.shape[1], height=a3.shape[0])\n",
    "\n",
    "# fig, ax = plt.subplots(ncols=3, figsize=[12,4])\n",
    "# for a in ax: a.set_axis_off()\n",
    "# plt.sca(ax[2])\n",
    "# plt.imshow(a3, origin=0, cmap='bwr')\n",
    "# plt.title(r'$\\Delta \\rho = \\rho - \\rho_0$', fontsize=15)\n",
    "\n",
    "# plt.sca(ax[0])\n",
    "# plt.imshow(a1[roi], origin=0, cmap='viridis')\n",
    "# plt.title(r'$\\rho_{0}$ : Background Density', fontsize=15)\n",
    "\n",
    "# plt.sca(ax[1])\n",
    "# plt.imshow(a2[roi], origin=0, cmap='viridis')\n",
    "# plt.title(r'$\\rho$ : After Shaking', fontsize=15)\n",
    "\n",
    "# plt.tight_layout()\n",
    "# plt.savefig('Sample_SoundDemo_v1_{}.pdf'.format(r.name))\n",
    "# plt.show()\n",
    "\n",
    "# fig, ax = plt.subplots(ncols=2, figsize=[12,4])\n",
    "# for a in ax: \n",
    "#     a.set(xlim=plot_zlim)\n",
    "#     a.set_xlabel(r'z ($\\mu m$)', fontsize=15)\n",
    "# plt.sca(ax[0])\n",
    "# plt.plot(r['nz bg'].x * 1e6, r['nz bg'].y / 1e18)\n",
    "# plt.plot(r['nz data'].x * 1e6, r['nz data'].y / 1e18)\n",
    "# plt.ylabel(r'$\\rho$ ($\\mu m^{-3}$)', fontsize=15)\n",
    "# plt.xticks(fontsize=15)\n",
    "# plt.yticks(fontsize=15)\n",
    "\n",
    "# plt.sca(ax[1])\n",
    "# plt.plot(*r['dn'].plotdata)\n",
    "# plt.ylabel(r'$\\Delta \\rho / \\rho_0$ (%)', fontsize=15)\n",
    "# plt.xticks(fontsize=15)\n",
    "# plt.yticks(fontsize=15)\n",
    "\n",
    "# plt.tight_layout()\n",
    "# plt.savefig('Sample_SoundDemo_v2_{}.pdf'.format(r.name))"
   ]
  },
  {
   "cell_type": "code",
   "execution_count": 73,
   "metadata": {
    "code_folding": [
     0
    ],
    "collapsed": true
   },
   "outputs": [],
   "source": [
    "# # Specialized Plots == Bunch of 2d delta_rho in a single row & Bunch of 1d delta_rho in column \n",
    "\n",
    "# freqs = [78, 100, 150, 190, 300, 400,] \n",
    "# freqs = [500, 600, 750, 850, 1100]\n",
    "# fig, ax = plt.subplots(ncols=len(freqs), figsize=[2.5 * len(freqs), 2.5])\n",
    "# for f,a in zip(freqs,ax): \n",
    "#     a.set_axis_off()\n",
    "#     plt.sca(a)\n",
    "#     plt.imshow(df_data.loc[f,'2d dn'], origin=0, cmap='bwr', clim=[-30, 30])\n",
    "#     a.set_title(r'{} Hz'.format(f))\n",
    "# plt.subplots_adjust(wspace=0)\n",
    "# # plt.savefig('Sample_SoundDemo_v3.pdf')\n",
    "# plt.show()\n",
    "\n",
    "\n",
    "# freqs = [500, 750, 1100][::-1]\n",
    "# shift = np.arange(len(freqs))[::-1]\n",
    "# fig, ax = plt.subplots(figsize=[5,6])\n",
    "# for f,s in zip(freqs[::-1], shift):\n",
    "#     ax.plot(df_data.loc[f, 'dn'].plotdata[0], df_data.loc[f, 'dn'].plotdata[1] + s*10, 'C{}'.format(s), label='{} Hz'.format(f))\n",
    "#     ax.axhline(s*10, color='C{}'.format(s), alpha=0.5, linestyle='--')\n",
    "# ax.set(xlim=[0,100], ylim=[None, 29])\n",
    "# plt.xlabel(r'z ($\\mu$m)', fontsize=15)\n",
    "# plt.ylabel(r'$\\Delta \\rho / \\rho$ (%)', fontsize=15)\n",
    "# plt.xticks(fontsize=13)\n",
    "# plt.yticks(fontsize=13)\n",
    "# plt.legend(fontsize=13)\n",
    "# # plt.savefig('Sample_SoundDemo_v4.pdf')\n"
   ]
  },
  {
   "cell_type": "code",
   "execution_count": 74,
   "metadata": {
    "code_folding": [
     0
    ],
    "collapsed": true
   },
   "outputs": [],
   "source": [
    "# # MISC : Plot for Sound Paper Fig1 \n",
    "# ind = 8\n",
    "\n",
    "# # Extract average data \n",
    "# r = df_data.iloc[ind]\n",
    "# # print(r)\n",
    "# sound_2d = []\n",
    "# sound_2d.append( np.mean(df.loc[r.bg_ind,   'app_shifted']) )\n",
    "# sound_2d.append( np.mean(df.loc[r.data_ind, 'app_shifted']) )\n",
    "# sound_2d.append( sound_2d[1] - sound_2d[0] )\n",
    "\n",
    "# # Store images as excel for Fig1 maker program \n",
    "# fnames = ['Sample_Sound_0727_600Hz_BG.xlsx', \n",
    "#           'Sample_Sound_0727_600Hz_Data.xlsx', \n",
    "#           'Sample_Sound_0727_600Hz_Delta.xlsx', \n",
    "#           'Sample_Sound_0727_600Hz_1D.xlsx']\n",
    "# for i,d in enumerate(sound_2d):\n",
    "#     pd.DataFrame(d).to_excel(fnames[i])\n",
    "\n",
    "# # Crop data \n",
    "# roi = tp.get_roi(sound_2d[0], width=66, height=57, center=[1,-1])\n",
    "# sound_2d = [s[roi].T for s in sound_2d]\n",
    "\n",
    "# # Plot all \n",
    "# fig, ax = plt.subplots(figsize=[14*0.7, 14/4*0.7 ], ncols=4)\n",
    "# ax[0].pcolormesh(sound_2d[0], linewidth=0,rasterized=True)\n",
    "# ax[1].pcolormesh(sound_2d[1], linewidth=0,rasterized=True)\n",
    "# vmax = np.max(np.abs(sound_2d[2])) * 0.8\n",
    "# ax[2].pcolormesh(sound_2d[2], linewidth=0, cmap='bwr',rasterized=True, vmin=-vmax, vmax=vmax)\n",
    "# ax[3].plot(*r.dn.plotdata)\n",
    "# ax[3].set(xlim=[-10, 100], ylim=[-7, 7])\n",
    "# plt.tight_layout(pad=0.2)\n"
   ]
  },
  {
   "cell_type": "code",
   "execution_count": null,
   "metadata": {
    "collapsed": true
   },
   "outputs": [],
   "source": []
  },
  {
   "cell_type": "code",
   "execution_count": null,
   "metadata": {
    "collapsed": true
   },
   "outputs": [],
   "source": []
  },
  {
   "cell_type": "markdown",
   "metadata": {
    "code_folding": []
   },
   "source": [
    "# Fourier Components "
   ]
  },
  {
   "cell_type": "code",
   "execution_count": 75,
   "metadata": {
    "code_folding": [
     0
    ],
    "collapsed": true
   },
   "outputs": [],
   "source": [
    "# Used Functions \n",
    "\n",
    "def discrete_modes_v1(x, L=1, phase=0, a0=0, grad=0, a1=0, a2=0, \n",
    "                      a3=0, a4=0, a5=0, a6=0, a7=0, a8=0, a9=0, a10=0, a11=0, a12=0, \n",
    "                      a13=0, a14=0, a15=0, a16=0, a17=0, a18=0, a19=0, a20=0,):\n",
    "    '''Common L and phase (cos), separate amplitudes: upto 20 modes'''\n",
    "    y = a0 + grad * x \n",
    "    y += a1 * np.cos(1 * np.pi/L * x - phase)\n",
    "    y += a2 * np.cos(2 * np.pi/L * x - phase)\n",
    "    y += a3 * np.cos(3 * np.pi/L * x - phase)\n",
    "    y += a4 * np.cos(4 * np.pi/L * x - phase)\n",
    "    y += a5 * np.cos(5 * np.pi/L * x - phase)\n",
    "    y += a6 * np.cos(6 * np.pi/L * x - phase)\n",
    "    y += a7 * np.cos(7 * np.pi/L * x - phase)\n",
    "    y += a8 * np.cos(8 * np.pi/L * x - phase)\n",
    "    y += a9 * np.cos(9 * np.pi/L * x - phase)\n",
    "    y += a10 * np.cos(10 * np.pi/L * x - phase)\n",
    "    y += a11 * np.cos(11 * np.pi/L * x - phase)\n",
    "    y += a12 * np.cos(12 * np.pi/L * x - phase)\n",
    "    y += a13 * np.cos(13 * np.pi/L * x - phase)\n",
    "    y += a14 * np.cos(14 * np.pi/L * x - phase)\n",
    "    y += a15 * np.cos(15 * np.pi/L * x - phase)\n",
    "    y += a16 * np.cos(16 * np.pi/L * x - phase)\n",
    "    y += a17 * np.cos(17 * np.pi/L * x - phase)\n",
    "    y += a18 * np.cos(18 * np.pi/L * x - phase)\n",
    "    y += a19 * np.cos(19 * np.pi/L * x - phase)\n",
    "    y += a20 * np.cos(20 * np.pi/L * x - phase)\n",
    "    return y\n",
    "\n",
    "def discrete_modes_v2(x, L=1, a0=0, grad=0, a1=0, p1=0, \n",
    "                   a2=0, p2=0, a3=0, p3=0, a4=0, p4=0, a5=0, p5=0, \n",
    "                   a6=0, p6=0, a7=0, p7=0, a8=0, p8=0, a9=0, p9=0, a10=0, p10=0, \n",
    "                   a11=0, p11=0, a12=0, p12=0, a13=0, p13=0, a14=0, p14=0, a15=0, \n",
    "                   p15=0, a16=0, p16=0, a17=0, p17=0, a18=0, p18=0, a19=0, p19=0, a20=0, p20=0):\n",
    "    '''Common L, separate amplitudes and phases (cos): upto 20 modes'''\n",
    "    y = a0 + grad * x \n",
    "    y += a1 * np.cos(1 * np.pi/L * x - p1)\n",
    "    y += a2 * np.cos(2 * np.pi/L * x - p2)\n",
    "    y += a3 * np.cos(3 * np.pi/L * x - p3)\n",
    "    y += a4 * np.cos(4 * np.pi/L * x - p4)\n",
    "    y += a5 * np.cos(5 * np.pi/L * x - p5)\n",
    "    y += a6 * np.cos(6 * np.pi/L * x - p6)\n",
    "    y += a7 * np.cos(7 * np.pi/L * x - p7)\n",
    "    y += a8 * np.cos(8 * np.pi/L * x - p8)\n",
    "    y += a9 * np.cos(9 * np.pi/L * x - p9)\n",
    "    y += a10 * np.cos(10 * np.pi/L * x - p10)\n",
    "    y += a11 * np.cos(11 * np.pi/L * x - p11)\n",
    "    y += a12 * np.cos(12 * np.pi/L * x - p12)\n",
    "    y += a13 * np.cos(13 * np.pi/L * x - p13)\n",
    "    y += a14 * np.cos(14 * np.pi/L * x - p14)\n",
    "    y += a15 * np.cos(15 * np.pi/L * x - p15)\n",
    "    y += a16 * np.cos(16 * np.pi/L * x - p16)\n",
    "    y += a17 * np.cos(17 * np.pi/L * x - p17)\n",
    "    y += a18 * np.cos(18 * np.pi/L * x - p18)\n",
    "    y += a19 * np.cos(19 * np.pi/L * x - p19)\n",
    "    y += a20 * np.cos(20 * np.pi/L * x - p20)\n",
    "    return y\n",
    "\n",
    "def discrete_modes_v3(x, L=1, phase=0, a0=0, grad=0, \n",
    "                      a1=0, a2=0, a3=0, a4=0, a5=0, a6=0, a7=0, a8=0, a9=0, a10=0,\n",
    "                      a11=0, a12=0, a13=0, a14=0, a15=0, a16=0, a17=0, a18=0, a19=0, a20=0,):\n",
    "    '''Common L and phase (sin, cos, ...), separate amplitudes: upto 20 modes'''\n",
    "    y = a0 + grad * x \n",
    "    y += a1 * np.sin(1 * np.pi/L * x - phase)\n",
    "    y += a2 * np.cos(2 * np.pi/L * x - phase)\n",
    "    y += a3 * np.sin(3 * np.pi/L * x - phase)\n",
    "    y += a4 * np.cos(4 * np.pi/L * x - phase)\n",
    "    y += a5 * np.sin(5 * np.pi/L * x - phase)\n",
    "    y += a6 * np.cos(6 * np.pi/L * x - phase)\n",
    "    y += a7 * np.sin(7 * np.pi/L * x - phase)\n",
    "    y += a8 * np.cos(8 * np.pi/L * x - phase)\n",
    "    y += a9 * np.sin(9 * np.pi/L * x - phase)\n",
    "    y += a10 * np.cos(10 * np.pi/L * x - phase)\n",
    "    y += a11 * np.sin(11 * np.pi/L * x - phase)\n",
    "    y += a12 * np.cos(12 * np.pi/L * x - phase)\n",
    "    y += a13 * np.sin(13 * np.pi/L * x - phase)\n",
    "    y += a14 * np.cos(14 * np.pi/L * x - phase)\n",
    "    y += a15 * np.sin(15 * np.pi/L * x - phase)\n",
    "    y += a16 * np.cos(16 * np.pi/L * x - phase)\n",
    "    y += a17 * np.sin(17 * np.pi/L * x - phase)\n",
    "    y += a18 * np.cos(18 * np.pi/L * x - phase)\n",
    "    y += a19 * np.sin(19 * np.pi/L * x - phase)\n",
    "    y += a20 * np.cos(20 * np.pi/L * x - phase)\n",
    "    return y\n",
    "\n",
    "def discrete_modes_v4(x, L=1, a0=0, grad=0, \n",
    "                   a1=0, p1=0, a2=0, p2=0, a3=0, p3=0, a4=0, p4=0, a5=0, p5=0, \n",
    "                   a6=0, p6=0, a7=0, p7=0, a8=0, p8=0, a9=0, p9=0, a10=0, p10=0, \n",
    "                   a11=0, p11=0, a12=0, p12=0, a13=0, p13=0, a14=0, p14=0, a15=0, \n",
    "                   p15=0, a16=0, p16=0, a17=0, p17=0, a18=0, p18=0, a19=0, p19=0, a20=0, p20=0):\n",
    "    '''Common L, separate amplitudes and phases (sin, cos, ...): upto 20 modes'''\n",
    "    y = a0 + grad * x \n",
    "    y += a1 * np.sin(1 * np.pi/L * x - p1)\n",
    "    y += a2 * np.cos(2 * np.pi/L * x - p2)\n",
    "    y += a3 * np.sin(3 * np.pi/L * x - p3)\n",
    "    y += a4 * np.cos(4 * np.pi/L * x - p4)\n",
    "    y += a5 * np.sin(5 * np.pi/L * x - p5)\n",
    "    y += a6 * np.cos(6 * np.pi/L * x - p6)\n",
    "    y += a7 * np.sin(7 * np.pi/L * x - p7)\n",
    "    y += a8 * np.cos(8 * np.pi/L * x - p8)\n",
    "    y += a9 * np.sin(9 * np.pi/L * x - p9)\n",
    "    y += a10 * np.cos(10 * np.pi/L * x - p10)\n",
    "    y += a11 * np.sin(11 * np.pi/L * x - p11)\n",
    "    y += a12 * np.cos(12 * np.pi/L * x - p12)\n",
    "    y += a13 * np.sin(13 * np.pi/L * x - p13)\n",
    "    y += a14 * np.cos(14 * np.pi/L * x - p14)\n",
    "    y += a15 * np.sin(15 * np.pi/L * x - p15)\n",
    "    y += a16 * np.cos(16 * np.pi/L * x - p16)\n",
    "    y += a17 * np.sin(17 * np.pi/L * x - p17)\n",
    "    y += a18 * np.cos(18 * np.pi/L * x - p18)\n",
    "    y += a19 * np.sin(19 * np.pi/L * x - p19)\n",
    "    y += a20 * np.cos(20 * np.pi/L * x - p20)\n",
    "    return y\n",
    "\n"
   ]
  },
  {
   "cell_type": "markdown",
   "metadata": {},
   "source": [
    "## fourier transform with cropped L"
   ]
  },
  {
   "cell_type": "code",
   "execution_count": 76,
   "metadata": {
    "code_folding": [
     0
    ]
   },
   "outputs": [
    {
     "data": {
      "application/vnd.jupyter.widget-view+json": {
       "model_id": "69c10d81b32b4df98ccf4580b177b651",
       "version_major": 2,
       "version_minor": 0
      },
      "text/html": [
       "<p>Failed to display Jupyter Widget of type <code>Checkbox</code>.</p>\n",
       "<p>\n",
       "  If you're reading this message in Jupyter Notebook or JupyterLab, it may mean\n",
       "  that the widgets JavaScript is still loading. If this message persists, it\n",
       "  likely means that the widgets JavaScript library is either not installed or\n",
       "  not enabled. See the <a href=\"https://ipywidgets.readthedocs.io/en/stable/user_install.html\">Jupyter\n",
       "  Widgets Documentation</a> for setup instructions.\n",
       "</p>\n",
       "<p>\n",
       "  If you're reading this message in another notebook frontend (for example, a static\n",
       "  rendering on GitHub or <a href=\"https://nbviewer.jupyter.org/\">NBViewer</a>),\n",
       "  it may mean that your frontend doesn't currently support widgets.\n",
       "</p>\n"
      ],
      "text/plain": [
       "Checkbox(value=True, description='Save Figs')"
      ]
     },
     "metadata": {},
     "output_type": "display_data"
    },
    {
     "data": {
      "text/plain": [
       "'05-17-2017_18_10_BoxShaking/FT Centered Cropped/'"
      ]
     },
     "execution_count": 76,
     "metadata": {},
     "output_type": "execute_result"
    }
   ],
   "source": [
    "# Start a figure folder \n",
    "display(savefig)\n",
    "suffix_ft = os.path.join(folder_name, 'FT Centered Cropped','')\n",
    "os.makedirs(os.path.join(suffix_ft), exist_ok=True)\n",
    "suffix_ft"
   ]
  },
  {
   "cell_type": "code",
   "execution_count": 77,
   "metadata": {
    "code_folding": [
     0
    ],
    "collapsed": true
   },
   "outputs": [],
   "source": [
    "# Prepare for FT \n",
    "length_mult = 1.07\n",
    "shift = 0\n",
    "if zero_z == 'center': shift -= Lum*length_mult/2\n",
    "elif zero_z == 'top': shift -= Lum*length_mult\n",
    "fit_zlim = (np.array([0 + 0, Lum*length_mult - 0]))*1e-6 + shift*1e-6\n",
    "xp = np.linspace(0, Lum*length_mult, 100) + shift"
   ]
  },
  {
   "cell_type": "code",
   "execution_count": 78,
   "metadata": {
    "code_folding": [
     0
    ]
   },
   "outputs": [
    {
     "data": {
      "image/png": "[encoded data removed]",
      "text/plain": [
       "<matplotlib.figure.Figure at 0x1a18db6c88>"
      ]
     },
     "metadata": {},
     "output_type": "display_data"
    }
   ],
   "source": [
    "# Compute FT \n",
    "kscale = np.pi/(Lum * length_mult)\n",
    "k = np.arange(0, 25 * kscale, 1 * kscale)\n",
    "ft = np.array([tp.fourier_transform(*c.trim(xlim=fit_zlim).plotdata, k)[1] for c in df_data['dn/n']]).T\n",
    "ft *= 2 * kscale / np.pi\n",
    "ft_real = [df_data.index.values, k/kscale, np.real(ft)]\n",
    "ft_imag = [df_data.index.values, k/kscale, np.imag(ft)]\n",
    "ft_abs = [df_data.index.values, k/kscale, np.abs(ft)]\n",
    "\n",
    "sign = np.array([1,1,-1,-1,1,1,-1,-1,1,1,-1,-1,1,1,-1,-1,1,1,-1,-1,1,1,-1,-1,1,1,-1,-1,])\n",
    "sign = np.meshgrid(np.ones(ft.shape[1]), sign[:ft.shape[0]])[1]\n",
    "mult = np.meshgrid(np.ones(ft.shape[1]), np.arange(ft.shape[0]))[1]\n",
    "# ft = [df_data.index.values, k/kscale, ft_imag[2] * (mult%2) * sign + ft_real[2] * ((mult+1)%2) * sign]\n",
    "ft = [df_data.index.values, k/kscale, ft_imag[2] * (mult%2) * sign + ft_real[2] * ((mult+1)%2) * sign]\n",
    "if savefig.value: pd.DataFrame(ft[2], index=ft[1], columns=ft[0]).to_excel(suffix_ft + 'fourier_transform.xlsx')\n",
    "    \n",
    "# Plots \n",
    "clim_ft = np.max(np.abs(ft[2])) * 0.85\n",
    "fig = plt.figure(figsize=[15, 5])\n",
    "plt.pcolor(*movie_pad(ft), cmap='viridis', vmax=clim_ft, linewidth=0)\n",
    "plt.ylabel(r'$k$ ($\\pi/L$)', fontsize=15)\n",
    "plt.xlabel(x_var_label, fontsize=15)\n",
    "plt.title(r'L = {:.2f} $\\mu m$'.format(Lum), fontsize=15)\n",
    "plt.xticks(fontsize=12)\n",
    "plt.yticks(fontsize=12)\n",
    "cbr = plt.colorbar()\n",
    "cbr.set_label(label=r'Fourier Amplitude ($\\Delta \\rho / \\rho$ %)', fontsize=15)\n",
    "plt.tight_layout()\n",
    "if savefig.value: plt.savefig(suffix_ft + 'FourierAmpsMovie_viridis.pdf')"
   ]
  },
  {
   "cell_type": "markdown",
   "metadata": {
    "heading_collapsed": true
   },
   "source": [
    "## Lorentzian Fits"
   ]
  },
  {
   "cell_type": "code",
   "execution_count": 79,
   "metadata": {
    "code_folding": [
     0
    ],
    "collapsed": true,
    "hidden": true
   },
   "outputs": [],
   "source": [
    "# Lorentzian Fit Info \n",
    "mode_num = np.array([2,])\n",
    "ref_freq_guess = np.mean(ft[0])/2\n",
    "# ref_freq_guess = 80\n",
    "gamma_guess = mode_num * 10\n",
    "fit_widths = {1:30, 2:120, 3:170, 4:250, 5:300, 6:400, 7:300, 8:400, 9:500, 10:500}\n",
    "fit_lims = {i:[ref_freq_guess*i - fit_widths.get(i,1000)/2, \n",
    "               ref_freq_guess*i + fit_widths.get(i,1000)/2] for i in range(1,10)}\n",
    "# fit_lims = {}"
   ]
  },
  {
   "cell_type": "code",
   "execution_count": 234,
   "metadata": {
    "code_folding": [],
    "hidden": true,
    "scrolled": false
   },
   "outputs": [
    {
     "data": {
      "image/png": "[encoded data removed]",
      "text/plain": [
       "<matplotlib.figure.Figure at 0x1a1af31eb8>"
      ]
     },
     "metadata": {},
     "output_type": "display_data"
    }
   ],
   "source": [
    "# Lorentzian Fits \n",
    "mode_fits = []\n",
    "\n",
    "for i,m in enumerate(mode_num):\n",
    "    ki = np.argmin(np.abs(ft[1] - m))\n",
    "    guess = dict(x0 = ref_freq_guess*m, gamma = gamma_guess[i], amp=1,)\n",
    "    c = tp.Curve(ft[0], ft[2][m,:]).trim(xlim=fit_lims.get(mode_num[i], [-np.inf, np.inf]))\n",
    "    cf = tp.curve_fit(tp.lorentzian, guess, *c.data, plot=False, info=False)\n",
    "    mode_fits.append(cf)\n",
    "\n",
    "if len(mode_num) == 1:\n",
    "    ax = plt.subplots()[1]\n",
    "    i, m = 0, mode_fits[0]\n",
    "    m.plot_fiterrors(ax=ax)\n",
    "    ax.set(title=r'{}:   $\\omega/2\\pi = {:.2f} Hz$;   $\\Gamma/2\\pi$ = {:.2f} Hz'.format(mode_num[i], m['x0'], abs(m['gamma'])))\n",
    "else:\n",
    "    ax = plt.subplots(ncols=4, nrows=3, figsize=[15,9])[1].flatten()\n",
    "    for i,m in enumerate(mode_fits):\n",
    "        m.plot_fiterrors(ax=ax[i])\n",
    "        ax[i].set(title=r'{} :: {:.1f} Hz;   $\\Gamma/2\\pi$={:.2f} Hz'.format(mode_num[i], m['x0'], abs(m['gamma'])))\n",
    "\n",
    "plt.tight_layout()\n",
    "if savefig.value: plt.savefig(suffix_ft + 'LorentzianFits.pdf')"
   ]
  },
  {
   "cell_type": "code",
   "execution_count": 223,
   "metadata": {
    "code_folding": [],
    "hidden": true
   },
   "outputs": [
    {
     "data": {
      "text/plain": [
       "mode num                      2.000000\n",
       "k (1/m)                   66246.748973\n",
       "k (1/m) error                 0.000000\n",
       "f (Hz)                      139.525969\n",
       "f (Hz) error                  0.247658\n",
       "f0 (Hz)                      69.762984\n",
       "f0 (Hz) error                 0.123829\n",
       "w (1/s)                     876.667518\n",
       "w (1/s) error                 1.556080\n",
       "c (m/s)                       0.013233\n",
       "c (m/s) error                 0.000023\n",
       "gamma (Hz)                   11.059240\n",
       "gamma (Hz) error              0.745887\n",
       "gamma (1/s)                  69.487252\n",
       "gamma (1/s) error             4.686546\n",
       "D (hbar/m)                    1.499662\n",
       "D (hbar/m) error              0.101144\n",
       "FT amplitude (%)             10.298683\n",
       "FT amplitude (%) error        0.463866\n",
       "Name: 2, dtype: float64"
      ]
     },
     "execution_count": 223,
     "metadata": {},
     "output_type": "execute_result"
    }
   ],
   "source": [
    "# Extract Data \n",
    "modes = pd.DataFrame()\n",
    "modes['mode num'] = mode_num\n",
    "modes['k (1/m)'] = mode_num * np.pi/Lum * 1e6\n",
    "modes['k (1/m) error'] = 0\n",
    "modes['f (Hz)'] = [cf['x0'] for cf in mode_fits]\n",
    "modes['f (Hz) error'] = [cf.fe['x0'] for cf in mode_fits]\n",
    "modes['f0 (Hz)'] = modes['f (Hz)'] / modes['mode num']\n",
    "modes['f0 (Hz) error'] = modes['f (Hz) error'] / modes['mode num']\n",
    "modes['w (1/s)'] = modes['f (Hz)'] * twopi\n",
    "modes['w (1/s) error'] = modes['f (Hz) error'] * twopi\n",
    "modes['c (m/s)'] = modes['w (1/s)'] / modes['k (1/m)']\n",
    "modes['c (m/s) error'] = modes['w (1/s) error'] / modes['k (1/m)']\n",
    "modes['gamma (Hz)'] = np.abs([cf['gamma'] for cf in mode_fits])\n",
    "modes['gamma (Hz) error'] = [cf.fe['gamma'] for cf in mode_fits]\n",
    "modes['gamma (1/s)'] = modes['gamma (Hz)'] * twopi\n",
    "modes['gamma (1/s) error'] = modes['gamma (Hz) error'] * twopi\n",
    "modes['D (hbar/m)'] = modes['gamma (1/s)'] / modes['k (1/m)']**2 / (cst.hbar/cst.mass)\n",
    "modes['D (hbar/m) error'] = modes['gamma (1/s) error'] / modes['k (1/m)']**2 / (cst.hbar/cst.mass)\n",
    "modes['FT amplitude (%)'] = [cf['amp'] for cf in mode_fits]\n",
    "modes['FT amplitude (%) error'] = [cf.fe['amp'] for cf in mode_fits]\n",
    "modes = modes.set_index('mode num', drop=False)\n",
    "\n",
    "if savefig.value: modes.to_excel(suffix_ft + 'modes_results.xlsx')\n",
    "modes.iloc[0]"
   ]
  },
  {
   "cell_type": "code",
   "execution_count": 224,
   "metadata": {
    "code_folding": [
     0
    ],
    "collapsed": true,
    "hidden": true,
    "scrolled": false
   },
   "outputs": [],
   "source": [
    "# # Plot Freq vs Mode Num \n",
    "# fig, ax = plt.subplots(figsize=[6,6])\n",
    "# plt.errorbar(modes['mode num'], modes['f (Hz)'], modes['f (Hz) error'], fmt='bo')\n",
    "# cf = tp.curve_fit(lambda x, a1=1: a1*x, [1,], modes['mode num'], modes['f (Hz)'], modes['f (Hz) error'], info=False, plot=False)\n",
    "# xp = np.linspace(0, modes['mode num'].max() + 0.4)\n",
    "# plt.plot(xp, cf(xp), 'k-')\n",
    "# plt.xlim([0, None])\n",
    "# plt.ylim([0, None])\n",
    "# plt.xlabel('Mode Number', fontsize=15)\n",
    "# plt.ylabel(r'$\\nu$ (Hz)', fontsize=15)\n",
    "# plt.title(r'Fundamental Frequency {:.2f} $\\pm$ {:.2f} Hz '.format(cf[0], cf.fe[0]), fontsize=15)\n",
    "# plt.xticks(fontsize=12)\n",
    "# plt.yticks(fontsize=12)\n",
    "# plt.tight_layout()\n",
    "# if savefig.value: plt.savefig(suffix_ft + 'FundamentalFrequency_v1.pdf')\n",
    "\n",
    "# # Plot Freq vs Mode Num \n",
    "# fig, ax = plt.subplots(figsize=[6,6])\n",
    "# plt.errorbar(modes['k (1/m)']*1e-6, modes['w (1/s)'], modes['w (1/s) error'], fmt='bo')\n",
    "# cf = tp.curve_fit(lambda x, a1=1: a1*x, [1,], modes['k (1/m)']*1e-6, modes['w (1/s)'], modes['w (1/s) error'], info=False, plot=False)\n",
    "# dict_data['speed fit'] = cf\n",
    "# xp = np.linspace(0, modes['k (1/m)'].max()*1e-6 *1.05)\n",
    "# plt.plot(xp, cf(xp), 'k-')\n",
    "# plt.xlim([0, None])\n",
    "# plt.ylim([0, None])\n",
    "# plt.xlabel(r'$k$ (1/$\\mu$m)', fontsize=15)\n",
    "# plt.ylabel(r'$\\omega$ (1/s)', fontsize=15)\n",
    "# plt.title(r'Speed of Sound = {:.2f} $\\pm$ {:.2f} mm/s '.format(cf[0]*1e-3, cf.fe[0]*1e-3), fontsize=15)\n",
    "# plt.xticks(fontsize=12)\n",
    "# plt.yticks(fontsize=12)\n",
    "# plt.tight_layout()\n",
    "# if savefig.value: plt.savefig(suffix_ft + 'Dispersion Relation_v1.pdf')\n",
    "\n",
    "# # Plot Freq vs Mode Num \n",
    "# fig, ax = plt.subplots(figsize=[6,6])\n",
    "# plt.errorbar(modes['k (1/m)']*1e-6, modes['w (1/s)']*1e-3, modes['w (1/s) error']*1e-3, fmt='bo')\n",
    "# cf = tp.curve_fit(lambda x, a1=1: a1*x, [1,], modes['k (1/m)']*1e-6, modes['w (1/s)']*1e-3, modes['w (1/s) error']*1e-3, info=False, plot=False)\n",
    "# xp = np.linspace(0, modes['k (1/m)'].max()*1e-6 *1.05)\n",
    "# plt.plot(xp, cf(xp), 'k-')\n",
    "# plt.xlim([0, None])\n",
    "# plt.ylim([0, None])\n",
    "# plt.xlabel(r'$k$ (1/$\\mu$m)', fontsize=15)\n",
    "# plt.ylabel(r'$\\omega$ (1/ms)', fontsize=15)\n",
    "# plt.title(r'Speed of Sound = {:.2f} $\\pm$ {:.2f} mm/s '.format(cf[0], cf.fe[0]), fontsize=15)\n",
    "# plt.xticks(fontsize=12)\n",
    "# plt.yticks(fontsize=12)\n",
    "# plt.tight_layout()\n",
    "# if savefig.value: plt.savefig(suffix_ft + 'Dispersion Relation_v2.pdf')\n",
    "\n",
    "# # Plot Gamma vs Freq \n",
    "# fig, ax = plt.subplots(figsize=[6,6])\n",
    "# plt.errorbar(modes['f (Hz)'], modes['gamma (Hz)'], xerr=modes['f (Hz) error'], yerr=modes['gamma (Hz) error'], fmt='bo')\n",
    "# plt.xlabel(r'$\\nu$ (Hz)', fontsize=15)\n",
    "# plt.ylabel(r'$\\Gamma / 2 \\pi$ (Hz)', fontsize=15)\n",
    "# plt.xticks(fontsize=12)\n",
    "# plt.yticks(fontsize=12)\n",
    "# plt.title(r'$\\Gamma$ is FWHM', fontsize=15)\n",
    "# plt.xlim([0, None])\n",
    "# plt.ylim([0, None])\n",
    "# plt.tight_layout()\n",
    "# if savefig.value: plt.savefig(suffix_ft + 'GammaVsOmega_v1.pdf')\n",
    "\n",
    "# # Plot Gamma vs Omega with Linear Fit\n",
    "# modes_ = modes.iloc[2:]\n",
    "# cf = tp.curve_fit(lambda x, a1=0, a0=0: a0 + a1 * x, [1,0], modes_['f (Hz)'], modes_['gamma (Hz)'], modes_['gamma (Hz) error'], info=True)\n",
    "# fig, ax = plt.subplots(figsize=[6,6])\n",
    "# plt.errorbar(modes['f (Hz)'], modes['gamma (Hz)'], xerr=modes['f (Hz) error'], yerr=modes['gamma (Hz) error'], fmt='bo')\n",
    "# xp = np.linspace(0, cf.x.max()*1.05, 100)\n",
    "# plt.plot(xp, cf(xp), 'k-')\n",
    "# plt.xlabel(r'$\\nu$ (Hz)', fontsize=15)\n",
    "# plt.ylabel(r'$\\Gamma / 2 \\pi$ (Hz)', fontsize=15)\n",
    "# plt.xticks(fontsize=12)\n",
    "# plt.yticks(fontsize=12)\n",
    "# plt.title(r'$\\Gamma = {:.2f} \\pm {:.2f} \\: \\omega - {:.2f}$'.format(cf[0], cf.fe[0], -cf[1]), fontsize=15)\n",
    "# plt.xlim([0, None])\n",
    "# plt.ylim([0, None])\n",
    "# plt.tight_layout()\n",
    "# if savefig.value: plt.savefig(suffix_ft + 'GammaVsOmega_v2.pdf')\n",
    "    \n",
    "# # Plot Gamma vs Omega with Quadratic Fit \n",
    "# cf = tp.curve_fit(lambda x, a2=0: a2*x**2, [1], modes['w (1/s)'], modes['gamma (1/s)'], modes['gamma (1/s) error'], info=True)\n",
    "# speed = dict_data['speed fit'][0] * 1e-6\n",
    "# eta_rho = [3/4 * cf[0] * speed**2 * cst.mass / cst.hbar, 3/4 * cf.fe[0] * speed**2 * cst.mass / cst.hbar]\n",
    "# fig, ax = plt.subplots(figsize=[6,6])\n",
    "# plt.errorbar(modes['w (1/s)'], modes['gamma (1/s)'], xerr=modes['w (1/s) error'], yerr=modes['gamma (1/s) error'], fmt='bo')\n",
    "# xp = np.linspace(0, cf.x.max()*1.05, 100)\n",
    "# plt.plot(xp, cf(xp), 'k-')\n",
    "# plt.xlabel(r'$\\omega$ (1/s)', fontsize=15)\n",
    "# plt.ylabel(r'$\\Gamma$ (1/s)', fontsize=15)\n",
    "# plt.xticks(fontsize=12)\n",
    "# plt.yticks(fontsize=12)\n",
    "# plt.title(r'$\\eta / \\rho = {:.2f} \\pm {:.2f} \\: \\hbar / m$'.format(*eta_rho), fontsize=15)\n",
    "# plt.xlim([0, None])\n",
    "# plt.ylim([0, None])\n",
    "# plt.tight_layout()\n",
    "# if savefig.value: plt.savefig(suffix_ft + 'GammaVsOmega_v3.pdf')\n",
    "\n",
    "# # Plot Q vs Freq \n",
    "# fig, ax = plt.subplots(figsize=[6,6])\n",
    "# plt.errorbar(modes['f (Hz)'], modes['f (Hz)']/modes['gamma (Hz)'], xerr=modes['f (Hz) error'], \n",
    "#              yerr=np.sqrt((modes['f (Hz) error']/modes['gamma (Hz)'])**2 + (modes['gamma (Hz) error'] * modes['f (Hz)']/modes['gamma (Hz)']**2)**2), fmt='bo')\n",
    "# plt.xlabel(r'$\\nu$ (Hz)', fontsize=15)\n",
    "# plt.ylabel(r'Q = $\\omega / \\Gamma $', fontsize=15)\n",
    "# plt.xticks(fontsize=12)\n",
    "# plt.yticks(fontsize=12)\n",
    "# plt.title(r'$\\Gamma$ is FWHM', fontsize=15)\n",
    "# plt.xlim([0, None])\n",
    "# plt.ylim([0, None])\n",
    "# plt.tight_layout()\n",
    "# if savefig.value: plt.savefig(suffix_ft + 'QVsFreq_v1.pdf')"
   ]
  },
  {
   "cell_type": "code",
   "execution_count": 225,
   "metadata": {
    "code_folding": [
     0
    ],
    "hidden": true
   },
   "outputs": [
    {
     "data": {
      "application/javascript": [
       "IPython.notebook.kernel.execute(\"theNotebook = \" + \"'\"+IPython.notebook.notebook_name+\"'\");"
      ],
      "text/plain": [
       "<IPython.core.display.Javascript object>"
      ]
     },
     "metadata": {},
     "output_type": "display_data"
    }
   ],
   "source": [
    "# Copy the file \n",
    "if savefig.value:\n",
    "    shutil.copyfile(getNotebookName(), suffix + 'BoxShakingAnalyzer.ipynb')"
   ]
  },
  {
   "cell_type": "code",
   "execution_count": null,
   "metadata": {
    "collapsed": true,
    "hidden": true
   },
   "outputs": [],
   "source": []
  },
  {
   "cell_type": "markdown",
   "metadata": {
    "heading_collapsed": true
   },
   "source": [
    "## Fitting Peaks for Wavelength"
   ]
  },
  {
   "cell_type": "code",
   "execution_count": 226,
   "metadata": {
    "code_folding": [],
    "collapsed": true,
    "hidden": true
   },
   "outputs": [],
   "source": [
    "# Determine where to fit sin \n",
    "m = 2\n",
    "freq_ = modes.loc[m, 'f (Hz)']\n",
    "gamma_ = modes.loc[m, 'gamma (Hz)']\n",
    "wl_ = twopi / modes.loc[m, 'k (1/m)'] * 1e6\n",
    "amp_ = modes.loc[m, 'FT amplitude (%)']\n",
    "ka_ = modes.loc[m, 'gamma (1/s)'] / (2 * modes.loc[m, 'c (m/s)']) / 1e6\n",
    "_ = 0.5\n",
    "flims = [freq_ - gamma_*_, freq_ + gamma_*_]\n",
    "finds = np.argwhere((movie[0] >= flims[0]) & (movie[0] <= flims[1]))[:,0]\n",
    "fit_zlim = [-Lum*1e-6*0.45, Lum*1e-6*0.45]"
   ]
  },
  {
   "cell_type": "code",
   "execution_count": 227,
   "metadata": {
    "code_folding": [
     0
    ],
    "collapsed": true,
    "hidden": true
   },
   "outputs": [],
   "source": [
    "# # Fits - designed for m^th mode - SHG Fit \n",
    "# def sinusoidal(x, wl=1, amp=1, phase=0, amp2=0, phase2=0): \n",
    "#     return amp*np.cos(twopi/wl * x + phase) + amp2*np.cos(2 * twopi/wl * x + phase2)\n",
    "# guess = dict(wl = wl_, amp=amp_, phase=np.pi, amp2=1, phase2=np.pi/2)\n",
    "\n",
    "\n",
    "# def temp(test = np.random.randint(0, len(finds))):\n",
    "#     f_ = movie[0][finds[test]]\n",
    "#     dnz = df_data.loc[f_, 'dn']\n",
    "#     cf = tp.curve_fit(sinusoidal, guess, *dnz.trim(xlim=fit_zlim).plotdata, plot=False, info=True)\n",
    "#     c_ = f_ * cf.fv['wl'] / 1e6\n",
    "#     ce_ = f_ * cf.fe['wl'] / 1e6\n",
    "#     fig, ax = plt.subplots(figsize=[5, 4])\n",
    "#     plt.plot(*dnz.plotdata)\n",
    "#     plt.plot(cf.xp, cf(cf.xp))\n",
    "#     plt.xlim(plot_zlim)\n",
    "#     plt.axhline(0, color='k', linestyle='--', linewidth=1)\n",
    "# #     plt.ylim([-cf['amp']*1.3, cf['amp']*1.3])\n",
    "#     plt.xlabel(r'z ($\\mu m$)', fontsize=12)\n",
    "#     plt.ylabel(r'$\\Delta n / n$ (%)', fontsize=12)\n",
    "#     plt.title(r'f = {};  $\\lambda$ = {:.0f} $\\mu m$;  c = {:.1f} $\\pm$ {:.1f} mm/s'.format(f_, cf.fv['wl'], c_*1e3, ce_*1e3), fontsize=12)\n",
    "#     plt.tight_layout()\n",
    "#     if savefig.value: plt.savefig(suffix_samples + 'SinusoidalFitV1_{}.pdf'.format(f_))\n",
    "\n",
    "# ipywidgets.interact(temp, test=(0, len(finds)-1));"
   ]
  },
  {
   "cell_type": "code",
   "execution_count": 228,
   "metadata": {
    "code_folding": [
     0
    ],
    "collapsed": true,
    "hidden": true
   },
   "outputs": [],
   "source": [
    "# # Fits - designed for m^th mode \n",
    "# def sinusoidal(x, wl=1, amp=1, phase=0): \n",
    "#     return amp*np.cos(twopi/wl * x + phase)\n",
    "# guess = dict(wl = [wl_, [wl_*0.7, wl_*1.3]], amp=amp_, phase=np.pi)\n",
    "\n",
    "\n",
    "# def temp(test = np.random.randint(0, len(finds))):\n",
    "#     f_ = movie[0][finds[test]]\n",
    "#     dnz = df_data.loc[f_, 'dn']\n",
    "#     cf = tp.curve_fit(sinusoidal, guess, *dnz.trim(xlim=fit_zlim).plotdata, plot=False, info=True)\n",
    "#     c_ = f_ * cf.fv['wl'] / 1e6\n",
    "#     ce_ = f_ * cf.fe['wl'] / 1e6\n",
    "#     fig, ax = plt.subplots(figsize=[5, 4])\n",
    "#     plt.plot(*dnz.plotdata)\n",
    "#     plt.plot(cf.xp, cf(cf.xp))\n",
    "#     plt.xlim(plot_zlim)\n",
    "#     plt.axhline(0, color='k', linestyle='--', linewidth=1)\n",
    "# #     plt.ylim([-cf['amp']*1.3, cf['amp']*1.3])\n",
    "#     plt.xlabel(r'z ($\\mu m$)', fontsize=12)\n",
    "#     plt.ylabel(r'$\\Delta n / n$ (%)', fontsize=12)\n",
    "#     plt.title(r'f = {};  $\\lambda$ = {:.0f} $\\mu m$;  c = {:.1f} $\\pm$ {:.1f} mm/s'.format(f_, cf.fv['wl'], c_*1e3, ce_*1e3), fontsize=12)\n",
    "#     plt.tight_layout()\n",
    "#     if savefig.value: plt.savefig(suffix_samples + 'SinusoidalFitV1_{}.pdf'.format(f_))\n",
    "\n",
    "# ipywidgets.interact(temp, test=(0, len(finds)-1));"
   ]
  },
  {
   "cell_type": "code",
   "execution_count": 229,
   "metadata": {
    "code_folding": [
     0
    ],
    "hidden": true
   },
   "outputs": [
    {
     "data": {
      "application/vnd.jupyter.widget-view+json": {
       "model_id": "7577162425c64ba89bdc608764617bbd",
       "version_major": 2,
       "version_minor": 0
      },
      "text/html": [
       "<p>Failed to display Jupyter Widget of type <code>interactive</code>.</p>\n",
       "<p>\n",
       "  If you're reading this message in Jupyter Notebook or JupyterLab, it may mean\n",
       "  that the widgets JavaScript is still loading. If this message persists, it\n",
       "  likely means that the widgets JavaScript library is either not installed or\n",
       "  not enabled. See the <a href=\"https://ipywidgets.readthedocs.io/en/stable/user_install.html\">Jupyter\n",
       "  Widgets Documentation</a> for setup instructions.\n",
       "</p>\n",
       "<p>\n",
       "  If you're reading this message in another notebook frontend (for example, a static\n",
       "  rendering on GitHub or <a href=\"https://nbviewer.jupyter.org/\">NBViewer</a>),\n",
       "  it may mean that your frontend doesn't currently support widgets.\n",
       "</p>\n"
      ],
      "text/plain": [
       "interactive(children=(IntSlider(value=1, description='test', max=4), Output()), _dom_classes=('widget-interact',))"
      ]
     },
     "metadata": {},
     "output_type": "display_data"
    }
   ],
   "source": [
    "# Fits - designed for m^th mode - including exp decay \n",
    "def sinusoidal(x, wl=1, amp=1, phase=0, kappa=0): \n",
    "    return amp*np.cos(twopi/wl * x + phase) * np.exp(-kappa * x)\n",
    "guess = dict(wl = [wl_, [wl_*0.7, wl_*1.3]], amp=amp_, phase=np.pi, kappa=ka_)\n",
    "\n",
    "\n",
    "def temp(test = np.random.randint(0, len(finds))):\n",
    "    f_ = movie[0][finds[test]]\n",
    "    dnz = df_data.loc[f_, 'dn']\n",
    "    cf = tp.curve_fit(sinusoidal, guess, *dnz.trim(xlim=fit_zlim).plotdata, plot=False, info=True)\n",
    "    c_ = f_ * cf.fv['wl'] / 1e6\n",
    "    ce_ = f_ * cf.fe['wl'] / 1e6\n",
    "    fig, ax = plt.subplots(figsize=[5, 4])\n",
    "    plt.plot(*dnz.plotdata)\n",
    "    plt.plot(cf.xp, cf(cf.xp))\n",
    "    plt.xlim(plot_zlim)\n",
    "    plt.axhline(0, color='k', linestyle='--', linewidth=1)\n",
    "#     plt.ylim([-cf['amp']*1.3, cf['amp']*1.3])\n",
    "    plt.xlabel(r'z ($\\mu m$)', fontsize=12)\n",
    "    plt.ylabel(r'$\\Delta n / n$ (%)', fontsize=12)\n",
    "    plt.title(r'f = {};  $\\lambda$ = {:.0f} $\\mu m$;  c = {:.1f} $\\pm$ {:.1f} mm/s'.format(f_, cf.fv['wl'], c_*1e3, ce_*1e3), fontsize=12)\n",
    "    plt.tight_layout()\n",
    "    if savefig.value: plt.savefig(suffix_samples + 'SinusoidalFitV1_{}.pdf'.format(f_))\n",
    "\n",
    "ipywidgets.interact(temp, test=(0, len(finds)-1));"
   ]
  },
  {
   "cell_type": "code",
   "execution_count": 230,
   "metadata": {
    "code_folding": [
     0
    ],
    "hidden": true
   },
   "outputs": [
    {
     "data": {
      "image/png": "[encoded data removed]",
      "text/plain": [
       "<matplotlib.figure.Figure at 0x1a1c853cf8>"
      ]
     },
     "metadata": {},
     "output_type": "display_data"
    }
   ],
   "source": [
    "# Calculate all \n",
    "cfs = [tp.curve_fit(sinusoidal, guess, \n",
    "                    *df_data.loc[f_, 'dn'].trim(xlim=fit_zlim).plotdata) \n",
    "       for f_ in movie[0][finds]]\n",
    "N = len(cfs)\n",
    "c, ce, f, _ = np.zeros(N), np.zeros(N), np.zeros(N), np.zeros(N)\n",
    "a1, a2, a1e, a2e = np.zeros(N), np.zeros(N), np.zeros(N), np.zeros(N)\n",
    "p1, p2, p1e, p2e = np.zeros(N), np.zeros(N), np.zeros(N), np.zeros(N)\n",
    "ka, kae, _, _ = np.zeros(N), np.zeros(N), np.zeros(N), np.zeros(N)\n",
    "for i in range(N):\n",
    "    f[i] = movie[0][finds[i]]\n",
    "    a1[i] = cfs[i].fv['amp']\n",
    "    a2[i] = cfs[i].fv.get('amp2', 0)\n",
    "    a1e[i] = cfs[i].fe['amp']\n",
    "    a2e[i] = cfs[i].fe.get('amp2', 0)\n",
    "    p1[i] = cfs[i].fv['phase']\n",
    "    p2[i] = cfs[i].fv.get('phase2', 0)\n",
    "    p1e[i] = cfs[i].fe['phase']\n",
    "    p2e[i] = cfs[i].fe.get('phase2', 0)\n",
    "    c[i] = cfs[i].fv['wl'] * f[i] * 1e-6\n",
    "    ce[i] = cfs[i].fe['wl'] * f[i] * 1e-6\n",
    "    ka[i] = cfs[i].fv.get('kappa', 0)\n",
    "    kae[i] = cfs[i].fe.get('kappa', 0)\n",
    "a1, p1 = fix_amp_phase(a1, p1)\n",
    "a2, p2 = fix_amp_phase(a2, p2)\n",
    "dp = (p2-p1)%twopi\n",
    "dpe = np.sqrt(p1e**2 + p2e**2)\n",
    "ga = 2 * c * ka * (1e6/twopi)\n",
    "gae = np.sqrt((2*ce*ka)**2 + (2*c*kae)**2) * (1e6/twopi)\n",
    "\n",
    "# Averaging c - scaling the errorbars with lorentzian \n",
    "c_mean = tp.curve_fit(lambda x, a0=0: x*0 + a0, [1,], f, c, \n",
    "             ce / tp.lorentzian(f, modes.loc[m, 'f (Hz)'], modes.loc[m, 'gamma (Hz)']))\n",
    "c_v, c_e = c_mean.fv[0]*1e3, c_mean.fe[0]*1e3\n",
    "dc = (c_v - modes.loc[m, 'c (m/s)']*1e3) / (modes.loc[m, 'c (m/s)']*1e3)\n",
    "\n",
    "ga_mean = tp.curve_fit(lambda x, a0=0: x*0 + a0, [1,], f, ga, \n",
    "             gae / tp.lorentzian(f, modes.loc[m, 'f (Hz)'], modes.loc[m, 'gamma (Hz)']))\n",
    "ga_v, ga_e = ga_mean.fv[0], ga_mean.fe[0]\n",
    "dga = (ga_v - modes.loc[m, 'gamma (Hz)']) / (modes.loc[m, 'gamma (Hz)'])\n",
    "\n",
    "# Plots\n",
    "fig, ax = plt.subplots(nrows=4, figsize=[4,8], sharex=True)\n",
    "plt.sca(ax[0])\n",
    "plt.errorbar(f, c*1e3, ce*1e3, fmt='o')\n",
    "plt.errorbar(modes.loc[m, 'f (Hz)'], \n",
    "             modes.loc[m, 'c (m/s)']*1e3, \n",
    "             modes.loc[m, 'c (m/s) error']*1e3, fmt='o')\n",
    "plt.axhspan(c_v - c_e, c_v + c_e, alpha=0.2)\n",
    "plt.ylabel('c (mm/s) :: {:.1f}%'.format(dc*100), fontsize=12)\n",
    "plt.title('c From Box L = {:.1f}'.format(modes.loc[m, 'c (m/s)']*1e3), fontsize=12)\n",
    "plt.sca(ax[1])\n",
    "plt.errorbar(f, a1, a1e, fmt='o')\n",
    "plt.errorbar(f, a2, a2e, fmt='o')\n",
    "plt.ylabel('Amplitude', fontsize=12)\n",
    "plt.ylim([0, None])\n",
    "plt.sca(ax[2])\n",
    "plt.errorbar(f, dp, dpe, fmt='o')\n",
    "plt.ylabel('$\\Delta \\phi$', fontsize=12)\n",
    "plt.sca(ax[3])\n",
    "plt.errorbar(f, ga, gae, fmt='o')\n",
    "plt.errorbar(modes.loc[m, 'f (Hz)'], \n",
    "             modes.loc[m, 'gamma (Hz)'], \n",
    "             modes.loc[m, 'gamma (Hz) error'], fmt='o')\n",
    "plt.axhspan(ga_v - ga_e, ga_v + ga_e, alpha=0.2)\n",
    "plt.ylabel('$\\Gamma / 2\\pi$ (Hz)', fontsize=12)\n",
    "ax[-1].set_xlabel('f (Hz)', fontsize=12)\n",
    "plt.tight_layout(pad=0.01)\n",
    "plt.savefig(suffix_ft + 'SinusoidalFits_{}Mode.pdf'.format(m))"
   ]
  },
  {
   "cell_type": "code",
   "execution_count": 231,
   "metadata": {
    "hidden": true
   },
   "outputs": [
    {
     "name": "stdout",
     "output_type": "stream",
     "text": [
      "13.9230934494 0.600240151641\n"
     ]
    }
   ],
   "source": [
    "print(c_v, c_e)"
   ]
  },
  {
   "cell_type": "code",
   "execution_count": 232,
   "metadata": {
    "code_folding": [
     0
    ],
    "hidden": true
   },
   "outputs": [
    {
     "data": {
      "application/javascript": [
       "IPython.notebook.kernel.execute(\"theNotebook = \" + \"'\"+IPython.notebook.notebook_name+\"'\");"
      ],
      "text/plain": [
       "<IPython.core.display.Javascript object>"
      ]
     },
     "metadata": {},
     "output_type": "display_data"
    }
   ],
   "source": [
    "# Copy the file \n",
    "if savefig.value:\n",
    "    shutil.copyfile(getNotebookName(), suffix + 'BoxShakingAnalyzer.ipynb')"
   ]
  },
  {
   "cell_type": "code",
   "execution_count": null,
   "metadata": {
    "collapsed": true,
    "hidden": true
   },
   "outputs": [],
   "source": []
  },
  {
   "cell_type": "code",
   "execution_count": null,
   "metadata": {
    "collapsed": true,
    "hidden": true
   },
   "outputs": [],
   "source": []
  },
  {
   "cell_type": "code",
   "execution_count": null,
   "metadata": {
    "collapsed": true,
    "hidden": true
   },
   "outputs": [],
   "source": []
  },
  {
   "cell_type": "markdown",
   "metadata": {
    "heading_collapsed": true
   },
   "source": [
    "## Fitting Box Modes "
   ]
  },
  {
   "cell_type": "code",
   "execution_count": 116,
   "metadata": {
    "collapsed": true,
    "hidden": true
   },
   "outputs": [],
   "source": [
    "shift = 0\n",
    "if zero_z == 'center': shift -= Lum/2\n",
    "elif zero_z == 'top': shift -= Lum\n",
    "fit_zlim = (np.array([0 + 0, Lum - 0]))*1e-6 + shift*1e-6\n",
    "xp = np.linspace(0, Lum, 100) + shift"
   ]
  },
  {
   "cell_type": "code",
   "execution_count": 117,
   "metadata": {
    "code_folding": [
     9
    ],
    "hidden": true
   },
   "outputs": [
    {
     "data": {
      "application/vnd.jupyter.widget-view+json": {
       "model_id": "7e3bf60c7aa14761810ce6f079be9738",
       "version_major": 2,
       "version_minor": 0
      },
      "text/html": [
       "<p>Failed to display Jupyter Widget of type <code>interactive</code>.</p>\n",
       "<p>\n",
       "  If you're reading this message in Jupyter Notebook or JupyterLab, it may mean\n",
       "  that the widgets JavaScript is still loading. If this message persists, it\n",
       "  likely means that the widgets JavaScript library is either not installed or\n",
       "  not enabled. See the <a href=\"https://ipywidgets.readthedocs.io/en/stable/user_install.html\">Jupyter\n",
       "  Widgets Documentation</a> for setup instructions.\n",
       "</p>\n",
       "<p>\n",
       "  If you're reading this message in another notebook frontend (for example, a static\n",
       "  rendering on GitHub or <a href=\"https://nbviewer.jupyter.org/\">NBViewer</a>),\n",
       "  it may mean that your frontend doesn't currently support widgets.\n",
       "</p>\n"
      ],
      "text/plain": [
       "interactive(children=(IntSlider(value=18, description='test', max=18), Output()), _dom_classes=('widget-interact',))"
      ]
     },
     "metadata": {},
     "output_type": "display_data"
    }
   ],
   "source": [
    "# Fitting with discrete box modes \n",
    "fit_keys = ['a{}'.format(i) for i in range(21)]\n",
    "guess = {k:1 for k in fit_keys}\n",
    "fixed = dict(L = Lum * 1.05, phase=0, )\n",
    "\n",
    "def compute_ft_box_fits_v1(dn_n):\n",
    "    cf = tp.curve_fit(discrete_modes_v3, guess, *dn_n.trim(xlim=fit_zlim).plotdata, fixed=fixed)\n",
    "    return (np.array([[i,cf[k]] for i,k in enumerate(fit_keys)]).T, cf)\n",
    "\n",
    "def temp(test = 32):\n",
    "    r = df_data.iloc[test]\n",
    "    c_fit = r['dn/n'].trim(xlim=fit_zlim)\n",
    "    c_fit = tp.Curve(*c_fit.plotdata)\n",
    "    ft, cf = compute_ft_box_fits_v1(r['dn/n'])\n",
    "    # Plot \n",
    "    fig, ax = plt.subplots(ncols=2, figsize=[12,4])\n",
    "    plt.sca(ax[0])\n",
    "    plt.plot(*r['dn/n'].plotdata)\n",
    "    plt.plot(xp, cf(xp))\n",
    "    plt.axvspan(*fit_zlim*1e6, color='k', alpha=0.05)\n",
    "    plt.axhline(0, c='k', alpha=0.3)\n",
    "    plt.axvline(0, c='k', alpha=0.3)\n",
    "    plt.xlim(plot_zlim)\n",
    "    amp = np.max(np.abs(c_fit.y)) * 2\n",
    "    plt.ylim([-amp, amp])\n",
    "    plt.sca(ax[1])\n",
    "    plt.bar(*ft)\n",
    "    plt.tight_layout()\n",
    "    plt.show()\n",
    "    \n",
    "    \n",
    "    \n",
    "if df_data.shape[0] == 1: temp(0)\n",
    "else: ipywidgets.interact(temp, test=(0, df_data.shape[0]-1))"
   ]
  },
  {
   "cell_type": "code",
   "execution_count": 118,
   "metadata": {
    "code_folding": [],
    "hidden": true
   },
   "outputs": [
    {
     "data": {
      "application/vnd.jupyter.widget-view+json": {
       "model_id": "267857a49e8e4178832ca3211225772e",
       "version_major": 2,
       "version_minor": 0
      },
      "text/html": [
       "<p>Failed to display Jupyter Widget of type <code>HBox</code>.</p>\n",
       "<p>\n",
       "  If you're reading this message in Jupyter Notebook or JupyterLab, it may mean\n",
       "  that the widgets JavaScript is still loading. If this message persists, it\n",
       "  likely means that the widgets JavaScript library is either not installed or\n",
       "  not enabled. See the <a href=\"https://ipywidgets.readthedocs.io/en/stable/user_install.html\">Jupyter\n",
       "  Widgets Documentation</a> for setup instructions.\n",
       "</p>\n",
       "<p>\n",
       "  If you're reading this message in another notebook frontend (for example, a static\n",
       "  rendering on GitHub or <a href=\"https://nbviewer.jupyter.org/\">NBViewer</a>),\n",
       "  it may mean that your frontend doesn't currently support widgets.\n",
       "</p>\n"
      ],
      "text/plain": [
       "HBox(children=(IntProgress(value=0, max=19), HTML(value='')))"
      ]
     },
     "metadata": {},
     "output_type": "display_data"
    },
    {
     "name": "stdout",
     "output_type": "stream",
     "text": [
      "\n"
     ]
    },
    {
     "data": {
      "image/png": "[encoded data removed]",
      "text/plain": [
       "<matplotlib.figure.Figure at 0x1a15e48320>"
      ]
     },
     "metadata": {},
     "output_type": "display_data"
    }
   ],
   "source": [
    "# Compute ft \n",
    "ft = [df_data.index.values, np.arange(len(fit_keys)), \n",
    "      np.array([compute_ft_box_fits_v1(c)[0][1] for c in tqdm(df_data['dn/n'])]).T]\n",
    "\n",
    "# Plots \n",
    "clim_ft = np.max(np.abs(ft[2])) * 0.5\n",
    "fig = plt.figure(figsize=[15, 5])\n",
    "plt.pcolor(*movie_pad(ft), cmap='viridis', vmin=-clim_ft, vmax=clim_ft, linewidth=0)\n",
    "plt.ylabel(r'$k$ ($\\pi/L$)', fontsize=15)\n",
    "plt.xlabel(x_var_label, fontsize=15)\n",
    "plt.title(r'L = {:.2f} $\\mu m$'.format(Lum), fontsize=15)\n",
    "plt.xticks(fontsize=12)\n",
    "plt.yticks(fontsize=12)\n",
    "cbr = plt.colorbar()\n",
    "cbr.set_label(label=r'Fourier Amplitude ($\\Delta \\rho / \\rho$ %)', fontsize=15)\n",
    "plt.tight_layout()"
   ]
  },
  {
   "cell_type": "code",
   "execution_count": 119,
   "metadata": {
    "collapsed": true,
    "hidden": true
   },
   "outputs": [],
   "source": [
    "# Lorentzian Fit Info \n",
    "mode_num = np.array([1,2,3,4,5,6,7])\n",
    "ref_freq_guess = 75\n",
    "gamma_guess = mode_num * 10\n",
    "\n",
    "fit_lims = {'1' : [0, 100], '2':[90, 200], '3':[130, 300], '4':[150, 500], '5':[200,600], '6' : [320, 560], '7':[200,700]}\n",
    "fit_lims = {'1' : [0, 100], '2':[100, 200], '3':[130, 300], '4':[170, 500], }"
   ]
  },
  {
   "cell_type": "code",
   "execution_count": 120,
   "metadata": {
    "code_folding": [
     0
    ],
    "hidden": true
   },
   "outputs": [
    {
     "name": "stdout",
     "output_type": "stream",
     "text": [
      "X and Y limits given leads to too little points. All are being used\n",
      "CAN'T FIT, Returning Original Guess: Details of Error :: Optimal parameters not found: Number of calls to function has reached maxfev = 800.\n"
     ]
    },
    {
     "data": {
      "application/vnd.jupyter.widget-view+json": {
       "model_id": "31b63437731d42d3b9d3ac070e5d7bb9",
       "version_major": 2,
       "version_minor": 0
      },
      "text/html": [
       "<p>Failed to display Jupyter Widget of type <code>interactive</code>.</p>\n",
       "<p>\n",
       "  If you're reading this message in Jupyter Notebook or JupyterLab, it may mean\n",
       "  that the widgets JavaScript is still loading. If this message persists, it\n",
       "  likely means that the widgets JavaScript library is either not installed or\n",
       "  not enabled. See the <a href=\"https://ipywidgets.readthedocs.io/en/stable/user_install.html\">Jupyter\n",
       "  Widgets Documentation</a> for setup instructions.\n",
       "</p>\n",
       "<p>\n",
       "  If you're reading this message in another notebook frontend (for example, a static\n",
       "  rendering on GitHub or <a href=\"https://nbviewer.jupyter.org/\">NBViewer</a>),\n",
       "  it may mean that your frontend doesn't currently support widgets.\n",
       "</p>\n"
      ],
      "text/plain": [
       "interactive(children=(IntSlider(value=4, description='test', max=6), Output()), _dom_classes=('widget-interact',))"
      ]
     },
     "metadata": {},
     "output_type": "display_data"
    }
   ],
   "source": [
    "# Lorentzian Fits \n",
    "mode_fits = []\n",
    "\n",
    "for i,m in enumerate(mode_num):\n",
    "    ki = np.argmin(np.abs(ft[1] - m))\n",
    "    guess = dict(x0 = ref_freq_guess*m, gamma = gamma_guess[i], amp=1,)\n",
    "    c = tp.Curve(ft[0], ft[2][m,:]).trim(xlim=fit_lims.get(str(mode_num[i]), [-np.inf, np.inf]))\n",
    "    cf = tp.curve_fit(tp.lorentzian, guess, *c.data, plot=False, info=False)\n",
    "    mode_fits.append(cf)\n",
    "\n",
    "# Slider plot \n",
    "def temp(test = 4):\n",
    "    ax = mode_fits[test].plot(fiterrors=False)\n",
    "    ax[0].set_title('mode num {}'.format(mode_num[test]))\n",
    "    plt.sca(ax[0])\n",
    "#     if savefig.value: plt.savefig(suffix + 'SampleFits_Mode{}.pdf'.format(mode_num[test]))\n",
    "    plt.show()\n",
    "w = ipywidgets.interact(temp, test=(0, len(mode_num)-1))"
   ]
  },
  {
   "cell_type": "code",
   "execution_count": 121,
   "metadata": {
    "hidden": true
   },
   "outputs": [
    {
     "data": {
      "text/html": [
       "<div>\n",
       "<style>\n",
       "    .dataframe thead tr:only-child th {\n",
       "        text-align: right;\n",
       "    }\n",
       "\n",
       "    .dataframe thead th {\n",
       "        text-align: left;\n",
       "    }\n",
       "\n",
       "    .dataframe tbody tr th {\n",
       "        vertical-align: top;\n",
       "    }\n",
       "</style>\n",
       "<table border=\"1\" class=\"dataframe\">\n",
       "  <thead>\n",
       "    <tr style=\"text-align: right;\">\n",
       "      <th></th>\n",
       "      <th>mode num</th>\n",
       "      <th>k (1/m)</th>\n",
       "      <th>f (Hz)</th>\n",
       "      <th>f (Hz) error</th>\n",
       "      <th>f0 (Hz)</th>\n",
       "      <th>f0 (Hz) error</th>\n",
       "      <th>w (1/s)</th>\n",
       "      <th>w (1/s) error</th>\n",
       "      <th>gamma (Hz)</th>\n",
       "      <th>gamma (Hz) error</th>\n",
       "      <th>gamma (1/s)</th>\n",
       "      <th>gamma (1/s) error</th>\n",
       "      <th>FT amplitude (arb.)</th>\n",
       "    </tr>\n",
       "  </thead>\n",
       "  <tbody>\n",
       "    <tr>\n",
       "      <th>0</th>\n",
       "      <td>1</td>\n",
       "      <td>32505.189811</td>\n",
       "      <td>-4.178581e+06</td>\n",
       "      <td>1.300179e+11</td>\n",
       "      <td>-4.178581e+06</td>\n",
       "      <td>1.300179e+11</td>\n",
       "      <td>-2.625480e+07</td>\n",
       "      <td>8.169263e+11</td>\n",
       "      <td>46557.275275</td>\n",
       "      <td>5.316263e+11</td>\n",
       "      <td>292527.987950</td>\n",
       "      <td>3.340307e+12</td>\n",
       "      <td>-15397.891208</td>\n",
       "    </tr>\n",
       "    <tr>\n",
       "      <th>1</th>\n",
       "      <td>2</td>\n",
       "      <td>65010.379622</td>\n",
       "      <td>1.500000e+02</td>\n",
       "      <td>NaN</td>\n",
       "      <td>7.500000e+01</td>\n",
       "      <td>NaN</td>\n",
       "      <td>9.424778e+02</td>\n",
       "      <td>NaN</td>\n",
       "      <td>20.000000</td>\n",
       "      <td>NaN</td>\n",
       "      <td>125.663706</td>\n",
       "      <td>NaN</td>\n",
       "      <td>1.000000</td>\n",
       "    </tr>\n",
       "    <tr>\n",
       "      <th>2</th>\n",
       "      <td>3</td>\n",
       "      <td>97515.569434</td>\n",
       "      <td>2.199621e+02</td>\n",
       "      <td>3.032387e+00</td>\n",
       "      <td>7.332068e+01</td>\n",
       "      <td>1.010796e+00</td>\n",
       "      <td>1.382062e+03</td>\n",
       "      <td>1.905305e+01</td>\n",
       "      <td>30.434734</td>\n",
       "      <td>1.049454e+01</td>\n",
       "      <td>191.227073</td>\n",
       "      <td>6.593912e+01</td>\n",
       "      <td>0.612469</td>\n",
       "    </tr>\n",
       "    <tr>\n",
       "      <th>3</th>\n",
       "      <td>4</td>\n",
       "      <td>130020.759245</td>\n",
       "      <td>2.226925e+02</td>\n",
       "      <td>1.340856e+00</td>\n",
       "      <td>5.567313e+01</td>\n",
       "      <td>3.352139e-01</td>\n",
       "      <td>1.399218e+03</td>\n",
       "      <td>8.424844e+00</td>\n",
       "      <td>11.337195</td>\n",
       "      <td>4.047780e+00</td>\n",
       "      <td>71.233695</td>\n",
       "      <td>2.543295e+01</td>\n",
       "      <td>1.307856</td>\n",
       "    </tr>\n",
       "    <tr>\n",
       "      <th>4</th>\n",
       "      <td>5</td>\n",
       "      <td>162525.949056</td>\n",
       "      <td>2.166862e+02</td>\n",
       "      <td>2.108256e+00</td>\n",
       "      <td>4.333724e+01</td>\n",
       "      <td>4.216513e-01</td>\n",
       "      <td>1.361480e+03</td>\n",
       "      <td>1.324657e+01</td>\n",
       "      <td>17.320528</td>\n",
       "      <td>6.924909e+00</td>\n",
       "      <td>108.828089</td>\n",
       "      <td>4.351049e+01</td>\n",
       "      <td>-0.701029</td>\n",
       "    </tr>\n",
       "    <tr>\n",
       "      <th>5</th>\n",
       "      <td>6</td>\n",
       "      <td>195031.138867</td>\n",
       "      <td>2.225592e+02</td>\n",
       "      <td>2.250398e+00</td>\n",
       "      <td>3.709320e+01</td>\n",
       "      <td>3.750663e-01</td>\n",
       "      <td>1.398381e+03</td>\n",
       "      <td>1.413967e+01</td>\n",
       "      <td>9.543123</td>\n",
       "      <td>6.705226e+00</td>\n",
       "      <td>59.961209</td>\n",
       "      <td>4.213018e+01</td>\n",
       "      <td>-0.793212</td>\n",
       "    </tr>\n",
       "    <tr>\n",
       "      <th>6</th>\n",
       "      <td>7</td>\n",
       "      <td>227536.328679</td>\n",
       "      <td>7.213980e+05</td>\n",
       "      <td>1.501459e+10</td>\n",
       "      <td>1.030569e+05</td>\n",
       "      <td>2.144941e+09</td>\n",
       "      <td>4.532677e+06</td>\n",
       "      <td>9.433945e+10</td>\n",
       "      <td>21874.883040</td>\n",
       "      <td>7.373732e+11</td>\n",
       "      <td>137443.943715</td>\n",
       "      <td>4.633053e+12</td>\n",
       "      <td>418.855613</td>\n",
       "    </tr>\n",
       "  </tbody>\n",
       "</table>\n",
       "</div>"
      ],
      "text/plain": [
       "   mode num        k (1/m)        f (Hz)  f (Hz) error       f0 (Hz)  \\\n",
       "0         1   32505.189811 -4.178581e+06  1.300179e+11 -4.178581e+06   \n",
       "1         2   65010.379622  1.500000e+02           NaN  7.500000e+01   \n",
       "2         3   97515.569434  2.199621e+02  3.032387e+00  7.332068e+01   \n",
       "3         4  130020.759245  2.226925e+02  1.340856e+00  5.567313e+01   \n",
       "4         5  162525.949056  2.166862e+02  2.108256e+00  4.333724e+01   \n",
       "5         6  195031.138867  2.225592e+02  2.250398e+00  3.709320e+01   \n",
       "6         7  227536.328679  7.213980e+05  1.501459e+10  1.030569e+05   \n",
       "\n",
       "   f0 (Hz) error       w (1/s)  w (1/s) error    gamma (Hz)  gamma (Hz) error  \\\n",
       "0   1.300179e+11 -2.625480e+07   8.169263e+11  46557.275275      5.316263e+11   \n",
       "1            NaN  9.424778e+02            NaN     20.000000               NaN   \n",
       "2   1.010796e+00  1.382062e+03   1.905305e+01     30.434734      1.049454e+01   \n",
       "3   3.352139e-01  1.399218e+03   8.424844e+00     11.337195      4.047780e+00   \n",
       "4   4.216513e-01  1.361480e+03   1.324657e+01     17.320528      6.924909e+00   \n",
       "5   3.750663e-01  1.398381e+03   1.413967e+01      9.543123      6.705226e+00   \n",
       "6   2.144941e+09  4.532677e+06   9.433945e+10  21874.883040      7.373732e+11   \n",
       "\n",
       "     gamma (1/s)  gamma (1/s) error  FT amplitude (arb.)  \n",
       "0  292527.987950       3.340307e+12        -15397.891208  \n",
       "1     125.663706                NaN             1.000000  \n",
       "2     191.227073       6.593912e+01             0.612469  \n",
       "3      71.233695       2.543295e+01             1.307856  \n",
       "4     108.828089       4.351049e+01            -0.701029  \n",
       "5      59.961209       4.213018e+01            -0.793212  \n",
       "6  137443.943715       4.633053e+12           418.855613  "
      ]
     },
     "execution_count": 121,
     "metadata": {},
     "output_type": "execute_result"
    }
   ],
   "source": [
    "# Extract Data \n",
    "modes = pd.DataFrame()\n",
    "modes['mode num'] = mode_num\n",
    "modes['k (1/m)'] = mode_num * np.pi/Lum * 1e6\n",
    "modes['f (Hz)'] = [cf['x0'] for cf in mode_fits]\n",
    "modes['f (Hz) error'] = [cf.fe['x0'] for cf in mode_fits]\n",
    "modes['f0 (Hz)'] = modes['f (Hz)'] / modes['mode num']\n",
    "modes['f0 (Hz) error'] = modes['f (Hz) error'] / modes['mode num']\n",
    "modes['w (1/s)'] = modes['f (Hz)'] * twopi\n",
    "modes['w (1/s) error'] = modes['f (Hz) error'] * twopi\n",
    "modes['gamma (Hz)'] = np.abs([cf['gamma'] for cf in mode_fits])\n",
    "modes['gamma (Hz) error'] = [cf.fe['gamma'] for cf in mode_fits]\n",
    "modes['gamma (1/s)'] = modes['gamma (Hz)'] * twopi\n",
    "modes['gamma (1/s) error'] = modes['gamma (Hz) error'] * twopi\n",
    "modes['FT amplitude (arb.)'] = [cf['amp'] for cf in mode_fits]\n",
    "\n",
    "modes"
   ]
  },
  {
   "cell_type": "code",
   "execution_count": 122,
   "metadata": {
    "hidden": true
   },
   "outputs": [
    {
     "data": {
      "image/png": "[encoded data removed]",
      "text/plain": [
       "<matplotlib.figure.Figure at 0x10fce4da0>"
      ]
     },
     "metadata": {},
     "output_type": "display_data"
    }
   ],
   "source": [
    "# Plot Freq vs Mode Num \n",
    "fig, ax = plt.subplots(figsize=[6,6])\n",
    "plt.errorbar(modes['mode num'], modes['f (Hz)'], modes['f (Hz) error'], fmt='bo')\n",
    "cf = tp.curve_fit(lambda x, a1=1: a1*x, [1,], modes['mode num'], modes['f (Hz)'], modes['f (Hz) error'], info=False, plot=False)\n",
    "xp = np.linspace(0, modes['mode num'].max() + 0.4)\n",
    "plt.plot(xp, cf(xp), 'k-')\n",
    "plt.xlim([0, None])\n",
    "plt.ylim([0, None])\n",
    "plt.xlabel('Mode Number', fontsize=15)\n",
    "plt.ylabel(r'$\\nu$ (Hz)', fontsize=15)\n",
    "plt.title(r'Fundamental Frequency {:.2f} $\\pm$ {:.2f} Hz '.format(cf[0], cf.fe[0]), fontsize=15)\n",
    "plt.xticks(fontsize=12)\n",
    "plt.yticks(fontsize=12)\n",
    "plt.tight_layout()"
   ]
  },
  {
   "cell_type": "code",
   "execution_count": 123,
   "metadata": {
    "hidden": true
   },
   "outputs": [
    {
     "data": {
      "image/png": "[encoded data removed]",
      "text/plain": [
       "<matplotlib.figure.Figure at 0x1a15c55e10>"
      ]
     },
     "metadata": {},
     "output_type": "display_data"
    }
   ],
   "source": [
    "# Plot Freq vs Mode Num \n",
    "fig, ax = plt.subplots(figsize=[6,6])\n",
    "plt.errorbar(modes['k (1/m)']*1e-6, modes['w (1/s)'], modes['w (1/s) error'], fmt='bo')\n",
    "cf = tp.curve_fit(lambda x, a1=1: a1*x, [1,], modes['k (1/m)']*1e-6, modes['w (1/s)'], modes['w (1/s) error'], info=False, plot=False)\n",
    "dict_data['speed fit'] = cf\n",
    "xp = np.linspace(0, modes['k (1/m)'].max()*1e-6 *1.05)\n",
    "plt.plot(xp, cf(xp), 'k-')\n",
    "plt.xlim([0, None])\n",
    "plt.ylim([0, None])\n",
    "plt.xlabel(r'$k$ (1/$\\mu$m)', fontsize=15)\n",
    "plt.ylabel(r'$\\omega$ (1/s)', fontsize=15)\n",
    "plt.title(r'Speed of Sound = {:.2f} $\\pm$ {:.2f} mm/s '.format(cf[0]*1e-3, cf.fe[0]*1e-3), fontsize=15)\n",
    "plt.xticks(fontsize=12)\n",
    "plt.yticks(fontsize=12)\n",
    "plt.tight_layout()"
   ]
  },
  {
   "cell_type": "code",
   "execution_count": 124,
   "metadata": {
    "hidden": true
   },
   "outputs": [
    {
     "data": {
      "image/png": "[encoded data removed]",
      "text/plain": [
       "<matplotlib.figure.Figure at 0x1a168c6048>"
      ]
     },
     "metadata": {},
     "output_type": "display_data"
    }
   ],
   "source": [
    "# Plot Gamma vs Freq \n",
    "fig, ax = plt.subplots(figsize=[6,6])\n",
    "plt.errorbar(modes['f (Hz)'], modes['gamma (Hz)'], xerr=modes['f (Hz) error'], yerr=modes['gamma (Hz) error'], fmt='bo')\n",
    "plt.xlabel(r'$\\nu$ (Hz)', fontsize=15)\n",
    "plt.ylabel(r'$\\Gamma / 2 \\pi$ (Hz)', fontsize=15)\n",
    "plt.xticks(fontsize=12)\n",
    "plt.yticks(fontsize=12)\n",
    "plt.title(r'$\\Gamma$ is FWHM', fontsize=15)\n",
    "plt.xlim([0, None])\n",
    "plt.ylim([0, None])\n",
    "plt.tight_layout()"
   ]
  },
  {
   "cell_type": "code",
   "execution_count": null,
   "metadata": {
    "collapsed": true,
    "hidden": true
   },
   "outputs": [],
   "source": []
  },
  {
   "cell_type": "code",
   "execution_count": null,
   "metadata": {
    "collapsed": true,
    "hidden": true
   },
   "outputs": [],
   "source": []
  },
  {
   "cell_type": "code",
   "execution_count": null,
   "metadata": {
    "collapsed": true,
    "hidden": true
   },
   "outputs": [],
   "source": []
  },
  {
   "cell_type": "markdown",
   "metadata": {
    "heading_collapsed": true
   },
   "source": [
    "## Fitting Box Modes - SHGs only"
   ]
  },
  {
   "cell_type": "code",
   "execution_count": null,
   "metadata": {
    "collapsed": true,
    "hidden": true
   },
   "outputs": [],
   "source": []
  },
  {
   "cell_type": "markdown",
   "metadata": {},
   "source": [
    "## Free Evolution"
   ]
  },
  {
   "cell_type": "code",
   "execution_count": 80,
   "metadata": {
    "collapsed": true
   },
   "outputs": [],
   "source": [
    "mode_num = 2 \n",
    "res_freq = 160/2\n",
    "\n",
    "c_ft_t = tp.Curve(ft[0]*1e-3, ft[2][mode_num,:])"
   ]
  },
  {
   "cell_type": "code",
   "execution_count": 81,
   "metadata": {},
   "outputs": [
    {
     "name": "stdout",
     "output_type": "stream",
     "text": [
      "          FitValue  FitError Units   Guess  LowerBound  UpperBound  FitError%\n",
      "freq    175.472404  1.768209  None  160.00        -inf         inf   1.007685\n",
      "amp     -11.672211  1.822350  None    6.00        -inf         inf  15.612720\n",
      "phase     0.505103  0.121876  None    0.00        -inf         inf  24.128875\n",
      "tau       0.018756  0.004298  None    0.02        -inf         inf  22.916963\n",
      "offset    0.926305  0.386624  None    0.00        -inf         inf  41.738273\n"
     ]
    },
    {
     "data": {
      "image/png": "[encoded data removed]",
      "text/plain": [
       "<matplotlib.figure.Figure at 0x1a21e32e80>"
      ]
     },
     "metadata": {},
     "output_type": "display_data"
    }
   ],
   "source": [
    "# Fit Exponential Sinusoidal \n",
    "def exp_sin(t, freq=100, amp=1, phase=0, tau=1, offset=0,):\n",
    "    return amp * np.sin(twopi*freq*t - phase) * np.exp(-t/tau) + offset \n",
    "guess = dict(freq = res_freq*mode_num, amp=6, phase=0, offset=0, tau=20e-3)\n",
    "cf = tp.curve_fit(exp_sin, guess, c_ft_t.x, c_ft_t.y, plot=True, info=True)"
   ]
  },
  {
   "cell_type": "code",
   "execution_count": null,
   "metadata": {
    "collapsed": true
   },
   "outputs": [],
   "source": []
  },
  {
   "cell_type": "markdown",
   "metadata": {
    "heading_collapsed": true
   },
   "source": [
    "# Spatial Decay"
   ]
  },
  {
   "cell_type": "code",
   "execution_count": 333,
   "metadata": {
    "hidden": true
   },
   "outputs": [
    {
     "name": "stdout",
     "output_type": "stream",
     "text": [
      "450 -- 1.80\n",
      "550 -- 2.20\n",
      "650 -- 2.60\n",
      "750 -- 3.00\n",
      "850 -- 3.40\n",
      "950 -- 3.80\n",
      "1050 -- 4.20\n",
      "1150 -- 4.60\n",
      "1250 -- 5.00\n"
     ]
    }
   ],
   "source": [
    "# Cycle Selector \n",
    "_speed = 20e-3\n",
    "_length = 80e-6\n",
    "_freq = np.arange(450, 1300, 100)\n",
    "_cycles = _length / _speed * _freq\n",
    "for f,c in zip(_freq, _cycles): print('{} -- {:.2f}'.format(f, c))"
   ]
  },
  {
   "cell_type": "code",
   "execution_count": 334,
   "metadata": {
    "code_folding": [
     0
    ],
    "hidden": true
   },
   "outputs": [
    {
     "data": {
      "application/vnd.jupyter.widget-view+json": {
       "model_id": "629cc947575445f2aa7c42d465083038",
       "version_major": 2,
       "version_minor": 0
      },
      "text/html": [
       "<p>Failed to display Jupyter Widget of type <code>Checkbox</code>.</p>\n",
       "<p>\n",
       "  If you're reading this message in Jupyter Notebook or JupyterLab, it may mean\n",
       "  that the widgets JavaScript is still loading. If this message persists, it\n",
       "  likely means that the widgets JavaScript library is either not installed or\n",
       "  not enabled. See the <a href=\"https://ipywidgets.readthedocs.io/en/stable/user_install.html\">Jupyter\n",
       "  Widgets Documentation</a> for setup instructions.\n",
       "</p>\n",
       "<p>\n",
       "  If you're reading this message in another notebook frontend (for example, a static\n",
       "  rendering on GitHub or <a href=\"https://nbviewer.jupyter.org/\">NBViewer</a>),\n",
       "  it may mean that your frontend doesn't currently support widgets.\n",
       "</p>\n"
      ],
      "text/plain": [
       "Checkbox(value=True, description='Save Figs')"
      ]
     },
     "metadata": {},
     "output_type": "display_data"
    },
    {
     "data": {
      "text/plain": [
       "'07-18-2017_21_40_BoxShaking/Spatial Decay/'"
      ]
     },
     "execution_count": 334,
     "metadata": {},
     "output_type": "execute_result"
    }
   ],
   "source": [
    "# Start a figure folder \n",
    "display(savefig)\n",
    "suffix_sd = os.path.join(folder_name, 'Spatial Decay','')\n",
    "os.makedirs(os.path.join(suffix_sd), exist_ok=True)\n",
    "suffix_sd"
   ]
  },
  {
   "cell_type": "code",
   "execution_count": 335,
   "metadata": {
    "collapsed": true,
    "hidden": true
   },
   "outputs": [],
   "source": [
    "# Dataset Info \n",
    "speed_sound_guess = 12 * 1e-3\n",
    "fit_lims = np.array([10, 60])\n",
    "plot_lims = np.array([-10, 100])\n",
    "fit_lims_range_ends = [[10, 30], [60, 80]]"
   ]
  },
  {
   "cell_type": "code",
   "execution_count": 336,
   "metadata": {
    "code_folding": [
     0
    ],
    "collapsed": true,
    "hidden": true
   },
   "outputs": [],
   "source": [
    "# Function Definitions \n",
    "def sin_decay(x, wavelength=1, kappa=0, amplitude=1, phase=0, a0=0, a1=0, a2=0):\n",
    "    return amplitude * np.exp(- x * kappa) * np.sin(((twopi/wavelength)**2 - (kappa)**2)**(1/2) * x - phase) + a0 + a1*x + a2*x**2"
   ]
  },
  {
   "cell_type": "code",
   "execution_count": 337,
   "metadata": {
    "code_folding": [
     0
    ],
    "collapsed": true,
    "hidden": true
   },
   "outputs": [],
   "source": [
    "# Prepare for fit \n",
    "df_data['fitres'] = None\n",
    "df_data['fit_guess'] = [dict(wavelength = [speed_sound_guess / r.freq * 1e6, r'$\\mu m$', [5, 50]], \n",
    "                             kappa = [0.03, r'1/$\\mu m$', [0, 0.15]], \n",
    "                             amplitude = [2.5, '%', [0, 20]], phase = [0, 'rad'],\n",
    "                             a0 = 0.1,) \n",
    "                        for n,r in df_data.iterrows()]\n",
    "df_data['fit_fixed'] = [dict() for n,r in df_data.iterrows()]\n",
    "\n",
    "# Override guess for specific dataset \n",
    "df_data.loc[0, 'fit_guess']['a1'] = 0.1\n",
    "\n",
    "# Remove some data points \n",
    "df_data['use'] = True\n",
    "# df_data.loc[900, 'use'] = True"
   ]
  },
  {
   "cell_type": "code",
   "execution_count": 338,
   "metadata": {
    "code_folding": [
     0
    ],
    "hidden": true
   },
   "outputs": [
    {
     "data": {
      "application/vnd.jupyter.widget-view+json": {
       "model_id": "173b10b6b7da479aa3998e5bb23755d4",
       "version_major": 2,
       "version_minor": 0
      },
      "text/html": [
       "<p>Failed to display Jupyter Widget of type <code>interactive</code>.</p>\n",
       "<p>\n",
       "  If you're reading this message in Jupyter Notebook or JupyterLab, it may mean\n",
       "  that the widgets JavaScript is still loading. If this message persists, it\n",
       "  likely means that the widgets JavaScript library is either not installed or\n",
       "  not enabled. See the <a href=\"https://ipywidgets.readthedocs.io/en/stable/user_install.html\">Jupyter\n",
       "  Widgets Documentation</a> for setup instructions.\n",
       "</p>\n",
       "<p>\n",
       "  If you're reading this message in another notebook frontend (for example, a static\n",
       "  rendering on GitHub or <a href=\"https://nbviewer.jupyter.org/\">NBViewer</a>),\n",
       "  it may mean that your frontend doesn't currently support widgets.\n",
       "</p>\n"
      ],
      "text/plain": [
       "interactive(children=(IntSlider(value=6, description='test', max=17), IntSlider(value=10, description='fl1', max=40, step=2), IntSlider(value=60, description='fl2', max=96, min=50, step=2), IntSlider(value=0, description='amp', max=20), Output()), _dom_classes=('widget-interact',))"
      ]
     },
     "metadata": {},
     "output_type": "display_data"
    }
   ],
   "source": [
    "# Fit and plot \n",
    "use = 'dn/n'\n",
    "test=np.random.randint(0, df_data.shape[0])\n",
    "\n",
    "def temp_range(test=test, fl1=fit_lims[0], fl2=fit_lims[1], ax=None):\n",
    "    r = df_data.iloc[test]\n",
    "    c = tp.Curve(r[use].x*1e6, r[use].y * 100)\n",
    "    fit_lims_range = [np.arange(*fit_lims_range_ends[0], c.dx), np.arange(*fit_lims_range_ends[1], c.dx)]\n",
    "    fitres_range = []\n",
    "    for fl in fit_lims_range[0]:\n",
    "        cf = tp.curve_fit(sin_decay, r.fit_guess, *c.trim(xlim=[fl, fl2]).data, fixed=r.fit_fixed)\n",
    "        fitres_range.append([fl, cf.fv['wavelength'], cf.fe['wavelength'], cf.fv['kappa'], cf.fe['kappa'],\n",
    "                             np.abs(cf.fv['amplitude']), cf.fe['amplitude'], cf.fv['phase'], cf.fe['phase']])\n",
    "    for fl in fit_lims_range[1]:\n",
    "        cf = tp.curve_fit(sin_decay, r.fit_guess, *c.trim(xlim=[fl1, fl]).data, fixed=r.fit_fixed)\n",
    "        fitres_range.append([fl, cf.fv['wavelength'], cf.fe['wavelength'], cf.fv['kappa'], cf.fe['kappa'],\n",
    "                             np.abs(cf.fv['amplitude']), cf.fe['amplitude'], cf.fv['phase'], cf.fe['phase']])\n",
    "    fr = np.array(fitres_range).T\n",
    "    if ax is not None:\n",
    "        # Plot wavleength \n",
    "        ax[0].errorbar(fr[0], fr[1], fr[2], fmt='bo')\n",
    "        ax[0].axhline(np.mean(fr[1]), color='b', alpha=0.5)\n",
    "        ax[0].axhline(np.mean(fr[1]) * 0.95, color='b', alpha=0.5, linestyle='--', label=r'$\\pm$ 5%')\n",
    "        ax[0].axhline(np.mean(fr[1]) * 1.05, color='b', alpha=0.5, linestyle='--')\n",
    "        ax[0].legend(loc=0, fontsize=12)\n",
    "        ax[0].set(ylabel=r'Wavelength ($\\mu m$)')\n",
    "        \n",
    "        ax[1].errorbar(fr[0], fr[3], fr[4], fmt='ro')\n",
    "        ax[1].axhline(np.mean(fr[3]), color='r', alpha=0.5)\n",
    "        ax[1].axhline(np.mean(fr[3]) * 0.85, color='r', alpha=0.5, linestyle='--', label=r'$\\pm$ 15%')\n",
    "        ax[1].axhline(np.mean(fr[3]) * 1.15, color='r', alpha=0.5, linestyle='--')\n",
    "        ax[1].legend(loc=0, fontsize=12)\n",
    "        ax[1].set(ylabel=r'$\\kappa$ ($1 /\\mu m$)')\n",
    "        \n",
    "        ax[2].errorbar(fr[0], fr[5], fr[6], fmt='bo')\n",
    "        ax[2].axhline(np.mean(fr[5]), color='b', alpha=0.5)\n",
    "        ax[2].axhline(np.mean(fr[5]) * 0.85, color='b', alpha=0.5, linestyle='--', label=r'$\\pm$ 15%')\n",
    "        ax[2].axhline(np.mean(fr[5]) * 1.15, color='b', alpha=0.5, linestyle='--')\n",
    "        ax[2].legend(loc=0, fontsize=12)\n",
    "        ax[2].set(ylabel=r'Amplitude $\\Delta \\rho / \\rho$ (%)')\n",
    "        \n",
    "        ax[3].errorbar(fr[0], fr[7], fr[8], fmt='ro')\n",
    "        ax[3].axhline(np.mean(fr[7]), color='r', alpha=0.5)\n",
    "        ax[3].axhline(np.mean(fr[7]) * 0.85, color='r', alpha=0.5, linestyle='--', label=r'$\\pm$ 15%')\n",
    "        ax[3].axhline(np.mean(fr[7]) * 1.15, color='r', alpha=0.5, linestyle='--')\n",
    "        ax[3].legend(loc=0, fontsize=12)\n",
    "        ax[3].set(ylabel=r'phase (rad)')\n",
    "        \n",
    "    return fr\n",
    "\n",
    "\n",
    "def temp_plot(test=test, fl1=fit_lims[0], fl2=fit_lims[1], amp=0):\n",
    "    # Load Data \n",
    "    r = df_data.iloc[test]\n",
    "    c = tp.Curve(r[use].x*1e6, r[use].y * 100)\n",
    "    xp = np.linspace(plot_lims[0], plot_lims[1], 1000)\n",
    "    \n",
    "    # Plot figure \n",
    "    fig = plt.figure(figsize=[10, 10])\n",
    "    ax = []\n",
    "    ax.append(plt.subplot2grid([3,1], [0,0],))\n",
    "    ax.append(plt.subplot2grid([3,2], [1,0],))\n",
    "    ax.append(plt.subplot2grid([3,2], [1,1],))\n",
    "    ax.append(plt.subplot2grid([3,2], [2,0],))\n",
    "    ax.append(plt.subplot2grid([3,2], [2,1],))\n",
    "    \n",
    "    # Compute cf at given [fl1, fl2]\n",
    "    cf = tp.curve_fit(sin_decay, r.fit_guess, *c.trim(xlim=[fl1, fl2]).data, fixed=r.fit_fixed)\n",
    "    \n",
    "    # Plots \n",
    "    plt.sca(ax[0])\n",
    "    plt.plot(xp, cf(xp), 'C1')\n",
    "    plt.plot(*c.plotdata, '.-C0')\n",
    "    plt.axvline(0, c='k', linestyle='--', )\n",
    "    plt.axvline(r.length*1e6, c='k', linestyle='--', )\n",
    "    plt.axhline(0, c='k', linestyle='-', alpha=0.5)\n",
    "    plt.axvspan(fl1, fl2, alpha=0.05, color='k', label='Fourier Width')\n",
    "    plt.plot(c.x, cf(c.x, amplitude=0), 'C2-', alpha=0.5)\n",
    "    amp_ = abs(cf['amplitude']) * 1.5\n",
    "    amp_ += abs(cf(np.array([0]), phase=np.pi/2)[0])\n",
    "    if amp_ >= 10: amp_ = 9.99\n",
    "    if amp == 0.0: amp = amp_\n",
    "    plt.ylim([-amp, amp])\n",
    "    plt.xlim(plot_lims)\n",
    "    plt.xlabel(r'z ($\\mu m$)', fontsize=12)\n",
    "    plt.ylabel(r'$\\Delta \\rho / \\rho$ (%)', fontsize=12)\n",
    "    plt.title(\"{} = {}\".format(x_var_label, r.name), fontsize=12)\n",
    "    \n",
    "    # Compute range of fits \n",
    "    fr = temp_range(test, fl1, fl2, ax=ax[1:])\n",
    "    \n",
    "    plt.tight_layout()\n",
    "    plt.show()\n",
    "    if savefig.value: fig.savefig(suffix_samples + 'SpatialDecayFit-{}.pdf'.format(r.name))\n",
    "    \n",
    "if df_data.shape[0] == 1: temp_plot(0, True, 0)\n",
    "else: ipywidgets.interact(temp_plot, test=(0, df_data.shape[0]-1), amp=(0, 20, 1), fl1=(0, 40, 2), fl2=(50, 96, 2))"
   ]
  },
  {
   "cell_type": "code",
   "execution_count": 339,
   "metadata": {
    "code_folding": [
     0
    ],
    "hidden": true
   },
   "outputs": [
    {
     "data": {
      "image/png": "[encoded data removed]",
      "text/plain": [
       "<matplotlib.figure.Figure at 0x1a2c168518>"
      ]
     },
     "metadata": {},
     "output_type": "display_data"
    }
   ],
   "source": [
    "# Fit all and raw plot \n",
    "for n,r in df_data.iterrows():\n",
    "    c = tp.Curve(r[use].x*1e6, r[use].y * 100)\n",
    "    df_data.loc[r.name, 'fitres'] = tp.curve_fit(sin_decay, r.fit_guess, *c.trim(xlim=fit_lims).data, fixed=r.fit_fixed)\n",
    "\n",
    "# Fix phase and amp \n",
    "for n,r in df_data.iterrows():\n",
    "    if r.fitres['amplitude'] < 0:\n",
    "        r.fitres.fr.loc['amplitude','FitValue'] = - r.fitres['amplitude']\n",
    "        r.fitres.fr.loc['phase','FitValue'] = r.fitres['phase'] + np.pi\n",
    "    r.fitres.fr.loc['phase','FitValue'] = np.mod(r.fitres.fr.loc['phase','FitValue'], twopi)\n",
    "\n",
    "# Plot \n",
    "fig, ax = plt.subplots(nrows=2, ncols=3, figsize=[20,10], sharex=True)\n",
    "fn_ = df_data.iloc[0].fitres.fr.index.values\n",
    "fu_ = df_data.iloc[0].fitres.fr['Units'].values\n",
    "ax = ax.flatten()\n",
    "for i in range(6):\n",
    "    ax[i].errorbar(df_data[df_data.use].index.values, [fr.fv[i] for fr in df_data[df_data.use].fitres], [fr.fe[i] for fr in df_data[df_data.use].fitres], fmt='bo')\n",
    "    ax[i].errorbar(df_data[~df_data.use].index.values, [fr.fv[i] for fr in df_data[~df_data.use].fitres], [fr.fe[i] for fr in df_data[~df_data.use].fitres], fmt='ro')\n",
    "    ax[i].set_ylabel(\"{} ({})\".format(fn_[i], fu_[i]), fontsize=15)\n",
    "    ax[i].set_xlabel(x_var_label, fontsize=15)\n",
    "    ax[i].grid()\n",
    "plt.tight_layout()\n",
    "if savefig.value: fig.savefig(suffix_sd + 'RawFits-v1.pdf')"
   ]
  },
  {
   "cell_type": "code",
   "execution_count": 340,
   "metadata": {
    "code_folding": [
     0
    ],
    "hidden": true
   },
   "outputs": [
    {
     "data": {
      "text/plain": [
       "x                        0.000000e+00\n",
       "x error                  0.000000e+00\n",
       "frequency (Hz)           7.000000e+02\n",
       "frequency (Hz) error     0.000000e+00\n",
       "omega (1/s)              4.398230e+03\n",
       "omega (1/s) error        0.000000e+00\n",
       "omega (1/ms)             4.398230e+00\n",
       "omega (1/ms) error       0.000000e+00\n",
       "wavelength (um)          1.724810e+01\n",
       "wavelength (um) error    1.985473e-01\n",
       "wavelength (m)           1.724810e-05\n",
       "wavelength (m) error     1.985473e-07\n",
       "k (1/m)                  3.642827e+05\n",
       "k (1/m) error            4.193351e+03\n",
       "k (1/um)                 3.642827e-01\n",
       "k (1/um) error           4.193351e-03\n",
       "speed (m/s)              1.207367e-02\n",
       "speed (m/s) error        1.389831e-04\n",
       "speed (mm/s)             1.207367e+01\n",
       "speed (mm/s) error       1.389831e-01\n",
       "kappa (1/um)             2.802568e-02\n",
       "kappa (1/um) error       4.011917e-03\n",
       "kappa (1/m)              2.802568e+04\n",
       "kappa (1/m) error        4.011917e+03\n",
       "gamma (1/s)              6.767457e+02\n",
       "gamma (1/s) error        9.718985e+01\n",
       "gamma (Hz)               1.077074e+02\n",
       "gamma (Hz) error         1.546825e+01\n",
       "1/Q                      1.538678e-01\n",
       "1/Q error                2.209749e-02\n",
       "Q                        6.499087e+00\n",
       "Q error                  9.333570e-01\n",
       "amplitude (%)            6.479025e+00\n",
       "amplitude (%) error      7.388338e-01\n",
       "Name: 0.0, dtype: float64"
      ]
     },
     "execution_count": 340,
     "metadata": {},
     "output_type": "execute_result"
    }
   ],
   "source": [
    "# Compute Fit results \n",
    "decay = pd.DataFrame(index = df_data.index.values)\n",
    "decay['x'] = df_data.index.values\n",
    "decay['x error'] = df_data.index.values * 0\n",
    "decay['frequency (Hz)'] = df_data.freq.values\n",
    "decay['frequency (Hz) error'] = df_data.freq.values * 0\n",
    "decay['omega (1/s)'] = decay['frequency (Hz)'] * twopi\n",
    "decay['omega (1/s) error'] = decay['frequency (Hz) error'] * twopi\n",
    "decay['omega (1/ms)'] = decay['omega (1/s)'] * 1e-3\n",
    "decay['omega (1/ms) error'] = decay['omega (1/s) error'] * 1e-3\n",
    "decay['wavelength (um)'] = [fr.fv['wavelength'] for fr in df_data.fitres]\n",
    "decay['wavelength (um) error'] = [fr.fe['wavelength'] for fr in df_data.fitres]\n",
    "decay['wavelength (m)'] = decay['wavelength (um)'] * 1e-6\n",
    "decay['wavelength (m) error'] = decay['wavelength (um) error'] * 1e-6\n",
    "decay['k (1/m)'] = twopi / decay['wavelength (m)']\n",
    "decay['k (1/m) error'] = twopi * decay['wavelength (m) error'] / decay['wavelength (m)']**2\n",
    "decay['k (1/um)'] = decay['k (1/m)'] * 1e-6\n",
    "decay['k (1/um) error'] = decay['k (1/m) error'] * 1e-6\n",
    "decay['speed (m/s)'] = decay['wavelength (m)'] * decay['frequency (Hz)']\n",
    "decay['speed (m/s) error'] = decay['wavelength (m) error'] * decay['frequency (Hz)']\n",
    "decay['speed (mm/s)'] = decay['speed (m/s)'] * 1e3\n",
    "decay['speed (mm/s) error'] = decay['speed (m/s) error'] * 1e3\n",
    "decay['kappa (1/um)'] = [fr.fv['kappa'] for fr in df_data.fitres]\n",
    "decay['kappa (1/um) error'] = [fr.fe['kappa'] for fr in df_data.fitres]\n",
    "decay['kappa (1/m)'] = decay['kappa (1/um)'] * 1e6\n",
    "decay['kappa (1/m) error'] = decay['kappa (1/um) error'] * 1e6\n",
    "decay['gamma (1/s)'] = 2 * decay['speed (m/s)'] * decay['kappa (1/m)']\n",
    "decay['gamma (1/s) error'] = 2 * np.sqrt((decay['speed (m/s) error'] * decay['kappa (1/m)'])**2 + (decay['speed (m/s)'] * decay['kappa (1/m) error'])**2)\n",
    "decay['gamma (Hz)'] = decay['gamma (1/s)'] / twopi\n",
    "decay['gamma (Hz) error'] = decay['gamma (1/s) error'] / twopi\n",
    "decay['1/Q'] = decay['gamma (1/s)'] / decay['omega (1/s)']\n",
    "decay['1/Q error'] = decay['gamma (1/s) error'] / decay['omega (1/s)']\n",
    "decay['Q'] = decay['omega (1/s)'] / decay['gamma (1/s)']\n",
    "decay['Q error'] = (decay['omega (1/s)'] / decay['gamma (1/s)']**2) * decay['gamma (1/s) error']\n",
    "decay['amplitude (%)'] = [fr.fv['amplitude'] for fr in df_data.fitres]\n",
    "decay['amplitude (%) error'] = [fr.fe['amplitude'] for fr in df_data.fitres]\n",
    "\n",
    "# Save Data to Excel \n",
    "if savefig.value: decay.to_excel(suffix_sd + 'SpatialDecay-Data.xlsx')\n",
    "# print(decay.iloc[0])\n",
    "decay.iloc[0]"
   ]
  },
  {
   "cell_type": "markdown",
   "metadata": {
    "collapsed": true,
    "heading_collapsed": true,
    "hidden": true
   },
   "source": [
    "## Amplitude Dependence"
   ]
  },
  {
   "cell_type": "code",
   "execution_count": null,
   "metadata": {
    "code_folding": [
     0
    ],
    "collapsed": true,
    "hidden": true
   },
   "outputs": [],
   "source": [
    "# Main Plot \n",
    "keys = ['amplitude (%)', 'gamma (Hz)']\n",
    "xyz = [decay[keys[0]].values, decay[keys[1]].values, decay[keys[1] + ' error'].values]\n",
    "cf = tp.curve_fit(lambda x, a1=0, a0=0: a1*x + a0, [1,1], *xyz, info=True)\n",
    "fig,ax = plt.subplots(figsize=[7,6])\n",
    "plt.errorbar(*xyz, xerr=decay[keys[0] + ' error'], fmt = 'bo')\n",
    "xp = np.linspace(0, np.max(xyz[0])* 1.1, )\n",
    "plt.plot(xp, cf(xp), 'k--', label=r'{:.2f} + {:.2f} x'.format(cf['a0'], cf['a1']))\n",
    "plt.xlabel(r'$\\Delta \\rho / \\rho$ (%)', fontsize=15)\n",
    "plt.ylabel(r'$\\Gamma / 2 \\pi$ (Hz)', fontsize=15)\n",
    "plt.title(r'Amplitude Response of Spatial Decay at {} Hz'.format(decay['frequency (Hz)'].iloc[0]), fontsize=15)\n",
    "plt.xticks(fontsize=13)\n",
    "plt.yticks(fontsize=13)\n",
    "plt.legend(fontsize=15)\n",
    "plt.xlim([0, None])\n",
    "plt.ylim([0, None])\n",
    "plt.tight_layout()\n",
    "if savefig.value: fig.savefig(suffix_sd + 'GammaVsAmp_v1.pdf')"
   ]
  },
  {
   "cell_type": "code",
   "execution_count": null,
   "metadata": {
    "code_folding": [
     0
    ],
    "collapsed": true,
    "hidden": true
   },
   "outputs": [],
   "source": [
    "# Main Plot \n",
    "keys = ['amplitude (%)', 'speed (mm/s)']\n",
    "xyz = [decay[keys[0]].values, decay[keys[1]].values, decay[keys[1] + ' error'].values]\n",
    "cf = tp.curve_fit(lambda x, a0=0: x*0 + a0, [1,], *xyz, info=True)\n",
    "fig,ax = plt.subplots(figsize=[7,6])\n",
    "plt.errorbar(*xyz, xerr=decay[keys[0] + ' error'], fmt = 'bo')\n",
    "xp = np.linspace(0, np.max(xyz[0])* 1.1, )\n",
    "plt.plot(xp, cf(xp), 'k--')\n",
    "plt.xlabel(r'$\\Delta \\rho / \\rho$ (%)', fontsize=15)\n",
    "plt.ylabel(r'$c$ (mm/s)', fontsize=15)\n",
    "plt.title(r'Amplitude Response of Spatial Decay at {} Hz'.format(decay['frequency (Hz)'].iloc[0]), fontsize=15)\n",
    "plt.xticks(fontsize=13)\n",
    "plt.yticks(fontsize=13)\n",
    "plt.legend(fontsize=15)\n",
    "plt.xlim([0, None])\n",
    "perc = 10/100\n",
    "plt.ylim([cf['a0'] * (1-perc), cf['a0'] * (1+perc)])\n",
    "plt.tight_layout()\n",
    "if savefig.value: fig.savefig(suffix_sd + 'SpeedVsAmp_v1.pdf')"
   ]
  },
  {
   "cell_type": "code",
   "execution_count": null,
   "metadata": {
    "collapsed": true,
    "hidden": true
   },
   "outputs": [],
   "source": [
    "# Plot overlaping profiles \n"
   ]
  },
  {
   "cell_type": "markdown",
   "metadata": {
    "heading_collapsed": true,
    "hidden": true
   },
   "source": [
    "## Frequency Dependence"
   ]
  },
  {
   "cell_type": "code",
   "execution_count": null,
   "metadata": {
    "collapsed": true,
    "hidden": true
   },
   "outputs": [],
   "source": [
    "# Main Plot \n",
    "keys = ['frequency (Hz)', 'gamma (Hz)']\n",
    "xyz = [decay[keys[0]].values, decay[keys[1]].values, decay[keys[1] + ' error'].values]\n",
    "fig,ax = plt.subplots(figsize=[7,6])\n",
    "plt.errorbar(*xyz, xerr=decay[keys[0] + ' error'], fmt = 'bo')\n",
    "xp = np.linspace(0, np.max(xyz[0])* 1.1, )\n",
    "cf2 = tp.curve_fit(lambda x, a2=0: x**2 * a2, [1,], *xyz, info=True)\n",
    "eta_rho = [3/4 * cst.mass / cst.hbar * cf2.fv[0] /twopi * np.mean(decay['speed (m/s)'])**2, \n",
    "          3/4 * cst.mass / cst.hbar * cf2.fe[0] /twopi * np.mean(decay['speed (m/s)'])**2]\n",
    "plt.plot(xp, cf2(xp), 'k--', label=r'$\\eta / \\rho = {:.2f} \\pm {:.2f} \\: \\hbar/m$'.format(*eta_rho))\n",
    "cf1 = tp.curve_fit(lambda x, a1=0, a0=0: x * a1 + a0, [1,1], *xyz, info=True)\n",
    "plt.plot(xp, cf1(xp), 'r--')\n",
    "plt.xlabel(r'$\\omega / 2 \\pi$ (Hz)', fontsize=15)\n",
    "plt.ylabel(r'$\\Gamma / 2 \\pi$ (Hz)', fontsize=15)\n",
    "plt.title(r'Frequency Response of Spatial Decay', fontsize=15)\n",
    "plt.xticks(fontsize=13)\n",
    "plt.yticks(fontsize=13)\n",
    "plt.legend(fontsize=15)\n",
    "plt.xlim([0, None])\n",
    "perc = 10/100\n",
    "# plt.ylim([cf['a0'] * (1-perc), cf['a0'] * (1+perc)])\n",
    "plt.tight_layout()"
   ]
  },
  {
   "cell_type": "code",
   "execution_count": null,
   "metadata": {
    "collapsed": true,
    "hidden": true
   },
   "outputs": [],
   "source": [
    "# Dispersion Relation \n",
    "keys = ['k (1/um)', 'omega (1/ms)']\n",
    "xyz = [decay[keys[0]].values, decay[keys[1]].values, decay[keys[1] + ' error'].values]\n",
    "fig,ax = plt.subplots(figsize=[7,6])\n",
    "plt.errorbar(*xyz, xerr=decay[keys[0] + ' error'], fmt = 'bo')\n",
    "xp = np.linspace(0, np.max(xyz[0])* 1.1, )\n",
    "cf = tp.curve_fit(lambda x, a1=0, a0=0: x * a1 + a0, [1,], *xyz[0:2], info=True)\n",
    "plt.plot(xp, cf(xp), 'r-')\n",
    "plt.xlabel(r'$k$ $(1/\\mu m)$', fontsize=15)\n",
    "plt.ylabel(r'$\\omega$ $(1/ms)$', fontsize=15)\n",
    "plt.title(r'Frequency Response of Spatial Decay', fontsize=15)\n",
    "plt.xticks(fontsize=13)\n",
    "plt.yticks(fontsize=13)\n",
    "plt.legend(fontsize=15)\n",
    "plt.xlim([0, None])\n",
    "plt.ylim([0, None])\n",
    "plt.tight_layout()"
   ]
  },
  {
   "cell_type": "markdown",
   "metadata": {
    "hidden": true
   },
   "source": [
    "## Temperature Dependence"
   ]
  },
  {
   "cell_type": "code",
   "execution_count": 346,
   "metadata": {
    "hidden": true
   },
   "outputs": [
    {
     "data": {
      "image/png": "[encoded data removed]",
      "text/plain": [
       "<matplotlib.figure.Figure at 0x1a2d7466d8>"
      ]
     },
     "metadata": {},
     "output_type": "display_data"
    }
   ],
   "source": [
    "# Main Plot \n",
    "keys = ['x', 'speed (mm/s)']\n",
    "xyz = [decay[keys[0]].values, decay[keys[1]].values, decay[keys[1] + ' error'].values]\n",
    "fig,ax = plt.subplots(figsize=[7,6])\n",
    "plt.errorbar(*xyz, xerr=decay[keys[0] + ' error'], fmt = 'bo')\n",
    "xp = np.linspace(0, np.max(xyz[0])* 1.1, )\n",
    "plt.xlabel(r'Heat Cycles', fontsize=15)\n",
    "plt.ylabel(r'c (mm/s)', fontsize=15)\n",
    "plt.title(r'Frequency Response of Spatial Decay', fontsize=15)\n",
    "plt.xticks(fontsize=13)\n",
    "plt.yticks(fontsize=13)\n",
    "plt.legend(fontsize=15)\n",
    "# plt.xlim([0, None])\n",
    "perc = 10/100\n",
    "# plt.ylim([cf['a0'] * (1-perc), cf['a0'] * (1+perc)])\n",
    "plt.tight_layout()"
   ]
  },
  {
   "cell_type": "code",
   "execution_count": 347,
   "metadata": {
    "hidden": true
   },
   "outputs": [
    {
     "data": {
      "image/png": "[encoded data removed]",
      "text/plain": [
       "<matplotlib.figure.Figure at 0x1a2d746278>"
      ]
     },
     "metadata": {},
     "output_type": "display_data"
    }
   ],
   "source": [
    "# Main Plot \n",
    "keys = ['x', 'gamma (Hz)']\n",
    "xyz = [decay[keys[0]].values, decay[keys[1]].values, decay[keys[1] + ' error'].values]\n",
    "fig,ax = plt.subplots(figsize=[7,6])\n",
    "plt.errorbar(*xyz, xerr=decay[keys[0] + ' error'], fmt = 'bo')\n",
    "xp = np.linspace(0, np.max(xyz[0])* 1.1, )\n",
    "plt.xlabel(r'Heat Cycles', fontsize=15)\n",
    "# plt.ylabel(r'c (mm/s)', fontsize=15)\n",
    "# plt.title(r'Frequency Response of Spatial Decay', fontsize=15)\n",
    "plt.xticks(fontsize=13)\n",
    "plt.yticks(fontsize=13)\n",
    "plt.legend(fontsize=15)\n",
    "# plt.xlim([0, None])\n",
    "plt.ylim([0, None])\n",
    "perc = 10/100\n",
    "# plt.ylim([cf['a0'] * (1-perc), cf['a0'] * (1+perc)])\n",
    "plt.tight_layout()"
   ]
  },
  {
   "cell_type": "code",
   "execution_count": null,
   "metadata": {
    "collapsed": true,
    "hidden": true
   },
   "outputs": [],
   "source": []
  },
  {
   "cell_type": "markdown",
   "metadata": {
    "hidden": true
   },
   "source": [
    "## Different Fitting"
   ]
  },
  {
   "cell_type": "code",
   "execution_count": 343,
   "metadata": {
    "hidden": true
   },
   "outputs": [
    {
     "name": "stdout",
     "output_type": "stream",
     "text": [
      "    FitValue  FitError Units  Guess  LowerBound  UpperBound   FitError%\n",
      "a0  0.618072  0.705571  None  -0.50        -inf         inf  114.156750\n",
      "a1 -0.008957  0.015017  None   0.01        -inf         inf  167.653575\n",
      "             FitValue  FitError Units  Guess  LowerBound  UpperBound  FitError%\n",
      "wavelength  20.502165  0.183460    um  17.00         1.0       100.0   0.894834\n",
      "kappa        0.023258  0.006404  1/um   0.02         0.0         0.1  27.534703\n",
      "amplitude    4.707738  0.927121     %   3.00         0.0        10.0  19.693554\n",
      "phase        3.500000  0.000000   NaN   3.50         3.5         3.5   0.000000\n",
      "a0           0.000000  0.000000   NaN   0.00         0.0         0.0   0.000000\n",
      "a1           0.000000  0.000000   NaN   0.00         0.0         0.0   0.000000\n",
      "a2           0.000000  0.000000   NaN   0.00         0.0         0.0   0.000000\n"
     ]
    },
    {
     "data": {
      "text/plain": [
       "<matplotlib.lines.Line2D at 0x1a3279fc18>"
      ]
     },
     "execution_count": 343,
     "metadata": {},
     "output_type": "execute_result"
    },
    {
     "data": {
      "image/png": "[encoded data removed]",
      "text/plain": [
       "<matplotlib.figure.Figure at 0x1a2e6eb6d8>"
      ]
     },
     "metadata": {},
     "output_type": "display_data"
    },
    {
     "data": {
      "image/png": "[encoded data removed]",
      "text/plain": [
       "<matplotlib.figure.Figure at 0x1a3279f518>"
      ]
     },
     "metadata": {},
     "output_type": "display_data"
    }
   ],
   "source": [
    "test = 10\n",
    "fit_range = np.array([10, 60])\n",
    "line_range = np.array([10, 75])\n",
    "guess = dict(wavelength=[17, [1,100], 'um'], \n",
    "             kappa = [0.02, [0, 0.1], '1/um'], \n",
    "             amplitude = [3, [0, 10], '%'])\n",
    "fixed = dict(phase = 3.5)\n",
    "\n",
    "r = df_data.iloc[test]\n",
    "call = tp.Curve(*r['dn/n'].plotdata)\n",
    "c4line = call.trim(xlim=line_range)\n",
    "cfline = tp.curve_fit(lambda x, a0=0, a1=0: a1*x + a0, [-0.5,0.01], *c4line.data, plot=False, info=True)\n",
    "c4fit = call.trim(xlim=fit_range)\n",
    "c4fit = tp.Curve(c4fit.x, c4fit.y - cfline(c4fit.x))\n",
    "def sin_decay(x, wavelength=1, kappa=0, amplitude=1, phase=0, a0=0, a1=0, a2=0):\n",
    "    return amplitude * np.exp(- x * kappa) * np.sin(((twopi/wavelength)**2 - (kappa)**2)**(1/2) * x - phase) + a0 + a1*x + a2*x**2\n",
    "cfdata = tp.curve_fit(sin_decay, guess, *c4fit.data, plot=False, info=True, fixed=fixed)\n",
    "\n",
    "fig, ax = plt.subplots()\n",
    "plt.plot(*call.data)\n",
    "cfline.plot_fitdata(ax=ax)\n",
    "plt.axvspan(*fit_range, color='k', alpha=0.05)\n",
    "plt.ylim([-10, 10])\n",
    "plt.xlim([-10, 100])\n",
    "\n",
    "ax = cfdata.plot()\n",
    "ax[0].axhline(0, color='k', linestyle='--', alpha=0.5)\n"
   ]
  },
  {
   "cell_type": "code",
   "execution_count": 344,
   "metadata": {
    "code_folding": [],
    "hidden": true
   },
   "outputs": [
    {
     "data": {
      "image/png": "[encoded data removed]",
      "text/plain": [
       "<matplotlib.figure.Figure at 0x1a2becd9e8>"
      ]
     },
     "metadata": {},
     "output_type": "display_data"
    }
   ],
   "source": [
    "# Fit all and raw plot \n",
    "df_data['fitres'] = None\n",
    "df_data['use'] = True\n",
    "guess = dict(wavelength=[20, [1,100], 'um'], \n",
    "             kappa = [0.025, [0, 1/10], '1/um'], \n",
    "             amplitude = [4.5, [0, 10], '%'], phase=3.75)\n",
    "\n",
    "for n,r in df_data.iterrows():\n",
    "    call = tp.Curve(*r['dn/n'].plotdata)\n",
    "    c4line = call.trim(xlim=line_range)\n",
    "    cfline = tp.curve_fit(lambda x, a0=0, a1=0: a1*x + a0, [-0.5,0.01], *c4line.data, plot=False, info=False)\n",
    "    c4fit = call.trim(xlim=fit_range)\n",
    "    c4fit = tp.Curve(c4fit.x, c4fit.y - cfline(c4fit.x))\n",
    "    df_data.loc[r.name, 'fitres'] = tp.curve_fit(sin_decay, guess, *c4fit.data, )\n",
    "\n",
    "# Fix phase and amp \n",
    "for n,r in df_data.iterrows():\n",
    "    if r.fitres['amplitude'] < 0:\n",
    "        r.fitres.fr.loc['amplitude','FitValue'] = - r.fitres['amplitude']\n",
    "        r.fitres.fr.loc['phase','FitValue'] = r.fitres['phase'] + np.pi\n",
    "    r.fitres.fr.loc['phase','FitValue'] = np.mod(r.fitres.fr.loc['phase','FitValue'], twopi)\n",
    "\n",
    "# Plot \n",
    "fig, ax = plt.subplots(nrows=2, ncols=3, figsize=[20,10], sharex=True)\n",
    "fn_ = df_data.iloc[0].fitres.fr.index.values\n",
    "fu_ = df_data.iloc[0].fitres.fr['Units'].values\n",
    "ax = ax.flatten()\n",
    "for i in range(6):\n",
    "    ax[i].errorbar(df_data[df_data.use].index.values, [fr.fv[i] for fr in df_data[df_data.use].fitres], [fr.fe[i] for fr in df_data[df_data.use].fitres], fmt='bo')\n",
    "    ax[i].errorbar(df_data[~df_data.use].index.values, [fr.fv[i] for fr in df_data[~df_data.use].fitres], [fr.fe[i] for fr in df_data[~df_data.use].fitres], fmt='ro')\n",
    "    ax[i].set_ylabel(\"{} ({})\".format(fn_[i], fu_[i]), fontsize=15)\n",
    "    ax[i].set_xlabel(x_var_label, fontsize=15)\n",
    "    ax[i].grid()\n",
    "plt.tight_layout()\n",
    "if savefig.value: fig.savefig(suffix_sd + 'RawFits-v1.pdf')"
   ]
  },
  {
   "cell_type": "code",
   "execution_count": 345,
   "metadata": {
    "code_folding": [
     0
    ],
    "hidden": true
   },
   "outputs": [
    {
     "data": {
      "text/plain": [
       "x                        0.000000e+00\n",
       "x error                  0.000000e+00\n",
       "frequency (Hz)           7.000000e+02\n",
       "frequency (Hz) error     0.000000e+00\n",
       "omega (1/s)              4.398230e+03\n",
       "omega (1/s) error        0.000000e+00\n",
       "omega (1/ms)             4.398230e+00\n",
       "omega (1/ms) error       0.000000e+00\n",
       "wavelength (um)          1.729925e+01\n",
       "wavelength (um) error    2.648511e-01\n",
       "wavelength (m)           1.729925e-05\n",
       "wavelength (m) error     2.648511e-07\n",
       "k (1/m)                  3.632056e+05\n",
       "k (1/m) error            5.560670e+03\n",
       "k (1/um)                 3.632056e-01\n",
       "k (1/um) error           5.560670e-03\n",
       "speed (m/s)              1.210948e-02\n",
       "speed (m/s) error        1.853958e-04\n",
       "speed (mm/s)             1.210948e+01\n",
       "speed (mm/s) error       1.853958e-01\n",
       "kappa (1/um)             2.366426e-02\n",
       "kappa (1/um) error       5.081118e-03\n",
       "kappa (1/m)              2.366426e+04\n",
       "kappa (1/m) error        5.081118e+03\n",
       "gamma (1/s)              5.731235e+02\n",
       "gamma (1/s) error        1.233718e+02\n",
       "gamma (Hz)               9.121544e+01\n",
       "gamma (Hz) error         1.963523e+01\n",
       "1/Q                      1.303078e-01\n",
       "1/Q error                2.805033e-02\n",
       "Q                        7.674139e+00\n",
       "Q error                  1.651951e+00\n",
       "amplitude (%)            5.548161e+00\n",
       "amplitude (%) error      8.214637e-01\n",
       "Name: 0.0, dtype: float64"
      ]
     },
     "execution_count": 345,
     "metadata": {},
     "output_type": "execute_result"
    }
   ],
   "source": [
    "# Compute Fit results \n",
    "decay = pd.DataFrame(index = df_data.index.values)\n",
    "decay['x'] = df_data.index.values\n",
    "decay['x error'] = df_data.index.values * 0\n",
    "decay['frequency (Hz)'] = df_data.freq.values\n",
    "decay['frequency (Hz) error'] = df_data.freq.values * 0\n",
    "decay['omega (1/s)'] = decay['frequency (Hz)'] * twopi\n",
    "decay['omega (1/s) error'] = decay['frequency (Hz) error'] * twopi\n",
    "decay['omega (1/ms)'] = decay['omega (1/s)'] * 1e-3\n",
    "decay['omega (1/ms) error'] = decay['omega (1/s) error'] * 1e-3\n",
    "decay['wavelength (um)'] = [fr.fv['wavelength'] for fr in df_data.fitres]\n",
    "decay['wavelength (um) error'] = [fr.fe['wavelength'] for fr in df_data.fitres]\n",
    "decay['wavelength (m)'] = decay['wavelength (um)'] * 1e-6\n",
    "decay['wavelength (m) error'] = decay['wavelength (um) error'] * 1e-6\n",
    "decay['k (1/m)'] = twopi / decay['wavelength (m)']\n",
    "decay['k (1/m) error'] = twopi * decay['wavelength (m) error'] / decay['wavelength (m)']**2\n",
    "decay['k (1/um)'] = decay['k (1/m)'] * 1e-6\n",
    "decay['k (1/um) error'] = decay['k (1/m) error'] * 1e-6\n",
    "decay['speed (m/s)'] = decay['wavelength (m)'] * decay['frequency (Hz)']\n",
    "decay['speed (m/s) error'] = decay['wavelength (m) error'] * decay['frequency (Hz)']\n",
    "decay['speed (mm/s)'] = decay['speed (m/s)'] * 1e3\n",
    "decay['speed (mm/s) error'] = decay['speed (m/s) error'] * 1e3\n",
    "decay['kappa (1/um)'] = [fr.fv['kappa'] for fr in df_data.fitres]\n",
    "decay['kappa (1/um) error'] = [fr.fe['kappa'] for fr in df_data.fitres]\n",
    "decay['kappa (1/m)'] = decay['kappa (1/um)'] * 1e6\n",
    "decay['kappa (1/m) error'] = decay['kappa (1/um) error'] * 1e6\n",
    "decay['gamma (1/s)'] = 2 * decay['speed (m/s)'] * decay['kappa (1/m)']\n",
    "decay['gamma (1/s) error'] = 2 * np.sqrt((decay['speed (m/s) error'] * decay['kappa (1/m)'])**2 + (decay['speed (m/s)'] * decay['kappa (1/m) error'])**2)\n",
    "decay['gamma (Hz)'] = decay['gamma (1/s)'] / twopi\n",
    "decay['gamma (Hz) error'] = decay['gamma (1/s) error'] / twopi\n",
    "decay['1/Q'] = decay['gamma (1/s)'] / decay['omega (1/s)']\n",
    "decay['1/Q error'] = decay['gamma (1/s) error'] / decay['omega (1/s)']\n",
    "decay['Q'] = decay['omega (1/s)'] / decay['gamma (1/s)']\n",
    "decay['Q error'] = (decay['omega (1/s)'] / decay['gamma (1/s)']**2) * decay['gamma (1/s) error']\n",
    "decay['amplitude (%)'] = [fr.fv['amplitude'] for fr in df_data.fitres]\n",
    "decay['amplitude (%) error'] = [fr.fe['amplitude'] for fr in df_data.fitres]\n",
    "\n",
    "# Save Data to Excel \n",
    "if savefig.value: decay.to_excel(suffix_sd + 'SpatialDecay-Data.xlsx')\n",
    "# print(decay.iloc[0])\n",
    "decay.iloc[0]"
   ]
  },
  {
   "cell_type": "markdown",
   "metadata": {
    "hidden": true
   },
   "source": [
    "## Image Bootstrap "
   ]
  },
  {
   "cell_type": "code",
   "execution_count": 481,
   "metadata": {
    "hidden": true
   },
   "outputs": [
    {
     "data": {
      "text/plain": [
       "data_ind       name\n",
       "07-28-2017_00_53_00_TopA    False\n",
       "07-28-2...\n",
       "# data                                                         2\n",
       "bg_ind         name\n",
       "07-28-2017_00_53_00_TopA     True\n",
       "07-28-2...\n",
       "# bg                                                          19\n",
       "length                                               8.66173e-05\n",
       "freq                                                         150\n",
       "cycles                                                     0.841\n",
       "nz data all    [A curve with 266 data points., A curve with 2...\n",
       "nz bg all      [A curve with 266 data points., A curve with 2...\n",
       "nz data                            A curve with 266 data points.\n",
       "nz bg                              A curve with 266 data points.\n",
       "box fit bg     [-4.06791081741e-09, 8.6615345589e-05, 3.07736...\n",
       "dn                                 A curve with 266 data points.\n",
       "dn/n                               A curve with 266 data points.\n",
       "2d dn          [[-1.69337489998, 0.0212891362952, 1.550409084...\n",
       "Name: 150.0, dtype: object"
      ]
     },
     "execution_count": 481,
     "metadata": {},
     "output_type": "execute_result"
    }
   ],
   "source": [
    "df_data.iloc[0]"
   ]
  },
  {
   "cell_type": "code",
   "execution_count": 524,
   "metadata": {
    "hidden": true
   },
   "outputs": [
    {
     "ename": "ValueError",
     "evalue": "Cannot take a larger sample than population when 'replace=False'",
     "output_type": "error",
     "traceback": [
      "\u001b[0;31m---------------------------------------------------------------------------\u001b[0m",
      "\u001b[0;31mValueError\u001b[0m                                Traceback (most recent call last)",
      "\u001b[0;32m<ipython-input-524-505c66d39bd9>\u001b[0m in \u001b[0;36m<module>\u001b[0;34m()\u001b[0m\n\u001b[1;32m      2\u001b[0m \u001b[0;34m\u001b[0m\u001b[0m\n\u001b[1;32m      3\u001b[0m \u001b[0muse_data\u001b[0m \u001b[0;34m=\u001b[0m \u001b[0mdf\u001b[0m\u001b[0;34m.\u001b[0m\u001b[0mindex\u001b[0m\u001b[0;34m[\u001b[0m\u001b[0mdf_data\u001b[0m\u001b[0;34m[\u001b[0m\u001b[0;34m'data_ind'\u001b[0m\u001b[0;34m]\u001b[0m\u001b[0;34m.\u001b[0m\u001b[0miloc\u001b[0m\u001b[0;34m[\u001b[0m\u001b[0mi\u001b[0m\u001b[0;34m]\u001b[0m\u001b[0;34m]\u001b[0m\u001b[0;34m.\u001b[0m\u001b[0mvalues\u001b[0m\u001b[0;34m\u001b[0m\u001b[0m\n\u001b[0;32m----> 4\u001b[0;31m \u001b[0muse_data\u001b[0m \u001b[0;34m=\u001b[0m \u001b[0mnp\u001b[0m\u001b[0;34m.\u001b[0m\u001b[0mrandom\u001b[0m\u001b[0;34m.\u001b[0m\u001b[0mchoice\u001b[0m\u001b[0;34m(\u001b[0m\u001b[0muse_data\u001b[0m\u001b[0;34m,\u001b[0m \u001b[0;36m2\u001b[0m\u001b[0;34m,\u001b[0m \u001b[0mreplace\u001b[0m\u001b[0;34m=\u001b[0m\u001b[0;32mFalse\u001b[0m\u001b[0;34m)\u001b[0m\u001b[0;34m\u001b[0m\u001b[0m\n\u001b[0m\u001b[1;32m      5\u001b[0m \u001b[0;34m\u001b[0m\u001b[0m\n\u001b[1;32m      6\u001b[0m \u001b[0muse_bg\u001b[0m \u001b[0;34m=\u001b[0m \u001b[0mdf\u001b[0m\u001b[0;34m.\u001b[0m\u001b[0mindex\u001b[0m\u001b[0;34m[\u001b[0m\u001b[0mdf_data\u001b[0m\u001b[0;34m[\u001b[0m\u001b[0;34m'bg_ind'\u001b[0m\u001b[0;34m]\u001b[0m\u001b[0;34m.\u001b[0m\u001b[0miloc\u001b[0m\u001b[0;34m[\u001b[0m\u001b[0mi\u001b[0m\u001b[0;34m]\u001b[0m\u001b[0;34m]\u001b[0m\u001b[0;34m.\u001b[0m\u001b[0mvalues\u001b[0m\u001b[0;34m\u001b[0m\u001b[0m\n",
      "\u001b[0;32mmtrand.pyx\u001b[0m in \u001b[0;36mmtrand.RandomState.choice\u001b[0;34m()\u001b[0m\n",
      "\u001b[0;31mValueError\u001b[0m: Cannot take a larger sample than population when 'replace=False'"
     ]
    }
   ],
   "source": [
    "i = 2\n",
    "\n",
    "use_data = df.index[df_data['data_ind'].iloc[i]].values\n",
    "use_data = np.random.choice(use_data, 2, replace=False)\n",
    "\n",
    "use_bg = df.index[df_data['bg_ind'].iloc[i]].values\n",
    "use_bg = np.random.choice(use_bg, 2, replace=False)\n",
    "\n",
    "df.loc[use_data]"
   ]
  },
  {
   "cell_type": "code",
   "execution_count": null,
   "metadata": {
    "collapsed": true,
    "hidden": true
   },
   "outputs": [],
   "source": []
  },
  {
   "cell_type": "code",
   "execution_count": null,
   "metadata": {
    "collapsed": true,
    "hidden": true
   },
   "outputs": [],
   "source": []
  },
  {
   "cell_type": "code",
   "execution_count": null,
   "metadata": {
    "collapsed": true,
    "hidden": true
   },
   "outputs": [],
   "source": []
  },
  {
   "cell_type": "code",
   "execution_count": null,
   "metadata": {
    "collapsed": true,
    "hidden": true
   },
   "outputs": [],
   "source": []
  },
  {
   "cell_type": "code",
   "execution_count": null,
   "metadata": {
    "collapsed": true,
    "hidden": true
   },
   "outputs": [],
   "source": []
  },
  {
   "cell_type": "markdown",
   "metadata": {},
   "source": [
    "# Energy Expansion"
   ]
  },
  {
   "cell_type": "markdown",
   "metadata": {},
   "source": [
    "Total energy per particle in the Hybrid potential\n",
    "$$\\frac{E}{N} = 2 m \\omega^2 \\left< z^2 \\right> = 4 \\left< U \\right>$$\n",
    "\n",
    "Reduced Energy \n",
    "$$ \\frac{E}{E_0} = \\frac{5}{3} \\frac{E}{N E_F}$$\n",
    "\n",
    "Here $  \\left< U \\right> $ is the normalized averages, normalized by the total atom numbers. \n",
    "\n",
    "We will employ two ways to extract the energy. \n",
    "* Equation of State Fits\n",
    "* Second Moment"
   ]
  },
  {
   "cell_type": "markdown",
   "metadata": {},
   "source": [
    "## Bunch of Calcs"
   ]
  },
  {
   "cell_type": "code",
   "execution_count": 141,
   "metadata": {
    "collapsed": true
   },
   "outputs": [],
   "source": [
    "df_hyb_energy_all = pd.DataFrame()"
   ]
  },
  {
   "cell_type": "code",
   "execution_count": 142,
   "metadata": {
    "code_folding": [
     0
    ],
    "collapsed": true
   },
   "outputs": [],
   "source": [
    "# Relevant Parameters \n",
    "x_var_name = ['BoxShakeFreq', 'BoxShakeAmp', 'ShakingCycles','HeatCycles']\n",
    "x_var_label = [r'$\\nu$ (Hz)', 'Amplitude (V)', 'Cycles (#)','Heat Cycles (#)']\n",
    "usei = 3\n",
    "x_var_name, x_var_label = x_var_name[usei], x_var_label[usei]\n",
    "image_use = 'A'"
   ]
  },
  {
   "cell_type": "code",
   "execution_count": 143,
   "metadata": {
    "code_folding": [
     0
    ]
   },
   "outputs": [
    {
     "data": {
      "application/vnd.jupyter.widget-view+json": {
       "model_id": "4bf336832a854f90a69c90883f191c51",
       "version_major": 2,
       "version_minor": 0
      },
      "text/html": [
       "<p>Failed to display Jupyter Widget of type <code>HBox</code>.</p>\n",
       "<p>\n",
       "  If you're reading this message in Jupyter Notebook or JupyterLab, it may mean\n",
       "  that the widgets JavaScript is still loading. If this message persists, it\n",
       "  likely means that the widgets JavaScript library is either not installed or\n",
       "  not enabled. See the <a href=\"https://ipywidgets.readthedocs.io/en/stable/user_install.html\">Jupyter\n",
       "  Widgets Documentation</a> for setup instructions.\n",
       "</p>\n",
       "<p>\n",
       "  If you're reading this message in another notebook frontend (for example, a static\n",
       "  rendering on GitHub or <a href=\"https://nbviewer.jupyter.org/\">NBViewer</a>),\n",
       "  it may mean that your frontend doesn't currently support widgets.\n",
       "</p>\n"
      ],
      "text/plain": [
       "HBox(children=(IntProgress(value=0, max=12), HTML(value='')))"
      ]
     },
     "metadata": {},
     "output_type": "display_data"
    },
    {
     "name": "stdout",
     "output_type": "stream",
     "text": [
      "\n",
      "Total Number of Shots 6, Images 6\n"
     ]
    },
    {
     "data": {
      "text/html": [
       "<div>\n",
       "<style>\n",
       "    .dataframe thead tr:only-child th {\n",
       "        text-align: right;\n",
       "    }\n",
       "\n",
       "    .dataframe thead th {\n",
       "        text-align: left;\n",
       "    }\n",
       "\n",
       "    .dataframe tbody tr th {\n",
       "        vertical-align: top;\n",
       "    }\n",
       "</style>\n",
       "<table border=\"1\" class=\"dataframe\">\n",
       "  <thead>\n",
       "    <tr style=\"text-align: right;\">\n",
       "      <th></th>\n",
       "      <th>time</th>\n",
       "      <th>image</th>\n",
       "      <th>A</th>\n",
       "      <th>B</th>\n",
       "      <th>S</th>\n",
       "      <th>download</th>\n",
       "      <th>ExpansionTime</th>\n",
       "      <th>SideGreenEvap</th>\n",
       "      <th>WaitBox</th>\n",
       "      <th>IREvap</th>\n",
       "      <th>HeatTime</th>\n",
       "      <th>ShakeWait</th>\n",
       "      <th>HeatCycles</th>\n",
       "      <th>ShakingCycles</th>\n",
       "      <th>BoxShakeFreq</th>\n",
       "      <th>BoxShakeAmp</th>\n",
       "      <th>BoxShakeTime</th>\n",
       "      <th>SeqMode</th>\n",
       "      <th>x</th>\n",
       "    </tr>\n",
       "    <tr>\n",
       "      <th>name</th>\n",
       "      <th></th>\n",
       "      <th></th>\n",
       "      <th></th>\n",
       "      <th></th>\n",
       "      <th></th>\n",
       "      <th></th>\n",
       "      <th></th>\n",
       "      <th></th>\n",
       "      <th></th>\n",
       "      <th></th>\n",
       "      <th></th>\n",
       "      <th></th>\n",
       "      <th></th>\n",
       "      <th></th>\n",
       "      <th></th>\n",
       "      <th></th>\n",
       "      <th></th>\n",
       "      <th></th>\n",
       "      <th></th>\n",
       "    </tr>\n",
       "  </thead>\n",
       "  <tbody>\n",
       "    <tr>\n",
       "      <th>12-12-2017_01_57_42_TopA</th>\n",
       "      <td>0</td>\n",
       "      <td>Image object</td>\n",
       "      <td>True</td>\n",
       "      <td>False</td>\n",
       "      <td>False</td>\n",
       "      <td>True</td>\n",
       "      <td>2000.0</td>\n",
       "      <td>0.3</td>\n",
       "      <td>0.5</td>\n",
       "      <td>0.5</td>\n",
       "      <td>0.0</td>\n",
       "      <td>3.0</td>\n",
       "      <td>0.0</td>\n",
       "      <td>0.0</td>\n",
       "      <td>120.0</td>\n",
       "      <td>0.3</td>\n",
       "      <td>0.0</td>\n",
       "      <td>None</td>\n",
       "      <td>0.0</td>\n",
       "    </tr>\n",
       "    <tr>\n",
       "      <th>12-12-2017_01_58_39_TopA</th>\n",
       "      <td>0.95</td>\n",
       "      <td>Image object</td>\n",
       "      <td>True</td>\n",
       "      <td>False</td>\n",
       "      <td>False</td>\n",
       "      <td>True</td>\n",
       "      <td>2000.0</td>\n",
       "      <td>0.3</td>\n",
       "      <td>0.5</td>\n",
       "      <td>0.5</td>\n",
       "      <td>0.0</td>\n",
       "      <td>3.0</td>\n",
       "      <td>0.0</td>\n",
       "      <td>0.0</td>\n",
       "      <td>120.0</td>\n",
       "      <td>0.3</td>\n",
       "      <td>0.0</td>\n",
       "      <td>None</td>\n",
       "      <td>0.0</td>\n",
       "    </tr>\n",
       "    <tr>\n",
       "      <th>12-12-2017_01_59_35_TopA</th>\n",
       "      <td>1.88333</td>\n",
       "      <td>Image object</td>\n",
       "      <td>True</td>\n",
       "      <td>False</td>\n",
       "      <td>False</td>\n",
       "      <td>True</td>\n",
       "      <td>2000.0</td>\n",
       "      <td>0.3</td>\n",
       "      <td>0.5</td>\n",
       "      <td>0.5</td>\n",
       "      <td>0.0</td>\n",
       "      <td>3.0</td>\n",
       "      <td>0.0</td>\n",
       "      <td>0.0</td>\n",
       "      <td>120.0</td>\n",
       "      <td>0.3</td>\n",
       "      <td>0.0</td>\n",
       "      <td>None</td>\n",
       "      <td>0.0</td>\n",
       "    </tr>\n",
       "  </tbody>\n",
       "</table>\n",
       "</div>"
      ],
      "text/plain": [
       "                             time         image     A      B      S  download  \\\n",
       "name                                                                            \n",
       "12-12-2017_01_57_42_TopA        0  Image object  True  False  False      True   \n",
       "12-12-2017_01_58_39_TopA     0.95  Image object  True  False  False      True   \n",
       "12-12-2017_01_59_35_TopA  1.88333  Image object  True  False  False      True   \n",
       "\n",
       "                          ExpansionTime  SideGreenEvap  WaitBox  IREvap  \\\n",
       "name                                                                      \n",
       "12-12-2017_01_57_42_TopA         2000.0            0.3      0.5     0.5   \n",
       "12-12-2017_01_58_39_TopA         2000.0            0.3      0.5     0.5   \n",
       "12-12-2017_01_59_35_TopA         2000.0            0.3      0.5     0.5   \n",
       "\n",
       "                          HeatTime  ShakeWait  HeatCycles  ShakingCycles  \\\n",
       "name                                                                       \n",
       "12-12-2017_01_57_42_TopA       0.0        3.0         0.0            0.0   \n",
       "12-12-2017_01_58_39_TopA       0.0        3.0         0.0            0.0   \n",
       "12-12-2017_01_59_35_TopA       0.0        3.0         0.0            0.0   \n",
       "\n",
       "                          BoxShakeFreq  BoxShakeAmp  BoxShakeTime SeqMode    x  \n",
       "name                                                                            \n",
       "12-12-2017_01_57_42_TopA         120.0          0.3           0.0    None  0.0  \n",
       "12-12-2017_01_58_39_TopA         120.0          0.3           0.0    None  0.0  \n",
       "12-12-2017_01_59_35_TopA         120.0          0.3           0.0    None  0.0  "
      ]
     },
     "metadata": {},
     "output_type": "display_data"
    }
   ],
   "source": [
    "# Import from Clipboard \n",
    "df_hyb_energy_all = tp.images_from_clipboard(df=df_hyb_energy_all,\n",
    "                                         x=x_var_name, \n",
    "                                         params=import_params,\n",
    "                                         image_func=tp.Hybrid_Image,\n",
    "                                         download=image_use,\n",
    "                                         display=True)"
   ]
  },
  {
   "cell_type": "code",
   "execution_count": 144,
   "metadata": {
    "code_folding": [
     0
    ]
   },
   "outputs": [
    {
     "data": {
      "application/vnd.jupyter.widget-view+json": {
       "model_id": "276ecf5f7ee54eb5a856bca1bd8a7176",
       "version_major": 2,
       "version_minor": 0
      },
      "text/html": [
       "<p>Failed to display Jupyter Widget of type <code>Checkbox</code>.</p>\n",
       "<p>\n",
       "  If you're reading this message in Jupyter Notebook or JupyterLab, it may mean\n",
       "  that the widgets JavaScript is still loading. If this message persists, it\n",
       "  likely means that the widgets JavaScript library is either not installed or\n",
       "  not enabled. See the <a href=\"https://ipywidgets.readthedocs.io/en/stable/user_install.html\">Jupyter\n",
       "  Widgets Documentation</a> for setup instructions.\n",
       "</p>\n",
       "<p>\n",
       "  If you're reading this message in another notebook frontend (for example, a static\n",
       "  rendering on GitHub or <a href=\"https://nbviewer.jupyter.org/\">NBViewer</a>),\n",
       "  it may mean that your frontend doesn't currently support widgets.\n",
       "</p>\n"
      ],
      "text/plain": [
       "Checkbox(value=True, description='Save Figs')"
      ]
     },
     "metadata": {},
     "output_type": "display_data"
    },
    {
     "data": {
      "text/plain": [
       "'12-12-2017_02_00_BoxShaking/Energy/'"
      ]
     },
     "execution_count": 144,
     "metadata": {},
     "output_type": "execute_result"
    }
   ],
   "source": [
    "# Start a figure folder \n",
    "display(savefig)\n",
    "suffix_energy = os.path.join(folder_name, 'Energy','')\n",
    "os.makedirs(os.path.join(suffix_energy), exist_ok=True)\n",
    "suffix_energy"
   ]
  },
  {
   "cell_type": "code",
   "execution_count": 145,
   "metadata": {
    "code_folding": [],
    "collapsed": true
   },
   "outputs": [],
   "source": [
    "# Define Settings \n",
    "settings = {**default_settings, \n",
    "            **dict(center_x = 1183, center_y = 1376, \n",
    "                   fudge=1.75, width=800, height=1200, \n",
    "                   subsample=3,\n",
    "                   radial_selection=0.75,\n",
    "                   Tfit_lim=0.1)}\n",
    "\n",
    "settings = {**default_settings, \n",
    "            **dict(center_x = 1183, center_y = 1376, \n",
    "                   fudge=1.86, width=800, height=1200, \n",
    "                   subsample=3,\n",
    "                   radial_selection=0.75,\n",
    "                   Tfit_lim=0.1)}"
   ]
  },
  {
   "cell_type": "code",
   "execution_count": 146,
   "metadata": {
    "code_folding": [
     0
    ]
   },
   "outputs": [
    {
     "data": {
      "application/vnd.jupyter.widget-view+json": {
       "model_id": "e45bceb13fe948fca622b9d32291eba9",
       "version_major": 2,
       "version_minor": 0
      },
      "text/html": [
       "<p>Failed to display Jupyter Widget of type <code>interactive</code>.</p>\n",
       "<p>\n",
       "  If you're reading this message in Jupyter Notebook or JupyterLab, it may mean\n",
       "  that the widgets JavaScript is still loading. If this message persists, it\n",
       "  likely means that the widgets JavaScript library is either not installed or\n",
       "  not enabled. See the <a href=\"https://ipywidgets.readthedocs.io/en/stable/user_install.html\">Jupyter\n",
       "  Widgets Documentation</a> for setup instructions.\n",
       "</p>\n",
       "<p>\n",
       "  If you're reading this message in another notebook frontend (for example, a static\n",
       "  rendering on GitHub or <a href=\"https://nbviewer.jupyter.org/\">NBViewer</a>),\n",
       "  it may mean that your frontend doesn't currently support widgets.\n",
       "</p>\n"
      ],
      "text/plain": [
       "interactive(children=(IntSlider(value=3, description='test', max=5), Output()), _dom_classes=('widget-interact',))"
      ]
     },
     "metadata": {},
     "output_type": "display_data"
    }
   ],
   "source": [
    "# Verify Settings \n",
    "\n",
    "# Apply to all Images \n",
    "for n,r in df_hyb_energy_all.iterrows(): r.image.set(**settings)\n",
    "    \n",
    "# Function to plot the restults \n",
    "def temp(test=np.random.randint(0, df_hyb_energy_all.shape[0])):\n",
    "    r = df_hyb_energy_all.iloc[test]\n",
    "    ax = plt.subplots(nrows=2, ncols=2, figsize=[10,8])[1].flatten()\n",
    "    r.image.plot_crop(ax=ax[0:2])\n",
    "    r.image.xsec.infoplot(axs=ax[2:4])\n",
    "    plt.tight_layout()\n",
    "    if savefig.value: plt.savefig(suffix_samples + 'Energy Crop Cross Section {}.pdf'.format(r.name[11:16]))\n",
    "\n",
    "if df_hyb_energy_all.shape[0] == 1: temp(0)\n",
    "else: ipywidgets.interact(temp, test=(0, df_hyb_energy_all.shape[0]-1))"
   ]
  },
  {
   "cell_type": "code",
   "execution_count": 147,
   "metadata": {
    "code_folding": [
     0
    ]
   },
   "outputs": [
    {
     "data": {
      "application/vnd.jupyter.widget-view+json": {
       "model_id": "49fe7adaaadb4dc089eae475a82dbc9c",
       "version_major": 2,
       "version_minor": 0
      },
      "text/html": [
       "<p>Failed to display Jupyter Widget of type <code>HBox</code>.</p>\n",
       "<p>\n",
       "  If you're reading this message in Jupyter Notebook or JupyterLab, it may mean\n",
       "  that the widgets JavaScript is still loading. If this message persists, it\n",
       "  likely means that the widgets JavaScript library is either not installed or\n",
       "  not enabled. See the <a href=\"https://ipywidgets.readthedocs.io/en/stable/user_install.html\">Jupyter\n",
       "  Widgets Documentation</a> for setup instructions.\n",
       "</p>\n",
       "<p>\n",
       "  If you're reading this message in another notebook frontend (for example, a static\n",
       "  rendering on GitHub or <a href=\"https://nbviewer.jupyter.org/\">NBViewer</a>),\n",
       "  it may mean that your frontend doesn't currently support widgets.\n",
       "</p>\n"
      ],
      "text/plain": [
       "HBox(children=(IntProgress(value=0, max=6), HTML(value='')))"
      ]
     },
     "metadata": {},
     "output_type": "display_data"
    },
    {
     "name": "stdout",
     "output_type": "stream",
     "text": [
      "\n",
      "Total Images 6 ==> Good 6, Bad 0\n"
     ]
    },
    {
     "data": {
      "image/png": "[encoded data removed]",
      "text/plain": [
       "<matplotlib.figure.Figure at 0x1a15922f28>"
      ]
     },
     "metadata": {},
     "output_type": "display_data"
    }
   ],
   "source": [
    "# Atom Number Filter \n",
    "df_hyb_energy_all['total_atoms'] = [im.total_atoms for im in tqdm(df_hyb_energy_all.image)]\n",
    "ax = tp.atom_num_filter(df=df_hyb_energy_all, keep=0.15, offset=0.0, display=True, plot=True)\n",
    "# ax[0].set(ylim=[0.3,None])\n",
    "if savefig.value: plt.savefig(suffix_energy + 'AtomNumbersScatter.pdf')\n",
    "df_hyb_energy = df_hyb_energy_all[df_hyb_energy_all.use]"
   ]
  },
  {
   "cell_type": "code",
   "execution_count": 148,
   "metadata": {
    "code_folding": [],
    "collapsed": true
   },
   "outputs": [],
   "source": [
    "# Compute E/N and E/E0 for the three nz's \n",
    "def compute_moment(nz, zlim=550, trap_f=settings['trap_f']):\n",
    "    mult = 4 * 1/2 * cst.mass * (twopi*trap_f)**2\n",
    "    using = (nz.x >= -zlim*1e-6) & (nz.x <= zlim*1e-6)\n",
    "    nz = tp.Curve(nz.x[using], nz.y[using])\n",
    "    return mult * np.trapz(nz.y*nz.x**2, nz.x) / np.trapz(nz.y, nz.x)"
   ]
  },
  {
   "cell_type": "code",
   "execution_count": 149,
   "metadata": {
    "code_folding": [
     0
    ]
   },
   "outputs": [
    {
     "data": {
      "application/vnd.jupyter.widget-view+json": {
       "model_id": "84fcd28c5c6e464b86be7c6f988e7d8a",
       "version_major": 2,
       "version_minor": 0
      },
      "text/html": [
       "<p>Failed to display Jupyter Widget of type <code>interactive</code>.</p>\n",
       "<p>\n",
       "  If you're reading this message in Jupyter Notebook or JupyterLab, it may mean\n",
       "  that the widgets JavaScript is still loading. If this message persists, it\n",
       "  likely means that the widgets JavaScript library is either not installed or\n",
       "  not enabled. See the <a href=\"https://ipywidgets.readthedocs.io/en/stable/user_install.html\">Jupyter\n",
       "  Widgets Documentation</a> for setup instructions.\n",
       "</p>\n",
       "<p>\n",
       "  If you're reading this message in another notebook frontend (for example, a static\n",
       "  rendering on GitHub or <a href=\"https://nbviewer.jupyter.org/\">NBViewer</a>),\n",
       "  it may mean that your frontend doesn't currently support widgets.\n",
       "</p>\n"
      ],
      "text/plain": [
       "interactive(children=(IntSlider(value=1, description='test', max=5), Output()), _dom_classes=('widget-interact',))"
      ]
     },
     "metadata": {},
     "output_type": "display_data"
    }
   ],
   "source": [
    "# Fit kT and mu0 vs fit lims \n",
    "cutoffs = np.linspace(0.03, 0.2, 6)\n",
    "zlims = np.arange(200, 500, 10)\n",
    "guess = dict(kT_kHz = settings['Tfit_guess_kT'],\n",
    "             mu0_kHz = settings['Tfit_guess_mu0'],)\n",
    "fixed = dict(trap_f=df_hyb_energy.iloc[0].image.trap_f, z0=0, fudge=1, offset=0, gradient=0)\n",
    "\n",
    "def sample_EoS_fitrange(test=np.random.randint(0, df_hyb_energy.shape[0])): \n",
    "    # Extract needed variables for easy access \n",
    "    r = df_hyb_energy.iloc[test]\n",
    "    img = r.image\n",
    "    # Fit thermodynamic function n(z) \n",
    "    cf = tp.curve_fit(tp.density_unitary_hybrid, guess, \n",
    "                 *img.nz.trim(ylim=[-np.inf, settings['Tfit_lim'] * 1e18]).data, \n",
    "                 plot = False, fixed = fixed)\n",
    "    # Fit thermodynamics to a range of density cutoffs \n",
    "    cfs = [tp.curve_fit(tp.density_unitary_hybrid, guess, \n",
    "                 *img.nz.trim(ylim=[-np.inf, c * 1e18]).data, \n",
    "                 plot = False, fixed = fixed) \n",
    "          for c in tqdm(cutoffs)]\n",
    "    atoms_ratio = [c(img.nz.x).sum() / img.nz.y.sum() for c in cfs]\n",
    "    # Compute moment vs zlim \n",
    "    z, n_data = img.nz.x, img.nz.y\n",
    "    n_fit = cf(z)\n",
    "    n_stitched = n_data.copy()\n",
    "    n_stitched[n_fit <= settings['Tfit_lim'] * 1e18] = n_fit[n_fit <= settings['Tfit_lim'] * 1e18]\n",
    "    moment_data = [compute_moment(tp.Curve(z, n_data), zl) for zl in zlims]\n",
    "    moment_fit = [compute_moment(tp.Curve(z, n_fit), zl) for zl in zlims]\n",
    "    moment_stitched = [compute_moment(tp.Curve(z, n_stitched), zl) for zl in zlims]\n",
    "    \n",
    "    # Plot Results \n",
    "    ax = plt.subplots(ncols=2, nrows=2, figsize=[7, 6])[1].flatten()\n",
    "    ax[0].axhspan(2*cf.y.min()/1e18, settings['Tfit_lim'], color='k', alpha=0.1)\n",
    "    ax[0].plot(*img.nz.plotdata, zorder=2)\n",
    "    ax[0].plot(cf.xp*1e6, cf(cf.xp)/1e18, zorder=1)\n",
    "    ax[0].fill_between(cf.xp*1e6, cf.yband(cf.xp)[0]/1e18, \n",
    "                       cf.yband(cf.xp)[1]/1e18, color='g', alpha=0.25, zorder=0)\n",
    "    ax[1].errorbar(cutoffs, [c.fv['kT_kHz'] for c in cfs], [c.fe['kT_kHz'] for c in cfs])\n",
    "    ax[1].errorbar(cutoffs, [c.fv['mu0_kHz'] for c in cfs], [c.fe['mu0_kHz'] for c in cfs])\n",
    "    ax[2].plot(cutoffs, atoms_ratio, 'o')\n",
    "    ax[3].plot(zlims, moment_data, '-')\n",
    "    ax[3].plot(zlims, moment_fit, '-')\n",
    "    ax[3].plot(zlims, moment_stitched, '-')\n",
    "    ax[0].set(xlabel=r'z ($\\mu m$)', ylabel=r'n ($\\mu m^{-3}$)')\n",
    "    ax[1].set(xlabel=r'n cutoff ($\\mu m^{-3}$)', ylabel=r'kT, $\\mu_0$ (kHz)')\n",
    "    ax[2].set(xlabel=r'n cutoff ($\\mu m^{-3}$)', ylabel=r'$N_{EoS}$ / $N_{Data}$')\n",
    "    ax[3].set(xlabel=r'z cutoff ($\\mu m$)', ylabel=r'E/N (kHz)')\n",
    "    plt.tight_layout()\n",
    "    if savefig.value: plt.savefig(suffix_energy + 'Sample-EoS Fits-EN-{}.pdf'.format(r.name[11:16]))\n",
    "\n",
    "if df_hyb_energy.shape[0] == 1: sample_EoS_fitrange(0)\n",
    "else: ipywidgets.interact(sample_EoS_fitrange, test=(0, df_hyb_energy.shape[0]-1),)"
   ]
  },
  {
   "cell_type": "code",
   "execution_count": 150,
   "metadata": {
    "code_folding": [
     0
    ]
   },
   "outputs": [
    {
     "data": {
      "application/vnd.jupyter.widget-view+json": {
       "model_id": "efc03d825e6d41b4b1939d517ef5e3ee",
       "version_major": 2,
       "version_minor": 0
      },
      "text/html": [
       "<p>Failed to display Jupyter Widget of type <code>HBox</code>.</p>\n",
       "<p>\n",
       "  If you're reading this message in Jupyter Notebook or JupyterLab, it may mean\n",
       "  that the widgets JavaScript is still loading. If this message persists, it\n",
       "  likely means that the widgets JavaScript library is either not installed or\n",
       "  not enabled. See the <a href=\"https://ipywidgets.readthedocs.io/en/stable/user_install.html\">Jupyter\n",
       "  Widgets Documentation</a> for setup instructions.\n",
       "</p>\n",
       "<p>\n",
       "  If you're reading this message in another notebook frontend (for example, a static\n",
       "  rendering on GitHub or <a href=\"https://nbviewer.jupyter.org/\">NBViewer</a>),\n",
       "  it may mean that your frontend doesn't currently support widgets.\n",
       "</p>\n"
      ],
      "text/plain": [
       "HBox(children=(IntProgress(value=0, max=6), HTML(value='')))"
      ]
     },
     "metadata": {},
     "output_type": "display_data"
    },
    {
     "name": "stdout",
     "output_type": "stream",
     "text": [
      "\n"
     ]
    }
   ],
   "source": [
    "# Fit thermodynamics n(z) to all data \n",
    "guess = dict(kT_kHz = settings['Tfit_guess_kT'],\n",
    "             mu0_kHz = settings['Tfit_guess_mu0'],)\n",
    "fixed = dict(trap_f=df_hyb_energy.iloc[0].image.trap_f, z0=0, fudge=1, offset=0, gradient=0)\n",
    "\n",
    "df_hyb_energy['nz_curvefit'] = [tp.curve_fit(tp.density_unitary_hybrid, guess, \n",
    "                           *img.nz.trim(ylim=[-np.inf, settings['Tfit_lim']*1e18]).data,\n",
    "                            fixed = fixed)\n",
    "                          for img in tqdm(df_hyb_energy.image)]\n",
    "\n",
    "# Compute nz stitched \n",
    "df_hyb_energy['nz_data'] = None\n",
    "df_hyb_energy['nz_fit'] = None\n",
    "df_hyb_energy['nz_stitched'] = None\n",
    "for n, r in df_hyb_energy.iterrows():\n",
    "    z, n_data = r.image.nz.x, r.image.nz.y\n",
    "    n_fit = r.nz_curvefit(z)\n",
    "    use_fit = (n_fit <= settings['Tfit_lim'] * 1e18)\n",
    "    n_stitched = n_data.copy()\n",
    "    n_stitched[use_fit] = n_fit[use_fit]\n",
    "    df_hyb_energy.loc[n, 'nz_data'] = tp.Curve(z, n_data, xscale=1e-6, yscale=1e18)\n",
    "    df_hyb_energy.loc[n, 'nz_fit'] = tp.Curve(z, n_fit, xscale=1e-6, yscale=1e18)\n",
    "    df_hyb_energy.loc[n, 'nz_stitched'] = tp.Curve(z, n_stitched, xscale=1e-6, yscale=1e18)"
   ]
  },
  {
   "cell_type": "code",
   "execution_count": 151,
   "metadata": {
    "code_folding": [
     0
    ]
   },
   "outputs": [
    {
     "data": {
      "image/png": "[encoded data removed]",
      "text/plain": [
       "<matplotlib.figure.Figure at 0x1a1ba93cf8>"
      ]
     },
     "metadata": {},
     "output_type": "display_data"
    }
   ],
   "source": [
    "# Compute total atoms and EF of the box \n",
    "\n",
    "# Box volume from sound data \n",
    "box_volume = (box_char['length (um)'].values[0] * 1e-6\n",
    "              * np.pi*(box_char['radius (um)'].values[0] * 1e-6)**2 )\n",
    "\n",
    "# x labels \n",
    "time = np.array(list(df_hyb_energy.time.values))\n",
    "time_str = ['{:.0f}'.format(t) for t in time]\n",
    "xi = df_hyb_energy.x.values\n",
    "xcount = np.arange(df_hyb_energy.shape[0])\n",
    "\n",
    "# Total Atoms from atom counting \n",
    "atoms_fit_data_ratio = np.array([r.nz_fit.y.sum()/r.nz_data.y.sum() for n,r in df_hyb_energy.iterrows()]) \n",
    "atoms_counting_data = np.array([r.image.total_atoms for n,r in df_hyb_energy.iterrows()]) \n",
    "atoms_counting_fit = atoms_counting_data * atoms_fit_data_ratio\n",
    "EF_counting_data = cst.n2EF(atoms_counting_data / box_volume)\n",
    "EF_counting_fit = cst.n2EF(atoms_counting_fit / box_volume)\n",
    "\n",
    "# Total Atoms from nz integration\n",
    "mult = np.pi * df_hyb_energy.iloc[0].image.pixel_binned**2\n",
    "atoms_nzint_data = np.array([ np.trapz(r.nz_data.y * r.image.xsec.radius**2, r.nz_data.x)\n",
    "    for n,r in df_hyb_energy.iterrows()]) * mult\n",
    "atoms_nzint_fit = np.array([ np.trapz(r.nz_fit.y * r.image.xsec.radius**2, r.nz_fit.x)\n",
    "    for n,r in df_hyb_energy.iterrows()]) * mult\n",
    "EF_nzint_data = cst.n2EF(atoms_nzint_data / box_volume)\n",
    "EF_nzint_fit = cst.n2EF(atoms_nzint_fit / box_volume)\n",
    "\n",
    "# Average \n",
    "atoms_avg = tp.bin_data(\n",
    "        np.concatenate([np.arange(len(atoms_counting_data))] * 4),\n",
    "        np.concatenate([atoms_counting_data, atoms_counting_fit, \n",
    "                        atoms_nzint_data, atoms_nzint_fit]))\n",
    "EF_avg = tp.bin_data(atoms_avg.xi, cst.n2EF(atoms_avg.yi/box_volume))\n",
    "\n",
    "# Plot of atom numbers from various methods \n",
    "ax = plt.subplots(figsize=[5,4])[1]\n",
    "ax = [ax]\n",
    "plt.plot(atoms_counting_data/1e6, 's-', label='Counting Data', alpha=1)\n",
    "plt.plot(atoms_counting_fit/1e6, 's--', label='Counting Fit', alpha=1)\n",
    "plt.plot(atoms_nzint_data/1e6, 'o-', label='int nz data', alpha=1)\n",
    "plt.plot(atoms_nzint_fit/1e6, 'o--', label='int nz fit', alpha=1)\n",
    "plt.errorbar(atoms_avg.x, atoms_avg.y/1e6, atoms_avg.ystd/1e6, fmt='.-', color='k', alpha=0.5)\n",
    "plt.legend()\n",
    "plt.ylabel('Atoms (Million)')\n",
    "plt.xlabel('Time (minutes)')\n",
    "ax[0].set(xticks=xcount, xticklabels=time_str)\n",
    "ax.append(ax[0].twinx())\n",
    "ax[1].set(ylim=cst.n2EF(1e6*np.array(ax[0].get_ylim())/box_volume)/kHz, \n",
    "          ylabel='EF (kHz)')\n",
    "plt.tight_layout()\n",
    "\n",
    "if savefig.value: plt.savefig(\n",
    "    suffix_energy + 'Total Atoms Various Methods.pdf')"
   ]
  },
  {
   "cell_type": "code",
   "execution_count": 152,
   "metadata": {
    "collapsed": true
   },
   "outputs": [],
   "source": [
    "# Amount of Energy to subtract  \n",
    "EN_heating_subtract = 0 * (3/5 * EF_avg.y.mean()) "
   ]
  },
  {
   "cell_type": "code",
   "execution_count": 153,
   "metadata": {
    "code_folding": [
     0
    ],
    "scrolled": false
   },
   "outputs": [
    {
     "data": {
      "image/png": "[encoded data removed]",
      "text/plain": [
       "<matplotlib.figure.Figure at 0x1a12061eb8>"
      ]
     },
     "metadata": {},
     "output_type": "display_data"
    }
   ],
   "source": [
    "# Compute E/N different ways \n",
    "EN_data = np.array([compute_moment(nz) \n",
    "           for nz in df_hyb_energy.nz_data]) - EN_heating_subtract\n",
    "EN_fit = np.array([compute_moment(nz) \n",
    "           for nz in df_hyb_energy.nz_fit]) - EN_heating_subtract\n",
    "EN_stitched = np.array([compute_moment(nz) \n",
    "           for nz in df_hyb_energy.nz_stitched]) - EN_heating_subtract\n",
    "\n",
    "# Compute E/E0 \n",
    "EE0_data = EN_data/(3/5 * EF_avg.y)\n",
    "EE0_fit = EN_fit/(3/5 * EF_avg.y)\n",
    "EE0_stitched = EN_stitched/(3/5 * EF_avg.y)\n",
    "\n",
    "# Average E/N from fit and stitched methods \n",
    "EN_avg = tp.bin_data(np.concatenate([xi]*2), \n",
    "           np.concatenate([EN_fit, EN_stitched]))\n",
    "\n",
    "# Compute E/E0 \n",
    "EE0_avg = tp.bin_data(np.concatenate([xi]*2), \n",
    "           np.concatenate([EE0_fit, EE0_stitched]))\n",
    "\n",
    "# Compute energy correction factors \n",
    "EN_heating_perc = 100 * EN_heating_subtract / (EN_avg.y[0] + EN_heating_subtract)\n",
    "EE0_heating_subtract = EN_heating_subtract/(3/5 * EF_avg.y.mean())\n",
    "EE0_heating_perc = 100 * EE0_heating_subtract / (EE0_avg.y[0] + EE0_heating_subtract)\n",
    "\n",
    "# Compute T/TF \n",
    "c_EE0_TTF = tp.Curve(UFG.df['E/E0'].values, UFG.df['T/T_F'].values)\n",
    "TTF_data = c_EE0_TTF(EE0_data)\n",
    "TTF_fit = c_EE0_TTF(EE0_fit)\n",
    "TTF_stitched = c_EE0_TTF(EE0_stitched)\n",
    "TTF_avg = tp.bin_data(np.concatenate([xi]*2), \n",
    "           np.concatenate([TTF_fit, TTF_stitched]))\n",
    "\n",
    "# Compute velocity \n",
    "vF_avg = (2 * EF_avg.y.mean() / cst.mass)**(1/2)\n",
    "vs_avg = ((EE0_avg.y[0])/3)**(1/2) * vF_avg\n",
    "\n",
    "# Make figure \n",
    "ax = plt.subplots(nrows=3, figsize=[4.5, 7], sharex=True)[1]\n",
    "plt.sca(ax[0])\n",
    "plt.plot(xcount, EN_data/kHz, 's-')\n",
    "plt.plot(xcount, EN_fit/kHz, 's-')\n",
    "plt.plot(xcount, EN_stitched/kHz, 's-')\n",
    "plt.axhspan(EN_avg.y/kHz - EN_avg.ystd/kHz, \n",
    "            EN_avg.y/kHz + EN_avg.ystd/kHz, \n",
    "            alpha=0.1, color='C2')\n",
    "ax_ = ax[0].twinx()\n",
    "ax_.set(ylim = 100*(np.array(ax[0].get_ylim())/(EN_avg.y/kHz)-1),\n",
    "        ylabel = 'Percent Difference')\n",
    "ax[0].set(ylabel=r'E/N (kHz)', \n",
    "          xticks=xcount, xticklabels=time_str,\n",
    "          title='Heating: {:.1f} kHz E/N, {:.2f} E/E0, {:.0f}%'.format(\n",
    "                  EN_heating_subtract/kHz, EE0_heating_subtract, EN_heating_perc))\n",
    "plt.sca(ax[1])\n",
    "plt.plot(xcount, EE0_data, 's-')\n",
    "plt.plot(xcount, EE0_fit, 's-')\n",
    "plt.plot(xcount, EE0_stitched, 's-')\n",
    "plt.axhspan(EE0_avg.y - EE0_avg.ystd, \n",
    "            EE0_avg.y + EE0_avg.ystd, \n",
    "            alpha=0.1, color='C2')\n",
    "ax[1].set(ylabel=r'E/E0', \n",
    "          xticks=xcount, xticklabels=time_str)\n",
    "ax_ = ax[1].twinx()\n",
    "ax_.set(ylim = 100*(np.array(ax[1].get_ylim())/EE0_avg.y-1),\n",
    "        ylabel = 'Percent Difference')\n",
    "plt.sca(ax[2])\n",
    "plt.plot(xcount, TTF_data, 's-')\n",
    "plt.plot(xcount, TTF_fit, 's-')\n",
    "plt.plot(xcount, TTF_stitched, 's-')\n",
    "plt.axhspan(TTF_avg.y - TTF_avg.ystd, \n",
    "            TTF_avg.y + TTF_avg.ystd, \n",
    "            alpha=0.1, color='C2')\n",
    "ax[2].set(ylabel=r'T/TF', xlabel=r'Time (minutes)', \n",
    "          xticks=xcount, xticklabels=time_str)\n",
    "ax_ = ax[2].twinx()\n",
    "ax_.set(ylim = 100*(np.array(ax[2].get_ylim())/TTF_avg.y-1),\n",
    "        ylabel = 'Percent Difference')\n",
    "\n",
    "\n",
    "plt.tight_layout()\n",
    "plt.subplots_adjust(hspace=0.05)\n",
    "\n",
    "if savefig.value: plt.savefig(\n",
    "    suffix_energy + 'EN and EE0 Various Methods and Mean.pdf')"
   ]
  },
  {
   "cell_type": "code",
   "execution_count": 154,
   "metadata": {
    "code_folding": [
     0
    ],
    "scrolled": true
   },
   "outputs": [
    {
     "data": {
      "text/html": [
       "<div>\n",
       "<style>\n",
       "    .dataframe thead tr:only-child th {\n",
       "        text-align: right;\n",
       "    }\n",
       "\n",
       "    .dataframe thead th {\n",
       "        text-align: left;\n",
       "    }\n",
       "\n",
       "    .dataframe tbody tr th {\n",
       "        vertical-align: top;\n",
       "    }\n",
       "</style>\n",
       "<table border=\"1\" class=\"dataframe\">\n",
       "  <thead>\n",
       "    <tr style=\"text-align: right;\">\n",
       "      <th></th>\n",
       "      <th>fugde</th>\n",
       "      <th>HeatCycles</th>\n",
       "      <th>volume</th>\n",
       "      <th>total atoms</th>\n",
       "      <th>total atoms error</th>\n",
       "      <th>EF (kHz)</th>\n",
       "      <th>EF (kHz) error</th>\n",
       "      <th>E/N Heating (kHz)</th>\n",
       "      <th>E/N (kHz)</th>\n",
       "      <th>E/N (kHz) error</th>\n",
       "      <th>E/E0</th>\n",
       "      <th>E/E0 error</th>\n",
       "      <th>T/TF</th>\n",
       "      <th>T/TF error</th>\n",
       "      <th>v (m/s)</th>\n",
       "    </tr>\n",
       "  </thead>\n",
       "  <tbody>\n",
       "    <tr>\n",
       "      <th>0</th>\n",
       "      <td>1.86</td>\n",
       "      <td>0.0</td>\n",
       "      <td>1.275237e-12</td>\n",
       "      <td>427705.379727</td>\n",
       "      <td>17126.801442</td>\n",
       "      <td>6.160724</td>\n",
       "      <td>0.164511</td>\n",
       "      <td>0.0</td>\n",
       "      <td>1.40249</td>\n",
       "      <td>0.021044</td>\n",
       "      <td>0.377008</td>\n",
       "      <td>0.006399</td>\n",
       "      <td>0.098135</td>\n",
       "      <td>0.004621</td>\n",
       "      <td>0.010168</td>\n",
       "    </tr>\n",
       "  </tbody>\n",
       "</table>\n",
       "</div>"
      ],
      "text/plain": [
       "   fugde  HeatCycles        volume    total atoms  total atoms error  \\\n",
       "0   1.86         0.0  1.275237e-12  427705.379727       17126.801442   \n",
       "\n",
       "   EF (kHz)  EF (kHz) error  E/N Heating (kHz)  E/N (kHz)  E/N (kHz) error  \\\n",
       "0  6.160724        0.164511                0.0    1.40249         0.021044   \n",
       "\n",
       "       E/E0  E/E0 error      T/TF  T/TF error   v (m/s)  \n",
       "0  0.377008    0.006399  0.098135    0.004621  0.010168  "
      ]
     },
     "execution_count": 154,
     "metadata": {},
     "output_type": "execute_result"
    }
   ],
   "source": [
    "# Store Information \n",
    "temp_info = pd.DataFrame()\n",
    "temp_info['fugde'] = [df_hyb_energy.image.iloc[0].fudge]\n",
    "temp_info['HeatCycles'] = df_hyb_energy['HeatCycles'].iloc[0]\n",
    "temp_info['volume'] = box_volume\n",
    "temp_info['total atoms'] = atoms_avg.y[0]\n",
    "temp_info['total atoms error'] = atoms_avg.ystd[0]\n",
    "temp_info['EF (kHz)'] = EF_avg.y[0] / kHz\n",
    "temp_info['EF (kHz) error'] = EF_avg.ystd[0] / kHz\n",
    "temp_info['E/N Heating (kHz)'] = EN_heating_subtract/kHz \n",
    "temp_info['E/N (kHz)'] = EN_avg.y[0] / kHz\n",
    "temp_info['E/N (kHz) error'] = EN_avg.ystd[0] / kHz\n",
    "temp_info['E/E0'] = EE0_avg.y[0]\n",
    "temp_info['E/E0 error'] = EE0_avg.ystd[0]\n",
    "temp_info['T/TF'] = TTF_avg.y[0]\n",
    "temp_info['T/TF error'] = TTF_avg.ystd[0]\n",
    "temp_info['v (m/s)'] = vs_avg\n",
    "if savefig.value: temp_info.to_excel(suffix + 'ThermoInfo.xlsx')\n",
    "temp_info"
   ]
  },
  {
   "cell_type": "markdown",
   "metadata": {},
   "source": [
    "## Results"
   ]
  },
  {
   "cell_type": "code",
   "execution_count": 155,
   "metadata": {
    "code_folding": [
     0
    ],
    "scrolled": false
   },
   "outputs": [
    {
     "name": "stdout",
     "output_type": "stream",
     "text": [
      "EF   : 6.16 +/- 0.16 kHz\n",
      "E/E0 : 0.38 +/- 0.01\n",
      "T/TF : 0.10 +/- 0.00\n",
      "v    : 10.2 mm/s\n"
     ]
    }
   ],
   "source": [
    "# Print highlights \n",
    "print('EF   : {:.2f} +/- {:.2f} kHz'.format(temp_info['EF (kHz)'].values[0], temp_info['EF (kHz) error'].values[0]))\n",
    "print('E/E0 : {:.2f} +/- {:.2f}'.format(temp_info['E/E0'].values[0], temp_info['E/E0 error'].values[0]))\n",
    "print('T/TF : {:.2f} +/- {:.2f}'.format(temp_info['T/TF'].values[0], temp_info['T/TF error'].values[0]))\n",
    "print('v    : {:.1f} mm/s'.format(temp_info['v (m/s)'].values[0] * 1e3))"
   ]
  },
  {
   "cell_type": "code",
   "execution_count": 156,
   "metadata": {
    "code_folding": [
     0
    ]
   },
   "outputs": [
    {
     "data": {
      "application/javascript": [
       "IPython.notebook.kernel.execute(\"theNotebook = \" + \"'\"+IPython.notebook.notebook_name+\"'\");"
      ],
      "text/plain": [
       "<IPython.core.display.Javascript object>"
      ]
     },
     "metadata": {},
     "output_type": "display_data"
    }
   ],
   "source": [
    "# Copy the file \n",
    "if savefig.value:\n",
    "    shutil.copyfile(getNotebookName(), suffix + 'BoxShakingAnalyzer.ipynb')"
   ]
  },
  {
   "cell_type": "code",
   "execution_count": null,
   "metadata": {
    "collapsed": true
   },
   "outputs": [],
   "source": []
  },
  {
   "cell_type": "markdown",
   "metadata": {},
   "source": [
    "# Condensate Fraction from Rapid Ramp"
   ]
  },
  {
   "cell_type": "markdown",
   "metadata": {},
   "source": [
    "## Bunch of Calcs"
   ]
  },
  {
   "cell_type": "code",
   "execution_count": 183,
   "metadata": {
    "code_folding": [
     0
    ],
    "collapsed": true
   },
   "outputs": [],
   "source": [
    "# Function definition for cond frac \n",
    "def get_cond_frac(app, thermal_limits, plot=False, plot_width=50):\n",
    "    c = tp.Curve(y = np.nansum(app, axis=1))\n",
    "    using = (c.x <= thermal_limits[0]) | (c.x >= thermal_limits[1])\n",
    "    c_ = tp.Curve(x = c.x[using], y = c.y[using])\n",
    "    fr = c_.fit(tp.gaussian, [c_.maxx/2, c_.maxx/8, c_.maxy, c_.maxy/1000], plot=False)[0]\n",
    "    x, y = c.x, c.y - fr[3]\n",
    "    fr[3] = 0\n",
    "    xf, yf = x, tp.gaussian(x, *fr)\n",
    "    cond_frac = (np.trapz(y, x) - np.trapz(yf, xf))/ np.trapz(y, x)\n",
    "    \n",
    "    if plot:\n",
    "        plt.figure(figsize=(10,4))\n",
    "        plt.subplot(121)\n",
    "        plt.imshow(app)\n",
    "        plt.axhline(thermal_limits[0], color='w', linestyle='--', alpha=0.5)\n",
    "        plt.axhline(thermal_limits[1], color='w', linestyle='--', alpha=0.5)\n",
    "        plt.subplot(122)\n",
    "        plt.plot(*c.plotdata)\n",
    "        plt.plot(*c_.xyfitplot)\n",
    "        plt.axvline(thermal_limits[0], color='r', linestyle='--', alpha=0.3)\n",
    "        plt.axvline(thermal_limits[1], color='r', linestyle='--', alpha=0.3)\n",
    "        plt.xlim([fr[0] - plot_width, fr[0] + plot_width])\n",
    "        plt.tight_layout()\n",
    "\n",
    "    return cond_frac, fr[1]\n",
    "\n",
    "# Function definition for cond frac \n",
    "def get_cond_frac(app, thermal_limits, plot=False, plot_width=50):\n",
    "    c = tp.Curve(y = np.nansum(app, axis=1))\n",
    "    using = (c.x <= thermal_limits[0]) | (c.x >= thermal_limits[1])\n",
    "    c_ = tp.Curve(x = c.x[using], y = c.y[using])\n",
    "    fr = c_.fit(tp.gaussian, [c_.maxx/2, c_.maxx/8, c_.maxy, c_.maxy/1000], plot=False)[0]\n",
    "    x, y = c.x, c.y - fr[3]\n",
    "    fr[3] = 0\n",
    "    xf, yf = x, tp.gaussian(x, *fr)\n",
    "    cond_frac = (np.trapz(y, x) - np.trapz(yf, xf))/ np.trapz(y, x)\n",
    "    \n",
    "    if plot:\n",
    "        plt.figure(figsize=(10,4))\n",
    "        plt.subplot(121)\n",
    "        plt.imshow(app)\n",
    "        plt.axhline(thermal_limits[0], color='w', linestyle='--', alpha=0.5)\n",
    "        plt.axhline(thermal_limits[1], color='w', linestyle='--', alpha=0.5)\n",
    "        plt.subplot(122)\n",
    "        plt.title(r'Gaussian Thermal Fit $N_c=${:.2f}'.format(cond_frac))\n",
    "        plt.plot(*c.plotdata)\n",
    "        plt.plot(*c_.xyfitplot)\n",
    "        plt.axvline(thermal_limits[0], color='r', linestyle='--', alpha=0.3)\n",
    "        plt.axvline(thermal_limits[1], color='r', linestyle='--', alpha=0.3)\n",
    "        plt.xlim([fr[0] - plot_width, fr[0] + plot_width])\n",
    "        plt.tight_layout()\n",
    "\n",
    "    return cond_frac, fr[1]\n",
    "\n",
    "def g_3half_fitfun(x, x0, mu, kt, n0, offset=0):\n",
    "    return (1/(2*np.pi*kt)**(3/2))*n0* mpmath.fp.polylog(3/2,np.exp(-np.abs(((x-x0)**2)/2 + np.abs(mu))/kt )) + offset\n",
    "\n",
    "g32 = np.vectorize(g_3half_fitfun)\n",
    "\n",
    "def get_cond_frac_polylog(app, thermal_limits, plot=False, plot_width=50):\n",
    "    c = tp.Curve(y = np.nansum(app, axis=1))\n",
    "    using = (c.x <= thermal_limits[0]) | (c.x >= thermal_limits[1])\n",
    "    c_ = tp.Curve(x = c.x[using], y = c.y[using])\n",
    "    fr = c_.fit(g32, [c_.maxx/2, 0.1, 1e3, 4e8,0], plot=False)[0]\n",
    "    x, y = c.x, c.y - fr[4]\n",
    "    fr[4] = 0\n",
    "    xf, yf = x, g32(x, *fr)\n",
    "    cond_frac = (np.trapz(y, x) - np.trapz(yf, xf))/ np.trapz(y, x)\n",
    "    \n",
    "    if plot:\n",
    "        plt.figure(figsize=(10,4))\n",
    "        plt.subplot(121)\n",
    "        plt.imshow(app)\n",
    "        plt.axhline(thermal_limits[0], color='w', linestyle='--', alpha=0.5)\n",
    "        plt.axhline(thermal_limits[1], color='w', linestyle='--', alpha=0.5)\n",
    "        plt.subplot(122)\n",
    "        plt.title(r'Polylog Thermal Fit $N_c=${:.2f}'.format(cond_frac))\n",
    "        plt.plot(*c.plotdata)\n",
    "        plt.plot(*c_.xyfitplot)\n",
    "        plt.axvline(thermal_limits[0], color='r', linestyle='--', alpha=0.3)\n",
    "        plt.axvline(thermal_limits[1], color='r', linestyle='--', alpha=0.3)\n",
    "        plt.xlim([fr[0] - plot_width, fr[0] + plot_width])\n",
    "        plt.tight_layout()\n",
    "\n",
    "    return cond_frac, fr[2]\n",
    "\n",
    "def get_cond_frac_mixed(app, thermal_limits, plot=False, plot_width=50):\n",
    "    c = tp.Curve(y = np.nansum(app, axis=1))\n",
    "    using = (c.x <= thermal_limits[0]) | (c.x >= thermal_limits[1])\n",
    "    c_ = tp.Curve(x = c.x[using], y = c.y[using])\n",
    "    \n",
    "    # first fit a tp.gaussian\n",
    "    fr = c_.fit(tp.gaussian, [c_.maxx/2, c_.maxx/8, c_.maxy, c_.maxy/1000], plot=False)[0]\n",
    "    x, y = c.x, c.y - fr[3]\n",
    "    fr[3] = 0\n",
    "    xf, yf = x, tp.gaussian(x, *fr)\n",
    "    cond_frac = (np.trapz(y, x) - np.trapz(yf, xf))/ np.trapz(y, x)\n",
    "    fit_method = 'Gaussian'\n",
    "    Tstar = fr[1]\n",
    "    c_fit = c_\n",
    "    \n",
    "    # if it's narrow enough, fit a polylog\n",
    "    if fr[1] <= 39:\n",
    "        c_p = tp.Curve(x = c.x[using], y = c.y[using])\n",
    "        fr = c_p.fit(g32, [c_p.maxx/2, 1e3, 1e3, 5e8,0], plot=False)[0]\n",
    "        x, y = c.x, c.y - fr[4]\n",
    "        fr[4] = 0\n",
    "        xf, yf = x, g32(x, *fr)\n",
    "        cond_frac = (np.trapz(y, x) - np.trapz(yf, xf))/ np.trapz(y, x)\n",
    "        fit_method = 'PolyLog'\n",
    "        Tstar = fr[2]\n",
    "        c_fit = c_p\n",
    "        \n",
    "    if cond_frac>0.3:\n",
    "        # expand thermal limits for large condensates\n",
    "        thermal_limits = np.array(thermal_limits)+[-5,5]\n",
    "        using = (c.x <= thermal_limits[0]) | (c.x >= thermal_limits[1])\n",
    "        c_p = tp.Curve(x = c.x[using], y = c.y[using])\n",
    "        fr = c_p.fit(g32, [c_p.maxx/2,1e3, 1e3, 5e8,0], plot=False)[0]\n",
    "        x, y = c.x, c.y - fr[4]\n",
    "        fr[4] = 0\n",
    "        xf, yf = x, g32(x, *fr)\n",
    "        cond_frac = (np.trapz(y, x) - np.trapz(yf, xf))/ np.trapz(y, x)\n",
    "        fit_method = 'PolyLog'\n",
    "        Tstar = fr[2]\n",
    "        c_fit = c_p\n",
    "        \n",
    "\n",
    "    \n",
    "    if plot:\n",
    "        fig, axarr = plt.subplots(ncols=2, figsize=(10,4))\n",
    "        axarr[0].imshow(app)\n",
    "        axarr[0].axhline(thermal_limits[0], color='w', linestyle='--', alpha=0.5)\n",
    "        axarr[0].axhline(thermal_limits[1], color='w', linestyle='--', alpha=0.5)\n",
    "        axarr[0].set_title('Raw Rapid Ramp')\n",
    "        \n",
    "        axarr[1].set(title=r'$N_c=${:.2f}'.format(cond_frac), xlim=[fr[0] - plot_width, fr[0] + plot_width])\n",
    "        axarr[1].plot(*c.plotdata,'r-', linewidth=2, alpha=0.6, label='data')\n",
    "        axarr[1].plot(*c_.xyfitplot, 'k--', alpha=0.5, linewidth=1 , label='Gaussian thermal fit')\n",
    "        if fit_method=='PolyLog':\n",
    "            axarr[1].plot(*c_p.xyfitplot, 'k-', linewidth=1 , label='Polylog thermal fit')\n",
    "            \n",
    "        axarr[1].axvspan(*thermal_limits, alpha=0.05, color='k', label='Excluded from fit')\n",
    "        plt.legend()\n",
    "        plt.tight_layout()\n",
    "        \n",
    "    \n",
    "        \n",
    "    return cond_frac, Tstar, c_fit, c\n",
    "\n"
   ]
  },
  {
   "cell_type": "code",
   "execution_count": 184,
   "metadata": {
    "collapsed": true
   },
   "outputs": [],
   "source": [
    "df_rr_all = pd.DataFrame()"
   ]
  },
  {
   "cell_type": "code",
   "execution_count": 185,
   "metadata": {
    "code_folding": [
     0
    ],
    "collapsed": true
   },
   "outputs": [],
   "source": [
    "# Relevant Parameters \n",
    "x_var_name = ['BoxShakeFreq', 'BoxShakeAmp', 'ShakingCycles','HeatCycles']\n",
    "x_var_label = [r'$\\nu$ (Hz)', 'Amplitude (V)', 'Cycles (#)','Heat Cycles (#)']\n",
    "usei = 3\n",
    "x_var_name, x_var_label = x_var_name[usei], x_var_label[usei]\n",
    "image_use = 'A'"
   ]
  },
  {
   "cell_type": "code",
   "execution_count": 186,
   "metadata": {
    "code_folding": [
     0
    ]
   },
   "outputs": [
    {
     "data": {
      "application/vnd.jupyter.widget-view+json": {
       "model_id": "3d1064e0cc1a494186fd1a3d9ce49e2c",
       "version_major": 2,
       "version_minor": 0
      },
      "text/html": [
       "<p>Failed to display Jupyter Widget of type <code>HBox</code>.</p>\n",
       "<p>\n",
       "  If you're reading this message in Jupyter Notebook or JupyterLab, it may mean\n",
       "  that the widgets JavaScript is still loading. If this message persists, it\n",
       "  likely means that the widgets JavaScript library is either not installed or\n",
       "  not enabled. See the <a href=\"https://ipywidgets.readthedocs.io/en/stable/user_install.html\">Jupyter\n",
       "  Widgets Documentation</a> for setup instructions.\n",
       "</p>\n",
       "<p>\n",
       "  If you're reading this message in another notebook frontend (for example, a static\n",
       "  rendering on GitHub or <a href=\"https://nbviewer.jupyter.org/\">NBViewer</a>),\n",
       "  it may mean that your frontend doesn't currently support widgets.\n",
       "</p>\n"
      ],
      "text/plain": [
       "HBox(children=(IntProgress(value=0, max=8), HTML(value='')))"
      ]
     },
     "metadata": {},
     "output_type": "display_data"
    },
    {
     "name": "stdout",
     "output_type": "stream",
     "text": [
      "\n",
      "Total Number of Shots 4, Images 4\n"
     ]
    },
    {
     "data": {
      "text/html": [
       "<div>\n",
       "<style>\n",
       "    .dataframe thead tr:only-child th {\n",
       "        text-align: right;\n",
       "    }\n",
       "\n",
       "    .dataframe thead th {\n",
       "        text-align: left;\n",
       "    }\n",
       "\n",
       "    .dataframe tbody tr th {\n",
       "        vertical-align: top;\n",
       "    }\n",
       "</style>\n",
       "<table border=\"1\" class=\"dataframe\">\n",
       "  <thead>\n",
       "    <tr style=\"text-align: right;\">\n",
       "      <th></th>\n",
       "      <th>time</th>\n",
       "      <th>image</th>\n",
       "      <th>A</th>\n",
       "      <th>B</th>\n",
       "      <th>S</th>\n",
       "      <th>download</th>\n",
       "      <th>ExpansionTime</th>\n",
       "      <th>SideGreenEvap</th>\n",
       "      <th>WaitBox</th>\n",
       "      <th>IREvap</th>\n",
       "      <th>HeatTime</th>\n",
       "      <th>ShakeWait</th>\n",
       "      <th>HeatCycles</th>\n",
       "      <th>ShakingCycles</th>\n",
       "      <th>BoxShakeFreq</th>\n",
       "      <th>BoxShakeAmp</th>\n",
       "      <th>BoxShakeTime</th>\n",
       "      <th>SeqMode</th>\n",
       "      <th>x</th>\n",
       "    </tr>\n",
       "    <tr>\n",
       "      <th>name</th>\n",
       "      <th></th>\n",
       "      <th></th>\n",
       "      <th></th>\n",
       "      <th></th>\n",
       "      <th></th>\n",
       "      <th></th>\n",
       "      <th></th>\n",
       "      <th></th>\n",
       "      <th></th>\n",
       "      <th></th>\n",
       "      <th></th>\n",
       "      <th></th>\n",
       "      <th></th>\n",
       "      <th></th>\n",
       "      <th></th>\n",
       "      <th></th>\n",
       "      <th></th>\n",
       "      <th></th>\n",
       "      <th></th>\n",
       "    </tr>\n",
       "  </thead>\n",
       "  <tbody>\n",
       "    <tr>\n",
       "      <th>03-19-2018_21_48_38_TopA</th>\n",
       "      <td>0</td>\n",
       "      <td>Image object</td>\n",
       "      <td>True</td>\n",
       "      <td>False</td>\n",
       "      <td>False</td>\n",
       "      <td>True</td>\n",
       "      <td>2000.0</td>\n",
       "      <td>0.25</td>\n",
       "      <td>0.5</td>\n",
       "      <td>0.8</td>\n",
       "      <td>0.0</td>\n",
       "      <td>3.0</td>\n",
       "      <td>0.0</td>\n",
       "      <td>0.0</td>\n",
       "      <td>135.0</td>\n",
       "      <td>0.4</td>\n",
       "      <td>0.0</td>\n",
       "      <td>None</td>\n",
       "      <td>0.0</td>\n",
       "    </tr>\n",
       "    <tr>\n",
       "      <th>03-19-2018_21_49_33_TopA</th>\n",
       "      <td>0.916667</td>\n",
       "      <td>Image object</td>\n",
       "      <td>True</td>\n",
       "      <td>False</td>\n",
       "      <td>False</td>\n",
       "      <td>True</td>\n",
       "      <td>2000.0</td>\n",
       "      <td>0.25</td>\n",
       "      <td>0.5</td>\n",
       "      <td>0.8</td>\n",
       "      <td>0.0</td>\n",
       "      <td>3.0</td>\n",
       "      <td>0.0</td>\n",
       "      <td>0.0</td>\n",
       "      <td>135.0</td>\n",
       "      <td>0.4</td>\n",
       "      <td>0.0</td>\n",
       "      <td>None</td>\n",
       "      <td>0.0</td>\n",
       "    </tr>\n",
       "    <tr>\n",
       "      <th>03-19-2018_21_50_28_TopA</th>\n",
       "      <td>1.81667</td>\n",
       "      <td>Image object</td>\n",
       "      <td>True</td>\n",
       "      <td>False</td>\n",
       "      <td>False</td>\n",
       "      <td>True</td>\n",
       "      <td>2000.0</td>\n",
       "      <td>0.25</td>\n",
       "      <td>0.5</td>\n",
       "      <td>0.8</td>\n",
       "      <td>0.0</td>\n",
       "      <td>3.0</td>\n",
       "      <td>0.0</td>\n",
       "      <td>0.0</td>\n",
       "      <td>135.0</td>\n",
       "      <td>0.4</td>\n",
       "      <td>0.0</td>\n",
       "      <td>None</td>\n",
       "      <td>0.0</td>\n",
       "    </tr>\n",
       "  </tbody>\n",
       "</table>\n",
       "</div>"
      ],
      "text/plain": [
       "                              time         image     A      B      S  \\\n",
       "name                                                                   \n",
       "03-19-2018_21_48_38_TopA         0  Image object  True  False  False   \n",
       "03-19-2018_21_49_33_TopA  0.916667  Image object  True  False  False   \n",
       "03-19-2018_21_50_28_TopA   1.81667  Image object  True  False  False   \n",
       "\n",
       "                          download  ExpansionTime  SideGreenEvap  WaitBox  \\\n",
       "name                                                                        \n",
       "03-19-2018_21_48_38_TopA      True         2000.0           0.25      0.5   \n",
       "03-19-2018_21_49_33_TopA      True         2000.0           0.25      0.5   \n",
       "03-19-2018_21_50_28_TopA      True         2000.0           0.25      0.5   \n",
       "\n",
       "                          IREvap  HeatTime  ShakeWait  HeatCycles  \\\n",
       "name                                                                \n",
       "03-19-2018_21_48_38_TopA     0.8       0.0        3.0         0.0   \n",
       "03-19-2018_21_49_33_TopA     0.8       0.0        3.0         0.0   \n",
       "03-19-2018_21_50_28_TopA     0.8       0.0        3.0         0.0   \n",
       "\n",
       "                          ShakingCycles  BoxShakeFreq  BoxShakeAmp  \\\n",
       "name                                                                 \n",
       "03-19-2018_21_48_38_TopA            0.0         135.0          0.4   \n",
       "03-19-2018_21_49_33_TopA            0.0         135.0          0.4   \n",
       "03-19-2018_21_50_28_TopA            0.0         135.0          0.4   \n",
       "\n",
       "                          BoxShakeTime SeqMode    x  \n",
       "name                                                 \n",
       "03-19-2018_21_48_38_TopA           0.0    None  0.0  \n",
       "03-19-2018_21_49_33_TopA           0.0    None  0.0  \n",
       "03-19-2018_21_50_28_TopA           0.0    None  0.0  "
      ]
     },
     "metadata": {},
     "output_type": "display_data"
    }
   ],
   "source": [
    "# Import from Clipboard \n",
    "df_rr_all = tp.images_from_clipboard(df=df_rr_all,\n",
    "                                 x=x_var_name, \n",
    "                                 params=import_params,\n",
    "                                 image_func=tp.Image,\n",
    "                                 download=image_use,\n",
    "                                 display=True)"
   ]
  },
  {
   "cell_type": "code",
   "execution_count": 187,
   "metadata": {
    "code_folding": [
     0
    ]
   },
   "outputs": [
    {
     "data": {
      "application/vnd.jupyter.widget-view+json": {
       "model_id": "276ecf5f7ee54eb5a856bca1bd8a7176",
       "version_major": 2,
       "version_minor": 0
      },
      "text/html": [
       "<p>Failed to display Jupyter Widget of type <code>Checkbox</code>.</p>\n",
       "<p>\n",
       "  If you're reading this message in Jupyter Notebook or JupyterLab, it may mean\n",
       "  that the widgets JavaScript is still loading. If this message persists, it\n",
       "  likely means that the widgets JavaScript library is either not installed or\n",
       "  not enabled. See the <a href=\"https://ipywidgets.readthedocs.io/en/stable/user_install.html\">Jupyter\n",
       "  Widgets Documentation</a> for setup instructions.\n",
       "</p>\n",
       "<p>\n",
       "  If you're reading this message in another notebook frontend (for example, a static\n",
       "  rendering on GitHub or <a href=\"https://nbviewer.jupyter.org/\">NBViewer</a>),\n",
       "  it may mean that your frontend doesn't currently support widgets.\n",
       "</p>\n"
      ],
      "text/plain": [
       "Checkbox(value=True, description='Save Figs')"
      ]
     },
     "metadata": {},
     "output_type": "display_data"
    },
    {
     "data": {
      "text/plain": [
       "'12-12-2017_02_00_BoxShaking/CondFrac/'"
      ]
     },
     "execution_count": 187,
     "metadata": {},
     "output_type": "execute_result"
    }
   ],
   "source": [
    "# Start a figure folder \n",
    "display(savefig)\n",
    "suffix_rr = os.path.join(folder_name, 'CondFrac','')\n",
    "os.makedirs(os.path.join(suffix_rr), exist_ok=True)\n",
    "suffix_rr"
   ]
  },
  {
   "cell_type": "code",
   "execution_count": 188,
   "metadata": {
    "code_folding": [
     0
    ],
    "collapsed": true
   },
   "outputs": [],
   "source": [
    "# Define Settings \n",
    "settings = {**default_settings, \n",
    "            **dict(center_x = 1183, center_y = 1376, width=1300, height=800, rotate=5)}"
   ]
  },
  {
   "cell_type": "code",
   "execution_count": 189,
   "metadata": {
    "code_folding": [
     0
    ]
   },
   "outputs": [
    {
     "data": {
      "application/vnd.jupyter.widget-view+json": {
       "model_id": "f59fa7f49b80428fbf8575666d62e769",
       "version_major": 2,
       "version_minor": 0
      },
      "text/html": [
       "<p>Failed to display Jupyter Widget of type <code>interactive</code>.</p>\n",
       "<p>\n",
       "  If you're reading this message in Jupyter Notebook or JupyterLab, it may mean\n",
       "  that the widgets JavaScript is still loading. If this message persists, it\n",
       "  likely means that the widgets JavaScript library is either not installed or\n",
       "  not enabled. See the <a href=\"https://ipywidgets.readthedocs.io/en/stable/user_install.html\">Jupyter\n",
       "  Widgets Documentation</a> for setup instructions.\n",
       "</p>\n",
       "<p>\n",
       "  If you're reading this message in another notebook frontend (for example, a static\n",
       "  rendering on GitHub or <a href=\"https://nbviewer.jupyter.org/\">NBViewer</a>),\n",
       "  it may mean that your frontend doesn't currently support widgets.\n",
       "</p>\n"
      ],
      "text/plain": [
       "interactive(children=(IntSlider(value=3, description='test', max=3), Output()), _dom_classes=('widget-interact',))"
      ]
     },
     "metadata": {},
     "output_type": "display_data"
    }
   ],
   "source": [
    "# Verify Settings \n",
    "\n",
    "# Apply to all Images \n",
    "for n,r in df_rr_all.iterrows(): r.image.set(**settings)\n",
    "    \n",
    "# Function to plot the restults \n",
    "def temp(test=np.random.randint(0, df_rr_all.shape[0])):\n",
    "    r = df_rr_all.iloc[test]\n",
    "    ax = plt.subplots(ncols=2, nrows=2, figsize=(10, 8))[1].flatten()\n",
    "    r.image.plot_crop(ax=ax[0:2])\n",
    "    ax[1].set(xlabel='x', ylabel='y')\n",
    "    ax[2].plot(np.nanmean(r.image.app, axis=0))\n",
    "    ax[3].plot(np.nanmean(r.image.app, axis=1))\n",
    "    ax[2].set(xlabel='x')\n",
    "    ax[3].set(xlabel='y')\n",
    "    plt.tight_layout()\n",
    "    if savefig.value: plt.savefig(suffix_samples + 'RapidRamp Sample {}.pdf'.format(r.name[11:16]))\n",
    "\n",
    "if df_rr_all.shape[0] == 1: temp(0)\n",
    "else: ipywidgets.interact(temp, test=(0, df_rr_all.shape[0]-1))"
   ]
  },
  {
   "cell_type": "code",
   "execution_count": 190,
   "metadata": {
    "code_folding": [
     0
    ]
   },
   "outputs": [
    {
     "data": {
      "application/vnd.jupyter.widget-view+json": {
       "model_id": "650b3e775c284bb398ab0ffe690ff2d6",
       "version_major": 2,
       "version_minor": 0
      },
      "text/html": [
       "<p>Failed to display Jupyter Widget of type <code>HBox</code>.</p>\n",
       "<p>\n",
       "  If you're reading this message in Jupyter Notebook or JupyterLab, it may mean\n",
       "  that the widgets JavaScript is still loading. If this message persists, it\n",
       "  likely means that the widgets JavaScript library is either not installed or\n",
       "  not enabled. See the <a href=\"https://ipywidgets.readthedocs.io/en/stable/user_install.html\">Jupyter\n",
       "  Widgets Documentation</a> for setup instructions.\n",
       "</p>\n",
       "<p>\n",
       "  If you're reading this message in another notebook frontend (for example, a static\n",
       "  rendering on GitHub or <a href=\"https://nbviewer.jupyter.org/\">NBViewer</a>),\n",
       "  it may mean that your frontend doesn't currently support widgets.\n",
       "</p>\n"
      ],
      "text/plain": [
       "HBox(children=(IntProgress(value=0, max=4), HTML(value='')))"
      ]
     },
     "metadata": {},
     "output_type": "display_data"
    },
    {
     "name": "stdout",
     "output_type": "stream",
     "text": [
      "\n",
      "Total Images 4 ==> Good 4, Bad 0\n"
     ]
    },
    {
     "data": {
      "image/png": "[encoded data removed]",
      "text/plain": [
       "<matplotlib.figure.Figure at 0x1a158be940>"
      ]
     },
     "metadata": {},
     "output_type": "display_data"
    }
   ],
   "source": [
    "# Atom Number Filter \n",
    "df_rr_all['total_atoms'] = [im.total_atoms for im in tqdm(df_rr_all.image)]\n",
    "ax = tp.atom_num_filter(df=df_rr_all, keep=0.15, offset=0.0, display=True, plot=True)\n",
    "# ax[0].set(ylim=[0.3,None])\n",
    "if savefig.value: plt.savefig(suffix_rr + 'AtomNumbersScatter.pdf')\n",
    "df_rr = df_rr_all[df_rr_all.use]"
   ]
  },
  {
   "cell_type": "code",
   "execution_count": 191,
   "metadata": {
    "code_folding": []
   },
   "outputs": [
    {
     "data": {
      "application/vnd.jupyter.widget-view+json": {
       "model_id": "163fd7a419cb455091f388ebba4f3686",
       "version_major": 2,
       "version_minor": 0
      },
      "text/html": [
       "<p>Failed to display Jupyter Widget of type <code>interactive</code>.</p>\n",
       "<p>\n",
       "  If you're reading this message in Jupyter Notebook or JupyterLab, it may mean\n",
       "  that the widgets JavaScript is still loading. If this message persists, it\n",
       "  likely means that the widgets JavaScript library is either not installed or\n",
       "  not enabled. See the <a href=\"https://ipywidgets.readthedocs.io/en/stable/user_install.html\">Jupyter\n",
       "  Widgets Documentation</a> for setup instructions.\n",
       "</p>\n",
       "<p>\n",
       "  If you're reading this message in another notebook frontend (for example, a static\n",
       "  rendering on GitHub or <a href=\"https://nbviewer.jupyter.org/\">NBViewer</a>),\n",
       "  it may mean that your frontend doesn't currently support widgets.\n",
       "</p>\n"
      ],
      "text/plain": [
       "interactive(children=(IntSlider(value=0, description='test', max=3), Output()), _dom_classes=('widget-interact',))"
      ]
     },
     "metadata": {},
     "output_type": "display_data"
    }
   ],
   "source": [
    "# Condensate Fraction sampler \n",
    "cond_frac_center = df_rr.image.iloc[0].app.shape[0]//2 - 0\n",
    "width = 16\n",
    "plot_width = 70\n",
    "thermal_limits = [cond_frac_center - width, cond_frac_center + width]\n",
    "\n",
    "def temp_func(test = 0):\n",
    "    #cond_frac, sigma = get_cond_frac(df_rr.image.iloc[test].app, thermal_limits, True, plot_width)\n",
    "    cond_frac, Tstar, c_fit, c = get_cond_frac_mixed(df_rr.image.iloc[test].app, thermal_limits, True, plot_width)\n",
    "    print('Condensate Fraction {:.2f} for x_var {}'.format(cond_frac, df_rr.x.iloc[test]))\n",
    "    plt.savefig(suffix_rr + 'CondFrac_{}_{}.pdf'.format(df_rr.x.iloc[test], df_rr.index.values[test]))\n",
    "\n",
    "if df_rr.shape[0]==1:\n",
    "    temp_func(0)\n",
    "else:\n",
    "    ipywidgets.interact(temp_func, test=(0, df_rr.shape[0]-1, 1));"
   ]
  },
  {
   "cell_type": "code",
   "execution_count": 192,
   "metadata": {
    "code_folding": [
     0
    ]
   },
   "outputs": [
    {
     "data": {
      "application/vnd.jupyter.widget-view+json": {
       "model_id": "f61d7a7406d34b39a65449ce6d975ff2",
       "version_major": 2,
       "version_minor": 0
      },
      "text/html": [
       "<p>Failed to display Jupyter Widget of type <code>HBox</code>.</p>\n",
       "<p>\n",
       "  If you're reading this message in Jupyter Notebook or JupyterLab, it may mean\n",
       "  that the widgets JavaScript is still loading. If this message persists, it\n",
       "  likely means that the widgets JavaScript library is either not installed or\n",
       "  not enabled. See the <a href=\"https://ipywidgets.readthedocs.io/en/stable/user_install.html\">Jupyter\n",
       "  Widgets Documentation</a> for setup instructions.\n",
       "</p>\n",
       "<p>\n",
       "  If you're reading this message in another notebook frontend (for example, a static\n",
       "  rendering on GitHub or <a href=\"https://nbviewer.jupyter.org/\">NBViewer</a>),\n",
       "  it may mean that your frontend doesn't currently support widgets.\n",
       "</p>\n"
      ],
      "text/plain": [
       "HBox(children=(IntProgress(value=0, max=4), HTML(value='')))"
      ]
     },
     "metadata": {},
     "output_type": "display_data"
    },
    {
     "name": "stdout",
     "output_type": "stream",
     "text": [
      "CAN'T FIT, Returning Original Guess: Details of Error Optimal parameters not found: Number of calls to function has reached maxfev = 1200.\n",
      "CAN'T FIT, Returning Original Guess: Details of Error Optimal parameters not found: Number of calls to function has reached maxfev = 1200.\n",
      "CAN'T FIT, Returning Original Guess: Details of Error Optimal parameters not found: Number of calls to function has reached maxfev = 1200.\n",
      "CAN'T FIT, Returning Original Guess: Details of Error Optimal parameters not found: Number of calls to function has reached maxfev = 1200.\n",
      "CAN'T FIT, Returning Original Guess: Details of Error Optimal parameters not found: Number of calls to function has reached maxfev = 1200.\n",
      "CAN'T FIT, Returning Original Guess: Details of Error Optimal parameters not found: Number of calls to function has reached maxfev = 1200.\n",
      "CAN'T FIT, Returning Original Guess: Details of Error Optimal parameters not found: Number of calls to function has reached maxfev = 1200.\n",
      "CAN'T FIT, Returning Original Guess: Details of Error Optimal parameters not found: Number of calls to function has reached maxfev = 1200.\n",
      "\n"
     ]
    }
   ],
   "source": [
    "# Fit for cond frac \n",
    "fit_results = [get_cond_frac_mixed(im.app, thermal_limits) for im in tqdm(df_rr.image)]\n",
    "fit_results = np.array(fit_results)\n",
    "df_rr['cond_frac'] = fit_results[:,0] \n",
    "df_rr['sigma'] = fit_results[:, 1] * df_rr.image.iloc[0].pixel_binned * 1e6 # in um\n",
    "df_rr['Tstar'] = df_rr['sigma']**2 / 1e6 # Arbitrary normalization "
   ]
  },
  {
   "cell_type": "code",
   "execution_count": 193,
   "metadata": {
    "code_folding": [
     0
    ],
    "collapsed": true
   },
   "outputs": [],
   "source": [
    "# Bin Data & Save Data \n",
    "Nc_bin = tp.bin_data(df_rr.x.values, df_rr.cond_frac.values)\n",
    "Tstar_bin = tp.bin_data(df_rr.x.values, df_rr.Tstar.values)\n",
    "atoms_bin = tp.bin_data(df_rr.x.values, df_rr.total_atoms.values/1e6)\n",
    "\n",
    "# Save Data \n",
    "condinfo = df_rr[['time', 'x', 'total_atoms', 'cond_frac', 'sigma', 'Tstar']]\n",
    "condinfo.to_excel(suffix + 'CondFracInfo.xlsx')"
   ]
  },
  {
   "cell_type": "markdown",
   "metadata": {},
   "source": [
    "## Results"
   ]
  },
  {
   "cell_type": "code",
   "execution_count": 194,
   "metadata": {
    "code_folding": [
     0
    ]
   },
   "outputs": [
    {
     "data": {
      "image/png": "[encoded data removed]",
      "text/plain": [
       "<matplotlib.figure.Figure at 0x1a1240b940>"
      ]
     },
     "metadata": {},
     "output_type": "display_data"
    }
   ],
   "source": [
    "# Plot vs Time \n",
    "time = df_rr.time.values\n",
    "\n",
    "fig, ax = plt.subplots(nrows=3, sharex=True, figsize=[4, 5.2])\n",
    "plt.sca(ax[0])\n",
    "plt.plot(time, Nc_bin.yi, 'o')\n",
    "plt.axhline(Nc_bin.y, color='k')\n",
    "plt.axhspan(Nc_bin.y-Nc_bin.ystd, Nc_bin.y+Nc_bin.ystd, alpha=0.2, color='C2')\n",
    "plt.ylabel(r'$N_c$', fontsize=12)\n",
    "plt.sca(ax[1])\n",
    "plt.plot(time, Tstar_bin.yi, 'o')\n",
    "plt.axhline(Tstar_bin.y, color='k')\n",
    "plt.axhspan(Tstar_bin.y-Tstar_bin.ystd, Tstar_bin.y+Tstar_bin.ystd, alpha=0.2, color='C2')\n",
    "plt.ylabel(r'T*', fontsize=12)\n",
    "plt.sca(ax[2])\n",
    "plt.plot(time, atoms_bin.yi, 'o')\n",
    "plt.axhline(atoms_bin.y, color='k')\n",
    "plt.axhspan(atoms_bin.y-atoms_bin.ystd, atoms_bin.y+atoms_bin.ystd, alpha=0.2, color='C2')\n",
    "plt.ylabel(r'Atom Num (M)', fontsize=12)\n",
    "plt.xlabel('Time (min)', fontsize=12)\n",
    "plt.tight_layout(pad=0)\n",
    "plt.savefig(suffix_rr + 'CondFrac vs Time.pdf')"
   ]
  },
  {
   "cell_type": "code",
   "execution_count": 169,
   "metadata": {
    "code_folding": [
     0
    ]
   },
   "outputs": [
    {
     "data": {
      "application/javascript": [
       "IPython.notebook.kernel.execute(\"theNotebook = \" + \"'\"+IPython.notebook.notebook_name+\"'\");"
      ],
      "text/plain": [
       "<IPython.core.display.Javascript object>"
      ]
     },
     "metadata": {},
     "output_type": "display_data"
    }
   ],
   "source": [
    "# Copy the file \n",
    "if savefig.value:\n",
    "    shutil.copyfile(getNotebookName(), suffix + 'BoxShakingAnalyzer.ipynb')"
   ]
  },
  {
   "cell_type": "code",
   "execution_count": null,
   "metadata": {
    "collapsed": true
   },
   "outputs": [],
   "source": []
  },
  {
   "cell_type": "code",
   "execution_count": null,
   "metadata": {
    "collapsed": true
   },
   "outputs": [],
   "source": []
  }
 ],
 "metadata": {
  "kernelspec": {
   "display_name": "Python 3",
   "language": "python",
   "name": "python3"
  },
  "language_info": {
   "codemirror_mode": {
    "name": "ipython",
    "version": 3
   },
   "file_extension": ".py",
   "mimetype": "text/x-python",
   "name": "python",
   "nbconvert_exporter": "python",
   "pygments_lexer": "ipython3",
   "version": "3.6.3"
  },
  "toc": {
   "nav_menu": {},
   "number_sections": true,
   "sideBar": true,
   "skip_h1_title": false,
   "toc_cell": false,
   "toc_position": {
    "height": "988px",
    "left": "0px",
    "right": "1729px",
    "top": "106px",
    "width": "191px"
   },
   "toc_section_display": "block",
   "toc_window_display": true
  },
  "widgets": {
   "state": {
    "0035286794be488a83acf6745f811e76": {
     "views": [
      {
       "cell_index": 17
      }
     ]
    },
    "2663c8974e1844abb899e1af2fe68dc0": {
     "views": [
      {
       "cell_index": 103
      }
     ]
    },
    "299ec1da62af4a66aea3e6fd6c6b211c": {
     "views": [
      {
       "cell_index": 103
      }
     ]
    },
    "43b43e9269324db09fa6b8044183f4d4": {
     "views": [
      {
       "cell_index": 103
      }
     ]
    },
    "497184bd715e43a18aa25b3c6fa0672e": {
     "views": [
      {
       "cell_index": 25
      }
     ]
    },
    "69f8ba767c8f4c9a994a5ddd28ffedd8": {
     "views": [
      {
       "cell_index": 16
      }
     ]
    },
    "74209ad254de4cb4ba0ad9c06ad7bab1": {
     "views": [
      {
       "cell_index": 103
      }
     ]
    },
    "82e36a5d29af47a695347b79683cb397": {
     "views": [
      {
       "cell_index": 103
      }
     ]
    },
    "868ea241cefe45e9be2bb586792038bb": {
     "views": [
      {
       "cell_index": 104
      }
     ]
    },
    "a4a4fb8c53844feba429a20127bed229": {
     "views": [
      {
       "cell_index": 103
      }
     ]
    },
    "a4d2394b9ac4491dba725e1fc20c5aa1": {
     "views": [
      {
       "cell_index": 100
      }
     ]
    },
    "a684967d51be48f282300338e753b50b": {
     "views": [
      {
       "cell_index": 14
      }
     ]
    },
    "aab4673e8c3147368e5e80fbd4e4e325": {
     "views": [
      {
       "cell_index": 103
      }
     ]
    },
    "b1a6cfa36575458cbe97200bfd3eaae4": {
     "views": [
      {
       "cell_index": 12
      },
      {
       "cell_index": 35
      },
      {
       "cell_index": 98
      }
     ]
    },
    "b28927b582044d8d9141e5db014d69ca": {
     "views": [
      {
       "cell_index": 8
      }
     ]
    },
    "b4d5653ed8544c679903be9aaa039db3": {
     "views": [
      {
       "cell_index": 97
      }
     ]
    },
    "b99a1689ebf947b9a1f5b1a97730aacc": {
     "views": [
      {
       "cell_index": 103
      }
     ]
    },
    "d021e59a1e134df7af63c67cea8283be": {
     "views": [
      {
       "cell_index": 103
      }
     ]
    },
    "d48780065931405ab4620e148ec93012": {
     "views": [
      {
       "cell_index": 103
      }
     ]
    },
    "d9d94588f95c43c0ae56e543400ef8c8": {
     "views": [
      {
       "cell_index": 103
      }
     ]
    },
    "ddf5661f863e46ab981547c8aee1f0fc": {
     "views": [
      {
       "cell_index": 103
      }
     ]
    },
    "e6a1971161e84b8d85bcbc27f9f10833": {
     "views": [
      {
       "cell_index": 103
      }
     ]
    },
    "f0b1a76415bf42899990fdc1338cd96a": {
     "views": [
      {
       "cell_index": 103
      }
     ]
    },
    "f61f0ee97b994001abb6b19344abb051": {
     "views": [
      {
       "cell_index": 101
      }
     ]
    },
    "fe993704a64a48d184d41794c497ae74": {
     "views": [
      {
       "cell_index": 11
      }
     ]
    }
   },
   "version": "1.2.0"
  }
 },
 "nbformat": 4,
 "nbformat_minor": 2
}

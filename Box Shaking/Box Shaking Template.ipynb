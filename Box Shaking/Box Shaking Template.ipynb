{
 "cells": [
  {
   "cell_type": "code",
   "execution_count": 30,
   "metadata": {
    "code_folding": [
     0
    ]
   },
   "outputs": [
    {
     "name": "stdout",
     "output_type": "stream",
     "text": [
      "The servers are not connected!\n",
      "Using the local database copy. Could be outdated!\n"
     ]
    }
   ],
   "source": [
    "# Bunch of imports \n",
    "import therpy as tp\n",
    "import numpy as np\n",
    "import matplotlib.pyplot as plt\n",
    "import matplotlib.animation as animation\n",
    "from IPython.display import HTML\n",
    "%matplotlib inline\n",
    "import pandas as pd\n",
    "import bec1db as bec1db_package\n",
    "import warnings\n",
    "from tqdm import tqdm_notebook as tqdm\n",
    "warnings.filterwarnings(\"ignore\")\n",
    "import scipy.special\n",
    "import os.path\n",
    "import pickle\n",
    "import ipywidgets\n",
    "from IPython.display import display\n",
    "\n",
    "cst = tp.cst(sigmaf=0.5)\n",
    "kHz = cst.h * 1e3\n",
    "twopi = np.pi * 2\n",
    "bec1db = bec1db_package.Tullia(delta=20)"
   ]
  },
  {
   "cell_type": "code",
   "execution_count": 31,
   "metadata": {
    "code_folding": [
     0
    ],
    "collapsed": true
   },
   "outputs": [],
   "source": [
    "def dataset_counter(df, bg_param, bg_value, x='x', plot=False, ax=None, xlabel='x'):\n",
    "    '''\n",
    "    count the occurances of various x data points and bg points \n",
    "    '''\n",
    "    # Count number of images \n",
    "    unique_x = np.unique(df[x])\n",
    "    data_counts = np.array([np.sum(df[x][df[bg_param] != bg_value] == xi) for xi in unique_x])\n",
    "    bg_counts = np.array([np.sum(df[x][df[bg_param] == bg_value] == xi) for xi in unique_x])\n",
    "    dataset_counter = [unique_x, data_counts, bg_counts]\n",
    "    \n",
    "    # Plot\n",
    "    if plot: \n",
    "        ax = plt.subplots(figsize=[15,4])[1] if (ax is None) else ax\n",
    "        width = np.min(np.diff(dataset_counter[0]))*0.75 if (len(dataset_counter[0]) > 1) else 1\n",
    "        ax.bar(dataset_counter[0], dataset_counter[1], width, label='Data')\n",
    "        ax.bar(dataset_counter[0], dataset_counter[2], width, bottom=dataset_counter[1], label='BG')\n",
    "        ax.legend()\n",
    "        ax.set(xlabel = xlabel, ylabel='Shots')\n",
    "        plt.tight_layout()\n",
    "    \n",
    "    return dataset_counter"
   ]
  },
  {
   "cell_type": "code",
   "execution_count": 32,
   "metadata": {
    "code_folding": [
     0
    ],
    "collapsed": true
   },
   "outputs": [],
   "source": [
    "# Constants \n",
    "import_params = ['ExpansionTime','SideGreenEvap','WaitBox',\n",
    "               'IREvap','HeatTime','ShakeWait', 'HeatCycles',\n",
    "               'ShakingCycles', 'BoxShakeFreq','BoxShakeAmp','BoxShakeTime',\n",
    "               'SeqMode']\n",
    "\n",
    "default_settings = dict(\n",
    "   # Image Preparation and Background \n",
    "   center_x=1110, center_y=1314, width=800, height=800, \n",
    "   subsample=3, rotate=0, bg_width=20, bg_order=1, bad_light=0,\n",
    "\n",
    "   # Physical Parameters\n",
    "   Isat=77, time=10, pixel=0.7e-6, sigmaf=0.5, trap_f=23.9,\n",
    "   od_method='table', fudge=1, ellipticity=1,\n",
    "   \n",
    "   # Hybrid Preparation\n",
    "   xsec_extension='default', xsec_slice_width=4, \n",
    "   xsec_fit_range=1.75, radial_selection=0.5,\n",
    "   \n",
    "   # Hybrid Thermometry\n",
    "   kind='unitary', Tfit_lim=0.06, Tfit_guess_kT=3, Tfit_guess_mu0=0, \n",
    "   \n",
    "   # Other\n",
    "   memory_saver=True, )\n",
    "\n",
    "fontsize = 15"
   ]
  },
  {
   "cell_type": "code",
   "execution_count": 91,
   "metadata": {
    "code_folding": [
     0,
     2,
     66,
     130,
     167
    ],
    "collapsed": true
   },
   "outputs": [],
   "source": [
    "# Specific Functions \n",
    "\n",
    "def calculate_data_sharedBG_usingCenter(df):\n",
    "    # Count number of images \n",
    "    unique_x = np.unique(df.x)\n",
    "    data_counts = np.array([np.sum(df.x[df[background_parameter] != background_value].values == x) for x in unique_x])\n",
    "    background_counts = np.array([np.sum(df.x[df[background_parameter] == background_value].values == x) for x in unique_x])\n",
    "    dataset_counter = [unique_x, data_counts, background_counts]\n",
    "\n",
    "    # Gather nz_raw \n",
    "    df['nz_raw'] = [im.nz for im in tqdm(df.image)]\n",
    "    \n",
    "    # Fitting erf to get center and box length \n",
    "    guess = [-50e-6, 50e-6, 5e-6, 5e-6, 0.6e18, 1e15, ]\n",
    "    def fitfun_erf_2(x, x1, x2, s1, s2, amp=1, offset=0, slope=0):\n",
    "        y = tp.erf(x, x1, s1) + tp.erf(-x, -x2, s2)\n",
    "        return y*amp/2 + offset + slope*x\n",
    "    df['fitres_erf'] = [nz.fit(fitfun_erf_2, guess)[0] for nz in df.nz_raw]\n",
    "\n",
    "    # Get the background profile \n",
    "    bg_ind = (df[background_parameter] == background_value)\n",
    "    length = np.mean([fr[1] - fr[0] for fr in df.fitres_erf[bg_ind]])\n",
    "    amp = np.mean([fr[4] for fr in df.fitres_erf])\n",
    "    nz_bg_all = [tp.Curve(r.nz_raw.x - (r.fitres_erf[0] + r.fitres_erf[1])/2 + length/2, \n",
    "        (r.nz_raw.y - r.fitres_erf[5]) * amp / r.fitres_erf[4]) for i, r in df[bg_ind].iterrows()]\n",
    "    nz_bg_concat = tp.Curve(np.concatenate([nz.x for nz in nz_bg_all]), np.concatenate([nz.y for nz in nz_bg_all])).sortbyx()\n",
    "    nz_bg = nz_bg_concat.binbyx(step = np.diff(df.iloc[0].nz_raw.x)[0])\n",
    "\n",
    "    # Process particular x \n",
    "    def process_particular_x(x, ):\n",
    "        # collect bg and data ind for this x \n",
    "        data_ind = (df[background_parameter] != background_value) & (df.x == x)\n",
    "\n",
    "        # compute parameters \n",
    "        freq = np.unique(df.BoxShakeFreq[data_ind])[0]\n",
    "        cycles = np.unique(df.ShakingCycles[data_ind])[0]\n",
    "\n",
    "        # Get all nz\n",
    "        nz_data_all = [tp.Curve(r.nz_raw.x - (r.fitres_erf[0] + r.fitres_erf[1])/2 + length/2, \n",
    "                 (r.nz_raw.y - r.fitres_erf[5]) * amp / r.fitres_erf[4]) for i, r in df[data_ind].iterrows()]\n",
    "\n",
    "        # Average nz \n",
    "        nz_data_concat = tp.Curve(np.concatenate([nz.x for nz in nz_data_all]), np.concatenate([nz.y for nz in nz_data_all])).sortbyx()\n",
    "        nz_data = nz_data_concat.binbyx(step = np.diff(df.iloc[0].nz_raw.x)[0])\n",
    "\n",
    "        # compute delta rho \n",
    "        x = nz_bg.x.copy()\n",
    "        delta_rho = tp.Curve(x, nz_data(x) - nz_bg(x))\n",
    "        delta_rho_rho = tp.Curve(x, (nz_data(x) - nz_bg(x))/nz_bg(x) )\n",
    "\n",
    "        # return \n",
    "        return (delta_rho, delta_rho_rho, nz_data, nz_bg, nz_data_all, \n",
    "                nz_bg_all, data_ind, bg_ind, \n",
    "                length, amp, np.sum(data_ind), np.sum(bg_ind), freq, cycles)\n",
    "    \n",
    "\n",
    "    # df_data \n",
    "    df_data = pd.DataFrame(columns=['Delta rho', 'Delta rho / rho', 'nz data', \n",
    "                                    'nz bg', 'nz data all', 'nz bg all', 'data_ind', 'bg_ind', \n",
    "                                    'length', 'amp', '# data', '# bg', 'freq', 'cycles'])\n",
    "    for i, x in enumerate(dataset_counter[0]):\n",
    "        if (dataset_counter[1][i] >= threshold_image_num):\n",
    "            df_data.loc[x] = process_particular_x(x)\n",
    "    \n",
    "    return df_data\n",
    "\n",
    "def calculate_data_sharedBG_usingTopEdge(df):\n",
    "    # Count number of images \n",
    "    unique_x = np.unique(df.x)\n",
    "    data_counts = np.array([np.sum(df.x[df[background_parameter] != background_value].values == x) for x in unique_x])\n",
    "    background_counts = np.array([np.sum(df.x[df[background_parameter] == background_value].values == x) for x in unique_x])\n",
    "    dataset_counter = [unique_x, data_counts, background_counts]\n",
    "    \n",
    "    # Gather nz_raw \n",
    "    df['nz_raw'] = [im.nz for im in tqdm(df.image)]\n",
    "    \n",
    "    # Fitting erf to get center and box length \n",
    "    guess = [-50e-6, 50e-6, 5e-6, 5e-6, 0.6e18, 1e15, ]\n",
    "    def fitfun_erf_2(x, x1, x2, s1, s2, amp=1, offset=0, slope=0):\n",
    "        y = tp.erf(x, x1, s1) + tp.erf(-x, -x2, s2)\n",
    "        return y*amp/2 + offset + slope*x\n",
    "    df['fitres_erf'] = [nz.fit(fitfun_erf_2, guess)[0] for nz in df.nz_raw]\n",
    "\n",
    "    # Get the background profile \n",
    "    bg_ind = (df[background_parameter] == background_value)\n",
    "    length = np.mean([fr[1] - fr[0] for fr in df.fitres_erf[bg_ind]])\n",
    "    amp = np.mean([fr[4] for fr in df.fitres_erf])\n",
    "    nz_bg_all = [tp.Curve(r.nz_raw.x - r.fitres_erf[1] + length, \n",
    "        (r.nz_raw.y - r.fitres_erf[5]) * amp / r.fitres_erf[4]) for i, r in df[bg_ind].iterrows()]\n",
    "    nz_bg_concat = tp.Curve(np.concatenate([nz.x for nz in nz_bg_all]), np.concatenate([nz.y for nz in nz_bg_all])).sortbyx()\n",
    "    nz_bg = nz_bg_concat.binbyx(step = np.diff(df.iloc[0].nz_raw.x)[0])\n",
    "\n",
    "    # Process particular x \n",
    "    def process_particular_x(x, ):\n",
    "        # collect bg and data ind for this x \n",
    "        data_ind = (df[background_parameter] != background_value) & (df.x == x)\n",
    "\n",
    "        # compute parameters \n",
    "        freq = np.unique(df.BoxShakeFreq[data_ind])[0]\n",
    "        cycles = np.unique(df.ShakingCycles[data_ind])[0]\n",
    "\n",
    "        # Get all nz\n",
    "        nz_data_all = [tp.Curve(r.nz_raw.x - r.fitres_erf[1] + length, \n",
    "                 (r.nz_raw.y - r.fitres_erf[5]) * amp / r.fitres_erf[4]) for i, r in df[data_ind].iterrows()]\n",
    "\n",
    "        # Average nz \n",
    "        nz_data_concat = tp.Curve(np.concatenate([nz.x for nz in nz_data_all]), np.concatenate([nz.y for nz in nz_data_all])).sortbyx()\n",
    "        nz_data = nz_data_concat.binbyx(step = np.diff(df.iloc[0].nz_raw.x)[0])\n",
    "\n",
    "        # compute delta rho \n",
    "        x = nz_bg.x.copy()\n",
    "        delta_rho = tp.Curve(x, nz_data(x) - nz_bg(x))\n",
    "        delta_rho_rho = tp.Curve(x, (nz_data(x) - nz_bg(x))/nz_bg(x) )\n",
    "\n",
    "        # return \n",
    "        return (delta_rho, delta_rho_rho, nz_data, nz_bg, nz_data_all, \n",
    "                nz_bg_all, data_ind, bg_ind, \n",
    "                length, amp, np.sum(data_ind), np.sum(bg_ind), freq, cycles)\n",
    "    \n",
    "\n",
    "    # df_data \n",
    "    df_data = pd.DataFrame(columns=['Delta rho', 'Delta rho / rho', 'nz data', \n",
    "                                    'nz bg', 'nz data all', 'nz bg all', 'data_ind', 'bg_ind', \n",
    "                                    'length', 'amp', '# data', '# bg', 'freq', 'cycles'])\n",
    "    for i, x in enumerate(dataset_counter[0]):\n",
    "        if (dataset_counter[1][i] >= threshold_image_num):\n",
    "            df_data.loc[x] = process_particular_x(x)\n",
    "    \n",
    "    return df_data\n",
    "\n",
    "def calculate_shifted_app_center(df, df_data): \n",
    "    # Compute x, y origin for all images \n",
    "    def get_origin_pixel(r):\n",
    "        # Get the index of the right edge of the box == this is the y origin \n",
    "        use_center = (r.fitres_erf[0] + r.fitres_erf[1])/2\n",
    "        y = tp.Curve((r.nz_raw.x - use_center) * 1e6, np.arange(len(r.nz_raw.x)))(0)\n",
    "        # Get the center from xsec at that y pixel \n",
    "        x = tp.Curve(np.arange(len(r.image.xsec.center)), r.image.xsec.center)(y)\n",
    "        return [x, y]\n",
    "    origin = np.array([get_origin_pixel(r) for i,r in df.iterrows()])\n",
    "    df['origin_x'], df['origin_y'] = origin[:,0], origin[:,1]\n",
    "    \n",
    "    # define grid based on average origin \n",
    "    r = df.iloc[0]\n",
    "    x = np.arange(r.image.app.shape[1]) - np.mean(df.origin_x)\n",
    "    y = np.arange(r.image.app.shape[0]) - np.mean(df.origin_y)\n",
    "    xx, yy = np.meshgrid(x, y)\n",
    "\n",
    "    # Function to compute app_shifted \n",
    "    import scipy.interpolate\n",
    "    def compute_app_shifted(r):\n",
    "        x_ = np.arange(r.image.app.shape[1]) - r.origin_x\n",
    "        y_ = np.arange(r.image.app.shape[0]) - r.origin_y\n",
    "        interp = scipy.interpolate.interp2d(x_, y_, r.image.app, kind='linear')\n",
    "        return interp(x, y)\n",
    "    \n",
    "    # compute shifted app for all images \n",
    "    df['app_shifted'] = [compute_app_shifted(r) for i,r in df.iterrows()]\n",
    "    \n",
    "    # Add shifted app to the df_data \n",
    "    df_data['2D Delta rho'] = None\n",
    "    for x, r in df_data.iterrows():\n",
    "        bg_mean = np.mean([a/np.mean(a) for a in df[r.bg_ind].app_shifted], axis = 0)\n",
    "        data_mean = np.mean([a/np.mean(a) for a in df[r.data_ind].app_shifted], axis=0)\n",
    "        df_data['2D Delta rho'].loc[x] = data_mean - bg_mean\n",
    "        \n",
    "\n",
    "def calculate_shifted_app_TopEdge(df, df_data): \n",
    "    # Compute x, y origin for all images \n",
    "    def get_origin_pixel(r):\n",
    "        # Get the index of the right edge of the box == this is the y origin \n",
    "        use_center = r.fitres_erf[1]\n",
    "        y = tp.Curve((r.nz_raw.x - use_center) * 1e6, np.arange(len(r.nz_raw.x)))(0)\n",
    "        # Get the center from xsec at that y pixel \n",
    "        x = tp.Curve(np.arange(len(r.image.xsec.center)), r.image.xsec.center)(y)\n",
    "        return [x, y]\n",
    "    origin = np.array([get_origin_pixel(r) for i,r in df.iterrows()])\n",
    "    df['origin_x'], df['origin_y'] = origin[:,0], origin[:,1]\n",
    "    \n",
    "    # define grid based on average origin \n",
    "    r = df.iloc[0]\n",
    "    x = np.arange(r.image.app.shape[1]) - np.mean(df.origin_x)\n",
    "    y = np.arange(r.image.app.shape[0]) - np.mean(df.origin_y)\n",
    "    xx, yy = np.meshgrid(x, y)\n",
    "\n",
    "    # Function to compute app_shifted \n",
    "    import scipy.interpolate\n",
    "    def compute_app_shifted(r):\n",
    "        x_ = np.arange(r.image.app.shape[1]) - r.origin_x\n",
    "        y_ = np.arange(r.image.app.shape[0]) - r.origin_y\n",
    "        interp = scipy.interpolate.interp2d(x_, y_, r.image.app, kind='linear')\n",
    "        return interp(x, y)\n",
    "    \n",
    "    # compute shifted app for all images \n",
    "    df['app_shifted'] = [compute_app_shifted(r) for i,r in df.iterrows()]\n",
    "    \n",
    "    # Add shifted app to the df_data \n",
    "    df_data['2D Delta rho'] = None\n",
    "    for x, r in df_data.iterrows():\n",
    "        bg_mean = np.mean([a/np.mean(a) for a in df[r.bg_ind].app_shifted], axis = 0)\n",
    "        data_mean = np.mean([a/np.mean(a) for a in df[r.data_ind].app_shifted], axis=0)\n",
    "        df_data['2D Delta rho'].loc[x] = data_mean - bg_mean\n"
   ]
  },
  {
   "cell_type": "markdown",
   "metadata": {},
   "source": [
    "# Load Data from Images "
   ]
  },
  {
   "cell_type": "code",
   "execution_count": 101,
   "metadata": {
    "collapsed": true
   },
   "outputs": [],
   "source": [
    "df_all = pd.DataFrame()"
   ]
  },
  {
   "cell_type": "code",
   "execution_count": 102,
   "metadata": {
    "collapsed": true
   },
   "outputs": [],
   "source": [
    "# Relevant Parameters \n",
    "x_var_name = 'BoxShakeFreq'\n",
    "x_var_label = 'Freq (Hz)'\n",
    "background_parameter = 'ShakingCycles'\n",
    "background_value = 0\n",
    "threshold_image_num = 1\n",
    "image_use = 'A'"
   ]
  },
  {
   "cell_type": "code",
   "execution_count": 103,
   "metadata": {
    "scrolled": true
   },
   "outputs": [
    {
     "name": "stdout",
     "output_type": "stream",
     "text": [
      "Updating the local database...\n",
      "Done\n"
     ]
    },
    {
     "data": {
      "application/vnd.jupyter.widget-view+json": {
       "model_id": "2c21376876da4bd8a6114508cd1c2fab"
      }
     },
     "metadata": {},
     "output_type": "display_data"
    },
    {
     "name": "stdout",
     "output_type": "stream",
     "text": [
      "247/|/ 28%|| 247/886 [00:20<00:51, 12.35it/s]\n",
      "Total Number of Shots 443, Images 443\n"
     ]
    },
    {
     "data": {
      "text/html": [
       "<div>\n",
       "<style>\n",
       "    .dataframe thead tr:only-child th {\n",
       "        text-align: right;\n",
       "    }\n",
       "\n",
       "    .dataframe thead th {\n",
       "        text-align: left;\n",
       "    }\n",
       "\n",
       "    .dataframe tbody tr th {\n",
       "        vertical-align: top;\n",
       "    }\n",
       "</style>\n",
       "<table border=\"1\" class=\"dataframe\">\n",
       "  <thead>\n",
       "    <tr style=\"text-align: right;\">\n",
       "      <th></th>\n",
       "      <th>time</th>\n",
       "      <th>image</th>\n",
       "      <th>A</th>\n",
       "      <th>B</th>\n",
       "      <th>S</th>\n",
       "      <th>download</th>\n",
       "      <th>ExpansionTime</th>\n",
       "      <th>SideGreenEvap</th>\n",
       "      <th>WaitBox</th>\n",
       "      <th>IREvap</th>\n",
       "      <th>HeatTime</th>\n",
       "      <th>ShakeWait</th>\n",
       "      <th>HeatCycles</th>\n",
       "      <th>ShakingCycles</th>\n",
       "      <th>BoxShakeFreq</th>\n",
       "      <th>BoxShakeAmp</th>\n",
       "      <th>BoxShakeTime</th>\n",
       "      <th>SeqMode</th>\n",
       "      <th>x</th>\n",
       "    </tr>\n",
       "    <tr>\n",
       "      <th>name</th>\n",
       "      <th></th>\n",
       "      <th></th>\n",
       "      <th></th>\n",
       "      <th></th>\n",
       "      <th></th>\n",
       "      <th></th>\n",
       "      <th></th>\n",
       "      <th></th>\n",
       "      <th></th>\n",
       "      <th></th>\n",
       "      <th></th>\n",
       "      <th></th>\n",
       "      <th></th>\n",
       "      <th></th>\n",
       "      <th></th>\n",
       "      <th></th>\n",
       "      <th></th>\n",
       "      <th></th>\n",
       "      <th></th>\n",
       "    </tr>\n",
       "  </thead>\n",
       "  <tbody>\n",
       "    <tr>\n",
       "      <th>08-23-2017_15_30_27_TopA</th>\n",
       "      <td>0</td>\n",
       "      <td>Image object</td>\n",
       "      <td>True</td>\n",
       "      <td>False</td>\n",
       "      <td>False</td>\n",
       "      <td>True</td>\n",
       "      <td>2000.0</td>\n",
       "      <td>0.27</td>\n",
       "      <td>0.5</td>\n",
       "      <td>0.4</td>\n",
       "      <td>0.0</td>\n",
       "      <td>0.0</td>\n",
       "      <td>0.0</td>\n",
       "      <td>3.0</td>\n",
       "      <td>500.0</td>\n",
       "      <td>0.25</td>\n",
       "      <td>6.0</td>\n",
       "      <td>None</td>\n",
       "      <td>500.0</td>\n",
       "    </tr>\n",
       "    <tr>\n",
       "      <th>08-23-2017_15_31_21_TopA</th>\n",
       "      <td>0.9</td>\n",
       "      <td>Image object</td>\n",
       "      <td>True</td>\n",
       "      <td>False</td>\n",
       "      <td>False</td>\n",
       "      <td>True</td>\n",
       "      <td>2000.0</td>\n",
       "      <td>0.27</td>\n",
       "      <td>0.5</td>\n",
       "      <td>0.4</td>\n",
       "      <td>0.0</td>\n",
       "      <td>0.0</td>\n",
       "      <td>0.0</td>\n",
       "      <td>3.0</td>\n",
       "      <td>500.0</td>\n",
       "      <td>0.25</td>\n",
       "      <td>6.0</td>\n",
       "      <td>None</td>\n",
       "      <td>500.0</td>\n",
       "    </tr>\n",
       "    <tr>\n",
       "      <th>08-23-2017_15_32_15_TopA</th>\n",
       "      <td>1.8</td>\n",
       "      <td>Image object</td>\n",
       "      <td>True</td>\n",
       "      <td>False</td>\n",
       "      <td>False</td>\n",
       "      <td>True</td>\n",
       "      <td>2000.0</td>\n",
       "      <td>0.27</td>\n",
       "      <td>0.5</td>\n",
       "      <td>0.4</td>\n",
       "      <td>0.0</td>\n",
       "      <td>0.0</td>\n",
       "      <td>0.0</td>\n",
       "      <td>3.0</td>\n",
       "      <td>500.0</td>\n",
       "      <td>0.25</td>\n",
       "      <td>6.0</td>\n",
       "      <td>None</td>\n",
       "      <td>500.0</td>\n",
       "    </tr>\n",
       "  </tbody>\n",
       "</table>\n",
       "</div>"
      ],
      "text/plain": [
       "                         time         image     A      B      S  download  \\\n",
       "name                                                                        \n",
       "08-23-2017_15_30_27_TopA    0  Image object  True  False  False      True   \n",
       "08-23-2017_15_31_21_TopA  0.9  Image object  True  False  False      True   \n",
       "08-23-2017_15_32_15_TopA  1.8  Image object  True  False  False      True   \n",
       "\n",
       "                          ExpansionTime  SideGreenEvap  WaitBox  IREvap  \\\n",
       "name                                                                      \n",
       "08-23-2017_15_30_27_TopA         2000.0           0.27      0.5     0.4   \n",
       "08-23-2017_15_31_21_TopA         2000.0           0.27      0.5     0.4   \n",
       "08-23-2017_15_32_15_TopA         2000.0           0.27      0.5     0.4   \n",
       "\n",
       "                          HeatTime  ShakeWait  HeatCycles  ShakingCycles  \\\n",
       "name                                                                       \n",
       "08-23-2017_15_30_27_TopA       0.0        0.0         0.0            3.0   \n",
       "08-23-2017_15_31_21_TopA       0.0        0.0         0.0            3.0   \n",
       "08-23-2017_15_32_15_TopA       0.0        0.0         0.0            3.0   \n",
       "\n",
       "                          BoxShakeFreq  BoxShakeAmp  BoxShakeTime SeqMode  \\\n",
       "name                                                                        \n",
       "08-23-2017_15_30_27_TopA         500.0         0.25           6.0    None   \n",
       "08-23-2017_15_31_21_TopA         500.0         0.25           6.0    None   \n",
       "08-23-2017_15_32_15_TopA         500.0         0.25           6.0    None   \n",
       "\n",
       "                              x  \n",
       "name                             \n",
       "08-23-2017_15_30_27_TopA  500.0  \n",
       "08-23-2017_15_31_21_TopA  500.0  \n",
       "08-23-2017_15_32_15_TopA  500.0  "
      ]
     },
     "metadata": {},
     "output_type": "display_data"
    }
   ],
   "source": [
    "# Import from Clipboard \n",
    "df_all = tp.images_from_clipboard(df=df_all, x=x_var_name, params=import_params, \n",
    "                                  image_func=tp.Hybrid_Image, download=image_use, display=True)\n"
   ]
  },
  {
   "cell_type": "code",
   "execution_count": 104,
   "metadata": {
    "collapsed": true
   },
   "outputs": [],
   "source": [
    "# Define Settings \n",
    "settings = {**default_settings, \n",
    "            **dict(center_x = 1183, center_y = 1376, fudge=1.75, width=800, height=800, subsample=3, \n",
    "                  xsec_extension='poly0', xsec_slice_width=7, xsec_fit_range=1.0, radial_selection=0.9,)}"
   ]
  },
  {
   "cell_type": "code",
   "execution_count": 105,
   "metadata": {
    "code_folding": [
     0
    ]
   },
   "outputs": [
    {
     "data": {
      "application/vnd.jupyter.widget-view+json": {
       "model_id": "8a3441eb6b824d1f9f420860e23894c0"
      }
     },
     "metadata": {},
     "output_type": "display_data"
    }
   ],
   "source": [
    "# Verify Settings \n",
    "\n",
    "# Apply to all Images \n",
    "for n,r in df_all.iterrows(): r.image.set(**settings)\n",
    "    \n",
    "# Function to plot the restults \n",
    "def temp(test=np.random.randint(0, df_all.shape[0])):\n",
    "    r = df_all.iloc[test]\n",
    "    ax = plt.subplots(nrows=2, ncols=2, figsize=[10,8])[1].flatten()\n",
    "    r.image.plot_crop(ax=ax[0:2])\n",
    "    r.image.xsec.infoplot(axs=ax[2:4])\n",
    "    plt.tight_layout()\n",
    "    plt.show()\n",
    "\n",
    "if df_all.shape[0] == 1: temp(0)\n",
    "else: ipywidgets.interact(temp, test=(0, df_all.shape[0]-1))"
   ]
  },
  {
   "cell_type": "code",
   "execution_count": 111,
   "metadata": {
    "code_folding": [
     0
    ]
   },
   "outputs": [
    {
     "data": {
      "application/vnd.jupyter.widget-view+json": {
       "model_id": "3f9a5deda31e40fbbdfda91b13e7d94a"
      }
     },
     "metadata": {},
     "output_type": "display_data"
    },
    {
     "name": "stdout",
     "output_type": "stream",
     "text": [
      "\n",
      "Total Images 443 ==> Good 355, Bad 88\n"
     ]
    },
    {
     "data": {
      "image/png": "[encoded data removed]",
      "text/plain": [
       "<matplotlib.figure.Figure at 0x1177f6cc0>"
      ]
     },
     "metadata": {},
     "output_type": "display_data"
    }
   ],
   "source": [
    "# Atom Number Filter \n",
    "df_all['total_atoms'] = [im.total_atoms for im in tqdm(df_all.image)]\n",
    "ax = tp.atom_num_filter(df=df_all, keep=0.07, offset=0.0, display=True, plot=True)\n",
    "ax[0].set(ylim=[0.4,0.8])\n",
    "df = df_all[df_all.use]"
   ]
  },
  {
   "cell_type": "code",
   "execution_count": 112,
   "metadata": {
    "code_folding": [
     0
    ]
   },
   "outputs": [
    {
     "data": {
      "image/png": "[encoded data removed]",
      "text/plain": [
       "<matplotlib.figure.Figure at 0x11619bc88>"
      ]
     },
     "metadata": {},
     "output_type": "display_data"
    }
   ],
   "source": [
    "# Dataset Explorer \n",
    "ds_counter = dataset_counter(df=df, bg_param=background_parameter, bg_value=background_value, plot=True, xlabel=x_var_label)"
   ]
  },
  {
   "cell_type": "code",
   "execution_count": 113,
   "metadata": {},
   "outputs": [
    {
     "data": {
      "application/vnd.jupyter.widget-view+json": {
       "model_id": "939daeee8bdd4f66a689a46b17052494"
      }
     },
     "metadata": {},
     "output_type": "display_data"
    },
    {
     "name": "stdout",
     "output_type": "stream",
     "text": [
      "\n"
     ]
    }
   ],
   "source": [
    "# Compute df_data and dict_data \n",
    "df_data = calculate_data_sharedBG_usingTopEdge(df)\n",
    "calculate_shifted_app_TopEdge(df, df_data)\n",
    "dict_data = dict()\n",
    "\n",
    "# Compute movies \n"
   ]
  },
  {
   "cell_type": "code",
   "execution_count": 181,
   "metadata": {
    "code_folding": [
     0
    ]
   },
   "outputs": [
    {
     "data": {
      "application/vnd.jupyter.widget-view+json": {
       "model_id": "9d98c330cf994906a195e9ed218dcb1f"
      }
     },
     "metadata": {},
     "output_type": "display_data"
    }
   ],
   "source": [
    "# Plot 2D Images and integrated profiles \n",
    "plot_xlim = [-15, 110]\n",
    "def temp(test=np.random.randint(0, df_data.shape[0])):\n",
    "    r = df_data.iloc[test]\n",
    "    app = r['2D Delta rho']\n",
    "    roi = tp.get_roi(app, width=80, height=80)\n",
    "    clim = np.max(np.abs(app[roi])) * 1.0\n",
    "    clim = [-clim, clim]\n",
    "    fig = plt.figure(figsize=[15, 10])\n",
    "    # Plot Image\n",
    "    plt.subplot2grid((2,3),(0,0))\n",
    "    plt.imshow(app[roi], origin=0, clim=clim, cmap='bwr')\n",
    "    plt.title(\"{} = {}\".format(x_var_label, r.name))\n",
    "    # Plot Average delta rho \n",
    "    plt.subplot2grid((2,3),(0,1),colspan=2 )\n",
    "    c = tp.Curve(r['Delta rho'].x * 1e6, r['Delta rho'].y / r.amp)\n",
    "    ymax = np.max(np.abs(c.y))\n",
    "    plt.plot(*c.data)\n",
    "    c = tp.Curve(r['Delta rho / rho'].x * 1e6, r['Delta rho / rho'].y)\n",
    "    plt.plot(*c.data)\n",
    "    plt.ylim([-ymax, ymax])\n",
    "    plt.axhline(0, c='k', alpha=0.5)\n",
    "    plt.xlim(plot_xlim)\n",
    "    # Plot All BG and Data nz \n",
    "    plt.subplot2grid((2,1),(1,0))\n",
    "    for n in r['nz bg all']:\n",
    "        plt.plot(n.x*1e6, n.y/r.amp, 'C1-', alpha=0.01)\n",
    "    plt.plot(r['nz bg'].x*1e6, r['nz bg'].y / r.amp, 'C1-')\n",
    "    for n in r['nz data all']:\n",
    "        plt.plot(n.x*1e6, n.y/r.amp, 'C0-', alpha=0.2)\n",
    "    plt.plot(r['nz data'].x*1e6, r['nz data'].y / r.amp, 'C0-')\n",
    "    plt.xlim(plot_xlim)\n",
    "    plt.tight_layout()\n",
    "    plt.show()\n",
    "\n",
    "if df_data.shape[0] == 1: temp(0)\n",
    "else: ipywidgets.interact(temp, test=(0, df_data.shape[0]-1))"
   ]
  },
  {
   "cell_type": "code",
   "execution_count": null,
   "metadata": {},
   "outputs": [],
   "source": []
  },
  {
   "cell_type": "code",
   "execution_count": null,
   "metadata": {},
   "outputs": [],
   "source": []
  },
  {
   "cell_type": "markdown",
   "metadata": {},
   "source": [
    "# Single Sided Decay Fits"
   ]
  },
  {
   "cell_type": "code",
   "execution_count": 279,
   "metadata": {
    "collapsed": true
   },
   "outputs": [],
   "source": [
    "# Dataset Info \n",
    "speed_sound_guess = 18 * 1e-6/1e-3\n",
    "fit_lims = np.array([10, 70])\n",
    "plot_lims = np.array([-10, 100])"
   ]
  },
  {
   "cell_type": "code",
   "execution_count": 280,
   "metadata": {},
   "outputs": [],
   "source": [
    "# Prepare for fit \n",
    "df_data['fitres'] = None\n",
    "df_data['fit_guess'] = [dict(wavelength = speed_sound_guess / r.freq * 1e6, invDecayLength = 1/50, amplitude = 5, phase = 0, a0=1e-1) for n,r in df_data.iterrows()]\n",
    "df_data['fit_fixed'] = [dict() for n,r in df_data.iterrows()]\n",
    "\n",
    "# Override guess for specific dataset \n",
    "df_data.loc[1500, 'fit_guess']['amplitude'] = 2"
   ]
  },
  {
   "cell_type": "code",
   "execution_count": 281,
   "metadata": {
    "collapsed": true
   },
   "outputs": [],
   "source": [
    "# Fitting Function \n",
    "def sin_decay(x, wavelength=1, invDecayLength=0, amplitude=1, phase=0, a0=0, a1=0, a2=0):\n",
    "    return amplitude * np.exp(- x * invDecayLength) * np.sin(twopi/wavelength * x - phase) + a0 + a1*x + a2*x**2"
   ]
  },
  {
   "cell_type": "code",
   "execution_count": 282,
   "metadata": {
    "code_folding": [
     9
    ]
   },
   "outputs": [
    {
     "data": {
      "application/vnd.jupyter.widget-view+json": {
       "model_id": "2ad7749ead744708b569793eac060f9a"
      }
     },
     "metadata": {},
     "output_type": "display_data"
    }
   ],
   "source": [
    "# Fit and Plot Tests \n",
    "use = 'Delta rho / rho'\n",
    "def temp(test=np.random.randint(0, df_data.shape[0]), plot=True):\n",
    "    r = df_data.iloc[test]\n",
    "    c = tp.Curve(r[use].x*1e6, r[use].y * 100)\n",
    "    xp = np.linspace(plot_lims[0], plot_lims[1], 1000)\n",
    "    cf = tp.curve_fit(sin_decay, r.fit_guess, *c.trim(xlim=fit_lims).data, plot=False, info=True, fixed=r.fit_fixed)\n",
    "    df_data.loc[r.name, 'fitres'] = cf\n",
    "    if plot:\n",
    "        plt.figure(figsize=[7, 4.5])\n",
    "        plt.plot(xp, cf(xp), 'C1')\n",
    "        plt.plot(*c.plotdata, '.-C0')\n",
    "        plt.axvline(0, c='k', linestyle='--', )\n",
    "        plt.axvline(r.length*1e6, c='k', linestyle='--', )\n",
    "        plt.axhline(0, c='k', linestyle='-', alpha=0.5)\n",
    "        plt.axvspan(*fit_lims, alpha=0.05, color='k', label='Fourier Width')\n",
    "        plt.plot(c.x, cf(c.x, amplitude=0), 'C2-', alpha=0.5)\n",
    "        amp = cf['amplitude'] * 1.5\n",
    "        if amp >= 10: amp = 9.99\n",
    "        plt.ylim([-amp, amp])\n",
    "        plt.xlim(plot_lims)\n",
    "        plt.xlabel(r'z ($\\mu m$)', fontsize=15)\n",
    "        plt.ylabel(r'$\\Delta \\rho / \\rho$ (%)', fontsize=15)\n",
    "        plt.xticks(fontsize=12)\n",
    "        plt.yticks(fontsize=12)\n",
    "        plt.title(\"{} = {}\".format(x_var_label, r.name), fontsize=15)\n",
    "        plt.tight_layout()\n",
    "        plt.show()\n",
    "if df_data.shape[0] == 1: temp(0)\n",
    "else: ipywidgets.interact(temp, test=(0, df_data.shape[0]-1))"
   ]
  },
  {
   "cell_type": "code",
   "execution_count": 300,
   "metadata": {
    "code_folding": [
     0
    ]
   },
   "outputs": [],
   "source": [
    "# Fit all \n",
    "for n,r in df_data.iterrows():\n",
    "    c = tp.Curve(r[use].x*1e6, r[use].y * 100)\n",
    "    df_data.loc[r.name, 'fitres'] = tp.curve_fit(sin_decay, r.fit_guess, *c.trim(xlim=fit_lims).data, fixed=r.fit_fixed)"
   ]
  },
  {
   "cell_type": "code",
   "execution_count": null,
   "metadata": {},
   "outputs": [],
   "source": [
    "# Plot Fit results \n"
   ]
  },
  {
   "cell_type": "code",
   "execution_count": null,
   "metadata": {
    "collapsed": true
   },
   "outputs": [],
   "source": []
  },
  {
   "cell_type": "code",
   "execution_count": null,
   "metadata": {
    "collapsed": true
   },
   "outputs": [],
   "source": []
  }
 ],
 "metadata": {
  "kernelspec": {
   "display_name": "Python [default]",
   "language": "python",
   "name": "python3"
  },
  "language_info": {
   "codemirror_mode": {
    "name": "ipython",
    "version": 3
   },
   "file_extension": ".py",
   "mimetype": "text/x-python",
   "name": "python",
   "nbconvert_exporter": "python",
   "pygments_lexer": "ipython3",
   "version": "3.5.3"
  },
  "toc": {
   "colors": {
    "hover_highlight": "#DAA520",
    "running_highlight": "#FF0000",
    "selected_highlight": "#FFD700"
   },
   "moveMenuLeft": true,
   "nav_menu": {
    "height": "30px",
    "width": "252px"
   },
   "navigate_menu": true,
   "number_sections": true,
   "sideBar": true,
   "threshold": 4,
   "toc_cell": false,
   "toc_section_display": "block",
   "toc_window_display": false
  }
 },
 "nbformat": 4,
 "nbformat_minor": 2
}

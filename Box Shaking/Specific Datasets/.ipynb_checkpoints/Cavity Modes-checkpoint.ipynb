{
 "cells": [
  {
   "cell_type": "code",
   "execution_count": 27,
   "metadata": {},
   "outputs": [],
   "source": [
    "import numpy as np\n",
    "import therpy as tp\n",
    "import matplotlib.pyplot as plt\n",
    "%matplotlib inline\n",
    "import pandas as pd\n",
    "twopi = 2 * np.pi\n",
    "import ipywidgets"
   ]
  },
  {
   "cell_type": "markdown",
   "metadata": {},
   "source": [
    "# Cavity Mode Sum"
   ]
  },
  {
   "cell_type": "code",
   "execution_count": 5,
   "metadata": {},
   "outputs": [],
   "source": [
    "def step(x, x0):\n",
    "    if x <= x0: return 0.0\n",
    "    else: return 1.0\n",
    "def istep(x, x0):\n",
    "    if x >= x0: return 0.0\n",
    "    else: return 1.0\n",
    "\n",
    "step = np.vectorize(step, excluded='x0')\n",
    "istep = np.vectorize(istep, excluded='x0')"
   ]
  },
  {
   "cell_type": "code",
   "execution_count": 158,
   "metadata": {
    "collapsed": true
   },
   "outputs": [],
   "source": [
    "# Parameters \n",
    "c = 1.0\n",
    "L = 1.0\n",
    "T = L / c\n",
    "\n",
    "wl = L / 1\n",
    "dl = 10.0*L\n",
    "\n",
    "f = c / wl\n",
    "w = twopi * f\n",
    "k = twopi / wl\n",
    "G = 1.0 / dl\n",
    "\n",
    "x = np.linspace(0.0, L, 100)"
   ]
  },
  {
   "cell_type": "code",
   "execution_count": 159,
   "metadata": {},
   "outputs": [],
   "source": [
    "def evens(x, t, n):\n",
    "    return (t > n*T) * np.exp(- n * G * L) * np.exp(-G * x) * np.sin(k * x - w * (t - n * T)) * istep(x, c * (t - n * T))\n",
    "def odds(x, t, n):\n",
    "    return -1 * (t > n*T) * np.exp(- n * G * L) * np.exp(-G * (L - x)) * np.sin(- k * (x - L) - w * (t - n * T)) * step(x, L - c * (t - n * T))\n",
    "def response(x, t, n=None):\n",
    "    if n is None: n = int(float(t) / T) + 1\n",
    "    return np.sum([evens(x, t, ni) for ni in range(0, n, 2)], axis=0) + np.sum([odds(x, t, ni) for ni in range(1, n, 2)], axis=0)"
   ]
  },
  {
   "cell_type": "code",
   "execution_count": 160,
   "metadata": {},
   "outputs": [
    {
     "data": {
      "application/vnd.jupyter.widget-view+json": {
       "model_id": "fd216deed5104aa1aabf082a68b30bf1"
      }
     },
     "metadata": {},
     "output_type": "display_data"
    },
    {
     "data": {
      "text/plain": [
       "<function __main__.temp>"
      ]
     },
     "execution_count": 160,
     "metadata": {},
     "output_type": "execute_result"
    }
   ],
   "source": [
    "def temp(t = 0.0):\n",
    "    plt.plot(x, response(x, t))\n",
    "    plt.ylim([-10, 10])\n",
    "    plt.xlim([0, L])\n",
    "    plt.show()\n",
    "ipywidgets.interact(temp,t=(99.0, 100.0, 0.01))"
   ]
  },
  {
   "cell_type": "code",
   "execution_count": 164,
   "metadata": {},
   "outputs": [
    {
     "data": {
      "text/plain": [
       "<matplotlib.collections.PolyCollection at 0x1298299e8>"
      ]
     },
     "execution_count": 164,
     "metadata": {},
     "output_type": "execute_result"
    },
    {
     "data": {
      "image/png": "[encoded data removed]",
      "text/plain": [
       "<matplotlib.figure.Figure at 0x12a510cf8>"
      ]
     },
     "metadata": {},
     "output_type": "display_data"
    }
   ],
   "source": [
    "tlist = np.arange(99, 102, 0.05)\n",
    "movie = np.array(np.diff([response(x, t=ti) for ti in tlist])).T\n",
    "plt.pcolor(tlist, x[0:-1], movie, cmap='bwr')"
   ]
  },
  {
   "cell_type": "code",
   "execution_count": null,
   "metadata": {},
   "outputs": [],
   "source": []
  },
  {
   "cell_type": "code",
   "execution_count": null,
   "metadata": {},
   "outputs": [],
   "source": []
  },
  {
   "cell_type": "code",
   "execution_count": null,
   "metadata": {},
   "outputs": [],
   "source": []
  },
  {
   "cell_type": "code",
   "execution_count": null,
   "metadata": {},
   "outputs": [],
   "source": []
  },
  {
   "cell_type": "code",
   "execution_count": null,
   "metadata": {
    "collapsed": true
   },
   "outputs": [],
   "source": []
  },
  {
   "cell_type": "code",
   "execution_count": null,
   "metadata": {
    "collapsed": true
   },
   "outputs": [],
   "source": []
  }
 ],
 "metadata": {
  "kernelspec": {
   "display_name": "Python [conda root]",
   "language": "python",
   "name": "conda-root-py"
  },
  "language_info": {
   "codemirror_mode": {
    "name": "ipython",
    "version": 3
   },
   "file_extension": ".py",
   "mimetype": "text/x-python",
   "name": "python",
   "nbconvert_exporter": "python",
   "pygments_lexer": "ipython3",
   "version": "3.5.3"
  },
  "toc": {
   "colors": {
    "hover_highlight": "#DAA520",
    "running_highlight": "#FF0000",
    "selected_highlight": "#FFD700"
   },
   "moveMenuLeft": true,
   "nav_menu": {
    "height": "30px",
    "width": "252px"
   },
   "navigate_menu": true,
   "number_sections": true,
   "sideBar": true,
   "threshold": 4,
   "toc_cell": false,
   "toc_section_display": "block",
   "toc_window_display": false
  }
 },
 "nbformat": 4,
 "nbformat_minor": 2
}

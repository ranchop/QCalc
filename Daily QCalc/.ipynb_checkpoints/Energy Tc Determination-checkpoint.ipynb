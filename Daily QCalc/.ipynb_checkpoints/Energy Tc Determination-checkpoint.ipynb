{
 "cells": [
  {
   "cell_type": "code",
   "execution_count": 3,
   "metadata": {},
   "outputs": [],
   "source": [
    "import therpy as tp\n",
    "import numpy as np\n",
    "import matplotlib.pyplot as plt\n",
    "import pandas as pd\n",
    "from tqdm import tqdm_notebook as tqdm\n",
    "import warnings\n",
    "\n",
    "warnings.filterwarnings(\"ignore\")\n",
    "%matplotlib inline\n",
    "cst = tp.cst()\n",
    "kHz = 1e3 * cst.h\n",
    "twopi = 2 * np.pi"
   ]
  },
  {
   "cell_type": "code",
   "execution_count": 2,
   "metadata": {
    "collapsed": true
   },
   "outputs": [],
   "source": [
    "\n",
    "\n",
    "default_settings = dict(\n",
    "   # Image Preparation and Background \n",
    "   center_x=1110, center_y=1314, width=800, height=800, \n",
    "   subsample=3, rotate=0, bg_width=20, bg_order=1, bad_light=0,\n",
    "\n",
    "   # Physical Parameters\n",
    "   Isat=77, time=10, pixel=0.7e-6, sigmaf=0.5, trap_f=23.9,\n",
    "   od_method='table', fudge=1, ellipticity=1,\n",
    "   \n",
    "   # Hybrid Preparation\n",
    "   xsec_extension='default', xsec_slice_width=4, \n",
    "   xsec_fit_range=1.75, radial_selection=0.5,\n",
    "   \n",
    "   # Hybrid Thermometry\n",
    "   kind='unitary', Tfit_lim=0.06, Tfit_guess_kT=3, Tfit_guess_mu0=0, \n",
    "   \n",
    "   # Other\n",
    "   memory_saver=True, )"
   ]
  },
  {
   "cell_type": "markdown",
   "metadata": {},
   "source": [
    "# Volume Determination"
   ]
  },
  {
   "cell_type": "code",
   "execution_count": 15,
   "metadata": {
    "code_folding": [
     0
    ],
    "collapsed": true
   },
   "outputs": [],
   "source": [
    "# All relevant inputs \n",
    "\n",
    "x_var_name, x_var_label = 'HeatCycles', 'Heat Cycles (#)'\n",
    "image_use = 'A'\n",
    "import_params = ['ExpansionTime', 'HeatCycles', 'ShakingCycles']\n",
    "settings = {**default_settings, \n",
    "            **dict(center_x = 1183, center_y = 1376, \n",
    "                   width=800, height=800, subsample=3, \n",
    "                   fudge=1.75, xsec_extension='linear', \n",
    "                   xsec_slice_width=3, xsec_fit_range=1.1, \n",
    "                   radial_selection=0.75,)}"
   ]
  },
  {
   "cell_type": "code",
   "execution_count": 16,
   "metadata": {
    "code_folding": [
     0
    ]
   },
   "outputs": [
    {
     "data": {
      "application/vnd.jupyter.widget-view+json": {
       "model_id": "38f3ee34b4ec43c3996f9b737469f7a5",
       "version_major": 2,
       "version_minor": 0
      },
      "text/html": [
       "<p>Failed to display Jupyter Widget of type <code>HBox</code>.</p>\n",
       "<p>\n",
       "  If you're reading this message in Jupyter Notebook or JupyterLab, it may mean\n",
       "  that the widgets JavaScript is still loading. If this message persists, it\n",
       "  likely means that the widgets JavaScript library is either not installed or\n",
       "  not enabled. See the <a href=\"https://ipywidgets.readthedocs.io/en/stable/user_install.html\">Jupyter\n",
       "  Widgets Documentation</a> for setup instructions.\n",
       "</p>\n",
       "<p>\n",
       "  If you're reading this message in another notebook frontend (for example, a static\n",
       "  rendering on GitHub or <a href=\"https://nbviewer.jupyter.org/\">NBViewer</a>),\n",
       "  it may mean that your frontend doesn't currently support widgets.\n",
       "</p>\n"
      ],
      "text/plain": [
       "HBox(children=(IntProgress(value=0, max=6), HTML(value='')))"
      ]
     },
     "metadata": {},
     "output_type": "display_data"
    },
    {
     "name": "stdout",
     "output_type": "stream",
     "text": [
      "\n",
      "Total Images 3 ==> Good 3, Bad 0\n",
      "Tc is at [ 100.] Heating Cycles\n",
      "Box Length 90.76 +/- 0.24 um\n",
      "Box Radius 60.28 +/- 0.14 um\n",
      "Box Volume 1.036 +/- 0.005 x 10^-12 m^-3\n",
      "Atom Nums  0.481 +/- 0.020 Millions\n",
      "EF (kHz)   7.651 +/- 0.189 \n"
     ]
    },
    {
     "data": {
      "image/png": "[encoded data removed]",
      "text/plain": [
       "<matplotlib.figure.Figure at 0x1a146e90b8>"
      ]
     },
     "metadata": {},
     "output_type": "display_data"
    }
   ],
   "source": [
    "# Complete Volume Determination Prosedure \n",
    "\n",
    "# Load Images from Clipboard \n",
    "df_volume_all = tp.images_from_clipboard(df=pd.DataFrame() , \n",
    "                                  x=x_var_name, \n",
    "                                  params=import_params, \n",
    "                                  image_func=tp.Hybrid_Image, \n",
    "                                  download=image_use, display=False)\n",
    "\n",
    "# Apply settings to all Images \n",
    "for n,r in df_volume_all.iterrows(): r.image.set(**settings)\n",
    "\n",
    "# Atom number filter \n",
    "df_volume_all['total_atoms'] = [im.total_atoms for im in df_volume_all.image]\n",
    "tp.atom_num_filter(df=df_volume_all, keep=0.15, offset=0.0, display=True, plot=False)\n",
    "df_volume = df_volume_all[df_volume_all.use]\n",
    "\n",
    "# Compute Box characteristics \n",
    "df_volume['nz_raw'] = [im.nz for im in df_volume.image]\n",
    "df_volume['pz_raw'] = [tp.Curve(x = nz.x, y = np.arange(len(nz.x))) for nz in df_volume['nz_raw']]\n",
    "df_volume['xsec_raw'] = [im.xsec for im in df_volume.image]\n",
    "guess_ = [-45e-6, 45e-6, 5e-6, 5e-6]\n",
    "df_volume['box_fit'] = [tp.curve_fit(tp.erf_box, guess_ + [nz.maxy, nz.maxy/1e3], *nz.data, ) for nz in df_volume['nz_raw']]\n",
    "df_volume['length'] = [f[1] - f[0] for f in df_volume['box_fit']]\n",
    "df_volume['top_ypixel'] = [r['pz_raw'](r['box_fit'].fv[1]) for n,r in df_volume.iterrows()]\n",
    "df_volume['top_xpixel'] = [r['xsec_raw'].get_center(r['top_ypixel']) for n,r in df_volume.iterrows()]\n",
    "df_volume['bottom_ypixel'] = [r['pz_raw'](r['box_fit'].fv[0]) for n,r in df_volume.iterrows()]\n",
    "df_volume['bottom_xpixel'] = [r['xsec_raw'].get_center(r['bottom_ypixel']) for n,r in df_volume.iterrows()]\n",
    "df_volume['center_ypixel'] = [r['pz_raw']((r['box_fit'].fv[0] + r['box_fit'].fv[1])/2) for n,r in df_volume.iterrows()]\n",
    "df_volume['center_xpixel'] = [r['xsec_raw'].get_center(r['center_ypixel']) for n,r in df_volume.iterrows()]\n",
    "df_volume['center_radius'] = [r['xsec_raw'].get_radius(r['center_ypixel']) for n,r in df_volume.iterrows()]\n",
    "df_volume['nz_fixed'] = [tp.Curve(x = r.nz_raw.x, y = r.nz_raw.y - r.box_fit(amp=0), xscale=1e-6, yscale=1e18) for n,r in df_volume.iterrows()]\n",
    "df_volume['nz_integral'] = [np.trapz(c.y, c.x) for c in df_volume['nz_fixed']]\n",
    "\n",
    "# Extract results \n",
    "pixel_size_ = df_volume.image.iloc[0].pixel_binned\n",
    "length_avg = tp.bin_data(df_volume.x.values, df_volume.length.values * 1e6)\n",
    "radius_avg = tp.bin_data(df_volume.x.values, df_volume.center_radius.values * pixel_size_ * 1e6)\n",
    "volume_avg = tp.bin_data(df_volume.x.values, length_avg.yi * np.pi * radius_avg.yi**2 / 1e18)\n",
    "atoms_avg = tp.bin_data(df_volume.x.values, df_volume.total_atoms.values / 1e6)\n",
    "EF_avg = tp.bin_data(df_volume.x.values, cst.n2EF( atoms_avg.yi * 1e6 / volume_avg.yi ))\n",
    "\n",
    "# Print Highlights \n",
    "print(\"Tc is at {} Heating Cycles\".format(np.unique(df_volume.x)))\n",
    "print(\"Box Length {:.2f} +/- {:.2f} um\".format(length_avg.y[0], length_avg.ystd[0]))\n",
    "print(\"Box Radius {:.2f} +/- {:.2f} um\".format(radius_avg.y[0], radius_avg.ystd[0]))\n",
    "print(\"Box Volume {:.3f} +/- {:.3f} x 10^-12 m^-3\".format(volume_avg.y[0] * 1e12, volume_avg.ystd[0] * 1e12))\n",
    "print(\"Atom Nums  {:.3f} +/- {:.3f} Millions\".format(atoms_avg.y[0], atoms_avg.ystd[0]))\n",
    "print(\"EF (kHz)   {:.3f} +/- {:.3f} \".format(EF_avg.y[0]/kHz, EF_avg.ystd[0]/kHz))\n",
    "\n",
    "# Make figure \n",
    "time = np.array(list(df_volume.time.values))\n",
    "time_str = ['{:.0f}'.format(t) for t in time]\n",
    "xcount = np.arange(df_volume.shape[0])\n",
    "\n",
    "ax = plt.subplots(nrows=3, figsize=[4.5, 5], sharex=True)[1]\n",
    "plt.sca(ax[0])\n",
    "plt.plot(xcount, length_avg.yi, 's-')\n",
    "plt.axhspan(length_avg.y - length_avg.ystd, \n",
    "            length_avg.y + length_avg.ystd, \n",
    "            alpha=0.1, color='C2')\n",
    "ax_ = ax[0].twinx()\n",
    "ax_.set(ylim = 100*(np.array(ax[0].get_ylim())/(length_avg.y[0])-1),\n",
    "        ylabel = 'Percent Difference')\n",
    "ax[0].set(ylabel=r'Length (um)', \n",
    "          xticks=xcount, xticklabels=time_str)\n",
    "\n",
    "plt.sca(ax[1])\n",
    "plt.plot(xcount, radius_avg.yi, 's-C1')\n",
    "plt.axhspan(radius_avg.y - radius_avg.ystd, \n",
    "            radius_avg.y + radius_avg.ystd, \n",
    "            alpha=0.1, color='C2')\n",
    "ax[1].set(ylabel=r'Radius (um)', \n",
    "          xticks=xcount, xticklabels=time_str)\n",
    "ax_ = ax[1].twinx()\n",
    "ax_.set(ylim = 100*(np.array(ax[1].get_ylim())/radius_avg.y[0]-1),\n",
    "        ylabel = 'Percent Difference')\n",
    "\n",
    "plt.sca(ax[2])\n",
    "plt.plot(xcount, atoms_avg.yi, 's-')\n",
    "plt.axhspan(atoms_avg.y - atoms_avg.ystd, \n",
    "            atoms_avg.y + atoms_avg.ystd, \n",
    "            alpha=0.1, color='C2')\n",
    "ax[2].set(ylabel=r'Atoms (Million)', \n",
    "          xticks=xcount, xticklabels=time_str)\n",
    "ax_ = ax[2].twinx()\n",
    "ax_.set(ylim = cst.n2EF(np.array(ax[2].get_ylim()) * 1e6 / volume_avg.y)/kHz,\n",
    "        ylabel = 'EF (kHz)')\n",
    "\n",
    "ax[-1].set_xlabel('Time (minutes)')\n",
    "plt.tight_layout()\n",
    "plt.subplots_adjust(hspace=0.05)"
   ]
  },
  {
   "cell_type": "code",
   "execution_count": null,
   "metadata": {
    "collapsed": true
   },
   "outputs": [],
   "source": []
  },
  {
   "cell_type": "code",
   "execution_count": 17,
   "metadata": {
    "code_folding": [
     0
    ],
    "collapsed": true
   },
   "outputs": [],
   "source": [
    "# All relevant inputs \n",
    "\n",
    "x_var_name, x_var_label = 'HeatCycles', 'Heat Cycles (#)'\n",
    "image_use = 'A'\n",
    "\n",
    "settings = {**default_settings, \n",
    "            **dict(center_x = 1183, center_y = 1376, \n",
    "                   fudge=1.75, width=800, height=1500, \n",
    "                   subsample=3,\n",
    "                   radial_selection=0.75,\n",
    "                   Tfit_lim=0.1)}"
   ]
  },
  {
   "cell_type": "code",
   "execution_count": 18,
   "metadata": {
    "code_folding": [
     0,
     26,
     53,
     83,
     106,
     118
    ]
   },
   "outputs": [
    {
     "data": {
      "application/vnd.jupyter.widget-view+json": {
       "model_id": "e35c99fa83f94c37abe1ee6b8a40d0e8",
       "version_major": 2,
       "version_minor": 0
      },
      "text/html": [
       "<p>Failed to display Jupyter Widget of type <code>HBox</code>.</p>\n",
       "<p>\n",
       "  If you're reading this message in Jupyter Notebook or JupyterLab, it may mean\n",
       "  that the widgets JavaScript is still loading. If this message persists, it\n",
       "  likely means that the widgets JavaScript library is either not installed or\n",
       "  not enabled. See the <a href=\"https://ipywidgets.readthedocs.io/en/stable/user_install.html\">Jupyter\n",
       "  Widgets Documentation</a> for setup instructions.\n",
       "</p>\n",
       "<p>\n",
       "  If you're reading this message in another notebook frontend (for example, a static\n",
       "  rendering on GitHub or <a href=\"https://nbviewer.jupyter.org/\">NBViewer</a>),\n",
       "  it may mean that your frontend doesn't currently support widgets.\n",
       "</p>\n"
      ],
      "text/plain": [
       "HBox(children=(IntProgress(value=0, max=8), HTML(value='')))"
      ]
     },
     "metadata": {},
     "output_type": "display_data"
    },
    {
     "name": "stdout",
     "output_type": "stream",
     "text": [
      "\n",
      "Total Images 4 ==> Good 4, Bad 0\n",
      "Tc is at [ 100.] Heating Cycles\n",
      "Total s1 atoms 0.46 millions\n",
      "Difference in E/E0 0.13, which is 19 %\n",
      "Difference in E/N  0.59 kHz\n",
      "Total energy to subtract 0.27 X 10^6 kHz\n"
     ]
    },
    {
     "data": {
      "image/png": "[encoded data removed]",
      "text/plain": [
       "<matplotlib.figure.Figure at 0x1a14e643c8>"
      ]
     },
     "metadata": {},
     "output_type": "display_data"
    }
   ],
   "source": [
    "# Complete Energy Determination \n",
    "\n",
    "# Compute E/N \n",
    "def compute_moment(nz, zlim=550, trap_f=settings['trap_f']):\n",
    "    mult = 4 * 1/2 * cst.mass * (twopi*trap_f)**2\n",
    "    using = (nz.x >= -zlim*1e-6) & (nz.x <= zlim*1e-6)\n",
    "    nz = tp.Curve(nz.x[using], nz.y[using])\n",
    "    return mult * np.trapz(nz.y*nz.x**2, nz.x) / np.trapz(nz.y, nz.x)\n",
    "\n",
    "# Load images from clipboard \n",
    "df_hyb_energy_all = tp.images_from_clipboard(df=pd.DataFrame(),\n",
    "                                         x=x_var_name, \n",
    "                                         params=import_params,\n",
    "                                         image_func=tp.Hybrid_Image,\n",
    "                                         download=image_use,\n",
    "                                         display=False)\n",
    "\n",
    "# Apply settings to all \n",
    "for n,r in df_hyb_energy_all.iterrows(): r.image.set(**settings)\n",
    "    \n",
    "# Atom Number filter \n",
    "df_hyb_energy_all['total_atoms'] = [im.total_atoms for im in df_hyb_energy_all.image]\n",
    "tp.atom_num_filter(df=df_hyb_energy_all, keep=0.1, offset=0.0, display=True, plot=False)\n",
    "df_hyb_energy = df_hyb_energy_all[df_hyb_energy_all.use]\n",
    "\n",
    "# Fit Hybrid UFG \n",
    "if True: \n",
    "    guess = dict(kT_kHz = settings['Tfit_guess_kT'],\n",
    "                 mu0_kHz = settings['Tfit_guess_mu0'],)\n",
    "    fixed = dict(trap_f=df_hyb_energy.iloc[0].image.trap_f, z0=0, fudge=1, offset=0, gradient=0)\n",
    "    df_hyb_energy['nz_curvefit'] = [tp.curve_fit(tp.density_unitary_hybrid, guess, \n",
    "                               *img.nz.trim(ylim=[-np.inf, settings['Tfit_lim']*1e18]).data,\n",
    "                                fixed = fixed)\n",
    "                              for img in df_hyb_energy.image]\n",
    "\n",
    "    # Compute nz stitched \n",
    "    df_hyb_energy['nz_data'] = None\n",
    "    df_hyb_energy['nz_fit'] = None\n",
    "    df_hyb_energy['nz_stitched'] = None\n",
    "    for n, r in df_hyb_energy.iterrows():\n",
    "        z, n_data = r.image.nz.x, r.image.nz.y\n",
    "        n_fit = r.nz_curvefit(z)\n",
    "        use_fit = (n_fit <= settings['Tfit_lim'] * 1e18)\n",
    "        n_stitched = n_data.copy()\n",
    "        n_stitched[use_fit] = n_fit[use_fit]\n",
    "        df_hyb_energy.loc[n, 'nz_data'] = tp.Curve(z, n_data, xscale=1e-6, yscale=1e18)\n",
    "        df_hyb_energy.loc[n, 'nz_fit'] = tp.Curve(z, n_fit, xscale=1e-6, yscale=1e18)\n",
    "        df_hyb_energy.loc[n, 'nz_stitched'] = tp.Curve(z, n_stitched, xscale=1e-6, yscale=1e18)\n",
    "    \n",
    "# Get box volume from above \n",
    "box_volume = volume_avg.y[0]\n",
    "\n",
    "# Compute atom numbers \n",
    "if True: \n",
    "    time = np.array(list(df_hyb_energy.time.values))\n",
    "    time_str = ['{:.0f}'.format(t) for t in time]\n",
    "    xi = df_hyb_energy.x.values\n",
    "    xcount = np.arange(df_hyb_energy.shape[0])\n",
    "\n",
    "    # Total Atoms from atom counting \n",
    "    atoms_fit_data_ratio = np.array([r.nz_fit.y.sum()/r.nz_data.y.sum() for n,r in df_hyb_energy.iterrows()]) \n",
    "    atoms_counting_data = np.array([r.image.total_atoms for n,r in df_hyb_energy.iterrows()]) \n",
    "    atoms_counting_fit = atoms_counting_data * atoms_fit_data_ratio\n",
    "    EF_counting_data = cst.n2EF(atoms_counting_data / box_volume)\n",
    "    EF_counting_fit = cst.n2EF(atoms_counting_fit / box_volume)\n",
    "\n",
    "    # Total Atoms from nz integration\n",
    "    mult = np.pi * df_hyb_energy.iloc[0].image.pixel_binned**2\n",
    "    atoms_nzint_data = np.array([ np.trapz(r.nz_data.y * r.image.xsec.radius**2, r.nz_data.x)\n",
    "        for n,r in df_hyb_energy.iterrows()]) * mult\n",
    "    atoms_nzint_fit = np.array([ np.trapz(r.nz_fit.y * r.image.xsec.radius**2, r.nz_fit.x)\n",
    "        for n,r in df_hyb_energy.iterrows()]) * mult\n",
    "    EF_nzint_data = cst.n2EF(atoms_nzint_data / box_volume)\n",
    "    EF_nzint_fit = cst.n2EF(atoms_nzint_fit / box_volume)\n",
    "\n",
    "    # Average \n",
    "    atoms_avg = tp.bin_data(\n",
    "            np.concatenate([np.arange(len(atoms_counting_data))] * 4),\n",
    "            np.concatenate([atoms_counting_data, atoms_counting_fit, \n",
    "                            atoms_nzint_data, atoms_nzint_fit]))\n",
    "    EF_avg = tp.bin_data(atoms_avg.xi, cst.n2EF(atoms_avg.yi/box_volume))\n",
    "\n",
    "# Compute E/N and E/E0 \n",
    "if True: \n",
    "    # Compute E/N different ways \n",
    "    EN_data = np.array([compute_moment(nz) \n",
    "               for nz in df_hyb_energy.nz_data])\n",
    "    EN_fit = np.array([compute_moment(nz) \n",
    "               for nz in df_hyb_energy.nz_fit])\n",
    "    EN_stitched = np.array([compute_moment(nz) \n",
    "               for nz in df_hyb_energy.nz_stitched])\n",
    "\n",
    "    # Compute E/E0 \n",
    "    EE0_data = EN_data/(3/5 * EF_avg.y)\n",
    "    EE0_fit = EN_fit/(3/5 * EF_avg.y)\n",
    "    EE0_stitched = EN_stitched/(3/5 * EF_avg.y)\n",
    "\n",
    "    # Average E/N from fit and stitched methods \n",
    "    EN_avg = tp.bin_data(np.concatenate([xi]*2), \n",
    "               np.concatenate([EN_fit, EN_stitched]))\n",
    "\n",
    "    # Compute E/E0 \n",
    "    EE0_avg = tp.bin_data(np.concatenate([xi]*2), \n",
    "               np.concatenate([EE0_fit, EE0_stitched]))\n",
    "\n",
    "# Print Highlights \n",
    "if True: \n",
    "    EE0_subtract = EE0_avg.y[0] - 0.55\n",
    "    EE0_subtract_percent = EE0_subtract / EE0_avg.y[0] * 100\n",
    "    EN_subtract = EE0_subtract * (3/5 * EF_avg.y.mean())\n",
    "    E_subtract = EN_subtract * atoms_avg.y.mean()\n",
    "    print(\"Tc is at {} Heating Cycles\".format(np.unique(df_hyb_energy.x)))\n",
    "    print(\"Total s1 atoms {:.2f} millions\".format(atoms_avg.y.mean()/1e6))\n",
    "    print(\"Difference in E/E0 {:.2f}, which is {:.0f} %\".format(EE0_subtract, EE0_subtract_percent))\n",
    "    print(\"Difference in E/N  {:.2f} kHz\".format(EN_subtract/kHz))\n",
    "    print(\"Total energy to subtract {:.2f} X 10^6 kHz\".format(E_subtract/kHz/1e6))\n",
    "\n",
    "# Make figure \n",
    "if True: \n",
    "    ax = plt.subplots(nrows=3, figsize=[4.5, 7], sharex=True)[1]\n",
    "    plt.sca(ax[0])\n",
    "    plt.plot(xcount, EN_data/kHz, 's-')\n",
    "    plt.plot(xcount, EN_fit/kHz, 's-')\n",
    "    plt.plot(xcount, EN_stitched/kHz, 's-')\n",
    "    plt.axhspan(EN_avg.y/kHz - EN_avg.ystd/kHz, \n",
    "                EN_avg.y/kHz + EN_avg.ystd/kHz, \n",
    "                alpha=0.1, color='C2')\n",
    "    ax_ = ax[0].twinx()\n",
    "    ax_.set(ylim = 100*(np.array(ax[0].get_ylim())/(EN_avg.y/kHz)-1),\n",
    "            ylabel = 'Percent Difference')\n",
    "    ax[0].set(ylabel=r'E/N (kHz)', \n",
    "              xticks=xcount, xticklabels=time_str)\n",
    "    plt.sca(ax[1])\n",
    "    plt.plot(xcount, EE0_data, 's-')\n",
    "    plt.plot(xcount, EE0_fit, 's-')\n",
    "    plt.plot(xcount, EE0_stitched, 's-')\n",
    "    plt.axhspan(EE0_avg.y - EE0_avg.ystd, \n",
    "                EE0_avg.y + EE0_avg.ystd, \n",
    "                alpha=0.1, color='C2')\n",
    "    ax[1].set(ylabel=r'E/E0', \n",
    "              xticks=xcount, xticklabels=time_str)\n",
    "    ax_ = ax[1].twinx()\n",
    "    ax_.set(ylim = 100*(np.array(ax[1].get_ylim())/EE0_avg.y-1),\n",
    "            ylabel = 'Percent Difference')\n",
    "    plt.sca(ax[2])\n",
    "    plt.plot(xcount, EF_avg.y/kHz, 's-')\n",
    "    ax[2].set(ylabel=r'EF (kHz)', xlabel=r'Time (minutes)', \n",
    "              xticks=xcount, xticklabels=time_str)\n",
    "    ax_ = ax[2].twinx()\n",
    "    ax_.set(ylim = 100*(np.array(ax[2].get_ylim())/(EF_avg.y.mean()/kHz)-1),\n",
    "            ylabel = 'Percent Difference')\n",
    "\n",
    "\n",
    "    plt.tight_layout()\n",
    "    plt.subplots_adjust(hspace=0.05)"
   ]
  },
  {
   "cell_type": "code",
   "execution_count": null,
   "metadata": {},
   "outputs": [],
   "source": []
  },
  {
   "cell_type": "code",
   "execution_count": null,
   "metadata": {
    "collapsed": true
   },
   "outputs": [],
   "source": []
  }
 ],
 "metadata": {
  "kernelspec": {
   "display_name": "Python 3",
   "language": "python",
   "name": "python3"
  },
  "language_info": {
   "codemirror_mode": {
    "name": "ipython",
    "version": 3
   },
   "file_extension": ".py",
   "mimetype": "text/x-python",
   "name": "python",
   "nbconvert_exporter": "python",
   "pygments_lexer": "ipython3",
   "version": "3.6.3"
  },
  "toc": {
   "nav_menu": {},
   "number_sections": true,
   "sideBar": true,
   "skip_h1_title": false,
   "toc_cell": false,
   "toc_position": {},
   "toc_section_display": "block",
   "toc_window_display": false
  }
 },
 "nbformat": 4,
 "nbformat_minor": 2
}

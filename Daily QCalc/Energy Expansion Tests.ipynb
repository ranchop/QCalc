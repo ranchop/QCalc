{
 "cells": [
  {
   "cell_type": "code",
   "execution_count": 1,
   "metadata": {
    "code_folding": [
     0
    ]
   },
   "outputs": [
    {
     "name": "stdout",
     "output_type": "stream",
     "text": [
      "The servers are not connected!\n",
      "Using the local database copy. Could be outdated!\n"
     ]
    }
   ],
   "source": [
    "# Initialize \n",
    "import therpy as tp\n",
    "import matplotlib.pyplot as plt\n",
    "import pandas as pd\n",
    "import numpy as np\n",
    "import ipywidgets\n",
    "import warnings\n",
    "from tqdm import tqdm_notebook as tqdm\n",
    "import os\n",
    "\n",
    "warnings.filterwarnings(\"ignore\")\n",
    "%matplotlib inline\n",
    "cst = tp.cst()\n",
    "kHz = 1e3*cst.h\n",
    "twopi = 2*np.pi\n",
    "pi = np.pi"
   ]
  },
  {
   "cell_type": "code",
   "execution_count": 2,
   "metadata": {
    "code_folding": [],
    "collapsed": true
   },
   "outputs": [],
   "source": [
    "# Useful snippets \n",
    "default_settings = dict(\n",
    "   # Image Preparation and Background \n",
    "   center_x=1110, center_y=1314, width=800, height=800, \n",
    "   subsample=3, rotate=0, bg_width=20, bg_order=1, bad_light=0,\n",
    "\n",
    "   # Physical Parameters\n",
    "   Isat=77, time=10, pixel=0.7e-6, sigmaf=0.5, trap_f=23.9,\n",
    "   od_method='table', fudge=1, ellipticity=1,\n",
    "   \n",
    "   # Hybrid Preparation\n",
    "   xsec_extension='default', xsec_slice_width=4, \n",
    "   xsec_fit_range=1.75, radial_selection=0.5,\n",
    "   \n",
    "   # Hybrid Thermometry\n",
    "   kind='unitary', Tfit_lim=0.06, Tfit_guess_kT=3, Tfit_guess_mu0=0, \n",
    "   \n",
    "   # Other\n",
    "   memory_saver=True, )\n",
    "\n",
    "import_params = ['ExpansionTime','SideGreenEvap','WaitBox',\n",
    "               'IREvap','HeatTime','ShakeWait', 'HeatCycles',\n",
    "               'ShakingCycles', 'BoxShakeFreq','BoxShakeAmp','BoxShakeTime',\n",
    "               'SeqMode']\n",
    "\n",
    "def compute_moment(nz, zlim=550, trap_f=default_settings['trap_f']):\n",
    "    mult = 4 * 1/2 * cst.mass * (twopi*trap_f)**2\n",
    "    using = (nz.x >= -zlim*1e-6) & (nz.x <= zlim*1e-6)\n",
    "    nz = tp.Curve(nz.x[using], nz.y[using])\n",
    "    return mult * np.trapz(nz.y*nz.x**2, nz.x) / np.trapz(nz.y, nz.x) / kHz\n"
   ]
  },
  {
   "cell_type": "code",
   "execution_count": 3,
   "metadata": {
    "code_folding": [
     0
    ],
    "collapsed": true
   },
   "outputs": [],
   "source": [
    "# Fermi Gas Classes \n",
    "\n",
    "# Import statements and useful functions \n",
    "import numpy as np\n",
    "import pandas as pd\n",
    "import therpy as tp\n",
    "import scipy.optimize\n",
    "import scipy.interpolate\n",
    "import os.path\n",
    "import os\n",
    "import urllib.request\n",
    "\n",
    "###### Parameters\n",
    "cst_FG = tp.cst()\n",
    "cst_FG.c1 = ((cst_FG.twopi * cst_FG.hbar**2)/(cst_FG.mass))**(1/2)\n",
    "cst_FG.c2 = 1.0/(6*cst_FG.pi**2) * (2*cst_FG.mass/cst_FG.hbar**2)**(3/2)\n",
    "cst_FG.virial_coef = [1.0, 3.0*2**(1/2)/8, -0.29095295, 0.065]\n",
    "cst_FG.Critical_Temperature_TF = 0.17\n",
    "cst_FG.xi = 0.37\n",
    "cst_FG.xi_n = 0.45\n",
    "def thermal_wavelength(kT):\n",
    "    return cst_FG.c1 / (kT)**(1/2)\n",
    "###### Ideal Gas\n",
    "@np.vectorize\n",
    "def density_ideal(kT, mu):\n",
    "    if kT == 0:\n",
    "        if mu <= 0:\n",
    "            print('Density is undefined for negative mu and zero temperature')\n",
    "            return 0.0\n",
    "        return cst_FG.c2 * (mu)**(3/2)\n",
    "    return thermal_wavelength(kT)**(-3) * tp.FermiFunction(m=3/2, logz=mu/kT)\n",
    "@np.vectorize\n",
    "def pressure_ideal(kT, mu):\n",
    "    if kT == 0:\n",
    "        return 2/5*density_ideal(0, mu)*mu\n",
    "    return kT/thermal_wavelength(kT)**3 * tp.FermiFunction(m=5/2, logz=mu/kT)\n",
    "@np.vectorize\n",
    "def TTF_to_betamu_ideal(TTF, a=-10000, b=100):\n",
    "    if TTF <= 0.01: return 1/TTF # Zero T approximation\n",
    "    def minimizer(mu): return TTF - (cst_FG.h / cst_FG.n2EF(density_ideal(cst_FG.h, mu*cst_FG.h))) # Fix kT to 1 Hz and find mu in Hz (=betamu)\n",
    "    return scipy.optimize.brentq(minimizer, a, b)   \n",
    "@np.vectorize\n",
    "def entropy_NkB_ideal(kT, mu):\n",
    "    if kT == 0: return 0.0\n",
    "    return (5/2 * tp.FermiFunction(m=5/2, logz=mu/kT) / tp.FermiFunction(m=3/2, logz=mu/kT)) - mu/kT\n",
    "@np.vectorize\n",
    "def entropy_NkB_TTF_ideal(TTF):\n",
    "    if TTF == 0: return 0.0\n",
    "    return entropy_NkB_ideal(cst_FG.h, TTF_to_betamu_ideal(TTF) * cst_FG.h)\n",
    "###### Virial Gas\n",
    "@np.vectorize\n",
    "def density_virial(kT, mu):\n",
    "    if kT == 0:\n",
    "        return 0.0\n",
    "    return kT / thermal_wavelength(kT)**3 * (cst_FG.virial_coef[0]*1/kT*np.exp(1*mu/kT) + cst_FG.virial_coef[1]*2/kT*np.exp(2*mu/kT) + cst_FG.virial_coef[2]*3/kT*np.exp(3*mu/kT) + cst_FG.virial_coef[3]*4/kT*np.exp(4*mu/kT) )\n",
    "@np.vectorize\n",
    "def pressure_virial(kT, mu):\n",
    "    if kT == 0:\n",
    "        return 0.0\n",
    "    return kT / thermal_wavelength(kT)**3 * (cst_FG.virial_coef[0]*np.exp(1*mu/kT) + cst_FG.virial_coef[1]*np.exp(2*mu/kT) + cst_FG.virial_coef[2]*np.exp(3*mu/kT) + cst_FG.virial_coef[3]*np.exp(4*mu/kT) )\n",
    "\n",
    "# Ideal Fermi Gas definition \n",
    "'''\n",
    "Ideal Fermi Gas\n",
    "    - functions to relate various Thermodynamic quantities\n",
    "\n",
    "Methods\n",
    "    - thermal_wavelength\n",
    "    - density\n",
    "    - pressure\n",
    "    - TTF_to_betamu\n",
    "    - entropy_NkB\n",
    "    - entropy_NkB_TTF\n",
    "\n",
    "Dataframe contains links between. Note that E = 3/2 PV\n",
    "    - T/T_F\n",
    "    - mu/E_F\n",
    "    - P/P0 = E/E0\n",
    "    - k/k0\n",
    "    - Cv/Nk\n",
    "    - S/Nk\n",
    "'''\n",
    "class Ideal_Fermi_Gas:\n",
    "    def __init__(self, pts=1000, TTF_max = 200, TTF_min=0.05):\n",
    "        # Define dataframe for fast computation\n",
    "        kT = 1 * cst_FG.h\n",
    "        mu = np.concatenate([np.linspace(self.TTF_to_betamu(TTF_max), 5, pts//10*9)[:-1], np.linspace(5, self.TTF_to_betamu(TTF_min), pts//10)]) * cst_FG.h\n",
    "        n = self.density(kT, mu)\n",
    "        P = self.pressure(kT, mu)\n",
    "        EF = cst_FG.n2EF(n)\n",
    "        P0 = self.pressure(0, EF)\n",
    "        c1 = tp.Curve(x=mu, y=EF)\n",
    "        df_ideal = pd.DataFrame(data=dict(betamu=mu/kT))\n",
    "        df_ideal['T/T_F'] = kT / EF\n",
    "        df_ideal['mu/E_F'] = mu / EF\n",
    "        df_ideal['P/P0'] = P / P0\n",
    "        df_ideal['k/k0'] = c1.diff(method='central2').y\n",
    "        df_ideal['Cv/Nk'] = 3/2 * 1/df_ideal['T/T_F'] * (df_ideal['P/P0'] - 1/df_ideal['k/k0'])\n",
    "        df_ideal['S/Nk'] = 1/df_ideal['T/T_F'] * (df_ideal['P/P0'] - df_ideal['mu/E_F'])\n",
    "        self.df = df_ideal\n",
    "    \n",
    "    # Various functions\n",
    "    def thermal_wavelength(self, kT): return thermal_wavelength(kT)\n",
    "    def density(self, kT, mu): return density_ideal(kT, mu)\n",
    "    def pressure(self, kT, mu): return pressure_ideal(kT, mu)\n",
    "    def TTF_to_betamu(self, TTF, a=-10000, b=100): return TTF_to_betamu_ideal(TTF, a, b)\n",
    "    def entropy_NkB(self, kT, mu): return entropy_NkB_ideal(kT, mu)\n",
    "    def entropy_NkB_TTF(self, TTF): return entropy_NkB_TTF_ideal(TTF)\n",
    "\n",
    "# Virial Fermi Gas Definition \n",
    "'''\n",
    "Fermi Gas, Virial Expansion\n",
    "'''\n",
    "class Virial_Fermi_Gas:\n",
    "    def __init__(self, TTF_max = 200, TTF_min=0.5):\n",
    "        # Generate dataframe\n",
    "        kT = 1 * cst_FG.h\n",
    "        mu = np.linspace(TTF_to_betamu_ideal(TTF_max), TTF_to_betamu_ideal(TTF_min), 10000) * cst_FG.h\n",
    "        n = self.density(kT, mu)\n",
    "        P = self.pressure(kT, mu)\n",
    "        EF = cst_FG.n2EF(n)\n",
    "        P0 = pressure_ideal(0, EF)\n",
    "        c1 = tp.Curve(x=mu, y=EF)\n",
    "        df_virial = pd.DataFrame(data=dict(betamu=mu/kT))\n",
    "        df_virial['T/T_F'] = kT / EF\n",
    "        df_virial['mu/E_F'] = mu / EF\n",
    "        df_virial['P/P0'] = P / P0\n",
    "        df_virial['k/k0'] = c1.diff(method='central2').y\n",
    "        df_virial['Cv/Nk'] = 3/2 * 1/df_virial['T/T_F'] * (df_virial['P/P0'] - 1/df_virial['k/k0'])\n",
    "        self.df = df_virial\n",
    "        \n",
    "    # Various functions\n",
    "    def thermal_wavelength(self, kT): return thermal_wavelength(kT)\n",
    "    def density(self, kT, mu): return density_virial(kT, mu)\n",
    "    def pressure(self, kT, mu): return pressure_virial(kT, mu)\n",
    "    \n",
    "\n",
    "# Unitary Fermi Gas using Mark's EoS \n",
    "'''\n",
    "Mark's equation of state\n",
    "'''\n",
    "class Unitary_Fermi_Gas: \n",
    "    def __init__(self,):\n",
    "        # Download the data if not already\n",
    "        p_ = tp.getpath('Projects','Data','EoS','UnitaryFermiGasExperiment_kPEoS.csv')\n",
    "        if not os.path.isfile(p_):\n",
    "            print(\"Downloading Database -- Might take some time!\")\n",
    "            url = 'https://www.dropbox.com/s/8irmfrn2zdvfgba/UnitaryFermiGasExperiment_kPEoS.csv?dl=1'\n",
    "            u = urllib.request.urlopen(url)\n",
    "            data = u.read()\n",
    "            u.close()\n",
    "            # Create folder\n",
    "            os.makedirs(os.path.split(p_)[0], exist_ok=True)\n",
    "            with open(p_, \"wb\") as f :\n",
    "                f.write(data)\n",
    "        \n",
    "        # Load Data\n",
    "        self.df = pd.read_csv(p_)\n",
    "        \n",
    "        # Interpolated Density Data\n",
    "        x = np.array(self.df['T/T_F'])\n",
    "        y = np.array(self.df['mu/E_F'])\n",
    "        VFG = Virial_Fermi_Gas()\n",
    "        c = tp.Curve(x = np.array(VFG.df['T/T_F']), y = np.array(VFG.df['mu/E_F'])).sortbyx().trim(xlim=[np.max(x),np.max(x)+0.1])\n",
    "        muEF_curve = tp.Curve(x = np.concatenate([[0], x, c.x]), y = np.concatenate([[cst_FG.xi], y, c.y]))\n",
    "        TTF = np.linspace(0, muEF_curve.maxx, 10000)\n",
    "        muEF = muEF_curve(TTF)\n",
    "        c_muEF_extension = tp.Curve(TTF, muEF)\n",
    "        density_c_low = scipy.interpolate.interp1d(x = TTF / muEF, y = muEF)\n",
    "        density_c_high = scipy.interpolate.interp1d(x = muEF[1:] / TTF[1:], y = muEF[1:])\n",
    "        self.density_c_low = density_c_low\n",
    "        self.density_c_high = density_c_high\n",
    "        self.density = np.vectorize(self.density_single)\n",
    "        \n",
    "        # Interpolated Energy Data\n",
    "        IFG = Ideal_Fermi_Gas()\n",
    "        c1 = tp.Curve(np.array(self.df['T/T_F']), np.array(self.df['E/E0'])) # Mark EoS E/E0 vs T/T_F\n",
    "        c2 = tp.Curve(np.array(IFG.df['T/T_F']), np.array(IFG.df['P/P0'])).trim(xlim=[c1.maxx + 0.2, np.inf]) # Ideal Fermi Gas E/E0 = P/P0 vs T/T_F, from end of Mark EoS to end with some padding for smooth transition\n",
    "        energy_c = scipy.interpolate.interp1d(x = np.concatenate([[0], c1.x, c2.x]), y = np.concatenate([[cst_FG.xi], c1.y, c2.y+(cst_FG.xi_n-1)]))\n",
    "        self.energy_c = energy_c\n",
    "        self.IFG = IFG\n",
    "        self.E_E0 = np.vectorize(self.E_E0_single)\n",
    "        \n",
    "    # Various functions\n",
    "    def density_single(self, kT, mu):\n",
    "        # Zero T\n",
    "        if kT == 0:\n",
    "            return cst_FG.EF2n(mu/cst_FG.xi, neg=True)\n",
    "        if mu/kT > 4:\n",
    "            return cst_FG.EF2n(mu / self.density_c_low(kT/mu), neg=True)\n",
    "        if mu/kT > -0.5:\n",
    "            return cst_FG.EF2n(mu / self.density_c_high(mu/kT), neg=True)\n",
    "        return density_virial(kT, mu)\n",
    "    \n",
    "    def density_hybrid(self, z, kT, mu, trapf=23.35):\n",
    "        return self.density(kT, mu - 1/2 * cst_FG.mass * (2*np.pi*trapf)**2 * z**2)\n",
    "    \n",
    "    def E_E0_single(self, TTF):\n",
    "        if TTF < self.energy_c.x.max():\n",
    "            return self.energy_c(TTF)\n",
    "        else:\n",
    "            # Compute using IFG\n",
    "            # betamu = self.IFG.TTF_to_betamu(TTF)\n",
    "            # return (self.IFG.pressure(cst_FG.h, betamu * cst_FG.h) / self.IFG.pressure(0, betamu * cst_FG.h)) + (cst_FG.xi_n-1)\n",
    "            return self.energy_c.y[-1]\n",
    "\n",
    "# Make objects\n",
    "IFG = Ideal_Fermi_Gas()\n",
    "VFG = Virial_Fermi_Gas()\n",
    "UFG = Unitary_Fermi_Gas()\n",
    "\n",
    "# Special Functions\n",
    "def hybrid_E_N(kT, mu, trapf=23.35, simple=True, nz = None):\n",
    "    u_ = 1/2 * cst_FG.mass * (2*np.pi*trapf)**2\n",
    "    if nz is None:\n",
    "        n_0 = UFG.density(kT, mu)\n",
    "        z_max = 0\n",
    "        while True:\n",
    "            z_max += 50e-6\n",
    "            if UFG.density(kT, mu - u_*z_max**2) <= n_0 / 1e6: break\n",
    "        z = np.linspace(-z_max, z_max, z_max*1e6 * 4)\n",
    "        n = UFG.density(kT, mu - u_* z**2)\n",
    "    else:\n",
    "        z = nz.x\n",
    "        n = nz.y\n",
    "        \n",
    "    if simple: # If simple, then simply return 4 * <U>\n",
    "        return 4 * np.trapz(u_*z**2 * n, z) / np.trapz(n, z)\n",
    "    \n",
    "    # Compute total E_int + U energy\n",
    "    EF = cst_FG.n2EF(n)\n",
    "    TTF = kT / EF\n",
    "    E_N_z = UFG.E_E0(TTF) * 3/5 * EF\n",
    "    E_N = (np.trapz(E_N_z * n, z) + np.trapz(u_*z**2 * n, z)) / np.trapz(n, z)\n",
    "    return E_N\n",
    "\n",
    "# Special Functions\n",
    "def hybrid_total_atoms(kT, mu, trapf=23.35, cross_section=np.pi*(58e-6)**2):\n",
    "    u_ = 1/2 * cst_FG.mass * (2*np.pi*trapf)**2\n",
    "    n_0 = UFG.density(kT, mu)\n",
    "    z_max = 0\n",
    "    while True:\n",
    "        z_max += 50e-6\n",
    "        if UFG.density(kT, mu - u_*z_max**2) <= n_0 / 1e6: break\n",
    "    z = np.linspace(-z_max, z_max, z_max*1e6 * 4)\n",
    "    n = UFG.density(kT, mu - u_* z**2)\n",
    "    N = np.trapz(n, z) * cross_section\n",
    "    return N"
   ]
  },
  {
   "cell_type": "markdown",
   "metadata": {
    "heading_collapsed": true
   },
   "source": [
    "# Dataset Collections"
   ]
  },
  {
   "cell_type": "code",
   "execution_count": null,
   "metadata": {
    "collapsed": true,
    "hidden": true
   },
   "outputs": [],
   "source": [
    "# DS4 : 11-15/16 \n",
    "# DS2 : 7-14"
   ]
  },
  {
   "cell_type": "code",
   "execution_count": null,
   "metadata": {
    "code_folding": [],
    "collapsed": true,
    "hidden": true
   },
   "outputs": [],
   "source": [
    "# DS4 : 6-9"
   ]
  },
  {
   "cell_type": "markdown",
   "metadata": {
    "hidden": true
   },
   "source": [
    "06-09-2017_20_39_13_TopA\n",
    "06-09-2017_20_39_13_TopB\n",
    "06-09-2017_20_37_19_TopA\n",
    "06-09-2017_20_37_19_TopB\n",
    "06-09-2017_20_36_21_TopA\n",
    "06-09-2017_20_36_21_TopB\n",
    "06-09-2017_20_35_24_TopA\n",
    "06-09-2017_20_35_24_TopB\n",
    "06-09-2017_20_33_59_TopA\n",
    "06-09-2017_20_33_59_TopB\n",
    "06-09-2017_20_33_02_TopA\n",
    "06-09-2017_20_33_02_TopB\n",
    "06-09-2017_20_32_05_TopA\n",
    "06-09-2017_20_32_05_TopB\n",
    "06-09-2017_20_31_08_TopA\n",
    "06-09-2017_20_31_08_TopB\n",
    "06-09-2017_20_30_10_TopA\n",
    "06-09-2017_20_30_10_TopB\n",
    "06-09-2017_20_29_13_TopA\n",
    "06-09-2017_20_29_13_TopB\n",
    "06-09-2017_20_28_16_TopA\n",
    "06-09-2017_20_28_16_TopB\n",
    "06-09-2017_20_27_18_TopA\n",
    "06-09-2017_20_27_18_TopB\n",
    "06-09-2017_20_26_21_TopA\n",
    "06-09-2017_20_26_21_TopB\n",
    "06-09-2017_20_25_23_TopA\n",
    "06-09-2017_20_25_23_TopB\n",
    "06-09-2017_20_24_26_TopA\n",
    "06-09-2017_20_24_26_TopB\n",
    "06-09-2017_20_23_28_TopA\n",
    "06-09-2017_20_23_28_TopB\n",
    "06-09-2017_20_22_31_TopA\n",
    "06-09-2017_20_22_31_TopB\n",
    "06-09-2017_20_21_34_TopA\n",
    "06-09-2017_20_21_34_TopB\n",
    "06-09-2017_20_20_37_TopA\n",
    "06-09-2017_20_20_37_TopB\n",
    "06-09-2017_20_19_39_TopA\n",
    "06-09-2017_20_19_39_TopB\n",
    "06-09-2017_20_18_42_TopA\n",
    "06-09-2017_20_18_42_TopB\n",
    "06-09-2017_20_17_44_TopA\n",
    "06-09-2017_20_17_44_TopB\n",
    "06-09-2017_20_16_22_TopA\n",
    "06-09-2017_20_16_22_TopB\n",
    "06-09-2017_20_14_28_TopA\n",
    "06-09-2017_20_14_28_TopB\n",
    "06-09-2017_20_13_30_TopA\n",
    "06-09-2017_20_13_30_TopB\n",
    "06-09-2017_20_12_33_TopA\n",
    "06-09-2017_20_12_33_TopB\n",
    "06-09-2017_20_11_35_TopA\n",
    "06-09-2017_20_11_35_TopB\n",
    "06-09-2017_20_10_38_TopA\n",
    "06-09-2017_20_10_38_TopB"
   ]
  },
  {
   "cell_type": "markdown",
   "metadata": {},
   "source": [
    "# Hybrid Energy"
   ]
  },
  {
   "cell_type": "markdown",
   "metadata": {},
   "source": [
    "Total energy per particle in the Hybrid potential\n",
    "$$\\frac{E}{N} = 2 m \\omega^2 \\left< z^2 \\right> = 4 \\left< U \\right>$$\n",
    "\n",
    "Reduced Energy \n",
    "$$ \\frac{E}{E_0} = \\frac{5}{3} \\frac{E}{N E_F}$$\n",
    "\n",
    "Here $  \\left< U \\right> $ is the normalized averages, normalized by the total atom numbers. \n",
    "\n",
    "We will employ two ways to extract the energy. \n",
    "* Equation of State Fits\n",
    "* Second Moment"
   ]
  },
  {
   "cell_type": "code",
   "execution_count": 4,
   "metadata": {
    "collapsed": true
   },
   "outputs": [],
   "source": [
    "df_hyb_energy_all = pd.DataFrame()"
   ]
  },
  {
   "cell_type": "code",
   "execution_count": 5,
   "metadata": {
    "code_folding": [
     0
    ],
    "collapsed": true
   },
   "outputs": [],
   "source": [
    "# Relevant Parameters \n",
    "x_var_name = ['BoxShakeFreq', 'BoxShakeAmp', 'ShakingCycles','HeatCycles']\n",
    "x_var_label = [r'$\\nu$ (Hz)', 'Amplitude (V)', 'Cycles (#)','Heat Cycles (#)']\n",
    "usei = 3\n",
    "x_var_name, x_var_label = x_var_name[usei], x_var_label[usei]\n",
    "image_use = 'A'"
   ]
  },
  {
   "cell_type": "code",
   "execution_count": 6,
   "metadata": {
    "code_folding": [
     0
    ]
   },
   "outputs": [
    {
     "data": {
      "application/vnd.jupyter.widget-view+json": {
       "model_id": "88e488aafaae462a97037098a542e3c5",
       "version_major": 2,
       "version_minor": 0
      },
      "text/html": [
       "<p>Failed to display Jupyter Widget of type <code>HBox</code>.</p>\n",
       "<p>\n",
       "  If you're reading this message in Jupyter Notebook or JupyterLab, it may mean\n",
       "  that the widgets JavaScript is still loading. If this message persists, it\n",
       "  likely means that the widgets JavaScript library is either not installed or\n",
       "  not enabled. See the <a href=\"https://ipywidgets.readthedocs.io/en/stable/user_install.html\">Jupyter\n",
       "  Widgets Documentation</a> for setup instructions.\n",
       "</p>\n",
       "<p>\n",
       "  If you're reading this message in another notebook frontend (for example, a static\n",
       "  rendering on GitHub or <a href=\"https://nbviewer.jupyter.org/\">NBViewer</a>),\n",
       "  it may mean that your frontend doesn't currently support widgets.\n",
       "</p>\n"
      ],
      "text/plain": [
       "HBox(children=(IntProgress(value=0, max=56), HTML(value='')))"
      ]
     },
     "metadata": {},
     "output_type": "display_data"
    },
    {
     "name": "stdout",
     "output_type": "stream",
     "text": [
      "\n",
      "Total Number of Shots 28, Images 28\n"
     ]
    },
    {
     "data": {
      "text/html": [
       "<div>\n",
       "<style>\n",
       "    .dataframe thead tr:only-child th {\n",
       "        text-align: right;\n",
       "    }\n",
       "\n",
       "    .dataframe thead th {\n",
       "        text-align: left;\n",
       "    }\n",
       "\n",
       "    .dataframe tbody tr th {\n",
       "        vertical-align: top;\n",
       "    }\n",
       "</style>\n",
       "<table border=\"1\" class=\"dataframe\">\n",
       "  <thead>\n",
       "    <tr style=\"text-align: right;\">\n",
       "      <th></th>\n",
       "      <th>time</th>\n",
       "      <th>image</th>\n",
       "      <th>A</th>\n",
       "      <th>B</th>\n",
       "      <th>S</th>\n",
       "      <th>download</th>\n",
       "      <th>ExpansionTime</th>\n",
       "      <th>SideGreenEvap</th>\n",
       "      <th>WaitBox</th>\n",
       "      <th>IREvap</th>\n",
       "      <th>HeatTime</th>\n",
       "      <th>ShakeWait</th>\n",
       "      <th>HeatCycles</th>\n",
       "      <th>ShakingCycles</th>\n",
       "      <th>BoxShakeFreq</th>\n",
       "      <th>BoxShakeAmp</th>\n",
       "      <th>BoxShakeTime</th>\n",
       "      <th>SeqMode</th>\n",
       "      <th>x</th>\n",
       "    </tr>\n",
       "    <tr>\n",
       "      <th>name</th>\n",
       "      <th></th>\n",
       "      <th></th>\n",
       "      <th></th>\n",
       "      <th></th>\n",
       "      <th></th>\n",
       "      <th></th>\n",
       "      <th></th>\n",
       "      <th></th>\n",
       "      <th></th>\n",
       "      <th></th>\n",
       "      <th></th>\n",
       "      <th></th>\n",
       "      <th></th>\n",
       "      <th></th>\n",
       "      <th></th>\n",
       "      <th></th>\n",
       "      <th></th>\n",
       "      <th></th>\n",
       "      <th></th>\n",
       "    </tr>\n",
       "  </thead>\n",
       "  <tbody>\n",
       "    <tr>\n",
       "      <th>06-09-2017_20_10_38_TopA</th>\n",
       "      <td>0</td>\n",
       "      <td>Image object</td>\n",
       "      <td>True</td>\n",
       "      <td>False</td>\n",
       "      <td>False</td>\n",
       "      <td>True</td>\n",
       "      <td>1500.0</td>\n",
       "      <td>0.5</td>\n",
       "      <td>1500.0</td>\n",
       "      <td>0.5</td>\n",
       "      <td>0.0</td>\n",
       "      <td>0.0</td>\n",
       "      <td>0.0</td>\n",
       "      <td>0.0</td>\n",
       "      <td>120.0</td>\n",
       "      <td>0.3</td>\n",
       "      <td>0.0</td>\n",
       "      <td>None</td>\n",
       "      <td>0.0</td>\n",
       "    </tr>\n",
       "    <tr>\n",
       "      <th>06-09-2017_20_11_35_TopA</th>\n",
       "      <td>0.966667</td>\n",
       "      <td>Image object</td>\n",
       "      <td>True</td>\n",
       "      <td>False</td>\n",
       "      <td>False</td>\n",
       "      <td>True</td>\n",
       "      <td>1500.0</td>\n",
       "      <td>0.5</td>\n",
       "      <td>1500.0</td>\n",
       "      <td>0.5</td>\n",
       "      <td>120.0</td>\n",
       "      <td>0.0</td>\n",
       "      <td>120.0</td>\n",
       "      <td>0.0</td>\n",
       "      <td>120.0</td>\n",
       "      <td>0.3</td>\n",
       "      <td>0.0</td>\n",
       "      <td>None</td>\n",
       "      <td>120.0</td>\n",
       "    </tr>\n",
       "    <tr>\n",
       "      <th>06-09-2017_20_12_33_TopA</th>\n",
       "      <td>1.91667</td>\n",
       "      <td>Image object</td>\n",
       "      <td>True</td>\n",
       "      <td>False</td>\n",
       "      <td>False</td>\n",
       "      <td>True</td>\n",
       "      <td>1500.0</td>\n",
       "      <td>0.5</td>\n",
       "      <td>1500.0</td>\n",
       "      <td>0.5</td>\n",
       "      <td>60.0</td>\n",
       "      <td>0.0</td>\n",
       "      <td>60.0</td>\n",
       "      <td>0.0</td>\n",
       "      <td>120.0</td>\n",
       "      <td>0.3</td>\n",
       "      <td>0.0</td>\n",
       "      <td>None</td>\n",
       "      <td>60.0</td>\n",
       "    </tr>\n",
       "  </tbody>\n",
       "</table>\n",
       "</div>"
      ],
      "text/plain": [
       "                              time         image     A      B      S  \\\n",
       "name                                                                   \n",
       "06-09-2017_20_10_38_TopA         0  Image object  True  False  False   \n",
       "06-09-2017_20_11_35_TopA  0.966667  Image object  True  False  False   \n",
       "06-09-2017_20_12_33_TopA   1.91667  Image object  True  False  False   \n",
       "\n",
       "                          download  ExpansionTime  SideGreenEvap  WaitBox  \\\n",
       "name                                                                        \n",
       "06-09-2017_20_10_38_TopA      True         1500.0            0.5   1500.0   \n",
       "06-09-2017_20_11_35_TopA      True         1500.0            0.5   1500.0   \n",
       "06-09-2017_20_12_33_TopA      True         1500.0            0.5   1500.0   \n",
       "\n",
       "                          IREvap  HeatTime  ShakeWait  HeatCycles  \\\n",
       "name                                                                \n",
       "06-09-2017_20_10_38_TopA     0.5       0.0        0.0         0.0   \n",
       "06-09-2017_20_11_35_TopA     0.5     120.0        0.0       120.0   \n",
       "06-09-2017_20_12_33_TopA     0.5      60.0        0.0        60.0   \n",
       "\n",
       "                          ShakingCycles  BoxShakeFreq  BoxShakeAmp  \\\n",
       "name                                                                 \n",
       "06-09-2017_20_10_38_TopA            0.0         120.0          0.3   \n",
       "06-09-2017_20_11_35_TopA            0.0         120.0          0.3   \n",
       "06-09-2017_20_12_33_TopA            0.0         120.0          0.3   \n",
       "\n",
       "                          BoxShakeTime SeqMode      x  \n",
       "name                                                   \n",
       "06-09-2017_20_10_38_TopA           0.0    None    0.0  \n",
       "06-09-2017_20_11_35_TopA           0.0    None  120.0  \n",
       "06-09-2017_20_12_33_TopA           0.0    None   60.0  "
      ]
     },
     "metadata": {},
     "output_type": "display_data"
    }
   ],
   "source": [
    "# Import from Clipboard \n",
    "df_hyb_energy_all = tp.images_from_clipboard(df=df_hyb_energy_all,\n",
    "                                         x=x_var_name, \n",
    "                                         params=import_params,\n",
    "                                         image_func=tp.Hybrid_Image,\n",
    "                                         download=image_use,\n",
    "                                         display=True)"
   ]
  },
  {
   "cell_type": "code",
   "execution_count": 7,
   "metadata": {},
   "outputs": [
    {
     "data": {
      "application/vnd.jupyter.widget-view+json": {
       "model_id": "023c81ca08c847efba5da2ac03f07994",
       "version_major": 2,
       "version_minor": 0
      },
      "text/html": [
       "<p>Failed to display Jupyter Widget of type <code>Checkbox</code>.</p>\n",
       "<p>\n",
       "  If you're reading this message in Jupyter Notebook or JupyterLab, it may mean\n",
       "  that the widgets JavaScript is still loading. If this message persists, it\n",
       "  likely means that the widgets JavaScript library is either not installed or\n",
       "  not enabled. See the <a href=\"https://ipywidgets.readthedocs.io/en/stable/user_install.html\">Jupyter\n",
       "  Widgets Documentation</a> for setup instructions.\n",
       "</p>\n",
       "<p>\n",
       "  If you're reading this message in another notebook frontend (for example, a static\n",
       "  rendering on GitHub or <a href=\"https://nbviewer.jupyter.org/\">NBViewer</a>),\n",
       "  it may mean that your frontend doesn't currently support widgets.\n",
       "</p>\n"
      ],
      "text/plain": [
       "Checkbox(value=False, description='Save Figs')"
      ]
     },
     "metadata": {},
     "output_type": "display_data"
    },
    {
     "data": {
      "text/plain": [
       "'06-09-2017_20_10_Hybrid_Energy/'"
      ]
     },
     "execution_count": 7,
     "metadata": {},
     "output_type": "execute_result"
    }
   ],
   "source": [
    "# Start Saving Folder \n",
    "savefig = ipywidgets.Checkbox(value=False, description='Save Figs')\n",
    "display(savefig)\n",
    "folder_name = df_hyb_energy_all.iloc[0].name[0:17] + 'Hybrid_Energy'\n",
    "prefix = os.path.join(folder_name, '')\n",
    "os.makedirs(folder_name, exist_ok=True)\n",
    "prefix_samples = os.path.join(folder_name, 'Samples','')\n",
    "os.makedirs(os.path.join(folder_name, 'Samples'), exist_ok=True)\n",
    "prefix"
   ]
  },
  {
   "cell_type": "code",
   "execution_count": 8,
   "metadata": {
    "code_folding": [],
    "collapsed": true
   },
   "outputs": [],
   "source": [
    "# Define \n",
    "settings = {**default_settings, \n",
    "            **dict(center_x = 1140, center_y = 1320, \n",
    "                   fudge=1.75, width=800, height=1500, \n",
    "                   subsample=3,\n",
    "                   radial_selection=0.75,\n",
    "                   Tfit_lim=0.1)}"
   ]
  },
  {
   "cell_type": "code",
   "execution_count": 9,
   "metadata": {
    "code_folding": [
     0
    ]
   },
   "outputs": [
    {
     "data": {
      "application/vnd.jupyter.widget-view+json": {
       "model_id": "2bb54fbaae0048c59d1793d8a2e7fb60",
       "version_major": 2,
       "version_minor": 0
      },
      "text/html": [
       "<p>Failed to display Jupyter Widget of type <code>interactive</code>.</p>\n",
       "<p>\n",
       "  If you're reading this message in Jupyter Notebook or JupyterLab, it may mean\n",
       "  that the widgets JavaScript is still loading. If this message persists, it\n",
       "  likely means that the widgets JavaScript library is either not installed or\n",
       "  not enabled. See the <a href=\"https://ipywidgets.readthedocs.io/en/stable/user_install.html\">Jupyter\n",
       "  Widgets Documentation</a> for setup instructions.\n",
       "</p>\n",
       "<p>\n",
       "  If you're reading this message in another notebook frontend (for example, a static\n",
       "  rendering on GitHub or <a href=\"https://nbviewer.jupyter.org/\">NBViewer</a>),\n",
       "  it may mean that your frontend doesn't currently support widgets.\n",
       "</p>\n"
      ],
      "text/plain": [
       "interactive(children=(IntSlider(value=25, description='test', max=27), Output()), _dom_classes=('widget-interact',))"
      ]
     },
     "metadata": {},
     "output_type": "display_data"
    }
   ],
   "source": [
    "# Verify Settings \n",
    "\n",
    "# Apply to all Images \n",
    "for n,r in df_hyb_energy_all.iterrows(): r.image.set(**settings)\n",
    "    \n",
    "# Function to plot the restults \n",
    "def temp(test=np.random.randint(0, df_hyb_energy_all.shape[0])):\n",
    "    r = df_hyb_energy_all.iloc[test]\n",
    "    ax = plt.subplots(nrows=2, ncols=2, figsize=[10,8])[1].flatten()\n",
    "    r.image.plot_crop(ax=ax[0:2])\n",
    "    r.image.xsec.infoplot(axs=ax[2:4])\n",
    "    plt.tight_layout()\n",
    "    plt.show()\n",
    "\n",
    "if df_hyb_energy_all.shape[0] == 1: temp(0)\n",
    "else: ipywidgets.interact(temp, test=(0, df_hyb_energy_all.shape[0]-1))"
   ]
  },
  {
   "cell_type": "code",
   "execution_count": 10,
   "metadata": {},
   "outputs": [
    {
     "data": {
      "application/vnd.jupyter.widget-view+json": {
       "model_id": "85a14038c67a4d60ac79a732236e5049",
       "version_major": 2,
       "version_minor": 0
      },
      "text/html": [
       "<p>Failed to display Jupyter Widget of type <code>HBox</code>.</p>\n",
       "<p>\n",
       "  If you're reading this message in Jupyter Notebook or JupyterLab, it may mean\n",
       "  that the widgets JavaScript is still loading. If this message persists, it\n",
       "  likely means that the widgets JavaScript library is either not installed or\n",
       "  not enabled. See the <a href=\"https://ipywidgets.readthedocs.io/en/stable/user_install.html\">Jupyter\n",
       "  Widgets Documentation</a> for setup instructions.\n",
       "</p>\n",
       "<p>\n",
       "  If you're reading this message in another notebook frontend (for example, a static\n",
       "  rendering on GitHub or <a href=\"https://nbviewer.jupyter.org/\">NBViewer</a>),\n",
       "  it may mean that your frontend doesn't currently support widgets.\n",
       "</p>\n"
      ],
      "text/plain": [
       "HBox(children=(IntProgress(value=0, max=28), HTML(value='')))"
      ]
     },
     "metadata": {},
     "output_type": "display_data"
    },
    {
     "name": "stdout",
     "output_type": "stream",
     "text": [
      "\n",
      "Total Images 28 ==> Good 21, Bad 7\n"
     ]
    },
    {
     "data": {
      "image/png": "[encoded data removed]",
      "text/plain": [
       "<matplotlib.figure.Figure at 0x1a180c75f8>"
      ]
     },
     "metadata": {},
     "output_type": "display_data"
    }
   ],
   "source": [
    "# Atom Number Filter \n",
    "df_hyb_energy_all['total_atoms'] = [im.total_atoms for im in tqdm(df_hyb_energy_all.image)]\n",
    "ax = tp.atom_num_filter(df=df_hyb_energy_all, keep=0.075, offset=0.0, display=True, plot=True)\n",
    "# ax[0].set(ylim=[0.3,None])\n",
    "if savefig.value: plt.savefig(prefix + 'AtomNumbersScatter.pdf')\n",
    "df_hyb_energy = df_hyb_energy_all[df_hyb_energy_all.use]"
   ]
  },
  {
   "cell_type": "code",
   "execution_count": 11,
   "metadata": {
    "code_folding": []
   },
   "outputs": [
    {
     "data": {
      "application/vnd.jupyter.widget-view+json": {
       "model_id": "8ff8db9739fd48c7a1cad0b322e86e50",
       "version_major": 2,
       "version_minor": 0
      },
      "text/html": [
       "<p>Failed to display Jupyter Widget of type <code>interactive</code>.</p>\n",
       "<p>\n",
       "  If you're reading this message in Jupyter Notebook or JupyterLab, it may mean\n",
       "  that the widgets JavaScript is still loading. If this message persists, it\n",
       "  likely means that the widgets JavaScript library is either not installed or\n",
       "  not enabled. See the <a href=\"https://ipywidgets.readthedocs.io/en/stable/user_install.html\">Jupyter\n",
       "  Widgets Documentation</a> for setup instructions.\n",
       "</p>\n",
       "<p>\n",
       "  If you're reading this message in another notebook frontend (for example, a static\n",
       "  rendering on GitHub or <a href=\"https://nbviewer.jupyter.org/\">NBViewer</a>),\n",
       "  it may mean that your frontend doesn't currently support widgets.\n",
       "</p>\n"
      ],
      "text/plain": [
       "interactive(children=(IntSlider(value=8, description='test', max=20), Output()), _dom_classes=('widget-interact',))"
      ]
     },
     "metadata": {},
     "output_type": "display_data"
    }
   ],
   "source": [
    "# Fit kT and mu0 vs fit lims \n",
    "cutoffs = np.linspace(0.03, 0.3, 6)\n",
    "zlims = np.arange(200, 500, 10)\n",
    "guess = dict(kT_kHz = settings['Tfit_guess_kT'],\n",
    "             mu0_kHz = settings['Tfit_guess_mu0'],)\n",
    "fixed = dict(trap_f=df_hyb_energy.iloc[0].image.trap_f, z0=0, fudge=1, offset=0, gradient=0)\n",
    "\n",
    "def sample_EoS_fitrange(test=np.random.randint(0, df_hyb_energy.shape[0])): \n",
    "    # Extract needed variables for easy access \n",
    "    r = df_hyb_energy.iloc[test]\n",
    "    img = r.image\n",
    "    # Fit thermodynamic function n(z) \n",
    "    cf = tp.curve_fit(tp.density_unitary_hybrid, guess, \n",
    "                 *img.nz.trim(ylim=[-np.inf, settings['Tfit_lim'] * 1e18]).data, \n",
    "                 plot = False, fixed = fixed)\n",
    "    # Fit thermodynamics to a range of density cutoffs \n",
    "    cfs = [tp.curve_fit(tp.density_unitary_hybrid, guess, \n",
    "                 *img.nz.trim(ylim=[-np.inf, c * 1e18]).data, \n",
    "                 plot = False, fixed = fixed) \n",
    "          for c in tqdm(cutoffs)]\n",
    "    atoms_ratio = [c(img.nz.x).sum() / img.nz.y.sum() for c in cfs]\n",
    "    # Compute moment vs zlim \n",
    "    z, n_data = img.nz.x, img.nz.y\n",
    "    n_fit = cf(z)\n",
    "    n_stitched = n_data.copy()\n",
    "    n_stitched[n_fit <= settings['Tfit_lim'] * 1e18] = n_fit[n_fit <= settings['Tfit_lim'] * 1e18]\n",
    "    moment_data = [compute_moment(tp.Curve(z, n_data), zl) for zl in zlims]\n",
    "    moment_fit = [compute_moment(tp.Curve(z, n_fit), zl) for zl in zlims]\n",
    "    moment_stitched = [compute_moment(tp.Curve(z, n_stitched), zl) for zl in zlims]\n",
    "    \n",
    "    # Plot Results \n",
    "    ax = plt.subplots(ncols=2, nrows=2, figsize=[7, 6])[1].flatten()\n",
    "    ax[0].axhspan(2*cf.y.min()/1e18, settings['Tfit_lim'], color='k', alpha=0.1)\n",
    "    ax[0].plot(*img.nz.plotdata, zorder=2)\n",
    "    ax[0].plot(cf.xp*1e6, cf(cf.xp)/1e18, zorder=1)\n",
    "    ax[0].fill_between(cf.xp*1e6, cf.yband(cf.xp)[0]/1e18, \n",
    "                       cf.yband(cf.xp)[1]/1e18, color='g', alpha=0.25, zorder=0)\n",
    "    ax[1].errorbar(cutoffs, [c.fv['kT_kHz'] for c in cfs], [c.fe['kT_kHz'] for c in cfs])\n",
    "    ax[1].errorbar(cutoffs, [c.fv['mu0_kHz'] for c in cfs], [c.fe['mu0_kHz'] for c in cfs])\n",
    "    ax[2].plot(cutoffs, atoms_ratio, 'o')\n",
    "    ax[3].plot(zlims, moment_data, '-')\n",
    "    ax[3].plot(zlims, moment_fit, '-')\n",
    "    ax[3].plot(zlims, moment_stitched, '-')\n",
    "    ax[0].set(xlabel=r'z ($\\mu m$)', ylabel=r'n ($\\mu m^{-3}$)')\n",
    "    ax[1].set(xlabel=r'n cutoff ($\\mu m^{-3}$)', ylabel=r'kT, $\\mu_0$ (kHz)')\n",
    "    ax[2].set(xlabel=r'n cutoff ($\\mu m^{-3}$)', ylabel=r'$N_{EoS}$ / $N_{Data}$')\n",
    "    ax[3].set(xlabel=r'z cutoff ($\\mu m$)', ylabel=r'E/N (kHz)')\n",
    "    plt.tight_layout()\n",
    "\n",
    "if df_hyb_energy.shape[0] == 1: sample_EoS_fitrange(0)\n",
    "else: ipywidgets.interact(sample_EoS_fitrange, test=(0, df_hyb_energy.shape[0]-1),)"
   ]
  },
  {
   "cell_type": "code",
   "execution_count": 12,
   "metadata": {
    "code_folding": [
     0
    ]
   },
   "outputs": [
    {
     "data": {
      "application/vnd.jupyter.widget-view+json": {
       "model_id": "73df9bdffd904c75b6b164fab7d91c46",
       "version_major": 2,
       "version_minor": 0
      },
      "text/html": [
       "<p>Failed to display Jupyter Widget of type <code>HBox</code>.</p>\n",
       "<p>\n",
       "  If you're reading this message in Jupyter Notebook or JupyterLab, it may mean\n",
       "  that the widgets JavaScript is still loading. If this message persists, it\n",
       "  likely means that the widgets JavaScript library is either not installed or\n",
       "  not enabled. See the <a href=\"https://ipywidgets.readthedocs.io/en/stable/user_install.html\">Jupyter\n",
       "  Widgets Documentation</a> for setup instructions.\n",
       "</p>\n",
       "<p>\n",
       "  If you're reading this message in another notebook frontend (for example, a static\n",
       "  rendering on GitHub or <a href=\"https://nbviewer.jupyter.org/\">NBViewer</a>),\n",
       "  it may mean that your frontend doesn't currently support widgets.\n",
       "</p>\n"
      ],
      "text/plain": [
       "HBox(children=(IntProgress(value=0, max=21), HTML(value='')))"
      ]
     },
     "metadata": {},
     "output_type": "display_data"
    },
    {
     "name": "stdout",
     "output_type": "stream",
     "text": [
      "\n"
     ]
    }
   ],
   "source": [
    "# Fit thermodynamics n(z) to all data \n",
    "df_hyb_energy['nz_curvefit'] = [tp.curve_fit(tp.density_unitary_hybrid, guess, \n",
    "                           *img.nz.trim(ylim=[-np.inf, settings['Tfit_lim']*1e18]).data,\n",
    "                            fixed = fixed)\n",
    "                          for img in tqdm(df_hyb_energy.image)]\n",
    "# Compute nz stitched \n",
    "df_hyb_energy['nz_data'] = None\n",
    "df_hyb_energy['nz_fit'] = None\n",
    "df_hyb_energy['nz_stitched'] = None\n",
    "for n, r in df_hyb_energy.iterrows():\n",
    "    z, n_data = r.image.nz.x, r.image.nz.y\n",
    "    n_fit = r.nz_curvefit(z)\n",
    "    use_fit = (n_fit <= settings['Tfit_lim'] * 1e18)\n",
    "    n_stitched = n_data.copy()\n",
    "    n_stitched[use_fit] = n_fit[use_fit]\n",
    "    df_hyb_energy.loc[n, 'nz_data'] = tp.Curve(z, n_data, xscale=1e-6, yscale=1e18)\n",
    "    df_hyb_energy.loc[n, 'nz_fit'] = tp.Curve(z, n_fit, xscale=1e-6, yscale=1e18)\n",
    "    df_hyb_energy.loc[n, 'nz_stitched'] = tp.Curve(z, n_stitched, xscale=1e-6, yscale=1e18)"
   ]
  },
  {
   "cell_type": "code",
   "execution_count": 16,
   "metadata": {
    "code_folding": []
   },
   "outputs": [
    {
     "data": {
      "image/png": "[encoded data removed]",
      "text/plain": [
       "<matplotlib.figure.Figure at 0x1a20da1c50>"
      ]
     },
     "metadata": {},
     "output_type": "display_data"
    }
   ],
   "source": [
    "# Compute moment for the three nz's \n",
    "xi = df_hyb_energy.x.values\n",
    "moment_data = np.array([compute_moment(nz) for nz in df_hyb_energy.nz_data])\n",
    "moment_fit = np.array([compute_moment(nz) for nz in df_hyb_energy.nz_fit])\n",
    "moment_stitched = np.array([compute_moment(nz) for nz in df_hyb_energy.nz_stitched])\n",
    "moment_data = tp.bin_data(xi, moment_data)\n",
    "moment_fit = tp.bin_data(xi, moment_fit)\n",
    "moment_stitched = tp.bin_data(xi, moment_stitched)\n",
    "\n",
    "plt.errorbar(*moment_data.std, fmt='.')\n",
    "plt.errorbar(*moment_fit.std, fmt='.')\n",
    "plt.errorbar(*moment_stitched.std, fmt='.')\n",
    "plt.tight_layout()"
   ]
  },
  {
   "cell_type": "code",
   "execution_count": null,
   "metadata": {},
   "outputs": [],
   "source": []
  },
  {
   "cell_type": "code",
   "execution_count": null,
   "metadata": {},
   "outputs": [],
   "source": []
  },
  {
   "cell_type": "code",
   "execution_count": null,
   "metadata": {
    "collapsed": true
   },
   "outputs": [],
   "source": []
  },
  {
   "cell_type": "code",
   "execution_count": null,
   "metadata": {
    "collapsed": true
   },
   "outputs": [],
   "source": []
  },
  {
   "cell_type": "markdown",
   "metadata": {},
   "source": [
    "# EoS and E/N Validity"
   ]
  },
  {
   "cell_type": "code",
   "execution_count": 122,
   "metadata": {
    "collapsed": true
   },
   "outputs": [],
   "source": [
    "kT_kHz = 2\n",
    "mu0_kHz = 4"
   ]
  },
  {
   "cell_type": "code",
   "execution_count": 151,
   "metadata": {},
   "outputs": [],
   "source": [
    "trap_f = default_settings['trap_f']\n",
    "def EoS_EN_diff(kT_kHz, mu0_kHz):\n",
    "    z = np.linspace(-400, 400, 500) * 1e-6\n",
    "    n = tp.density_unitary_hybrid(z, kT_kHz=kT_kHz, mu0_kHz=mu0_kHz, trap_f=trap_f)\n",
    "    u = 1/2 * cst.mass * (twopi*trap_f)**2 * z**2 \n",
    "    EF = cst.n2EF(n)\n",
    "    TTF = kT_kHz * kHz / EF\n",
    "    c = tp.Curve(UFG.df['T/T_F'].values, UFG.df['E/E0'].values)\n",
    "    EE0 = c(TTF)\n",
    "    EN = (np.trapz(3/5 * EE0 * n * EF, z) + np.trapz(n * u, z)) / np.trapz(n, z) / kHz\n",
    "    EN_moment = compute_moment(tp.Curve(z, n), trap_f=trap_f)\n",
    "    diff = (EN_moment - EN) / EN * 100\n",
    "    return (z, n, u, EF, TTF, EE0, EN, EN_moment, diff)"
   ]
  },
  {
   "cell_type": "code",
   "execution_count": 179,
   "metadata": {},
   "outputs": [
    {
     "data": {
      "application/vnd.jupyter.widget-view+json": {
       "model_id": "28f55810f8f84af4a2dbf958a3202e26",
       "version_major": 2,
       "version_minor": 0
      },
      "text/html": [
       "<p>Failed to display Jupyter Widget of type <code>HBox</code>.</p>\n",
       "<p>\n",
       "  If you're reading this message in Jupyter Notebook or JupyterLab, it may mean\n",
       "  that the widgets JavaScript is still loading. If this message persists, it\n",
       "  likely means that the widgets JavaScript library is either not installed or\n",
       "  not enabled. See the <a href=\"https://ipywidgets.readthedocs.io/en/stable/user_install.html\">Jupyter\n",
       "  Widgets Documentation</a> for setup instructions.\n",
       "</p>\n",
       "<p>\n",
       "  If you're reading this message in another notebook frontend (for example, a static\n",
       "  rendering on GitHub or <a href=\"https://nbviewer.jupyter.org/\">NBViewer</a>),\n",
       "  it may mean that your frontend doesn't currently support widgets.\n",
       "</p>\n"
      ],
      "text/plain": [
       "HBox(children=(IntProgress(value=0, max=10), HTML(value='')))"
      ]
     },
     "metadata": {},
     "output_type": "display_data"
    },
    {
     "name": "stdout",
     "output_type": "stream",
     "text": [
      "\n"
     ]
    },
    {
     "data": {
      "text/plain": [
       "[Text(0,0.5,'T/TF_0'), Text(0.5,0,'EF_0 (kHz)')]"
      ]
     },
     "execution_count": 179,
     "metadata": {},
     "output_type": "execute_result"
    },
    {
     "data": {
      "image/png": "[encoded data removed]",
      "text/plain": [
       "<matplotlib.figure.Figure at 0x1a313bb128>"
      ]
     },
     "metadata": {},
     "output_type": "display_data"
    }
   ],
   "source": [
    "kT_kHz = np.linspace(0.1, 4, 10)\n",
    "mu0_kHz = np.linspace(0, 4, 12)\n",
    "perc_diff = np.zeros(shape = [len(kT_kHz), len(mu0_kHz)])\n",
    "EF0 = np.zeros_like(perc_diff)\n",
    "TTF0 = np.zeros_like(perc_diff)\n",
    "for i,kT in enumerate(tqdm(kT_kHz)):\n",
    "    for j,mu0 in enumerate(mu0_kHz):\n",
    "        z, n, u, EF, TTF, EE0, EN, EN_moment, diff = EoS_EN_diff(kT, mu0)\n",
    "        perc_diff[i,j] = diff\n",
    "        EF0[i,j] = np.nanmax(EF) / kHz\n",
    "        TTF0[i,j] = np.nanmin(TTF)\n",
    "ax = plt.subplots(ncols=2, figsize=[10, 5])[1]\n",
    "plt.sca(ax[0])\n",
    "plt.pcolor(mu0_kHz, kT_kHz, perc_diff)\n",
    "plt.colorbar()\n",
    "plt.sca(ax[1])\n",
    "plt.pcolormesh(EF0, TTF0, perc_diff)\n",
    "plt.colorbar()\n",
    "ax[0].set(xlabel='mu_0 (kHz)', ylabel='kT (kHz)')\n",
    "ax[1].set(xlabel='EF_0 (kHz)', ylabel='T/TF_0')"
   ]
  },
  {
   "cell_type": "code",
   "execution_count": null,
   "metadata": {},
   "outputs": [],
   "source": []
  },
  {
   "cell_type": "code",
   "execution_count": 153,
   "metadata": {},
   "outputs": [
    {
     "data": {
      "application/vnd.jupyter.widget-view+json": {
       "model_id": "b4ecd3b21f544c92b63ad2f89b1eabfe",
       "version_major": 2,
       "version_minor": 0
      },
      "text/html": [
       "<p>Failed to display Jupyter Widget of type <code>interactive</code>.</p>\n",
       "<p>\n",
       "  If you're reading this message in Jupyter Notebook or JupyterLab, it may mean\n",
       "  that the widgets JavaScript is still loading. If this message persists, it\n",
       "  likely means that the widgets JavaScript library is either not installed or\n",
       "  not enabled. See the <a href=\"https://ipywidgets.readthedocs.io/en/stable/user_install.html\">Jupyter\n",
       "  Widgets Documentation</a> for setup instructions.\n",
       "</p>\n",
       "<p>\n",
       "  If you're reading this message in another notebook frontend (for example, a static\n",
       "  rendering on GitHub or <a href=\"https://nbviewer.jupyter.org/\">NBViewer</a>),\n",
       "  it may mean that your frontend doesn't currently support widgets.\n",
       "</p>\n"
      ],
      "text/plain": [
       "interactive(children=(FloatSlider(value=1.0, description='kT', max=4.0, min=0.1, step=0.2), FloatSlider(value=4.0, description='mu0', max=4.0, min=-4.0, step=0.2), Output()), _dom_classes=('widget-interact',))"
      ]
     },
     "metadata": {},
     "output_type": "display_data"
    }
   ],
   "source": [
    "@ipywidgets.interact(kT=(0.1, 4, 0.2), mu0 = (-4, 4, 0.2))\n",
    "def testfunc(kT=1, mu0=4):\n",
    "    z, n, u, EF, TTF, EE0, EN, EN_moment, diff = EoS_EN_diff(kT, mu0,)\n",
    "    plt.plot(z/1e-6, n/1e18)\n",
    "    plt.title('Perc Diff {:.2f}'.format(diff))"
   ]
  },
  {
   "cell_type": "code",
   "execution_count": null,
   "metadata": {},
   "outputs": [],
   "source": []
  },
  {
   "cell_type": "code",
   "execution_count": null,
   "metadata": {
    "collapsed": true
   },
   "outputs": [],
   "source": []
  }
 ],
 "metadata": {
  "kernelspec": {
   "display_name": "Python 3",
   "language": "python",
   "name": "python3"
  },
  "language_info": {
   "codemirror_mode": {
    "name": "ipython",
    "version": 3
   },
   "file_extension": ".py",
   "mimetype": "text/x-python",
   "name": "python",
   "nbconvert_exporter": "python",
   "pygments_lexer": "ipython3",
   "version": "3.6.3"
  },
  "toc": {
   "nav_menu": {},
   "number_sections": true,
   "sideBar": true,
   "skip_h1_title": false,
   "toc_cell": false,
   "toc_position": {},
   "toc_section_display": "block",
   "toc_window_display": false
  }
 },
 "nbformat": 4,
 "nbformat_minor": 2
}
